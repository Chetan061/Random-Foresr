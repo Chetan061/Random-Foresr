{
 "cells": [
  {
   "cell_type": "code",
   "execution_count": 1,
   "id": "5b0bc641",
   "metadata": {},
   "outputs": [
    {
     "data": {
      "text/html": [
       "        <script type=\"text/javascript\">\n",
       "        window.PlotlyConfig = {MathJaxConfig: 'local'};\n",
       "        if (window.MathJax && window.MathJax.Hub && window.MathJax.Hub.Config) {window.MathJax.Hub.Config({SVG: {font: \"STIX-Web\"}});}\n",
       "        if (typeof require !== 'undefined') {\n",
       "        require.undef(\"plotly\");\n",
       "        requirejs.config({\n",
       "            paths: {\n",
       "                'plotly': ['https://cdn.plot.ly/plotly-2.12.1.min']\n",
       "            }\n",
       "        });\n",
       "        require(['plotly'], function(Plotly) {\n",
       "            window._Plotly = Plotly;\n",
       "        });\n",
       "        }\n",
       "        </script>\n",
       "        "
      ]
     },
     "metadata": {},
     "output_type": "display_data"
    }
   ],
   "source": [
    "#Importing libraries\n",
    "import numpy as np # linear algebra\n",
    "import pandas as pd # data processing, CSV file I/O \n",
    "import os\n",
    "import matplotlib.pyplot as plt#visualization\n",
    "from PIL import  Image\n",
    "%matplotlib inline\n",
    "import pandas as pd\n",
    "import seaborn as sns#visualization\n",
    "import itertools\n",
    "import warnings\n",
    "warnings.filterwarnings(\"ignore\")\n",
    "import io\n",
    "import plotly.offline as py#visualization\n",
    "py.init_notebook_mode(connected=True)#visualization\n",
    "import plotly.graph_objs as go#visualization\n",
    "import plotly.tools as tls#visualization\n",
    "import plotly.figure_factory as ff#visualization"
   ]
  },
  {
   "cell_type": "markdown",
   "id": "d2332f0c",
   "metadata": {},
   "source": [
    "# 1. Data Importing"
   ]
  },
  {
   "cell_type": "code",
   "execution_count": 2,
   "id": "52a609b1",
   "metadata": {},
   "outputs": [
    {
     "data": {
      "text/html": [
       "<div>\n",
       "<style scoped>\n",
       "    .dataframe tbody tr th:only-of-type {\n",
       "        vertical-align: middle;\n",
       "    }\n",
       "\n",
       "    .dataframe tbody tr th {\n",
       "        vertical-align: top;\n",
       "    }\n",
       "\n",
       "    .dataframe thead th {\n",
       "        text-align: right;\n",
       "    }\n",
       "</style>\n",
       "<table border=\"1\" class=\"dataframe\">\n",
       "  <thead>\n",
       "    <tr style=\"text-align: right;\">\n",
       "      <th></th>\n",
       "      <th>Age</th>\n",
       "      <th>Race</th>\n",
       "      <th>Marital_Status</th>\n",
       "      <th>T_Stage</th>\n",
       "      <th>N_Stage</th>\n",
       "      <th>6th_Stage</th>\n",
       "      <th>differentiate</th>\n",
       "      <th>Grade</th>\n",
       "      <th>A_Stage</th>\n",
       "      <th>Tumor_Size</th>\n",
       "      <th>Estrogen_Status</th>\n",
       "      <th>Progesterone_Status</th>\n",
       "      <th>Regional_Node_Examined</th>\n",
       "      <th>Reginol_Node_Positive</th>\n",
       "      <th>Survival_Months</th>\n",
       "      <th>Status</th>\n",
       "    </tr>\n",
       "  </thead>\n",
       "  <tbody>\n",
       "    <tr>\n",
       "      <th>0</th>\n",
       "      <td>68</td>\n",
       "      <td>White</td>\n",
       "      <td>Married</td>\n",
       "      <td>T1</td>\n",
       "      <td>N1</td>\n",
       "      <td>IIA</td>\n",
       "      <td>Poorly differentiated</td>\n",
       "      <td>3</td>\n",
       "      <td>Regional</td>\n",
       "      <td>4</td>\n",
       "      <td>Positive</td>\n",
       "      <td>Positive</td>\n",
       "      <td>24</td>\n",
       "      <td>1</td>\n",
       "      <td>60</td>\n",
       "      <td>Alive</td>\n",
       "    </tr>\n",
       "    <tr>\n",
       "      <th>1</th>\n",
       "      <td>50</td>\n",
       "      <td>White</td>\n",
       "      <td>Married</td>\n",
       "      <td>T2</td>\n",
       "      <td>N2</td>\n",
       "      <td>IIIA</td>\n",
       "      <td>Moderately differentiated</td>\n",
       "      <td>2</td>\n",
       "      <td>Regional</td>\n",
       "      <td>35</td>\n",
       "      <td>Positive</td>\n",
       "      <td>Positive</td>\n",
       "      <td>14</td>\n",
       "      <td>5</td>\n",
       "      <td>62</td>\n",
       "      <td>Alive</td>\n",
       "    </tr>\n",
       "    <tr>\n",
       "      <th>2</th>\n",
       "      <td>58</td>\n",
       "      <td>White</td>\n",
       "      <td>Divorced</td>\n",
       "      <td>T3</td>\n",
       "      <td>N3</td>\n",
       "      <td>IIIC</td>\n",
       "      <td>Moderately differentiated</td>\n",
       "      <td>2</td>\n",
       "      <td>Regional</td>\n",
       "      <td>63</td>\n",
       "      <td>Positive</td>\n",
       "      <td>Positive</td>\n",
       "      <td>14</td>\n",
       "      <td>7</td>\n",
       "      <td>75</td>\n",
       "      <td>Alive</td>\n",
       "    </tr>\n",
       "    <tr>\n",
       "      <th>3</th>\n",
       "      <td>58</td>\n",
       "      <td>White</td>\n",
       "      <td>Married</td>\n",
       "      <td>T1</td>\n",
       "      <td>N1</td>\n",
       "      <td>IIA</td>\n",
       "      <td>Poorly differentiated</td>\n",
       "      <td>3</td>\n",
       "      <td>Regional</td>\n",
       "      <td>18</td>\n",
       "      <td>Positive</td>\n",
       "      <td>Positive</td>\n",
       "      <td>2</td>\n",
       "      <td>1</td>\n",
       "      <td>84</td>\n",
       "      <td>Alive</td>\n",
       "    </tr>\n",
       "    <tr>\n",
       "      <th>4</th>\n",
       "      <td>47</td>\n",
       "      <td>White</td>\n",
       "      <td>Married</td>\n",
       "      <td>T2</td>\n",
       "      <td>N1</td>\n",
       "      <td>IIB</td>\n",
       "      <td>Poorly differentiated</td>\n",
       "      <td>3</td>\n",
       "      <td>Regional</td>\n",
       "      <td>41</td>\n",
       "      <td>Positive</td>\n",
       "      <td>Positive</td>\n",
       "      <td>3</td>\n",
       "      <td>1</td>\n",
       "      <td>50</td>\n",
       "      <td>Alive</td>\n",
       "    </tr>\n",
       "  </tbody>\n",
       "</table>\n",
       "</div>"
      ],
      "text/plain": [
       "   Age   Race Marital_Status T_Stage  N_Stage 6th_Stage  \\\n",
       "0   68  White        Married       T1      N1       IIA   \n",
       "1   50  White        Married       T2      N2      IIIA   \n",
       "2   58  White       Divorced       T3      N3      IIIC   \n",
       "3   58  White        Married       T1      N1       IIA   \n",
       "4   47  White        Married       T2      N1       IIB   \n",
       "\n",
       "               differentiate Grade   A_Stage  Tumor_Size Estrogen_Status  \\\n",
       "0      Poorly differentiated     3  Regional           4        Positive   \n",
       "1  Moderately differentiated     2  Regional          35        Positive   \n",
       "2  Moderately differentiated     2  Regional          63        Positive   \n",
       "3      Poorly differentiated     3  Regional          18        Positive   \n",
       "4      Poorly differentiated     3  Regional          41        Positive   \n",
       "\n",
       "  Progesterone_Status  Regional_Node_Examined  Reginol_Node_Positive  \\\n",
       "0            Positive                      24                      1   \n",
       "1            Positive                      14                      5   \n",
       "2            Positive                      14                      7   \n",
       "3            Positive                       2                      1   \n",
       "4            Positive                       3                      1   \n",
       "\n",
       "   Survival_Months Status  \n",
       "0               60  Alive  \n",
       "1               62  Alive  \n",
       "2               75  Alive  \n",
       "3               84  Alive  \n",
       "4               50  Alive  "
      ]
     },
     "execution_count": 2,
     "metadata": {},
     "output_type": "execute_result"
    }
   ],
   "source": [
    "import pandas as pd\n",
    "new = pd.read_csv (r\"C:\\Users\\cheta\\Desktop\\python\\Machine learning Practise Projects\\Random Forest\\Breast cancer.csv\")\n",
    "new.head()"
   ]
  },
  {
   "cell_type": "markdown",
   "id": "abc0abaf",
   "metadata": {},
   "source": [
    "# 2. Data Pre-Processing "
   ]
  },
  {
   "cell_type": "code",
   "execution_count": 3,
   "id": "7ebdc4bc",
   "metadata": {},
   "outputs": [
    {
     "name": "stdout",
     "output_type": "stream",
     "text": [
      "<class 'pandas.core.frame.DataFrame'>\n",
      "RangeIndex: 4024 entries, 0 to 4023\n",
      "Data columns (total 16 columns):\n",
      " #   Column                  Non-Null Count  Dtype \n",
      "---  ------                  --------------  ----- \n",
      " 0   Age                     4024 non-null   int64 \n",
      " 1   Race                    4024 non-null   object\n",
      " 2   Marital_Status          4024 non-null   object\n",
      " 3   T_Stage                 4024 non-null   object\n",
      " 4   N_Stage                 4024 non-null   object\n",
      " 5   6th_Stage               4024 non-null   object\n",
      " 6   differentiate           4024 non-null   object\n",
      " 7   Grade                   4024 non-null   object\n",
      " 8   A_Stage                 4024 non-null   object\n",
      " 9   Tumor_Size              4024 non-null   int64 \n",
      " 10  Estrogen_Status         4024 non-null   object\n",
      " 11  Progesterone_Status     4024 non-null   object\n",
      " 12  Regional_Node_Examined  4024 non-null   int64 \n",
      " 13  Reginol_Node_Positive   4024 non-null   int64 \n",
      " 14  Survival_Months         4024 non-null   int64 \n",
      " 15  Status                  4024 non-null   object\n",
      "dtypes: int64(5), object(11)\n",
      "memory usage: 503.1+ KB\n"
     ]
    }
   ],
   "source": [
    "new.info()"
   ]
  },
  {
   "cell_type": "markdown",
   "id": "7559a72f",
   "metadata": {},
   "source": [
    "#### 2.2. Data Manipulation"
   ]
  },
  {
   "cell_type": "code",
   "execution_count": 5,
   "id": "ee783ec5",
   "metadata": {},
   "outputs": [
    {
     "data": {
      "text/plain": [
       "Alive    3408\n",
       "Dead      616\n",
       "Name: Status, dtype: int64"
      ]
     },
     "execution_count": 5,
     "metadata": {},
     "output_type": "execute_result"
    }
   ],
   "source": [
    "new.Status.value_counts()"
   ]
  },
  {
   "cell_type": "code",
   "execution_count": 6,
   "id": "0aeb7f7b",
   "metadata": {},
   "outputs": [],
   "source": [
    "#Tenure to categorical column\n",
    "def Survival_Months(new) :\n",
    "    if new[\"Survival_Months\"] <= 12 :\n",
    "        return \"Survival_Months-12\"\n",
    "    elif (new[\"Survival_Months\"] > 12) & (new[\"Survival_Months\"] <= 24 ):\n",
    "        return \"Survival_Months_13-24\"\n",
    "    elif (new[\"Survival_Months\"] > 24) & (new[\"Survival_Months\"] <= 48) :\n",
    "        return \"Survival_Months_25-48\"\n",
    "    elif (new[\"Survival_Months\"] > 48) & (new[\"Survival_Months\"] <= 60) :\n",
    "        return \"Survival_Months_49-60\"\n",
    "    elif new[\"Survival_Months\"] > 60 :\n",
    "        return \"Survival_Months_gt_60\"\n",
    "    \n",
    "    \n",
    "new[\"Survival_Months\"] = new.apply(lambda new:Survival_Months(new),axis = 1)"
   ]
  },
  {
   "cell_type": "code",
   "execution_count": 7,
   "id": "8e40834a",
   "metadata": {},
   "outputs": [
    {
     "data": {
      "text/html": [
       "<div>\n",
       "<style scoped>\n",
       "    .dataframe tbody tr th:only-of-type {\n",
       "        vertical-align: middle;\n",
       "    }\n",
       "\n",
       "    .dataframe tbody tr th {\n",
       "        vertical-align: top;\n",
       "    }\n",
       "\n",
       "    .dataframe thead th {\n",
       "        text-align: right;\n",
       "    }\n",
       "</style>\n",
       "<table border=\"1\" class=\"dataframe\">\n",
       "  <thead>\n",
       "    <tr style=\"text-align: right;\">\n",
       "      <th></th>\n",
       "      <th>Age</th>\n",
       "      <th>Race</th>\n",
       "      <th>Marital_Status</th>\n",
       "      <th>T_Stage</th>\n",
       "      <th>N_Stage</th>\n",
       "      <th>6th_Stage</th>\n",
       "      <th>differentiate</th>\n",
       "      <th>Grade</th>\n",
       "      <th>A_Stage</th>\n",
       "      <th>Tumor_Size</th>\n",
       "      <th>Estrogen_Status</th>\n",
       "      <th>Progesterone_Status</th>\n",
       "      <th>Regional_Node_Examined</th>\n",
       "      <th>Reginol_Node_Positive</th>\n",
       "      <th>Survival_Months</th>\n",
       "      <th>Status</th>\n",
       "    </tr>\n",
       "  </thead>\n",
       "  <tbody>\n",
       "    <tr>\n",
       "      <th>0</th>\n",
       "      <td>68</td>\n",
       "      <td>White</td>\n",
       "      <td>Married</td>\n",
       "      <td>T1</td>\n",
       "      <td>N1</td>\n",
       "      <td>IIA</td>\n",
       "      <td>Poorly differentiated</td>\n",
       "      <td>3</td>\n",
       "      <td>Regional</td>\n",
       "      <td>4</td>\n",
       "      <td>Positive</td>\n",
       "      <td>Positive</td>\n",
       "      <td>24</td>\n",
       "      <td>1</td>\n",
       "      <td>Survival_Months_49-60</td>\n",
       "      <td>Alive</td>\n",
       "    </tr>\n",
       "    <tr>\n",
       "      <th>1</th>\n",
       "      <td>50</td>\n",
       "      <td>White</td>\n",
       "      <td>Married</td>\n",
       "      <td>T2</td>\n",
       "      <td>N2</td>\n",
       "      <td>IIIA</td>\n",
       "      <td>Moderately differentiated</td>\n",
       "      <td>2</td>\n",
       "      <td>Regional</td>\n",
       "      <td>35</td>\n",
       "      <td>Positive</td>\n",
       "      <td>Positive</td>\n",
       "      <td>14</td>\n",
       "      <td>5</td>\n",
       "      <td>Survival_Months_gt_60</td>\n",
       "      <td>Alive</td>\n",
       "    </tr>\n",
       "    <tr>\n",
       "      <th>2</th>\n",
       "      <td>58</td>\n",
       "      <td>White</td>\n",
       "      <td>Divorced</td>\n",
       "      <td>T3</td>\n",
       "      <td>N3</td>\n",
       "      <td>IIIC</td>\n",
       "      <td>Moderately differentiated</td>\n",
       "      <td>2</td>\n",
       "      <td>Regional</td>\n",
       "      <td>63</td>\n",
       "      <td>Positive</td>\n",
       "      <td>Positive</td>\n",
       "      <td>14</td>\n",
       "      <td>7</td>\n",
       "      <td>Survival_Months_gt_60</td>\n",
       "      <td>Alive</td>\n",
       "    </tr>\n",
       "    <tr>\n",
       "      <th>3</th>\n",
       "      <td>58</td>\n",
       "      <td>White</td>\n",
       "      <td>Married</td>\n",
       "      <td>T1</td>\n",
       "      <td>N1</td>\n",
       "      <td>IIA</td>\n",
       "      <td>Poorly differentiated</td>\n",
       "      <td>3</td>\n",
       "      <td>Regional</td>\n",
       "      <td>18</td>\n",
       "      <td>Positive</td>\n",
       "      <td>Positive</td>\n",
       "      <td>2</td>\n",
       "      <td>1</td>\n",
       "      <td>Survival_Months_gt_60</td>\n",
       "      <td>Alive</td>\n",
       "    </tr>\n",
       "    <tr>\n",
       "      <th>4</th>\n",
       "      <td>47</td>\n",
       "      <td>White</td>\n",
       "      <td>Married</td>\n",
       "      <td>T2</td>\n",
       "      <td>N1</td>\n",
       "      <td>IIB</td>\n",
       "      <td>Poorly differentiated</td>\n",
       "      <td>3</td>\n",
       "      <td>Regional</td>\n",
       "      <td>41</td>\n",
       "      <td>Positive</td>\n",
       "      <td>Positive</td>\n",
       "      <td>3</td>\n",
       "      <td>1</td>\n",
       "      <td>Survival_Months_49-60</td>\n",
       "      <td>Alive</td>\n",
       "    </tr>\n",
       "  </tbody>\n",
       "</table>\n",
       "</div>"
      ],
      "text/plain": [
       "   Age   Race Marital_Status T_Stage  N_Stage 6th_Stage  \\\n",
       "0   68  White        Married       T1      N1       IIA   \n",
       "1   50  White        Married       T2      N2      IIIA   \n",
       "2   58  White       Divorced       T3      N3      IIIC   \n",
       "3   58  White        Married       T1      N1       IIA   \n",
       "4   47  White        Married       T2      N1       IIB   \n",
       "\n",
       "               differentiate Grade   A_Stage  Tumor_Size Estrogen_Status  \\\n",
       "0      Poorly differentiated     3  Regional           4        Positive   \n",
       "1  Moderately differentiated     2  Regional          35        Positive   \n",
       "2  Moderately differentiated     2  Regional          63        Positive   \n",
       "3      Poorly differentiated     3  Regional          18        Positive   \n",
       "4      Poorly differentiated     3  Regional          41        Positive   \n",
       "\n",
       "  Progesterone_Status  Regional_Node_Examined  Reginol_Node_Positive  \\\n",
       "0            Positive                      24                      1   \n",
       "1            Positive                      14                      5   \n",
       "2            Positive                      14                      7   \n",
       "3            Positive                       2                      1   \n",
       "4            Positive                       3                      1   \n",
       "\n",
       "         Survival_Months Status  \n",
       "0  Survival_Months_49-60  Alive  \n",
       "1  Survival_Months_gt_60  Alive  \n",
       "2  Survival_Months_gt_60  Alive  \n",
       "3  Survival_Months_gt_60  Alive  \n",
       "4  Survival_Months_49-60  Alive  "
      ]
     },
     "execution_count": 7,
     "metadata": {},
     "output_type": "execute_result"
    }
   ],
   "source": [
    "new.head()"
   ]
  },
  {
   "cell_type": "markdown",
   "id": "90741133",
   "metadata": {},
   "source": [
    "# 3. Missing Value Identify & Treatment"
   ]
  },
  {
   "cell_type": "code",
   "execution_count": 8,
   "id": "77378bf2",
   "metadata": {},
   "outputs": [
    {
     "name": "stdout",
     "output_type": "stream",
     "text": [
      "Age                       0\n",
      "Race                      0\n",
      "Marital_Status            0\n",
      "T_Stage                   0\n",
      "N_Stage                   0\n",
      "6th_Stage                 0\n",
      "differentiate             0\n",
      "Grade                     0\n",
      "A_Stage                   0\n",
      "Tumor_Size                0\n",
      "Estrogen_Status           0\n",
      "Progesterone_Status       0\n",
      "Regional_Node_Examined    0\n",
      "Reginol_Node_Positive     0\n",
      "Survival_Months           0\n",
      "Status                    0\n",
      "dtype: int64\n"
     ]
    }
   ],
   "source": [
    "# count the number of NaN values in each column\n",
    "print(new.isnull().sum())"
   ]
  },
  {
   "cell_type": "code",
   "execution_count": 9,
   "id": "2dd9f40b",
   "metadata": {},
   "outputs": [
    {
     "data": {
      "text/plain": [
       "Index(['Age', 'Race', 'Marital_Status', 'T_Stage ', 'N_Stage', '6th_Stage',\n",
       "       'differentiate', 'Grade', 'A_Stage', 'Tumor_Size', 'Estrogen_Status',\n",
       "       'Progesterone_Status', 'Regional_Node_Examined',\n",
       "       'Reginol_Node_Positive', 'Survival_Months', 'Status'],\n",
       "      dtype='object')"
      ]
     },
     "execution_count": 9,
     "metadata": {},
     "output_type": "execute_result"
    }
   ],
   "source": [
    "new.columns"
   ]
  },
  {
   "cell_type": "code",
   "execution_count": 10,
   "id": "b822e0d7",
   "metadata": {},
   "outputs": [
    {
     "data": {
      "text/plain": [
       "<Axes: ylabel='Tumor_Size'>"
      ]
     },
     "execution_count": 10,
     "metadata": {},
     "output_type": "execute_result"
    },
    {
     "data": {
      "image/png": "[encoded data removed]",
      "text/plain": [
       "<Figure size 640x480 with 1 Axes>"
      ]
     },
     "metadata": {},
     "output_type": "display_data"
    }
   ],
   "source": [
    "sns.boxplot(y = new.Tumor_Size)  # Single Variableb"
   ]
  },
  {
   "cell_type": "code",
   "execution_count": 11,
   "id": "3c23935b",
   "metadata": {},
   "outputs": [
    {
     "data": {
      "text/plain": [
       "71.0"
      ]
     },
     "execution_count": 11,
     "metadata": {},
     "output_type": "execute_result"
    }
   ],
   "source": [
    "q1 = new['Tumor_Size'].quantile(0.25)\n",
    "q3 = new['Tumor_Size'].quantile(0.75)\n",
    "iqr = q3-q1 #Interquartile range\n",
    "\n",
    "upper_limit = q3+1.5*iqr #acceptable range\n",
    "upper_limit"
   ]
  },
  {
   "cell_type": "code",
   "execution_count": 12,
   "id": "b890a458",
   "metadata": {},
   "outputs": [],
   "source": [
    "new['Tumor_Size']=np.where(new['Tumor_Size'] > upper_limit,upper_limit,new['Tumor_Size']) # upper limit"
   ]
  },
  {
   "cell_type": "code",
   "execution_count": 13,
   "id": "1b7e6e56",
   "metadata": {},
   "outputs": [
    {
     "data": {
      "text/plain": [
       "<Axes: ylabel='Tumor_Size'>"
      ]
     },
     "execution_count": 13,
     "metadata": {},
     "output_type": "execute_result"
    },
    {
     "data": {
      "image/png": "[encoded data removed]",
      "text/plain": [
       "<Figure size 640x480 with 1 Axes>"
      ]
     },
     "metadata": {},
     "output_type": "display_data"
    }
   ],
   "source": [
    "sns.boxplot(y = new.Tumor_Size)  # Single Variableb"
   ]
  },
  {
   "cell_type": "code",
   "execution_count": 14,
   "id": "58b629a4",
   "metadata": {},
   "outputs": [
    {
     "data": {
      "text/plain": [
       "<Axes: ylabel='Reginol_Node_Positive'>"
      ]
     },
     "execution_count": 14,
     "metadata": {},
     "output_type": "execute_result"
    },
    {
     "data": {
      "image/png": "[encoded data removed]",
      "text/plain": [
       "<Figure size 640x480 with 1 Axes>"
      ]
     },
     "metadata": {},
     "output_type": "display_data"
    }
   ],
   "source": [
    "sns.boxplot(y = new.Reginol_Node_Positive )  # Single Variable"
   ]
  },
  {
   "cell_type": "code",
   "execution_count": 15,
   "id": "959c0bb0",
   "metadata": {},
   "outputs": [
    {
     "data": {
      "text/plain": [
       "11.0"
      ]
     },
     "execution_count": 15,
     "metadata": {},
     "output_type": "execute_result"
    }
   ],
   "source": [
    "q1 = new['Reginol_Node_Positive'].quantile(0.25)\n",
    "q3 = new['Reginol_Node_Positive'].quantile(0.75)\n",
    "iqr = q3-q1 #Interquartile range\n",
    "\n",
    "upper_limit = q3+1.5*iqr #acceptable range\n",
    "upper_limit"
   ]
  },
  {
   "cell_type": "code",
   "execution_count": 16,
   "id": "9fde9ce5",
   "metadata": {},
   "outputs": [],
   "source": [
    "new['Reginol_Node_Positive']=np.where(new['Reginol_Node_Positive'] > upper_limit,upper_limit,new['Reginol_Node_Positive']) # upper limit"
   ]
  },
  {
   "cell_type": "code",
   "execution_count": 17,
   "id": "2059ca9e",
   "metadata": {},
   "outputs": [
    {
     "data": {
      "text/plain": [
       "<Axes: ylabel='Reginol_Node_Positive'>"
      ]
     },
     "execution_count": 17,
     "metadata": {},
     "output_type": "execute_result"
    },
    {
     "data": {
      "image/png": "[encoded data removed]",
      "text/plain": [
       "<Figure size 640x480 with 1 Axes>"
      ]
     },
     "metadata": {},
     "output_type": "display_data"
    }
   ],
   "source": [
    "sns.boxplot(y = new.Reginol_Node_Positive )  # Single Variable"
   ]
  },
  {
   "cell_type": "code",
   "execution_count": 18,
   "id": "13e9abe6",
   "metadata": {},
   "outputs": [
    {
     "data": {
      "text/plain": [
       "<Axes: ylabel='Regional_Node_Examined'>"
      ]
     },
     "execution_count": 18,
     "metadata": {},
     "output_type": "execute_result"
    },
    {
     "data": {
      "image/png": "[encoded data removed]",
      "text/plain": [
       "<Figure size 640x480 with 1 Axes>"
      ]
     },
     "metadata": {},
     "output_type": "display_data"
    }
   ],
   "source": [
    "sns.boxplot(y = new.Regional_Node_Examined )  # Single Variable"
   ]
  },
  {
   "cell_type": "code",
   "execution_count": 19,
   "id": "c4a2e765",
   "metadata": {},
   "outputs": [
    {
     "data": {
      "text/plain": [
       "34.0"
      ]
     },
     "execution_count": 19,
     "metadata": {},
     "output_type": "execute_result"
    }
   ],
   "source": [
    "q1 = new['Regional_Node_Examined'].quantile(0.25)\n",
    "q3 = new['Regional_Node_Examined'].quantile(0.75)\n",
    "iqr = q3-q1 #Interquartile range\n",
    "\n",
    "upper_limit = q3+1.5*iqr #acceptable range\n",
    "upper_limit"
   ]
  },
  {
   "cell_type": "code",
   "execution_count": 20,
   "id": "031c4fa3",
   "metadata": {},
   "outputs": [],
   "source": [
    "new['Regional_Node_Examined']=np.where(new['Regional_Node_Examined'] > upper_limit,upper_limit,new['Regional_Node_Examined']) # upper limit"
   ]
  },
  {
   "cell_type": "code",
   "execution_count": 21,
   "id": "726d4e69",
   "metadata": {},
   "outputs": [
    {
     "data": {
      "text/plain": [
       "<Axes: ylabel='Regional_Node_Examined'>"
      ]
     },
     "execution_count": 21,
     "metadata": {},
     "output_type": "execute_result"
    },
    {
     "data": {
      "image/png": "[encoded data removed]",
      "text/plain": [
       "<Figure size 640x480 with 1 Axes>"
      ]
     },
     "metadata": {},
     "output_type": "display_data"
    }
   ],
   "source": [
    "sns.boxplot(y = new.Regional_Node_Examined )  # Single Variable"
   ]
  },
  {
   "cell_type": "code",
   "execution_count": 22,
   "id": "3c1b96fe",
   "metadata": {},
   "outputs": [
    {
     "data": {
      "application/vnd.plotly.v1+json": {
       "config": {
        "plotlyServerURL": "https://plot.ly"
       },
       "data": [
        {
         "customdata": [
          [
           "Alive"
          ],
          [
           "Alive"
          ],
          [
           "Alive"
          ],
          [
           "Alive"
          ],
          [
           "Alive"
          ],
          [
           "Alive"
          ],
          [
           "Alive"
          ],
          [
           "Dead"
          ],
          [
           "Alive"
          ],
          [
           "Alive"
          ],
          [
           "Dead"
          ],
          [
           "Alive"
          ],
          [
           "Alive"
          ],
          [
           "Alive"
          ],
          [
           "Alive"
          ],
          [
           "Alive"
          ],
          [
           "Alive"
          ],
          [
           "Alive"
          ],
          [
           "Alive"
          ],
          [
           "Alive"
          ],
          [
           "Alive"
          ],
          [
           "Alive"
          ],
          [
           "Alive"
          ],
          [
           "Alive"
          ],
          [
           "Alive"
          ],
          [
           "Alive"
          ],
          [
           "Alive"
          ],
          [
           "Alive"
          ],
          [
           "Alive"
          ],
          [
           "Alive"
          ],
          [
           "Alive"
          ],
          [
           "Alive"
          ],
          [
           "Alive"
          ],
          [
           "Alive"
          ],
          [
           "Alive"
          ],
          [
           "Alive"
          ],
          [
           "Alive"
          ],
          [
           "Alive"
          ],
          [
           "Alive"
          ],
          [
           "Alive"
          ],
          [
           "Dead"
          ],
          [
           "Alive"
          ],
          [
           "Alive"
          ],
          [
           "Alive"
          ],
          [
           "Alive"
          ],
          [
           "Alive"
          ],
          [
           "Dead"
          ],
          [
           "Alive"
          ],
          [
           "Alive"
          ],
          [
           "Alive"
          ],
          [
           "Alive"
          ],
          [
           "Alive"
          ],
          [
           "Alive"
          ],
          [
           "Alive"
          ],
          [
           "Alive"
          ],
          [
           "Alive"
          ],
          [
           "Alive"
          ],
          [
           "Alive"
          ],
          [
           "Alive"
          ],
          [
           "Alive"
          ],
          [
           "Alive"
          ],
          [
           "Alive"
          ],
          [
           "Alive"
          ],
          [
           "Alive"
          ],
          [
           "Dead"
          ],
          [
           "Alive"
          ],
          [
           "Dead"
          ],
          [
           "Alive"
          ],
          [
           "Alive"
          ],
          [
           "Alive"
          ],
          [
           "Alive"
          ],
          [
           "Dead"
          ],
          [
           "Alive"
          ],
          [
           "Alive"
          ],
          [
           "Alive"
          ],
          [
           "Alive"
          ],
          [
           "Alive"
          ],
          [
           "Alive"
          ],
          [
           "Alive"
          ],
          [
           "Alive"
          ],
          [
           "Alive"
          ],
          [
           "Alive"
          ],
          [
           "Alive"
          ],
          [
           "Alive"
          ],
          [
           "Alive"
          ],
          [
           "Alive"
          ],
          [
           "Alive"
          ],
          [
           "Alive"
          ],
          [
           "Alive"
          ],
          [
           "Alive"
          ],
          [
           "Dead"
          ],
          [
           "Alive"
          ],
          [
           "Dead"
          ],
          [
           "Dead"
          ],
          [
           "Alive"
          ],
          [
           "Alive"
          ],
          [
           "Dead"
          ],
          [
           "Alive"
          ],
          [
           "Dead"
          ],
          [
           "Alive"
          ],
          [
           "Dead"
          ],
          [
           "Alive"
          ],
          [
           "Alive"
          ],
          [
           "Dead"
          ],
          [
           "Alive"
          ],
          [
           "Alive"
          ],
          [
           "Dead"
          ],
          [
           "Alive"
          ],
          [
           "Alive"
          ],
          [
           "Alive"
          ],
          [
           "Alive"
          ],
          [
           "Dead"
          ],
          [
           "Alive"
          ],
          [
           "Alive"
          ],
          [
           "Alive"
          ],
          [
           "Alive"
          ],
          [
           "Alive"
          ],
          [
           "Alive"
          ],
          [
           "Alive"
          ],
          [
           "Alive"
          ],
          [
           "Alive"
          ],
          [
           "Alive"
          ],
          [
           "Alive"
          ],
          [
           "Alive"
          ],
          [
           "Alive"
          ],
          [
           "Dead"
          ],
          [
           "Alive"
          ],
          [
           "Alive"
          ],
          [
           "Alive"
          ],
          [
           "Alive"
          ],
          [
           "Alive"
          ],
          [
           "Alive"
          ],
          [
           "Alive"
          ],
          [
           "Alive"
          ],
          [
           "Dead"
          ],
          [
           "Dead"
          ],
          [
           "Alive"
          ],
          [
           "Dead"
          ],
          [
           "Dead"
          ],
          [
           "Alive"
          ],
          [
           "Alive"
          ],
          [
           "Alive"
          ],
          [
           "Alive"
          ],
          [
           "Dead"
          ],
          [
           "Dead"
          ],
          [
           "Alive"
          ],
          [
           "Alive"
          ],
          [
           "Dead"
          ],
          [
           "Alive"
          ],
          [
           "Alive"
          ],
          [
           "Alive"
          ],
          [
           "Alive"
          ],
          [
           "Dead"
          ],
          [
           "Alive"
          ],
          [
           "Alive"
          ],
          [
           "Alive"
          ],
          [
           "Alive"
          ],
          [
           "Alive"
          ],
          [
           "Alive"
          ],
          [
           "Dead"
          ],
          [
           "Alive"
          ],
          [
           "Alive"
          ],
          [
           "Alive"
          ],
          [
           "Alive"
          ],
          [
           "Alive"
          ],
          [
           "Alive"
          ],
          [
           "Alive"
          ],
          [
           "Alive"
          ],
          [
           "Alive"
          ],
          [
           "Alive"
          ],
          [
           "Dead"
          ],
          [
           "Alive"
          ],
          [
           "Alive"
          ],
          [
           "Alive"
          ],
          [
           "Alive"
          ],
          [
           "Alive"
          ],
          [
           "Dead"
          ],
          [
           "Alive"
          ],
          [
           "Alive"
          ],
          [
           "Dead"
          ],
          [
           "Alive"
          ],
          [
           "Dead"
          ],
          [
           "Dead"
          ],
          [
           "Alive"
          ],
          [
           "Alive"
          ],
          [
           "Alive"
          ],
          [
           "Alive"
          ],
          [
           "Alive"
          ],
          [
           "Dead"
          ],
          [
           "Alive"
          ],
          [
           "Alive"
          ],
          [
           "Alive"
          ],
          [
           "Alive"
          ],
          [
           "Alive"
          ],
          [
           "Alive"
          ],
          [
           "Alive"
          ],
          [
           "Alive"
          ],
          [
           "Alive"
          ],
          [
           "Alive"
          ],
          [
           "Alive"
          ],
          [
           "Alive"
          ],
          [
           "Alive"
          ],
          [
           "Dead"
          ],
          [
           "Dead"
          ],
          [
           "Alive"
          ],
          [
           "Alive"
          ],
          [
           "Alive"
          ],
          [
           "Alive"
          ],
          [
           "Alive"
          ],
          [
           "Alive"
          ],
          [
           "Alive"
          ],
          [
           "Dead"
          ],
          [
           "Alive"
          ],
          [
           "Alive"
          ],
          [
           "Alive"
          ],
          [
           "Dead"
          ],
          [
           "Dead"
          ],
          [
           "Alive"
          ],
          [
           "Alive"
          ],
          [
           "Dead"
          ],
          [
           "Dead"
          ],
          [
           "Dead"
          ],
          [
           "Alive"
          ],
          [
           "Alive"
          ],
          [
           "Alive"
          ],
          [
           "Alive"
          ],
          [
           "Alive"
          ],
          [
           "Alive"
          ],
          [
           "Alive"
          ],
          [
           "Alive"
          ],
          [
           "Alive"
          ],
          [
           "Alive"
          ],
          [
           "Alive"
          ],
          [
           "Alive"
          ],
          [
           "Alive"
          ],
          [
           "Alive"
          ],
          [
           "Alive"
          ],
          [
           "Alive"
          ],
          [
           "Dead"
          ],
          [
           "Alive"
          ],
          [
           "Dead"
          ],
          [
           "Alive"
          ],
          [
           "Alive"
          ],
          [
           "Alive"
          ],
          [
           "Alive"
          ],
          [
           "Alive"
          ],
          [
           "Alive"
          ],
          [
           "Dead"
          ],
          [
           "Alive"
          ],
          [
           "Alive"
          ],
          [
           "Alive"
          ],
          [
           "Alive"
          ],
          [
           "Alive"
          ],
          [
           "Alive"
          ],
          [
           "Alive"
          ],
          [
           "Alive"
          ],
          [
           "Alive"
          ],
          [
           "Alive"
          ],
          [
           "Alive"
          ],
          [
           "Alive"
          ],
          [
           "Alive"
          ],
          [
           "Alive"
          ],
          [
           "Alive"
          ],
          [
           "Dead"
          ],
          [
           "Alive"
          ],
          [
           "Alive"
          ],
          [
           "Alive"
          ],
          [
           "Alive"
          ],
          [
           "Dead"
          ],
          [
           "Alive"
          ],
          [
           "Dead"
          ],
          [
           "Alive"
          ],
          [
           "Alive"
          ],
          [
           "Alive"
          ],
          [
           "Alive"
          ],
          [
           "Alive"
          ],
          [
           "Alive"
          ],
          [
           "Dead"
          ],
          [
           "Alive"
          ],
          [
           "Alive"
          ],
          [
           "Alive"
          ],
          [
           "Alive"
          ],
          [
           "Dead"
          ],
          [
           "Alive"
          ],
          [
           "Alive"
          ],
          [
           "Dead"
          ],
          [
           "Alive"
          ],
          [
           "Alive"
          ],
          [
           "Alive"
          ],
          [
           "Dead"
          ],
          [
           "Alive"
          ],
          [
           "Alive"
          ],
          [
           "Dead"
          ],
          [
           "Alive"
          ],
          [
           "Alive"
          ],
          [
           "Alive"
          ],
          [
           "Alive"
          ],
          [
           "Alive"
          ],
          [
           "Alive"
          ],
          [
           "Alive"
          ],
          [
           "Alive"
          ],
          [
           "Alive"
          ],
          [
           "Alive"
          ],
          [
           "Alive"
          ],
          [
           "Alive"
          ],
          [
           "Dead"
          ],
          [
           "Alive"
          ],
          [
           "Alive"
          ],
          [
           "Alive"
          ],
          [
           "Alive"
          ],
          [
           "Alive"
          ],
          [
           "Alive"
          ],
          [
           "Alive"
          ],
          [
           "Dead"
          ],
          [
           "Alive"
          ],
          [
           "Alive"
          ],
          [
           "Alive"
          ],
          [
           "Alive"
          ],
          [
           "Alive"
          ],
          [
           "Alive"
          ],
          [
           "Alive"
          ],
          [
           "Alive"
          ],
          [
           "Alive"
          ],
          [
           "Alive"
          ],
          [
           "Alive"
          ],
          [
           "Alive"
          ],
          [
           "Alive"
          ],
          [
           "Alive"
          ],
          [
           "Alive"
          ],
          [
           "Alive"
          ],
          [
           "Alive"
          ],
          [
           "Dead"
          ],
          [
           "Alive"
          ],
          [
           "Alive"
          ],
          [
           "Alive"
          ],
          [
           "Alive"
          ],
          [
           "Alive"
          ],
          [
           "Alive"
          ],
          [
           "Alive"
          ],
          [
           "Alive"
          ],
          [
           "Alive"
          ],
          [
           "Alive"
          ],
          [
           "Alive"
          ],
          [
           "Alive"
          ],
          [
           "Alive"
          ],
          [
           "Alive"
          ],
          [
           "Alive"
          ],
          [
           "Alive"
          ],
          [
           "Alive"
          ],
          [
           "Alive"
          ],
          [
           "Alive"
          ],
          [
           "Alive"
          ],
          [
           "Alive"
          ],
          [
           "Alive"
          ],
          [
           "Alive"
          ],
          [
           "Alive"
          ],
          [
           "Alive"
          ],
          [
           "Dead"
          ],
          [
           "Alive"
          ],
          [
           "Alive"
          ],
          [
           "Alive"
          ],
          [
           "Alive"
          ],
          [
           "Dead"
          ],
          [
           "Dead"
          ],
          [
           "Alive"
          ],
          [
           "Alive"
          ],
          [
           "Alive"
          ],
          [
           "Alive"
          ],
          [
           "Alive"
          ],
          [
           "Dead"
          ],
          [
           "Alive"
          ],
          [
           "Dead"
          ],
          [
           "Alive"
          ],
          [
           "Alive"
          ],
          [
           "Alive"
          ],
          [
           "Alive"
          ],
          [
           "Alive"
          ],
          [
           "Alive"
          ],
          [
           "Alive"
          ],
          [
           "Dead"
          ],
          [
           "Alive"
          ],
          [
           "Alive"
          ],
          [
           "Alive"
          ],
          [
           "Alive"
          ],
          [
           "Alive"
          ],
          [
           "Alive"
          ],
          [
           "Alive"
          ],
          [
           "Alive"
          ],
          [
           "Alive"
          ],
          [
           "Alive"
          ],
          [
           "Alive"
          ],
          [
           "Alive"
          ],
          [
           "Alive"
          ],
          [
           "Alive"
          ],
          [
           "Dead"
          ],
          [
           "Alive"
          ],
          [
           "Alive"
          ],
          [
           "Alive"
          ],
          [
           "Alive"
          ],
          [
           "Alive"
          ],
          [
           "Alive"
          ],
          [
           "Alive"
          ],
          [
           "Alive"
          ],
          [
           "Alive"
          ],
          [
           "Alive"
          ],
          [
           "Alive"
          ],
          [
           "Alive"
          ],
          [
           "Alive"
          ],
          [
           "Alive"
          ],
          [
           "Alive"
          ],
          [
           "Alive"
          ],
          [
           "Alive"
          ],
          [
           "Alive"
          ],
          [
           "Dead"
          ],
          [
           "Alive"
          ],
          [
           "Alive"
          ],
          [
           "Alive"
          ],
          [
           "Alive"
          ],
          [
           "Alive"
          ],
          [
           "Alive"
          ],
          [
           "Alive"
          ],
          [
           "Alive"
          ],
          [
           "Alive"
          ],
          [
           "Alive"
          ],
          [
           "Alive"
          ],
          [
           "Alive"
          ],
          [
           "Alive"
          ],
          [
           "Alive"
          ],
          [
           "Dead"
          ],
          [
           "Alive"
          ],
          [
           "Alive"
          ],
          [
           "Alive"
          ],
          [
           "Alive"
          ],
          [
           "Alive"
          ],
          [
           "Alive"
          ],
          [
           "Dead"
          ],
          [
           "Alive"
          ],
          [
           "Alive"
          ],
          [
           "Alive"
          ],
          [
           "Alive"
          ],
          [
           "Alive"
          ],
          [
           "Dead"
          ],
          [
           "Alive"
          ],
          [
           "Alive"
          ],
          [
           "Alive"
          ],
          [
           "Dead"
          ],
          [
           "Alive"
          ],
          [
           "Alive"
          ],
          [
           "Alive"
          ],
          [
           "Alive"
          ],
          [
           "Alive"
          ],
          [
           "Alive"
          ],
          [
           "Alive"
          ],
          [
           "Alive"
          ],
          [
           "Alive"
          ],
          [
           "Dead"
          ],
          [
           "Alive"
          ],
          [
           "Dead"
          ],
          [
           "Alive"
          ],
          [
           "Alive"
          ],
          [
           "Alive"
          ],
          [
           "Alive"
          ],
          [
           "Alive"
          ],
          [
           "Alive"
          ],
          [
           "Alive"
          ],
          [
           "Alive"
          ],
          [
           "Alive"
          ],
          [
           "Alive"
          ],
          [
           "Alive"
          ],
          [
           "Alive"
          ],
          [
           "Alive"
          ],
          [
           "Alive"
          ],
          [
           "Alive"
          ],
          [
           "Alive"
          ],
          [
           "Dead"
          ],
          [
           "Alive"
          ],
          [
           "Alive"
          ],
          [
           "Alive"
          ],
          [
           "Alive"
          ],
          [
           "Alive"
          ],
          [
           "Alive"
          ],
          [
           "Alive"
          ],
          [
           "Dead"
          ],
          [
           "Alive"
          ],
          [
           "Dead"
          ],
          [
           "Alive"
          ],
          [
           "Dead"
          ],
          [
           "Alive"
          ],
          [
           "Alive"
          ],
          [
           "Alive"
          ],
          [
           "Alive"
          ],
          [
           "Alive"
          ],
          [
           "Alive"
          ],
          [
           "Dead"
          ],
          [
           "Alive"
          ],
          [
           "Alive"
          ],
          [
           "Alive"
          ],
          [
           "Alive"
          ],
          [
           "Alive"
          ],
          [
           "Alive"
          ],
          [
           "Alive"
          ],
          [
           "Alive"
          ],
          [
           "Alive"
          ],
          [
           "Alive"
          ],
          [
           "Alive"
          ],
          [
           "Alive"
          ],
          [
           "Alive"
          ],
          [
           "Dead"
          ],
          [
           "Alive"
          ],
          [
           "Alive"
          ],
          [
           "Alive"
          ],
          [
           "Dead"
          ],
          [
           "Alive"
          ],
          [
           "Alive"
          ],
          [
           "Alive"
          ],
          [
           "Alive"
          ],
          [
           "Alive"
          ],
          [
           "Alive"
          ],
          [
           "Alive"
          ],
          [
           "Alive"
          ],
          [
           "Dead"
          ],
          [
           "Alive"
          ],
          [
           "Dead"
          ],
          [
           "Dead"
          ],
          [
           "Alive"
          ],
          [
           "Dead"
          ],
          [
           "Alive"
          ],
          [
           "Alive"
          ],
          [
           "Alive"
          ],
          [
           "Alive"
          ],
          [
           "Alive"
          ],
          [
           "Alive"
          ],
          [
           "Alive"
          ],
          [
           "Alive"
          ],
          [
           "Dead"
          ],
          [
           "Alive"
          ],
          [
           "Alive"
          ],
          [
           "Dead"
          ],
          [
           "Alive"
          ],
          [
           "Alive"
          ],
          [
           "Alive"
          ],
          [
           "Alive"
          ],
          [
           "Alive"
          ],
          [
           "Alive"
          ],
          [
           "Alive"
          ],
          [
           "Alive"
          ],
          [
           "Dead"
          ],
          [
           "Alive"
          ],
          [
           "Dead"
          ],
          [
           "Alive"
          ],
          [
           "Dead"
          ],
          [
           "Alive"
          ],
          [
           "Alive"
          ],
          [
           "Alive"
          ],
          [
           "Alive"
          ],
          [
           "Alive"
          ],
          [
           "Dead"
          ],
          [
           "Alive"
          ],
          [
           "Alive"
          ],
          [
           "Alive"
          ],
          [
           "Alive"
          ],
          [
           "Alive"
          ],
          [
           "Alive"
          ],
          [
           "Alive"
          ],
          [
           "Alive"
          ],
          [
           "Dead"
          ],
          [
           "Dead"
          ],
          [
           "Alive"
          ],
          [
           "Alive"
          ],
          [
           "Alive"
          ],
          [
           "Alive"
          ],
          [
           "Alive"
          ],
          [
           "Dead"
          ],
          [
           "Alive"
          ],
          [
           "Alive"
          ],
          [
           "Alive"
          ],
          [
           "Alive"
          ],
          [
           "Alive"
          ],
          [
           "Alive"
          ],
          [
           "Alive"
          ],
          [
           "Dead"
          ],
          [
           "Dead"
          ],
          [
           "Alive"
          ],
          [
           "Alive"
          ],
          [
           "Alive"
          ],
          [
           "Alive"
          ],
          [
           "Alive"
          ],
          [
           "Alive"
          ],
          [
           "Dead"
          ],
          [
           "Alive"
          ],
          [
           "Alive"
          ],
          [
           "Alive"
          ],
          [
           "Alive"
          ],
          [
           "Dead"
          ],
          [
           "Alive"
          ],
          [
           "Alive"
          ],
          [
           "Alive"
          ],
          [
           "Alive"
          ],
          [
           "Alive"
          ],
          [
           "Alive"
          ],
          [
           "Alive"
          ],
          [
           "Alive"
          ],
          [
           "Alive"
          ],
          [
           "Alive"
          ],
          [
           "Alive"
          ],
          [
           "Alive"
          ],
          [
           "Alive"
          ],
          [
           "Dead"
          ],
          [
           "Alive"
          ],
          [
           "Alive"
          ],
          [
           "Alive"
          ],
          [
           "Alive"
          ],
          [
           "Alive"
          ],
          [
           "Alive"
          ],
          [
           "Alive"
          ],
          [
           "Alive"
          ],
          [
           "Alive"
          ],
          [
           "Alive"
          ],
          [
           "Alive"
          ],
          [
           "Alive"
          ],
          [
           "Dead"
          ],
          [
           "Alive"
          ],
          [
           "Alive"
          ],
          [
           "Alive"
          ],
          [
           "Alive"
          ],
          [
           "Alive"
          ],
          [
           "Alive"
          ],
          [
           "Alive"
          ],
          [
           "Alive"
          ],
          [
           "Alive"
          ],
          [
           "Alive"
          ],
          [
           "Dead"
          ],
          [
           "Alive"
          ],
          [
           "Dead"
          ],
          [
           "Alive"
          ],
          [
           "Alive"
          ],
          [
           "Alive"
          ],
          [
           "Alive"
          ],
          [
           "Alive"
          ],
          [
           "Alive"
          ],
          [
           "Alive"
          ],
          [
           "Dead"
          ],
          [
           "Alive"
          ],
          [
           "Alive"
          ],
          [
           "Alive"
          ],
          [
           "Alive"
          ],
          [
           "Alive"
          ],
          [
           "Alive"
          ],
          [
           "Alive"
          ],
          [
           "Dead"
          ],
          [
           "Alive"
          ],
          [
           "Alive"
          ],
          [
           "Alive"
          ],
          [
           "Alive"
          ],
          [
           "Alive"
          ],
          [
           "Alive"
          ],
          [
           "Dead"
          ],
          [
           "Alive"
          ],
          [
           "Alive"
          ],
          [
           "Dead"
          ],
          [
           "Alive"
          ],
          [
           "Alive"
          ],
          [
           "Alive"
          ],
          [
           "Dead"
          ],
          [
           "Alive"
          ],
          [
           "Dead"
          ],
          [
           "Alive"
          ],
          [
           "Alive"
          ],
          [
           "Alive"
          ],
          [
           "Alive"
          ],
          [
           "Alive"
          ],
          [
           "Alive"
          ],
          [
           "Alive"
          ],
          [
           "Alive"
          ],
          [
           "Alive"
          ],
          [
           "Alive"
          ],
          [
           "Alive"
          ],
          [
           "Dead"
          ],
          [
           "Alive"
          ],
          [
           "Dead"
          ],
          [
           "Alive"
          ],
          [
           "Alive"
          ],
          [
           "Alive"
          ],
          [
           "Dead"
          ],
          [
           "Alive"
          ],
          [
           "Alive"
          ],
          [
           "Alive"
          ],
          [
           "Alive"
          ],
          [
           "Alive"
          ],
          [
           "Alive"
          ],
          [
           "Alive"
          ],
          [
           "Alive"
          ],
          [
           "Alive"
          ],
          [
           "Alive"
          ],
          [
           "Alive"
          ],
          [
           "Alive"
          ],
          [
           "Dead"
          ],
          [
           "Alive"
          ],
          [
           "Alive"
          ],
          [
           "Alive"
          ],
          [
           "Alive"
          ],
          [
           "Alive"
          ],
          [
           "Alive"
          ],
          [
           "Dead"
          ],
          [
           "Alive"
          ],
          [
           "Alive"
          ],
          [
           "Alive"
          ],
          [
           "Alive"
          ],
          [
           "Dead"
          ],
          [
           "Alive"
          ],
          [
           "Alive"
          ],
          [
           "Alive"
          ],
          [
           "Alive"
          ],
          [
           "Alive"
          ],
          [
           "Alive"
          ],
          [
           "Alive"
          ],
          [
           "Alive"
          ],
          [
           "Alive"
          ],
          [
           "Alive"
          ],
          [
           "Alive"
          ],
          [
           "Alive"
          ],
          [
           "Alive"
          ],
          [
           "Alive"
          ],
          [
           "Alive"
          ],
          [
           "Dead"
          ],
          [
           "Alive"
          ],
          [
           "Dead"
          ],
          [
           "Dead"
          ],
          [
           "Dead"
          ],
          [
           "Dead"
          ],
          [
           "Dead"
          ],
          [
           "Alive"
          ],
          [
           "Alive"
          ],
          [
           "Dead"
          ],
          [
           "Alive"
          ],
          [
           "Alive"
          ],
          [
           "Dead"
          ],
          [
           "Alive"
          ],
          [
           "Alive"
          ],
          [
           "Alive"
          ],
          [
           "Alive"
          ],
          [
           "Alive"
          ],
          [
           "Dead"
          ],
          [
           "Alive"
          ],
          [
           "Alive"
          ],
          [
           "Alive"
          ],
          [
           "Alive"
          ],
          [
           "Alive"
          ],
          [
           "Alive"
          ],
          [
           "Alive"
          ],
          [
           "Alive"
          ],
          [
           "Alive"
          ],
          [
           "Dead"
          ],
          [
           "Dead"
          ],
          [
           "Dead"
          ],
          [
           "Alive"
          ],
          [
           "Alive"
          ],
          [
           "Dead"
          ],
          [
           "Dead"
          ],
          [
           "Alive"
          ],
          [
           "Alive"
          ],
          [
           "Alive"
          ],
          [
           "Alive"
          ],
          [
           "Alive"
          ],
          [
           "Alive"
          ],
          [
           "Alive"
          ],
          [
           "Alive"
          ],
          [
           "Alive"
          ],
          [
           "Alive"
          ],
          [
           "Alive"
          ],
          [
           "Alive"
          ],
          [
           "Alive"
          ],
          [
           "Alive"
          ],
          [
           "Alive"
          ],
          [
           "Alive"
          ],
          [
           "Alive"
          ],
          [
           "Dead"
          ],
          [
           "Alive"
          ],
          [
           "Alive"
          ],
          [
           "Dead"
          ],
          [
           "Alive"
          ],
          [
           "Alive"
          ],
          [
           "Alive"
          ],
          [
           "Dead"
          ],
          [
           "Alive"
          ],
          [
           "Alive"
          ],
          [
           "Alive"
          ],
          [
           "Alive"
          ],
          [
           "Alive"
          ],
          [
           "Alive"
          ],
          [
           "Alive"
          ],
          [
           "Alive"
          ],
          [
           "Alive"
          ],
          [
           "Alive"
          ],
          [
           "Alive"
          ],
          [
           "Alive"
          ],
          [
           "Alive"
          ],
          [
           "Alive"
          ],
          [
           "Alive"
          ],
          [
           "Dead"
          ],
          [
           "Dead"
          ],
          [
           "Dead"
          ],
          [
           "Alive"
          ],
          [
           "Alive"
          ],
          [
           "Alive"
          ],
          [
           "Alive"
          ],
          [
           "Alive"
          ],
          [
           "Alive"
          ],
          [
           "Alive"
          ],
          [
           "Alive"
          ],
          [
           "Alive"
          ],
          [
           "Alive"
          ],
          [
           "Alive"
          ],
          [
           "Alive"
          ],
          [
           "Alive"
          ],
          [
           "Alive"
          ],
          [
           "Alive"
          ],
          [
           "Alive"
          ],
          [
           "Alive"
          ],
          [
           "Alive"
          ],
          [
           "Alive"
          ],
          [
           "Alive"
          ],
          [
           "Alive"
          ],
          [
           "Alive"
          ],
          [
           "Alive"
          ],
          [
           "Alive"
          ],
          [
           "Alive"
          ],
          [
           "Alive"
          ],
          [
           "Alive"
          ],
          [
           "Alive"
          ],
          [
           "Alive"
          ],
          [
           "Alive"
          ],
          [
           "Dead"
          ],
          [
           "Alive"
          ],
          [
           "Dead"
          ],
          [
           "Alive"
          ],
          [
           "Alive"
          ],
          [
           "Alive"
          ],
          [
           "Dead"
          ],
          [
           "Alive"
          ],
          [
           "Alive"
          ],
          [
           "Alive"
          ],
          [
           "Alive"
          ],
          [
           "Dead"
          ],
          [
           "Alive"
          ],
          [
           "Alive"
          ],
          [
           "Alive"
          ],
          [
           "Alive"
          ],
          [
           "Alive"
          ],
          [
           "Alive"
          ],
          [
           "Dead"
          ],
          [
           "Dead"
          ],
          [
           "Alive"
          ],
          [
           "Dead"
          ],
          [
           "Alive"
          ],
          [
           "Alive"
          ],
          [
           "Alive"
          ],
          [
           "Dead"
          ],
          [
           "Alive"
          ],
          [
           "Alive"
          ],
          [
           "Dead"
          ],
          [
           "Alive"
          ],
          [
           "Alive"
          ],
          [
           "Dead"
          ],
          [
           "Dead"
          ],
          [
           "Alive"
          ],
          [
           "Alive"
          ],
          [
           "Dead"
          ],
          [
           "Alive"
          ],
          [
           "Alive"
          ],
          [
           "Dead"
          ],
          [
           "Alive"
          ],
          [
           "Alive"
          ],
          [
           "Alive"
          ],
          [
           "Alive"
          ],
          [
           "Alive"
          ],
          [
           "Alive"
          ],
          [
           "Dead"
          ],
          [
           "Alive"
          ],
          [
           "Alive"
          ],
          [
           "Alive"
          ],
          [
           "Alive"
          ],
          [
           "Alive"
          ],
          [
           "Alive"
          ],
          [
           "Alive"
          ],
          [
           "Alive"
          ],
          [
           "Alive"
          ],
          [
           "Dead"
          ],
          [
           "Alive"
          ],
          [
           "Alive"
          ],
          [
           "Alive"
          ],
          [
           "Alive"
          ],
          [
           "Dead"
          ],
          [
           "Alive"
          ],
          [
           "Alive"
          ],
          [
           "Alive"
          ],
          [
           "Dead"
          ],
          [
           "Dead"
          ],
          [
           "Alive"
          ],
          [
           "Alive"
          ],
          [
           "Alive"
          ],
          [
           "Alive"
          ],
          [
           "Alive"
          ],
          [
           "Alive"
          ],
          [
           "Alive"
          ],
          [
           "Alive"
          ],
          [
           "Alive"
          ],
          [
           "Alive"
          ],
          [
           "Dead"
          ],
          [
           "Dead"
          ],
          [
           "Alive"
          ],
          [
           "Dead"
          ],
          [
           "Alive"
          ],
          [
           "Alive"
          ],
          [
           "Alive"
          ],
          [
           "Alive"
          ],
          [
           "Alive"
          ],
          [
           "Dead"
          ],
          [
           "Alive"
          ],
          [
           "Alive"
          ],
          [
           "Alive"
          ],
          [
           "Alive"
          ],
          [
           "Dead"
          ],
          [
           "Alive"
          ],
          [
           "Alive"
          ],
          [
           "Alive"
          ],
          [
           "Alive"
          ],
          [
           "Alive"
          ],
          [
           "Dead"
          ],
          [
           "Alive"
          ],
          [
           "Alive"
          ],
          [
           "Dead"
          ],
          [
           "Alive"
          ],
          [
           "Alive"
          ],
          [
           "Alive"
          ],
          [
           "Dead"
          ],
          [
           "Alive"
          ],
          [
           "Dead"
          ],
          [
           "Dead"
          ],
          [
           "Alive"
          ],
          [
           "Alive"
          ],
          [
           "Alive"
          ],
          [
           "Alive"
          ],
          [
           "Alive"
          ],
          [
           "Alive"
          ],
          [
           "Alive"
          ],
          [
           "Alive"
          ],
          [
           "Dead"
          ],
          [
           "Alive"
          ],
          [
           "Dead"
          ],
          [
           "Dead"
          ],
          [
           "Alive"
          ],
          [
           "Alive"
          ],
          [
           "Alive"
          ],
          [
           "Alive"
          ],
          [
           "Alive"
          ],
          [
           "Alive"
          ],
          [
           "Alive"
          ],
          [
           "Dead"
          ],
          [
           "Alive"
          ],
          [
           "Dead"
          ],
          [
           "Alive"
          ],
          [
           "Alive"
          ],
          [
           "Alive"
          ],
          [
           "Alive"
          ],
          [
           "Alive"
          ],
          [
           "Alive"
          ],
          [
           "Alive"
          ],
          [
           "Alive"
          ],
          [
           "Dead"
          ],
          [
           "Alive"
          ],
          [
           "Dead"
          ],
          [
           "Alive"
          ],
          [
           "Alive"
          ],
          [
           "Dead"
          ],
          [
           "Dead"
          ],
          [
           "Alive"
          ],
          [
           "Alive"
          ],
          [
           "Alive"
          ],
          [
           "Alive"
          ],
          [
           "Alive"
          ],
          [
           "Alive"
          ],
          [
           "Alive"
          ],
          [
           "Alive"
          ],
          [
           "Alive"
          ],
          [
           "Alive"
          ],
          [
           "Alive"
          ],
          [
           "Alive"
          ],
          [
           "Alive"
          ],
          [
           "Alive"
          ],
          [
           "Alive"
          ],
          [
           "Alive"
          ],
          [
           "Alive"
          ],
          [
           "Alive"
          ],
          [
           "Alive"
          ],
          [
           "Alive"
          ],
          [
           "Alive"
          ],
          [
           "Alive"
          ],
          [
           "Alive"
          ],
          [
           "Alive"
          ],
          [
           "Alive"
          ],
          [
           "Alive"
          ],
          [
           "Alive"
          ],
          [
           "Alive"
          ],
          [
           "Dead"
          ],
          [
           "Alive"
          ],
          [
           "Alive"
          ],
          [
           "Alive"
          ],
          [
           "Alive"
          ],
          [
           "Alive"
          ],
          [
           "Alive"
          ],
          [
           "Alive"
          ],
          [
           "Alive"
          ],
          [
           "Dead"
          ],
          [
           "Alive"
          ],
          [
           "Dead"
          ],
          [
           "Alive"
          ],
          [
           "Alive"
          ],
          [
           "Alive"
          ],
          [
           "Alive"
          ],
          [
           "Alive"
          ],
          [
           "Alive"
          ],
          [
           "Alive"
          ],
          [
           "Dead"
          ],
          [
           "Alive"
          ],
          [
           "Alive"
          ],
          [
           "Alive"
          ],
          [
           "Alive"
          ],
          [
           "Alive"
          ],
          [
           "Dead"
          ],
          [
           "Alive"
          ],
          [
           "Alive"
          ],
          [
           "Alive"
          ],
          [
           "Dead"
          ],
          [
           "Alive"
          ],
          [
           "Alive"
          ],
          [
           "Alive"
          ],
          [
           "Alive"
          ],
          [
           "Alive"
          ],
          [
           "Alive"
          ],
          [
           "Dead"
          ],
          [
           "Alive"
          ],
          [
           "Dead"
          ],
          [
           "Alive"
          ],
          [
           "Alive"
          ],
          [
           "Alive"
          ],
          [
           "Dead"
          ],
          [
           "Alive"
          ],
          [
           "Alive"
          ],
          [
           "Dead"
          ],
          [
           "Alive"
          ],
          [
           "Alive"
          ],
          [
           "Alive"
          ],
          [
           "Dead"
          ],
          [
           "Alive"
          ],
          [
           "Alive"
          ],
          [
           "Alive"
          ],
          [
           "Alive"
          ],
          [
           "Alive"
          ],
          [
           "Alive"
          ],
          [
           "Alive"
          ],
          [
           "Alive"
          ],
          [
           "Dead"
          ],
          [
           "Alive"
          ],
          [
           "Alive"
          ],
          [
           "Alive"
          ],
          [
           "Alive"
          ],
          [
           "Alive"
          ],
          [
           "Alive"
          ],
          [
           "Alive"
          ],
          [
           "Dead"
          ],
          [
           "Alive"
          ],
          [
           "Alive"
          ],
          [
           "Alive"
          ],
          [
           "Alive"
          ],
          [
           "Alive"
          ],
          [
           "Alive"
          ],
          [
           "Alive"
          ],
          [
           "Alive"
          ],
          [
           "Dead"
          ],
          [
           "Alive"
          ],
          [
           "Dead"
          ],
          [
           "Dead"
          ],
          [
           "Alive"
          ],
          [
           "Alive"
          ],
          [
           "Alive"
          ],
          [
           "Alive"
          ],
          [
           "Alive"
          ],
          [
           "Dead"
          ],
          [
           "Alive"
          ],
          [
           "Alive"
          ],
          [
           "Alive"
          ],
          [
           "Dead"
          ],
          [
           "Alive"
          ],
          [
           "Alive"
          ],
          [
           "Alive"
          ],
          [
           "Dead"
          ],
          [
           "Alive"
          ],
          [
           "Alive"
          ],
          [
           "Alive"
          ],
          [
           "Alive"
          ],
          [
           "Alive"
          ],
          [
           "Alive"
          ],
          [
           "Alive"
          ],
          [
           "Alive"
          ],
          [
           "Alive"
          ],
          [
           "Dead"
          ],
          [
           "Dead"
          ],
          [
           "Alive"
          ],
          [
           "Alive"
          ],
          [
           "Alive"
          ],
          [
           "Alive"
          ],
          [
           "Alive"
          ],
          [
           "Alive"
          ],
          [
           "Alive"
          ],
          [
           "Alive"
          ],
          [
           "Alive"
          ],
          [
           "Alive"
          ],
          [
           "Alive"
          ],
          [
           "Dead"
          ],
          [
           "Dead"
          ],
          [
           "Alive"
          ],
          [
           "Alive"
          ],
          [
           "Alive"
          ],
          [
           "Alive"
          ],
          [
           "Alive"
          ],
          [
           "Dead"
          ],
          [
           "Alive"
          ],
          [
           "Alive"
          ],
          [
           "Alive"
          ],
          [
           "Alive"
          ],
          [
           "Alive"
          ],
          [
           "Alive"
          ],
          [
           "Dead"
          ],
          [
           "Alive"
          ],
          [
           "Alive"
          ],
          [
           "Alive"
          ],
          [
           "Alive"
          ],
          [
           "Dead"
          ],
          [
           "Alive"
          ],
          [
           "Alive"
          ],
          [
           "Alive"
          ],
          [
           "Alive"
          ],
          [
           "Alive"
          ],
          [
           "Alive"
          ],
          [
           "Dead"
          ],
          [
           "Alive"
          ],
          [
           "Alive"
          ],
          [
           "Dead"
          ],
          [
           "Alive"
          ],
          [
           "Alive"
          ],
          [
           "Alive"
          ],
          [
           "Alive"
          ],
          [
           "Alive"
          ],
          [
           "Alive"
          ],
          [
           "Dead"
          ],
          [
           "Dead"
          ],
          [
           "Alive"
          ],
          [
           "Alive"
          ],
          [
           "Dead"
          ],
          [
           "Alive"
          ],
          [
           "Alive"
          ],
          [
           "Alive"
          ],
          [
           "Alive"
          ],
          [
           "Alive"
          ],
          [
           "Alive"
          ],
          [
           "Alive"
          ],
          [
           "Alive"
          ],
          [
           "Alive"
          ],
          [
           "Alive"
          ],
          [
           "Dead"
          ],
          [
           "Alive"
          ],
          [
           "Alive"
          ],
          [
           "Alive"
          ],
          [
           "Alive"
          ],
          [
           "Alive"
          ],
          [
           "Alive"
          ],
          [
           "Alive"
          ],
          [
           "Dead"
          ],
          [
           "Alive"
          ],
          [
           "Alive"
          ],
          [
           "Alive"
          ],
          [
           "Alive"
          ],
          [
           "Alive"
          ],
          [
           "Alive"
          ],
          [
           "Alive"
          ],
          [
           "Alive"
          ],
          [
           "Alive"
          ],
          [
           "Alive"
          ],
          [
           "Alive"
          ],
          [
           "Alive"
          ],
          [
           "Alive"
          ],
          [
           "Alive"
          ],
          [
           "Alive"
          ],
          [
           "Alive"
          ],
          [
           "Alive"
          ],
          [
           "Alive"
          ],
          [
           "Alive"
          ],
          [
           "Alive"
          ],
          [
           "Dead"
          ],
          [
           "Alive"
          ],
          [
           "Dead"
          ],
          [
           "Alive"
          ],
          [
           "Alive"
          ],
          [
           "Alive"
          ],
          [
           "Alive"
          ],
          [
           "Alive"
          ],
          [
           "Alive"
          ],
          [
           "Alive"
          ],
          [
           "Alive"
          ],
          [
           "Dead"
          ],
          [
           "Dead"
          ],
          [
           "Dead"
          ],
          [
           "Dead"
          ],
          [
           "Alive"
          ],
          [
           "Alive"
          ],
          [
           "Alive"
          ],
          [
           "Alive"
          ],
          [
           "Alive"
          ],
          [
           "Alive"
          ],
          [
           "Alive"
          ],
          [
           "Alive"
          ],
          [
           "Alive"
          ],
          [
           "Alive"
          ],
          [
           "Alive"
          ],
          [
           "Alive"
          ],
          [
           "Alive"
          ],
          [
           "Alive"
          ],
          [
           "Dead"
          ],
          [
           "Alive"
          ],
          [
           "Alive"
          ],
          [
           "Alive"
          ],
          [
           "Alive"
          ],
          [
           "Alive"
          ],
          [
           "Alive"
          ],
          [
           "Alive"
          ],
          [
           "Alive"
          ],
          [
           "Alive"
          ],
          [
           "Alive"
          ],
          [
           "Alive"
          ],
          [
           "Alive"
          ],
          [
           "Alive"
          ],
          [
           "Alive"
          ],
          [
           "Alive"
          ],
          [
           "Alive"
          ],
          [
           "Dead"
          ],
          [
           "Dead"
          ],
          [
           "Alive"
          ],
          [
           "Alive"
          ],
          [
           "Alive"
          ],
          [
           "Alive"
          ],
          [
           "Alive"
          ],
          [
           "Alive"
          ],
          [
           "Alive"
          ],
          [
           "Alive"
          ],
          [
           "Alive"
          ],
          [
           "Alive"
          ],
          [
           "Alive"
          ],
          [
           "Alive"
          ],
          [
           "Alive"
          ],
          [
           "Alive"
          ],
          [
           "Alive"
          ],
          [
           "Alive"
          ],
          [
           "Dead"
          ],
          [
           "Alive"
          ],
          [
           "Dead"
          ],
          [
           "Alive"
          ],
          [
           "Dead"
          ],
          [
           "Alive"
          ],
          [
           "Alive"
          ],
          [
           "Alive"
          ],
          [
           "Alive"
          ],
          [
           "Alive"
          ],
          [
           "Alive"
          ],
          [
           "Alive"
          ],
          [
           "Alive"
          ],
          [
           "Alive"
          ],
          [
           "Alive"
          ],
          [
           "Dead"
          ],
          [
           "Alive"
          ],
          [
           "Alive"
          ],
          [
           "Alive"
          ],
          [
           "Dead"
          ],
          [
           "Alive"
          ],
          [
           "Alive"
          ],
          [
           "Alive"
          ],
          [
           "Alive"
          ],
          [
           "Alive"
          ],
          [
           "Alive"
          ],
          [
           "Alive"
          ],
          [
           "Alive"
          ],
          [
           "Alive"
          ],
          [
           "Alive"
          ],
          [
           "Alive"
          ],
          [
           "Alive"
          ],
          [
           "Alive"
          ],
          [
           "Alive"
          ],
          [
           "Alive"
          ],
          [
           "Dead"
          ],
          [
           "Dead"
          ],
          [
           "Alive"
          ],
          [
           "Alive"
          ],
          [
           "Alive"
          ],
          [
           "Alive"
          ],
          [
           "Alive"
          ],
          [
           "Alive"
          ],
          [
           "Alive"
          ],
          [
           "Dead"
          ],
          [
           "Alive"
          ],
          [
           "Alive"
          ],
          [
           "Alive"
          ],
          [
           "Alive"
          ],
          [
           "Alive"
          ],
          [
           "Alive"
          ],
          [
           "Alive"
          ],
          [
           "Alive"
          ],
          [
           "Alive"
          ],
          [
           "Alive"
          ],
          [
           "Alive"
          ],
          [
           "Alive"
          ],
          [
           "Dead"
          ],
          [
           "Alive"
          ],
          [
           "Alive"
          ],
          [
           "Alive"
          ],
          [
           "Alive"
          ],
          [
           "Dead"
          ],
          [
           "Alive"
          ],
          [
           "Alive"
          ],
          [
           "Alive"
          ],
          [
           "Alive"
          ],
          [
           "Alive"
          ],
          [
           "Alive"
          ],
          [
           "Dead"
          ],
          [
           "Alive"
          ],
          [
           "Alive"
          ],
          [
           "Dead"
          ],
          [
           "Alive"
          ],
          [
           "Alive"
          ],
          [
           "Alive"
          ],
          [
           "Dead"
          ],
          [
           "Alive"
          ],
          [
           "Alive"
          ],
          [
           "Alive"
          ],
          [
           "Alive"
          ],
          [
           "Alive"
          ],
          [
           "Alive"
          ],
          [
           "Dead"
          ],
          [
           "Alive"
          ],
          [
           "Alive"
          ],
          [
           "Alive"
          ],
          [
           "Alive"
          ],
          [
           "Alive"
          ],
          [
           "Alive"
          ],
          [
           "Alive"
          ],
          [
           "Alive"
          ],
          [
           "Alive"
          ],
          [
           "Alive"
          ],
          [
           "Alive"
          ],
          [
           "Alive"
          ],
          [
           "Alive"
          ],
          [
           "Alive"
          ],
          [
           "Alive"
          ],
          [
           "Alive"
          ],
          [
           "Alive"
          ],
          [
           "Alive"
          ],
          [
           "Alive"
          ],
          [
           "Alive"
          ],
          [
           "Alive"
          ],
          [
           "Alive"
          ],
          [
           "Dead"
          ],
          [
           "Alive"
          ],
          [
           "Alive"
          ],
          [
           "Alive"
          ],
          [
           "Alive"
          ],
          [
           "Alive"
          ],
          [
           "Dead"
          ],
          [
           "Alive"
          ],
          [
           "Dead"
          ],
          [
           "Dead"
          ],
          [
           "Alive"
          ],
          [
           "Alive"
          ],
          [
           "Dead"
          ],
          [
           "Dead"
          ],
          [
           "Alive"
          ],
          [
           "Dead"
          ],
          [
           "Alive"
          ],
          [
           "Alive"
          ],
          [
           "Alive"
          ],
          [
           "Alive"
          ],
          [
           "Alive"
          ],
          [
           "Alive"
          ],
          [
           "Alive"
          ],
          [
           "Alive"
          ],
          [
           "Alive"
          ],
          [
           "Alive"
          ],
          [
           "Alive"
          ],
          [
           "Alive"
          ],
          [
           "Dead"
          ],
          [
           "Alive"
          ],
          [
           "Alive"
          ],
          [
           "Dead"
          ],
          [
           "Alive"
          ],
          [
           "Alive"
          ],
          [
           "Alive"
          ],
          [
           "Alive"
          ],
          [
           "Alive"
          ],
          [
           "Alive"
          ],
          [
           "Alive"
          ],
          [
           "Alive"
          ],
          [
           "Alive"
          ],
          [
           "Alive"
          ],
          [
           "Dead"
          ],
          [
           "Alive"
          ],
          [
           "Alive"
          ],
          [
           "Alive"
          ],
          [
           "Alive"
          ],
          [
           "Alive"
          ],
          [
           "Alive"
          ],
          [
           "Alive"
          ],
          [
           "Alive"
          ],
          [
           "Dead"
          ],
          [
           "Alive"
          ],
          [
           "Alive"
          ],
          [
           "Alive"
          ],
          [
           "Dead"
          ],
          [
           "Alive"
          ],
          [
           "Alive"
          ],
          [
           "Alive"
          ],
          [
           "Alive"
          ],
          [
           "Alive"
          ],
          [
           "Alive"
          ],
          [
           "Alive"
          ],
          [
           "Dead"
          ],
          [
           "Alive"
          ],
          [
           "Alive"
          ],
          [
           "Alive"
          ],
          [
           "Alive"
          ],
          [
           "Alive"
          ],
          [
           "Alive"
          ],
          [
           "Alive"
          ],
          [
           "Alive"
          ],
          [
           "Alive"
          ],
          [
           "Alive"
          ],
          [
           "Alive"
          ],
          [
           "Alive"
          ],
          [
           "Dead"
          ],
          [
           "Alive"
          ],
          [
           "Alive"
          ],
          [
           "Alive"
          ],
          [
           "Alive"
          ],
          [
           "Alive"
          ],
          [
           "Alive"
          ],
          [
           "Alive"
          ],
          [
           "Alive"
          ],
          [
           "Alive"
          ],
          [
           "Alive"
          ],
          [
           "Alive"
          ],
          [
           "Dead"
          ],
          [
           "Dead"
          ],
          [
           "Dead"
          ],
          [
           "Alive"
          ],
          [
           "Alive"
          ],
          [
           "Alive"
          ],
          [
           "Alive"
          ],
          [
           "Alive"
          ],
          [
           "Alive"
          ],
          [
           "Alive"
          ],
          [
           "Alive"
          ],
          [
           "Alive"
          ],
          [
           "Alive"
          ],
          [
           "Alive"
          ],
          [
           "Alive"
          ],
          [
           "Dead"
          ],
          [
           "Alive"
          ],
          [
           "Alive"
          ],
          [
           "Alive"
          ],
          [
           "Alive"
          ],
          [
           "Alive"
          ],
          [
           "Alive"
          ],
          [
           "Alive"
          ],
          [
           "Alive"
          ],
          [
           "Alive"
          ],
          [
           "Alive"
          ],
          [
           "Dead"
          ],
          [
           "Dead"
          ],
          [
           "Alive"
          ],
          [
           "Alive"
          ],
          [
           "Dead"
          ],
          [
           "Alive"
          ],
          [
           "Alive"
          ],
          [
           "Dead"
          ],
          [
           "Alive"
          ],
          [
           "Alive"
          ],
          [
           "Alive"
          ],
          [
           "Alive"
          ],
          [
           "Alive"
          ],
          [
           "Dead"
          ],
          [
           "Dead"
          ],
          [
           "Alive"
          ],
          [
           "Alive"
          ],
          [
           "Alive"
          ],
          [
           "Alive"
          ],
          [
           "Alive"
          ],
          [
           "Alive"
          ],
          [
           "Alive"
          ],
          [
           "Alive"
          ],
          [
           "Alive"
          ],
          [
           "Alive"
          ],
          [
           "Alive"
          ],
          [
           "Dead"
          ],
          [
           "Alive"
          ],
          [
           "Alive"
          ],
          [
           "Alive"
          ],
          [
           "Alive"
          ],
          [
           "Alive"
          ],
          [
           "Alive"
          ],
          [
           "Alive"
          ],
          [
           "Alive"
          ],
          [
           "Alive"
          ],
          [
           "Alive"
          ],
          [
           "Alive"
          ],
          [
           "Alive"
          ],
          [
           "Alive"
          ],
          [
           "Alive"
          ],
          [
           "Alive"
          ],
          [
           "Alive"
          ],
          [
           "Alive"
          ],
          [
           "Alive"
          ],
          [
           "Alive"
          ],
          [
           "Dead"
          ],
          [
           "Alive"
          ],
          [
           "Alive"
          ],
          [
           "Alive"
          ],
          [
           "Alive"
          ],
          [
           "Alive"
          ],
          [
           "Alive"
          ],
          [
           "Alive"
          ],
          [
           "Alive"
          ],
          [
           "Alive"
          ],
          [
           "Alive"
          ],
          [
           "Alive"
          ],
          [
           "Dead"
          ],
          [
           "Alive"
          ],
          [
           "Alive"
          ],
          [
           "Alive"
          ],
          [
           "Alive"
          ],
          [
           "Alive"
          ],
          [
           "Alive"
          ],
          [
           "Alive"
          ],
          [
           "Alive"
          ],
          [
           "Alive"
          ],
          [
           "Alive"
          ],
          [
           "Alive"
          ],
          [
           "Alive"
          ],
          [
           "Dead"
          ],
          [
           "Alive"
          ],
          [
           "Alive"
          ],
          [
           "Alive"
          ],
          [
           "Alive"
          ],
          [
           "Alive"
          ],
          [
           "Dead"
          ],
          [
           "Alive"
          ],
          [
           "Dead"
          ],
          [
           "Alive"
          ],
          [
           "Alive"
          ],
          [
           "Alive"
          ],
          [
           "Dead"
          ],
          [
           "Dead"
          ],
          [
           "Alive"
          ],
          [
           "Alive"
          ],
          [
           "Alive"
          ],
          [
           "Alive"
          ],
          [
           "Dead"
          ],
          [
           "Alive"
          ],
          [
           "Alive"
          ],
          [
           "Alive"
          ],
          [
           "Alive"
          ],
          [
           "Alive"
          ],
          [
           "Alive"
          ],
          [
           "Alive"
          ],
          [
           "Alive"
          ],
          [
           "Dead"
          ],
          [
           "Dead"
          ],
          [
           "Alive"
          ],
          [
           "Alive"
          ],
          [
           "Alive"
          ],
          [
           "Alive"
          ],
          [
           "Alive"
          ],
          [
           "Dead"
          ],
          [
           "Alive"
          ],
          [
           "Dead"
          ],
          [
           "Alive"
          ],
          [
           "Alive"
          ],
          [
           "Alive"
          ],
          [
           "Dead"
          ],
          [
           "Alive"
          ],
          [
           "Alive"
          ],
          [
           "Alive"
          ],
          [
           "Dead"
          ],
          [
           "Alive"
          ],
          [
           "Alive"
          ],
          [
           "Alive"
          ],
          [
           "Alive"
          ],
          [
           "Alive"
          ],
          [
           "Dead"
          ],
          [
           "Alive"
          ],
          [
           "Alive"
          ],
          [
           "Alive"
          ],
          [
           "Alive"
          ],
          [
           "Alive"
          ],
          [
           "Alive"
          ],
          [
           "Alive"
          ],
          [
           "Alive"
          ],
          [
           "Alive"
          ],
          [
           "Alive"
          ],
          [
           "Alive"
          ],
          [
           "Alive"
          ],
          [
           "Alive"
          ],
          [
           "Alive"
          ],
          [
           "Alive"
          ],
          [
           "Alive"
          ],
          [
           "Alive"
          ],
          [
           "Alive"
          ],
          [
           "Alive"
          ],
          [
           "Alive"
          ],
          [
           "Alive"
          ],
          [
           "Alive"
          ],
          [
           "Alive"
          ],
          [
           "Dead"
          ],
          [
           "Alive"
          ],
          [
           "Alive"
          ],
          [
           "Alive"
          ],
          [
           "Alive"
          ],
          [
           "Dead"
          ],
          [
           "Alive"
          ],
          [
           "Alive"
          ],
          [
           "Alive"
          ],
          [
           "Alive"
          ],
          [
           "Dead"
          ],
          [
           "Alive"
          ],
          [
           "Alive"
          ],
          [
           "Alive"
          ],
          [
           "Alive"
          ],
          [
           "Alive"
          ],
          [
           "Alive"
          ],
          [
           "Alive"
          ],
          [
           "Alive"
          ],
          [
           "Alive"
          ],
          [
           "Alive"
          ],
          [
           "Alive"
          ],
          [
           "Alive"
          ],
          [
           "Alive"
          ],
          [
           "Alive"
          ],
          [
           "Alive"
          ],
          [
           "Alive"
          ],
          [
           "Alive"
          ],
          [
           "Alive"
          ],
          [
           "Alive"
          ],
          [
           "Alive"
          ],
          [
           "Alive"
          ],
          [
           "Alive"
          ],
          [
           "Alive"
          ],
          [
           "Alive"
          ],
          [
           "Alive"
          ],
          [
           "Alive"
          ],
          [
           "Alive"
          ],
          [
           "Alive"
          ],
          [
           "Dead"
          ],
          [
           "Alive"
          ],
          [
           "Dead"
          ],
          [
           "Alive"
          ],
          [
           "Alive"
          ],
          [
           "Alive"
          ],
          [
           "Alive"
          ],
          [
           "Alive"
          ],
          [
           "Alive"
          ],
          [
           "Alive"
          ],
          [
           "Alive"
          ],
          [
           "Alive"
          ],
          [
           "Alive"
          ],
          [
           "Alive"
          ],
          [
           "Alive"
          ],
          [
           "Alive"
          ],
          [
           "Alive"
          ],
          [
           "Alive"
          ],
          [
           "Alive"
          ],
          [
           "Dead"
          ],
          [
           "Alive"
          ],
          [
           "Alive"
          ],
          [
           "Alive"
          ],
          [
           "Alive"
          ],
          [
           "Alive"
          ],
          [
           "Alive"
          ],
          [
           "Alive"
          ],
          [
           "Alive"
          ],
          [
           "Alive"
          ],
          [
           "Alive"
          ],
          [
           "Alive"
          ],
          [
           "Dead"
          ],
          [
           "Alive"
          ],
          [
           "Alive"
          ],
          [
           "Alive"
          ],
          [
           "Dead"
          ],
          [
           "Alive"
          ],
          [
           "Alive"
          ],
          [
           "Alive"
          ],
          [
           "Alive"
          ],
          [
           "Alive"
          ],
          [
           "Alive"
          ],
          [
           "Dead"
          ],
          [
           "Alive"
          ],
          [
           "Dead"
          ],
          [
           "Alive"
          ],
          [
           "Alive"
          ],
          [
           "Alive"
          ],
          [
           "Alive"
          ],
          [
           "Dead"
          ],
          [
           "Alive"
          ],
          [
           "Alive"
          ],
          [
           "Alive"
          ],
          [
           "Alive"
          ],
          [
           "Alive"
          ],
          [
           "Dead"
          ],
          [
           "Alive"
          ],
          [
           "Alive"
          ],
          [
           "Alive"
          ],
          [
           "Alive"
          ],
          [
           "Alive"
          ],
          [
           "Alive"
          ],
          [
           "Dead"
          ],
          [
           "Alive"
          ],
          [
           "Dead"
          ],
          [
           "Alive"
          ],
          [
           "Alive"
          ],
          [
           "Alive"
          ],
          [
           "Alive"
          ],
          [
           "Alive"
          ],
          [
           "Dead"
          ],
          [
           "Alive"
          ],
          [
           "Alive"
          ],
          [
           "Alive"
          ],
          [
           "Alive"
          ],
          [
           "Alive"
          ],
          [
           "Alive"
          ],
          [
           "Alive"
          ],
          [
           "Alive"
          ],
          [
           "Alive"
          ],
          [
           "Alive"
          ],
          [
           "Alive"
          ],
          [
           "Alive"
          ],
          [
           "Alive"
          ],
          [
           "Dead"
          ],
          [
           "Alive"
          ],
          [
           "Alive"
          ],
          [
           "Dead"
          ],
          [
           "Alive"
          ],
          [
           "Alive"
          ],
          [
           "Alive"
          ],
          [
           "Alive"
          ],
          [
           "Alive"
          ],
          [
           "Alive"
          ],
          [
           "Alive"
          ],
          [
           "Alive"
          ],
          [
           "Alive"
          ],
          [
           "Alive"
          ],
          [
           "Alive"
          ],
          [
           "Alive"
          ],
          [
           "Alive"
          ],
          [
           "Alive"
          ],
          [
           "Dead"
          ],
          [
           "Alive"
          ],
          [
           "Alive"
          ],
          [
           "Alive"
          ],
          [
           "Alive"
          ],
          [
           "Alive"
          ],
          [
           "Alive"
          ],
          [
           "Dead"
          ],
          [
           "Dead"
          ],
          [
           "Alive"
          ],
          [
           "Alive"
          ],
          [
           "Alive"
          ],
          [
           "Alive"
          ],
          [
           "Alive"
          ],
          [
           "Dead"
          ],
          [
           "Alive"
          ],
          [
           "Alive"
          ],
          [
           "Alive"
          ],
          [
           "Alive"
          ],
          [
           "Alive"
          ],
          [
           "Alive"
          ],
          [
           "Alive"
          ],
          [
           "Alive"
          ],
          [
           "Alive"
          ],
          [
           "Alive"
          ],
          [
           "Alive"
          ],
          [
           "Alive"
          ],
          [
           "Dead"
          ],
          [
           "Alive"
          ],
          [
           "Alive"
          ],
          [
           "Alive"
          ],
          [
           "Alive"
          ],
          [
           "Dead"
          ],
          [
           "Alive"
          ],
          [
           "Alive"
          ],
          [
           "Alive"
          ],
          [
           "Alive"
          ],
          [
           "Alive"
          ],
          [
           "Alive"
          ],
          [
           "Alive"
          ],
          [
           "Alive"
          ],
          [
           "Alive"
          ],
          [
           "Dead"
          ],
          [
           "Alive"
          ],
          [
           "Alive"
          ],
          [
           "Alive"
          ],
          [
           "Alive"
          ],
          [
           "Alive"
          ],
          [
           "Alive"
          ],
          [
           "Alive"
          ],
          [
           "Alive"
          ],
          [
           "Alive"
          ],
          [
           "Alive"
          ],
          [
           "Dead"
          ],
          [
           "Alive"
          ],
          [
           "Alive"
          ],
          [
           "Alive"
          ],
          [
           "Dead"
          ],
          [
           "Alive"
          ],
          [
           "Dead"
          ],
          [
           "Dead"
          ],
          [
           "Alive"
          ],
          [
           "Alive"
          ],
          [
           "Alive"
          ],
          [
           "Dead"
          ],
          [
           "Dead"
          ],
          [
           "Dead"
          ],
          [
           "Alive"
          ],
          [
           "Alive"
          ],
          [
           "Alive"
          ],
          [
           "Alive"
          ],
          [
           "Alive"
          ],
          [
           "Alive"
          ],
          [
           "Alive"
          ],
          [
           "Alive"
          ],
          [
           "Alive"
          ],
          [
           "Dead"
          ],
          [
           "Alive"
          ],
          [
           "Alive"
          ],
          [
           "Alive"
          ],
          [
           "Alive"
          ],
          [
           "Alive"
          ],
          [
           "Dead"
          ],
          [
           "Alive"
          ],
          [
           "Alive"
          ],
          [
           "Dead"
          ],
          [
           "Alive"
          ],
          [
           "Alive"
          ],
          [
           "Alive"
          ],
          [
           "Alive"
          ],
          [
           "Alive"
          ],
          [
           "Alive"
          ],
          [
           "Dead"
          ],
          [
           "Alive"
          ],
          [
           "Alive"
          ],
          [
           "Alive"
          ],
          [
           "Alive"
          ],
          [
           "Alive"
          ],
          [
           "Alive"
          ],
          [
           "Alive"
          ],
          [
           "Alive"
          ],
          [
           "Alive"
          ],
          [
           "Alive"
          ],
          [
           "Alive"
          ],
          [
           "Alive"
          ],
          [
           "Alive"
          ],
          [
           "Dead"
          ],
          [
           "Alive"
          ],
          [
           "Alive"
          ],
          [
           "Alive"
          ],
          [
           "Alive"
          ],
          [
           "Alive"
          ],
          [
           "Alive"
          ],
          [
           "Alive"
          ],
          [
           "Alive"
          ],
          [
           "Alive"
          ],
          [
           "Alive"
          ],
          [
           "Alive"
          ],
          [
           "Alive"
          ],
          [
           "Dead"
          ],
          [
           "Alive"
          ],
          [
           "Alive"
          ],
          [
           "Alive"
          ],
          [
           "Alive"
          ],
          [
           "Dead"
          ],
          [
           "Alive"
          ],
          [
           "Alive"
          ],
          [
           "Alive"
          ],
          [
           "Alive"
          ],
          [
           "Alive"
          ],
          [
           "Alive"
          ],
          [
           "Alive"
          ],
          [
           "Alive"
          ],
          [
           "Alive"
          ],
          [
           "Alive"
          ],
          [
           "Alive"
          ],
          [
           "Alive"
          ],
          [
           "Alive"
          ],
          [
           "Alive"
          ],
          [
           "Alive"
          ],
          [
           "Alive"
          ],
          [
           "Alive"
          ],
          [
           "Alive"
          ],
          [
           "Alive"
          ],
          [
           "Alive"
          ],
          [
           "Alive"
          ],
          [
           "Alive"
          ],
          [
           "Dead"
          ],
          [
           "Dead"
          ],
          [
           "Alive"
          ],
          [
           "Alive"
          ],
          [
           "Alive"
          ],
          [
           "Alive"
          ],
          [
           "Alive"
          ],
          [
           "Alive"
          ],
          [
           "Alive"
          ],
          [
           "Alive"
          ],
          [
           "Dead"
          ],
          [
           "Dead"
          ],
          [
           "Alive"
          ],
          [
           "Alive"
          ],
          [
           "Alive"
          ],
          [
           "Dead"
          ],
          [
           "Alive"
          ],
          [
           "Alive"
          ],
          [
           "Alive"
          ],
          [
           "Alive"
          ],
          [
           "Alive"
          ],
          [
           "Dead"
          ],
          [
           "Alive"
          ],
          [
           "Alive"
          ],
          [
           "Alive"
          ],
          [
           "Alive"
          ],
          [
           "Dead"
          ],
          [
           "Alive"
          ],
          [
           "Alive"
          ],
          [
           "Alive"
          ],
          [
           "Dead"
          ],
          [
           "Alive"
          ],
          [
           "Alive"
          ],
          [
           "Alive"
          ],
          [
           "Dead"
          ],
          [
           "Alive"
          ],
          [
           "Dead"
          ],
          [
           "Alive"
          ],
          [
           "Alive"
          ],
          [
           "Alive"
          ],
          [
           "Alive"
          ],
          [
           "Alive"
          ],
          [
           "Alive"
          ],
          [
           "Alive"
          ],
          [
           "Alive"
          ],
          [
           "Dead"
          ],
          [
           "Alive"
          ],
          [
           "Dead"
          ],
          [
           "Alive"
          ],
          [
           "Alive"
          ],
          [
           "Alive"
          ],
          [
           "Dead"
          ],
          [
           "Dead"
          ],
          [
           "Alive"
          ],
          [
           "Alive"
          ],
          [
           "Alive"
          ],
          [
           "Alive"
          ],
          [
           "Alive"
          ],
          [
           "Alive"
          ],
          [
           "Alive"
          ],
          [
           "Alive"
          ],
          [
           "Dead"
          ],
          [
           "Alive"
          ],
          [
           "Alive"
          ],
          [
           "Alive"
          ],
          [
           "Alive"
          ],
          [
           "Alive"
          ],
          [
           "Alive"
          ],
          [
           "Dead"
          ],
          [
           "Alive"
          ],
          [
           "Dead"
          ],
          [
           "Alive"
          ],
          [
           "Alive"
          ],
          [
           "Alive"
          ],
          [
           "Alive"
          ],
          [
           "Alive"
          ],
          [
           "Alive"
          ],
          [
           "Alive"
          ],
          [
           "Dead"
          ],
          [
           "Alive"
          ],
          [
           "Alive"
          ],
          [
           "Alive"
          ],
          [
           "Alive"
          ],
          [
           "Alive"
          ],
          [
           "Alive"
          ],
          [
           "Alive"
          ],
          [
           "Alive"
          ],
          [
           "Alive"
          ],
          [
           "Alive"
          ],
          [
           "Alive"
          ],
          [
           "Alive"
          ],
          [
           "Alive"
          ],
          [
           "Alive"
          ],
          [
           "Alive"
          ],
          [
           "Alive"
          ],
          [
           "Alive"
          ],
          [
           "Alive"
          ],
          [
           "Alive"
          ],
          [
           "Alive"
          ],
          [
           "Alive"
          ],
          [
           "Alive"
          ],
          [
           "Alive"
          ],
          [
           "Alive"
          ],
          [
           "Alive"
          ],
          [
           "Alive"
          ],
          [
           "Alive"
          ],
          [
           "Alive"
          ],
          [
           "Dead"
          ],
          [
           "Alive"
          ],
          [
           "Dead"
          ],
          [
           "Alive"
          ],
          [
           "Alive"
          ],
          [
           "Dead"
          ],
          [
           "Alive"
          ],
          [
           "Dead"
          ],
          [
           "Alive"
          ],
          [
           "Dead"
          ],
          [
           "Alive"
          ],
          [
           "Alive"
          ],
          [
           "Dead"
          ],
          [
           "Dead"
          ],
          [
           "Alive"
          ],
          [
           "Alive"
          ],
          [
           "Alive"
          ],
          [
           "Alive"
          ],
          [
           "Alive"
          ],
          [
           "Alive"
          ],
          [
           "Alive"
          ],
          [
           "Alive"
          ],
          [
           "Alive"
          ],
          [
           "Alive"
          ],
          [
           "Alive"
          ],
          [
           "Alive"
          ],
          [
           "Dead"
          ],
          [
           "Alive"
          ],
          [
           "Alive"
          ],
          [
           "Alive"
          ],
          [
           "Dead"
          ],
          [
           "Alive"
          ],
          [
           "Alive"
          ],
          [
           "Alive"
          ],
          [
           "Alive"
          ],
          [
           "Alive"
          ],
          [
           "Alive"
          ],
          [
           "Dead"
          ],
          [
           "Alive"
          ],
          [
           "Dead"
          ],
          [
           "Alive"
          ],
          [
           "Alive"
          ],
          [
           "Alive"
          ],
          [
           "Alive"
          ],
          [
           "Alive"
          ],
          [
           "Alive"
          ],
          [
           "Alive"
          ],
          [
           "Alive"
          ],
          [
           "Alive"
          ],
          [
           "Alive"
          ],
          [
           "Alive"
          ],
          [
           "Alive"
          ],
          [
           "Alive"
          ],
          [
           "Alive"
          ],
          [
           "Alive"
          ],
          [
           "Alive"
          ],
          [
           "Alive"
          ],
          [
           "Alive"
          ],
          [
           "Alive"
          ],
          [
           "Alive"
          ],
          [
           "Dead"
          ],
          [
           "Alive"
          ],
          [
           "Alive"
          ],
          [
           "Alive"
          ],
          [
           "Alive"
          ],
          [
           "Dead"
          ],
          [
           "Alive"
          ],
          [
           "Alive"
          ],
          [
           "Alive"
          ],
          [
           "Alive"
          ],
          [
           "Alive"
          ],
          [
           "Dead"
          ],
          [
           "Dead"
          ],
          [
           "Dead"
          ],
          [
           "Alive"
          ],
          [
           "Dead"
          ],
          [
           "Alive"
          ],
          [
           "Alive"
          ],
          [
           "Alive"
          ],
          [
           "Alive"
          ],
          [
           "Alive"
          ],
          [
           "Alive"
          ],
          [
           "Alive"
          ],
          [
           "Dead"
          ],
          [
           "Dead"
          ],
          [
           "Alive"
          ],
          [
           "Alive"
          ],
          [
           "Alive"
          ],
          [
           "Alive"
          ],
          [
           "Alive"
          ],
          [
           "Alive"
          ],
          [
           "Alive"
          ],
          [
           "Alive"
          ],
          [
           "Alive"
          ],
          [
           "Alive"
          ],
          [
           "Dead"
          ],
          [
           "Alive"
          ],
          [
           "Alive"
          ],
          [
           "Alive"
          ],
          [
           "Alive"
          ],
          [
           "Alive"
          ],
          [
           "Alive"
          ],
          [
           "Alive"
          ],
          [
           "Alive"
          ],
          [
           "Alive"
          ],
          [
           "Alive"
          ],
          [
           "Alive"
          ],
          [
           "Alive"
          ],
          [
           "Alive"
          ],
          [
           "Alive"
          ],
          [
           "Alive"
          ],
          [
           "Alive"
          ],
          [
           "Alive"
          ],
          [
           "Alive"
          ],
          [
           "Alive"
          ],
          [
           "Alive"
          ],
          [
           "Dead"
          ],
          [
           "Alive"
          ],
          [
           "Alive"
          ],
          [
           "Alive"
          ],
          [
           "Dead"
          ],
          [
           "Alive"
          ],
          [
           "Alive"
          ],
          [
           "Alive"
          ],
          [
           "Alive"
          ],
          [
           "Alive"
          ],
          [
           "Dead"
          ],
          [
           "Alive"
          ],
          [
           "Alive"
          ],
          [
           "Alive"
          ],
          [
           "Alive"
          ],
          [
           "Alive"
          ],
          [
           "Alive"
          ],
          [
           "Alive"
          ],
          [
           "Alive"
          ],
          [
           "Alive"
          ],
          [
           "Alive"
          ],
          [
           "Alive"
          ],
          [
           "Alive"
          ],
          [
           "Alive"
          ],
          [
           "Alive"
          ],
          [
           "Alive"
          ],
          [
           "Dead"
          ],
          [
           "Alive"
          ],
          [
           "Alive"
          ],
          [
           "Alive"
          ],
          [
           "Alive"
          ],
          [
           "Alive"
          ],
          [
           "Alive"
          ],
          [
           "Dead"
          ],
          [
           "Alive"
          ],
          [
           "Alive"
          ],
          [
           "Alive"
          ],
          [
           "Alive"
          ],
          [
           "Dead"
          ],
          [
           "Alive"
          ],
          [
           "Alive"
          ],
          [
           "Alive"
          ],
          [
           "Alive"
          ],
          [
           "Alive"
          ],
          [
           "Dead"
          ],
          [
           "Alive"
          ],
          [
           "Alive"
          ],
          [
           "Alive"
          ],
          [
           "Alive"
          ],
          [
           "Alive"
          ],
          [
           "Alive"
          ],
          [
           "Alive"
          ],
          [
           "Alive"
          ],
          [
           "Dead"
          ],
          [
           "Alive"
          ],
          [
           "Alive"
          ],
          [
           "Alive"
          ],
          [
           "Alive"
          ],
          [
           "Dead"
          ],
          [
           "Alive"
          ],
          [
           "Alive"
          ],
          [
           "Alive"
          ],
          [
           "Alive"
          ],
          [
           "Alive"
          ],
          [
           "Alive"
          ],
          [
           "Alive"
          ],
          [
           "Alive"
          ],
          [
           "Alive"
          ],
          [
           "Alive"
          ],
          [
           "Alive"
          ],
          [
           "Alive"
          ],
          [
           "Alive"
          ],
          [
           "Dead"
          ],
          [
           "Alive"
          ],
          [
           "Alive"
          ],
          [
           "Alive"
          ],
          [
           "Alive"
          ],
          [
           "Alive"
          ],
          [
           "Alive"
          ],
          [
           "Alive"
          ],
          [
           "Alive"
          ],
          [
           "Alive"
          ],
          [
           "Alive"
          ],
          [
           "Alive"
          ],
          [
           "Alive"
          ],
          [
           "Alive"
          ],
          [
           "Alive"
          ],
          [
           "Alive"
          ],
          [
           "Alive"
          ],
          [
           "Alive"
          ],
          [
           "Alive"
          ],
          [
           "Alive"
          ],
          [
           "Alive"
          ],
          [
           "Alive"
          ],
          [
           "Alive"
          ],
          [
           "Alive"
          ],
          [
           "Alive"
          ],
          [
           "Alive"
          ],
          [
           "Alive"
          ],
          [
           "Dead"
          ],
          [
           "Alive"
          ],
          [
           "Alive"
          ],
          [
           "Alive"
          ],
          [
           "Alive"
          ],
          [
           "Alive"
          ],
          [
           "Dead"
          ],
          [
           "Alive"
          ],
          [
           "Alive"
          ],
          [
           "Alive"
          ],
          [
           "Alive"
          ],
          [
           "Alive"
          ],
          [
           "Alive"
          ],
          [
           "Alive"
          ],
          [
           "Alive"
          ],
          [
           "Alive"
          ],
          [
           "Alive"
          ],
          [
           "Alive"
          ],
          [
           "Alive"
          ],
          [
           "Alive"
          ],
          [
           "Dead"
          ],
          [
           "Alive"
          ],
          [
           "Alive"
          ],
          [
           "Dead"
          ],
          [
           "Alive"
          ],
          [
           "Alive"
          ],
          [
           "Alive"
          ],
          [
           "Alive"
          ],
          [
           "Alive"
          ],
          [
           "Alive"
          ],
          [
           "Alive"
          ],
          [
           "Alive"
          ],
          [
           "Alive"
          ],
          [
           "Alive"
          ],
          [
           "Alive"
          ],
          [
           "Alive"
          ],
          [
           "Alive"
          ],
          [
           "Alive"
          ],
          [
           "Alive"
          ],
          [
           "Alive"
          ],
          [
           "Dead"
          ],
          [
           "Alive"
          ],
          [
           "Alive"
          ],
          [
           "Dead"
          ],
          [
           "Alive"
          ],
          [
           "Alive"
          ],
          [
           "Alive"
          ],
          [
           "Dead"
          ],
          [
           "Alive"
          ],
          [
           "Alive"
          ],
          [
           "Dead"
          ],
          [
           "Alive"
          ],
          [
           "Alive"
          ],
          [
           "Alive"
          ],
          [
           "Alive"
          ],
          [
           "Alive"
          ],
          [
           "Alive"
          ],
          [
           "Alive"
          ],
          [
           "Alive"
          ],
          [
           "Alive"
          ],
          [
           "Alive"
          ],
          [
           "Alive"
          ],
          [
           "Alive"
          ],
          [
           "Alive"
          ],
          [
           "Alive"
          ],
          [
           "Alive"
          ],
          [
           "Dead"
          ],
          [
           "Alive"
          ],
          [
           "Alive"
          ],
          [
           "Alive"
          ],
          [
           "Alive"
          ],
          [
           "Dead"
          ],
          [
           "Alive"
          ],
          [
           "Alive"
          ],
          [
           "Alive"
          ],
          [
           "Alive"
          ],
          [
           "Dead"
          ],
          [
           "Alive"
          ],
          [
           "Dead"
          ],
          [
           "Alive"
          ],
          [
           "Alive"
          ],
          [
           "Alive"
          ],
          [
           "Alive"
          ],
          [
           "Alive"
          ],
          [
           "Dead"
          ],
          [
           "Dead"
          ],
          [
           "Alive"
          ],
          [
           "Alive"
          ],
          [
           "Alive"
          ],
          [
           "Alive"
          ],
          [
           "Alive"
          ],
          [
           "Alive"
          ],
          [
           "Alive"
          ],
          [
           "Alive"
          ],
          [
           "Alive"
          ],
          [
           "Alive"
          ],
          [
           "Dead"
          ],
          [
           "Alive"
          ],
          [
           "Alive"
          ],
          [
           "Alive"
          ],
          [
           "Alive"
          ],
          [
           "Dead"
          ],
          [
           "Dead"
          ],
          [
           "Alive"
          ],
          [
           "Alive"
          ],
          [
           "Alive"
          ],
          [
           "Alive"
          ],
          [
           "Alive"
          ],
          [
           "Alive"
          ],
          [
           "Alive"
          ],
          [
           "Alive"
          ],
          [
           "Alive"
          ],
          [
           "Alive"
          ],
          [
           "Alive"
          ],
          [
           "Alive"
          ],
          [
           "Alive"
          ],
          [
           "Dead"
          ],
          [
           "Alive"
          ],
          [
           "Alive"
          ],
          [
           "Alive"
          ],
          [
           "Dead"
          ],
          [
           "Alive"
          ],
          [
           "Alive"
          ],
          [
           "Dead"
          ],
          [
           "Alive"
          ],
          [
           "Alive"
          ],
          [
           "Alive"
          ],
          [
           "Alive"
          ],
          [
           "Alive"
          ],
          [
           "Alive"
          ],
          [
           "Alive"
          ],
          [
           "Alive"
          ],
          [
           "Dead"
          ],
          [
           "Alive"
          ],
          [
           "Dead"
          ],
          [
           "Alive"
          ],
          [
           "Alive"
          ],
          [
           "Alive"
          ],
          [
           "Alive"
          ],
          [
           "Alive"
          ],
          [
           "Alive"
          ],
          [
           "Alive"
          ],
          [
           "Dead"
          ],
          [
           "Alive"
          ],
          [
           "Alive"
          ],
          [
           "Dead"
          ],
          [
           "Alive"
          ],
          [
           "Alive"
          ],
          [
           "Alive"
          ],
          [
           "Alive"
          ],
          [
           "Alive"
          ],
          [
           "Dead"
          ],
          [
           "Alive"
          ],
          [
           "Alive"
          ],
          [
           "Alive"
          ],
          [
           "Alive"
          ],
          [
           "Alive"
          ],
          [
           "Alive"
          ],
          [
           "Alive"
          ],
          [
           "Alive"
          ],
          [
           "Alive"
          ],
          [
           "Alive"
          ],
          [
           "Alive"
          ],
          [
           "Alive"
          ],
          [
           "Alive"
          ],
          [
           "Alive"
          ],
          [
           "Alive"
          ],
          [
           "Alive"
          ],
          [
           "Dead"
          ],
          [
           "Alive"
          ],
          [
           "Dead"
          ],
          [
           "Alive"
          ],
          [
           "Dead"
          ],
          [
           "Alive"
          ],
          [
           "Alive"
          ],
          [
           "Alive"
          ],
          [
           "Alive"
          ],
          [
           "Alive"
          ],
          [
           "Alive"
          ],
          [
           "Alive"
          ],
          [
           "Alive"
          ],
          [
           "Dead"
          ],
          [
           "Alive"
          ],
          [
           "Alive"
          ],
          [
           "Alive"
          ],
          [
           "Alive"
          ],
          [
           "Alive"
          ],
          [
           "Dead"
          ],
          [
           "Alive"
          ],
          [
           "Alive"
          ],
          [
           "Dead"
          ],
          [
           "Alive"
          ],
          [
           "Alive"
          ],
          [
           "Alive"
          ],
          [
           "Alive"
          ],
          [
           "Alive"
          ],
          [
           "Alive"
          ],
          [
           "Alive"
          ],
          [
           "Alive"
          ],
          [
           "Dead"
          ],
          [
           "Alive"
          ],
          [
           "Alive"
          ],
          [
           "Alive"
          ],
          [
           "Alive"
          ],
          [
           "Alive"
          ],
          [
           "Alive"
          ],
          [
           "Alive"
          ],
          [
           "Dead"
          ],
          [
           "Alive"
          ],
          [
           "Alive"
          ],
          [
           "Alive"
          ],
          [
           "Alive"
          ],
          [
           "Alive"
          ],
          [
           "Alive"
          ],
          [
           "Alive"
          ],
          [
           "Alive"
          ],
          [
           "Dead"
          ],
          [
           "Alive"
          ],
          [
           "Alive"
          ],
          [
           "Alive"
          ],
          [
           "Alive"
          ],
          [
           "Alive"
          ],
          [
           "Alive"
          ],
          [
           "Alive"
          ],
          [
           "Dead"
          ],
          [
           "Alive"
          ],
          [
           "Alive"
          ],
          [
           "Alive"
          ],
          [
           "Alive"
          ],
          [
           "Alive"
          ],
          [
           "Alive"
          ],
          [
           "Alive"
          ],
          [
           "Alive"
          ],
          [
           "Alive"
          ],
          [
           "Alive"
          ],
          [
           "Alive"
          ],
          [
           "Alive"
          ],
          [
           "Alive"
          ],
          [
           "Alive"
          ],
          [
           "Alive"
          ],
          [
           "Alive"
          ],
          [
           "Alive"
          ],
          [
           "Dead"
          ],
          [
           "Alive"
          ],
          [
           "Alive"
          ],
          [
           "Alive"
          ],
          [
           "Alive"
          ],
          [
           "Alive"
          ],
          [
           "Alive"
          ],
          [
           "Alive"
          ],
          [
           "Alive"
          ],
          [
           "Dead"
          ],
          [
           "Alive"
          ],
          [
           "Alive"
          ],
          [
           "Dead"
          ],
          [
           "Alive"
          ],
          [
           "Dead"
          ],
          [
           "Alive"
          ],
          [
           "Alive"
          ],
          [
           "Alive"
          ],
          [
           "Alive"
          ],
          [
           "Alive"
          ],
          [
           "Dead"
          ],
          [
           "Alive"
          ],
          [
           "Dead"
          ],
          [
           "Dead"
          ],
          [
           "Alive"
          ],
          [
           "Dead"
          ],
          [
           "Alive"
          ],
          [
           "Alive"
          ],
          [
           "Alive"
          ],
          [
           "Alive"
          ],
          [
           "Dead"
          ],
          [
           "Alive"
          ],
          [
           "Alive"
          ],
          [
           "Alive"
          ],
          [
           "Alive"
          ],
          [
           "Alive"
          ],
          [
           "Alive"
          ],
          [
           "Dead"
          ],
          [
           "Alive"
          ],
          [
           "Alive"
          ],
          [
           "Alive"
          ],
          [
           "Alive"
          ],
          [
           "Alive"
          ],
          [
           "Alive"
          ],
          [
           "Dead"
          ],
          [
           "Dead"
          ],
          [
           "Alive"
          ],
          [
           "Alive"
          ],
          [
           "Dead"
          ],
          [
           "Alive"
          ],
          [
           "Alive"
          ],
          [
           "Alive"
          ],
          [
           "Alive"
          ],
          [
           "Dead"
          ],
          [
           "Alive"
          ],
          [
           "Alive"
          ],
          [
           "Alive"
          ],
          [
           "Alive"
          ],
          [
           "Alive"
          ],
          [
           "Alive"
          ],
          [
           "Alive"
          ],
          [
           "Alive"
          ],
          [
           "Alive"
          ],
          [
           "Alive"
          ],
          [
           "Alive"
          ],
          [
           "Dead"
          ],
          [
           "Alive"
          ],
          [
           "Alive"
          ],
          [
           "Dead"
          ],
          [
           "Alive"
          ],
          [
           "Alive"
          ],
          [
           "Alive"
          ],
          [
           "Alive"
          ],
          [
           "Alive"
          ],
          [
           "Alive"
          ],
          [
           "Alive"
          ],
          [
           "Alive"
          ],
          [
           "Alive"
          ],
          [
           "Alive"
          ],
          [
           "Alive"
          ],
          [
           "Alive"
          ],
          [
           "Alive"
          ],
          [
           "Alive"
          ],
          [
           "Alive"
          ],
          [
           "Alive"
          ],
          [
           "Alive"
          ],
          [
           "Alive"
          ],
          [
           "Alive"
          ],
          [
           "Alive"
          ],
          [
           "Alive"
          ],
          [
           "Alive"
          ],
          [
           "Dead"
          ],
          [
           "Alive"
          ],
          [
           "Alive"
          ],
          [
           "Dead"
          ],
          [
           "Alive"
          ],
          [
           "Alive"
          ],
          [
           "Alive"
          ],
          [
           "Dead"
          ],
          [
           "Alive"
          ],
          [
           "Alive"
          ],
          [
           "Alive"
          ],
          [
           "Alive"
          ],
          [
           "Alive"
          ],
          [
           "Alive"
          ],
          [
           "Alive"
          ],
          [
           "Alive"
          ],
          [
           "Alive"
          ],
          [
           "Alive"
          ],
          [
           "Alive"
          ],
          [
           "Alive"
          ],
          [
           "Alive"
          ],
          [
           "Alive"
          ],
          [
           "Alive"
          ],
          [
           "Alive"
          ],
          [
           "Alive"
          ],
          [
           "Alive"
          ],
          [
           "Alive"
          ],
          [
           "Alive"
          ],
          [
           "Dead"
          ],
          [
           "Dead"
          ],
          [
           "Alive"
          ],
          [
           "Alive"
          ],
          [
           "Alive"
          ],
          [
           "Dead"
          ],
          [
           "Alive"
          ],
          [
           "Alive"
          ],
          [
           "Dead"
          ],
          [
           "Alive"
          ],
          [
           "Dead"
          ],
          [
           "Alive"
          ],
          [
           "Alive"
          ],
          [
           "Dead"
          ],
          [
           "Alive"
          ],
          [
           "Alive"
          ],
          [
           "Dead"
          ],
          [
           "Alive"
          ],
          [
           "Alive"
          ],
          [
           "Alive"
          ],
          [
           "Alive"
          ],
          [
           "Alive"
          ],
          [
           "Alive"
          ],
          [
           "Alive"
          ],
          [
           "Alive"
          ],
          [
           "Dead"
          ],
          [
           "Alive"
          ],
          [
           "Alive"
          ],
          [
           "Alive"
          ],
          [
           "Alive"
          ],
          [
           "Dead"
          ],
          [
           "Alive"
          ],
          [
           "Alive"
          ],
          [
           "Alive"
          ],
          [
           "Alive"
          ],
          [
           "Alive"
          ],
          [
           "Alive"
          ],
          [
           "Alive"
          ],
          [
           "Dead"
          ],
          [
           "Dead"
          ],
          [
           "Alive"
          ],
          [
           "Alive"
          ],
          [
           "Dead"
          ],
          [
           "Alive"
          ],
          [
           "Dead"
          ],
          [
           "Dead"
          ],
          [
           "Alive"
          ],
          [
           "Dead"
          ],
          [
           "Alive"
          ],
          [
           "Alive"
          ],
          [
           "Dead"
          ],
          [
           "Alive"
          ],
          [
           "Alive"
          ],
          [
           "Alive"
          ],
          [
           "Dead"
          ],
          [
           "Alive"
          ],
          [
           "Alive"
          ],
          [
           "Dead"
          ],
          [
           "Alive"
          ],
          [
           "Alive"
          ],
          [
           "Alive"
          ],
          [
           "Alive"
          ],
          [
           "Dead"
          ],
          [
           "Alive"
          ],
          [
           "Alive"
          ],
          [
           "Alive"
          ],
          [
           "Alive"
          ],
          [
           "Alive"
          ],
          [
           "Dead"
          ],
          [
           "Alive"
          ],
          [
           "Alive"
          ],
          [
           "Alive"
          ],
          [
           "Alive"
          ],
          [
           "Alive"
          ],
          [
           "Alive"
          ],
          [
           "Alive"
          ],
          [
           "Alive"
          ],
          [
           "Alive"
          ],
          [
           "Alive"
          ],
          [
           "Alive"
          ],
          [
           "Alive"
          ],
          [
           "Alive"
          ],
          [
           "Alive"
          ],
          [
           "Dead"
          ],
          [
           "Alive"
          ],
          [
           "Alive"
          ],
          [
           "Alive"
          ],
          [
           "Alive"
          ],
          [
           "Alive"
          ],
          [
           "Alive"
          ],
          [
           "Alive"
          ],
          [
           "Alive"
          ],
          [
           "Alive"
          ],
          [
           "Alive"
          ],
          [
           "Alive"
          ],
          [
           "Dead"
          ],
          [
           "Alive"
          ],
          [
           "Alive"
          ],
          [
           "Alive"
          ],
          [
           "Alive"
          ],
          [
           "Alive"
          ],
          [
           "Dead"
          ],
          [
           "Alive"
          ],
          [
           "Alive"
          ],
          [
           "Alive"
          ],
          [
           "Alive"
          ],
          [
           "Alive"
          ],
          [
           "Alive"
          ],
          [
           "Alive"
          ],
          [
           "Alive"
          ],
          [
           "Alive"
          ],
          [
           "Alive"
          ],
          [
           "Alive"
          ],
          [
           "Dead"
          ],
          [
           "Alive"
          ],
          [
           "Dead"
          ],
          [
           "Alive"
          ],
          [
           "Alive"
          ],
          [
           "Alive"
          ],
          [
           "Alive"
          ],
          [
           "Alive"
          ],
          [
           "Alive"
          ],
          [
           "Alive"
          ],
          [
           "Alive"
          ],
          [
           "Alive"
          ],
          [
           "Alive"
          ],
          [
           "Alive"
          ],
          [
           "Alive"
          ],
          [
           "Alive"
          ],
          [
           "Alive"
          ],
          [
           "Alive"
          ],
          [
           "Alive"
          ],
          [
           "Alive"
          ],
          [
           "Dead"
          ],
          [
           "Alive"
          ],
          [
           "Alive"
          ],
          [
           "Alive"
          ],
          [
           "Alive"
          ],
          [
           "Dead"
          ],
          [
           "Alive"
          ],
          [
           "Dead"
          ],
          [
           "Dead"
          ],
          [
           "Dead"
          ],
          [
           "Alive"
          ],
          [
           "Alive"
          ],
          [
           "Alive"
          ],
          [
           "Alive"
          ],
          [
           "Alive"
          ],
          [
           "Alive"
          ],
          [
           "Alive"
          ],
          [
           "Alive"
          ],
          [
           "Alive"
          ],
          [
           "Alive"
          ],
          [
           "Alive"
          ],
          [
           "Alive"
          ],
          [
           "Alive"
          ],
          [
           "Alive"
          ],
          [
           "Alive"
          ],
          [
           "Alive"
          ],
          [
           "Alive"
          ],
          [
           "Alive"
          ],
          [
           "Alive"
          ],
          [
           "Dead"
          ],
          [
           "Alive"
          ],
          [
           "Alive"
          ],
          [
           "Alive"
          ],
          [
           "Alive"
          ],
          [
           "Alive"
          ],
          [
           "Alive"
          ],
          [
           "Alive"
          ],
          [
           "Alive"
          ],
          [
           "Alive"
          ],
          [
           "Alive"
          ],
          [
           "Alive"
          ],
          [
           "Dead"
          ],
          [
           "Alive"
          ],
          [
           "Alive"
          ],
          [
           "Alive"
          ],
          [
           "Alive"
          ],
          [
           "Alive"
          ],
          [
           "Alive"
          ],
          [
           "Alive"
          ],
          [
           "Alive"
          ],
          [
           "Alive"
          ],
          [
           "Alive"
          ],
          [
           "Alive"
          ],
          [
           "Alive"
          ],
          [
           "Dead"
          ],
          [
           "Dead"
          ],
          [
           "Alive"
          ],
          [
           "Dead"
          ],
          [
           "Alive"
          ],
          [
           "Alive"
          ],
          [
           "Alive"
          ],
          [
           "Alive"
          ],
          [
           "Alive"
          ],
          [
           "Alive"
          ],
          [
           "Alive"
          ],
          [
           "Alive"
          ],
          [
           "Alive"
          ],
          [
           "Alive"
          ],
          [
           "Alive"
          ],
          [
           "Alive"
          ],
          [
           "Alive"
          ],
          [
           "Alive"
          ],
          [
           "Dead"
          ],
          [
           "Alive"
          ],
          [
           "Alive"
          ],
          [
           "Alive"
          ],
          [
           "Dead"
          ],
          [
           "Alive"
          ],
          [
           "Alive"
          ],
          [
           "Alive"
          ],
          [
           "Dead"
          ],
          [
           "Alive"
          ],
          [
           "Alive"
          ],
          [
           "Dead"
          ],
          [
           "Alive"
          ],
          [
           "Alive"
          ],
          [
           "Alive"
          ],
          [
           "Dead"
          ],
          [
           "Alive"
          ],
          [
           "Alive"
          ],
          [
           "Alive"
          ],
          [
           "Alive"
          ],
          [
           "Alive"
          ],
          [
           "Alive"
          ],
          [
           "Alive"
          ],
          [
           "Alive"
          ],
          [
           "Alive"
          ],
          [
           "Dead"
          ],
          [
           "Alive"
          ],
          [
           "Alive"
          ],
          [
           "Alive"
          ],
          [
           "Alive"
          ],
          [
           "Alive"
          ],
          [
           "Alive"
          ],
          [
           "Dead"
          ],
          [
           "Alive"
          ],
          [
           "Alive"
          ],
          [
           "Alive"
          ],
          [
           "Alive"
          ],
          [
           "Alive"
          ],
          [
           "Alive"
          ],
          [
           "Alive"
          ],
          [
           "Alive"
          ],
          [
           "Alive"
          ],
          [
           "Alive"
          ],
          [
           "Alive"
          ],
          [
           "Alive"
          ],
          [
           "Alive"
          ],
          [
           "Alive"
          ],
          [
           "Alive"
          ],
          [
           "Dead"
          ],
          [
           "Dead"
          ],
          [
           "Alive"
          ],
          [
           "Alive"
          ],
          [
           "Alive"
          ],
          [
           "Alive"
          ],
          [
           "Alive"
          ],
          [
           "Dead"
          ],
          [
           "Alive"
          ],
          [
           "Dead"
          ],
          [
           "Alive"
          ],
          [
           "Alive"
          ],
          [
           "Alive"
          ],
          [
           "Dead"
          ],
          [
           "Alive"
          ],
          [
           "Dead"
          ],
          [
           "Alive"
          ],
          [
           "Alive"
          ],
          [
           "Alive"
          ],
          [
           "Alive"
          ],
          [
           "Dead"
          ],
          [
           "Alive"
          ],
          [
           "Alive"
          ],
          [
           "Alive"
          ],
          [
           "Alive"
          ],
          [
           "Alive"
          ],
          [
           "Dead"
          ],
          [
           "Alive"
          ],
          [
           "Alive"
          ],
          [
           "Dead"
          ],
          [
           "Dead"
          ],
          [
           "Alive"
          ],
          [
           "Alive"
          ],
          [
           "Alive"
          ],
          [
           "Alive"
          ],
          [
           "Alive"
          ],
          [
           "Alive"
          ],
          [
           "Alive"
          ],
          [
           "Alive"
          ],
          [
           "Alive"
          ],
          [
           "Alive"
          ],
          [
           "Alive"
          ],
          [
           "Alive"
          ],
          [
           "Alive"
          ],
          [
           "Alive"
          ],
          [
           "Alive"
          ],
          [
           "Dead"
          ],
          [
           "Alive"
          ],
          [
           "Alive"
          ],
          [
           "Alive"
          ],
          [
           "Alive"
          ],
          [
           "Dead"
          ],
          [
           "Alive"
          ],
          [
           "Alive"
          ],
          [
           "Dead"
          ],
          [
           "Alive"
          ],
          [
           "Alive"
          ],
          [
           "Dead"
          ],
          [
           "Alive"
          ],
          [
           "Alive"
          ],
          [
           "Alive"
          ],
          [
           "Alive"
          ],
          [
           "Alive"
          ],
          [
           "Alive"
          ],
          [
           "Dead"
          ],
          [
           "Alive"
          ],
          [
           "Alive"
          ],
          [
           "Alive"
          ],
          [
           "Alive"
          ],
          [
           "Dead"
          ],
          [
           "Alive"
          ],
          [
           "Alive"
          ],
          [
           "Alive"
          ],
          [
           "Alive"
          ],
          [
           "Alive"
          ],
          [
           "Alive"
          ],
          [
           "Dead"
          ],
          [
           "Dead"
          ],
          [
           "Alive"
          ],
          [
           "Alive"
          ],
          [
           "Alive"
          ],
          [
           "Alive"
          ],
          [
           "Dead"
          ],
          [
           "Dead"
          ],
          [
           "Alive"
          ],
          [
           "Alive"
          ],
          [
           "Alive"
          ],
          [
           "Alive"
          ],
          [
           "Alive"
          ],
          [
           "Alive"
          ],
          [
           "Alive"
          ],
          [
           "Alive"
          ],
          [
           "Alive"
          ],
          [
           "Alive"
          ],
          [
           "Alive"
          ],
          [
           "Dead"
          ],
          [
           "Alive"
          ],
          [
           "Alive"
          ],
          [
           "Alive"
          ],
          [
           "Dead"
          ],
          [
           "Alive"
          ],
          [
           "Alive"
          ],
          [
           "Alive"
          ],
          [
           "Alive"
          ],
          [
           "Alive"
          ],
          [
           "Alive"
          ],
          [
           "Alive"
          ],
          [
           "Alive"
          ],
          [
           "Alive"
          ],
          [
           "Alive"
          ],
          [
           "Alive"
          ],
          [
           "Alive"
          ],
          [
           "Alive"
          ],
          [
           "Alive"
          ],
          [
           "Dead"
          ],
          [
           "Alive"
          ],
          [
           "Alive"
          ],
          [
           "Alive"
          ],
          [
           "Alive"
          ],
          [
           "Alive"
          ],
          [
           "Alive"
          ],
          [
           "Alive"
          ],
          [
           "Alive"
          ],
          [
           "Alive"
          ],
          [
           "Alive"
          ],
          [
           "Alive"
          ],
          [
           "Alive"
          ],
          [
           "Alive"
          ],
          [
           "Alive"
          ],
          [
           "Alive"
          ],
          [
           "Alive"
          ],
          [
           "Alive"
          ],
          [
           "Alive"
          ],
          [
           "Alive"
          ],
          [
           "Dead"
          ],
          [
           "Alive"
          ],
          [
           "Dead"
          ],
          [
           "Alive"
          ],
          [
           "Alive"
          ],
          [
           "Alive"
          ],
          [
           "Alive"
          ],
          [
           "Alive"
          ],
          [
           "Alive"
          ],
          [
           "Alive"
          ],
          [
           "Alive"
          ],
          [
           "Alive"
          ],
          [
           "Alive"
          ],
          [
           "Dead"
          ],
          [
           "Alive"
          ],
          [
           "Alive"
          ],
          [
           "Alive"
          ],
          [
           "Alive"
          ],
          [
           "Alive"
          ],
          [
           "Alive"
          ],
          [
           "Alive"
          ],
          [
           "Dead"
          ],
          [
           "Alive"
          ],
          [
           "Alive"
          ],
          [
           "Alive"
          ],
          [
           "Alive"
          ],
          [
           "Alive"
          ],
          [
           "Alive"
          ],
          [
           "Alive"
          ],
          [
           "Alive"
          ],
          [
           "Alive"
          ],
          [
           "Alive"
          ],
          [
           "Dead"
          ],
          [
           "Alive"
          ],
          [
           "Alive"
          ],
          [
           "Alive"
          ],
          [
           "Alive"
          ],
          [
           "Alive"
          ],
          [
           "Dead"
          ],
          [
           "Alive"
          ],
          [
           "Alive"
          ],
          [
           "Alive"
          ],
          [
           "Alive"
          ],
          [
           "Dead"
          ],
          [
           "Alive"
          ],
          [
           "Alive"
          ],
          [
           "Alive"
          ],
          [
           "Alive"
          ],
          [
           "Alive"
          ],
          [
           "Alive"
          ],
          [
           "Alive"
          ],
          [
           "Dead"
          ],
          [
           "Alive"
          ],
          [
           "Alive"
          ],
          [
           "Alive"
          ],
          [
           "Alive"
          ],
          [
           "Alive"
          ],
          [
           "Alive"
          ],
          [
           "Alive"
          ],
          [
           "Alive"
          ],
          [
           "Alive"
          ],
          [
           "Alive"
          ],
          [
           "Alive"
          ],
          [
           "Alive"
          ],
          [
           "Alive"
          ],
          [
           "Alive"
          ],
          [
           "Dead"
          ],
          [
           "Alive"
          ],
          [
           "Alive"
          ],
          [
           "Alive"
          ],
          [
           "Alive"
          ],
          [
           "Alive"
          ],
          [
           "Alive"
          ],
          [
           "Alive"
          ],
          [
           "Alive"
          ],
          [
           "Alive"
          ],
          [
           "Alive"
          ],
          [
           "Alive"
          ],
          [
           "Alive"
          ],
          [
           "Alive"
          ],
          [
           "Alive"
          ],
          [
           "Alive"
          ],
          [
           "Dead"
          ],
          [
           "Dead"
          ],
          [
           "Dead"
          ],
          [
           "Alive"
          ],
          [
           "Alive"
          ],
          [
           "Alive"
          ],
          [
           "Alive"
          ],
          [
           "Alive"
          ],
          [
           "Alive"
          ],
          [
           "Alive"
          ],
          [
           "Alive"
          ],
          [
           "Alive"
          ],
          [
           "Alive"
          ],
          [
           "Alive"
          ],
          [
           "Dead"
          ],
          [
           "Alive"
          ],
          [
           "Alive"
          ],
          [
           "Alive"
          ],
          [
           "Alive"
          ],
          [
           "Alive"
          ],
          [
           "Alive"
          ],
          [
           "Dead"
          ],
          [
           "Alive"
          ],
          [
           "Alive"
          ],
          [
           "Alive"
          ],
          [
           "Alive"
          ],
          [
           "Alive"
          ],
          [
           "Dead"
          ],
          [
           "Alive"
          ],
          [
           "Alive"
          ],
          [
           "Dead"
          ],
          [
           "Alive"
          ],
          [
           "Alive"
          ],
          [
           "Alive"
          ],
          [
           "Dead"
          ],
          [
           "Alive"
          ],
          [
           "Alive"
          ],
          [
           "Alive"
          ],
          [
           "Dead"
          ],
          [
           "Alive"
          ],
          [
           "Dead"
          ],
          [
           "Alive"
          ],
          [
           "Alive"
          ],
          [
           "Alive"
          ],
          [
           "Alive"
          ],
          [
           "Alive"
          ],
          [
           "Alive"
          ],
          [
           "Alive"
          ],
          [
           "Alive"
          ],
          [
           "Alive"
          ],
          [
           "Alive"
          ],
          [
           "Alive"
          ],
          [
           "Alive"
          ],
          [
           "Alive"
          ],
          [
           "Alive"
          ],
          [
           "Alive"
          ],
          [
           "Alive"
          ],
          [
           "Alive"
          ],
          [
           "Alive"
          ],
          [
           "Alive"
          ],
          [
           "Alive"
          ],
          [
           "Alive"
          ],
          [
           "Alive"
          ],
          [
           "Alive"
          ],
          [
           "Alive"
          ],
          [
           "Alive"
          ],
          [
           "Alive"
          ],
          [
           "Dead"
          ],
          [
           "Alive"
          ],
          [
           "Dead"
          ],
          [
           "Dead"
          ],
          [
           "Alive"
          ],
          [
           "Alive"
          ],
          [
           "Dead"
          ],
          [
           "Alive"
          ],
          [
           "Alive"
          ],
          [
           "Alive"
          ],
          [
           "Dead"
          ],
          [
           "Alive"
          ],
          [
           "Alive"
          ],
          [
           "Alive"
          ],
          [
           "Alive"
          ],
          [
           "Alive"
          ],
          [
           "Alive"
          ],
          [
           "Alive"
          ],
          [
           "Alive"
          ],
          [
           "Alive"
          ],
          [
           "Alive"
          ],
          [
           "Alive"
          ],
          [
           "Alive"
          ],
          [
           "Alive"
          ],
          [
           "Alive"
          ],
          [
           "Alive"
          ],
          [
           "Alive"
          ],
          [
           "Alive"
          ],
          [
           "Alive"
          ],
          [
           "Alive"
          ],
          [
           "Alive"
          ],
          [
           "Alive"
          ],
          [
           "Alive"
          ],
          [
           "Alive"
          ],
          [
           "Dead"
          ],
          [
           "Alive"
          ],
          [
           "Alive"
          ],
          [
           "Alive"
          ],
          [
           "Alive"
          ],
          [
           "Alive"
          ],
          [
           "Alive"
          ],
          [
           "Alive"
          ],
          [
           "Alive"
          ],
          [
           "Alive"
          ],
          [
           "Dead"
          ],
          [
           "Alive"
          ],
          [
           "Dead"
          ],
          [
           "Alive"
          ],
          [
           "Alive"
          ],
          [
           "Alive"
          ],
          [
           "Alive"
          ],
          [
           "Alive"
          ],
          [
           "Alive"
          ],
          [
           "Alive"
          ],
          [
           "Alive"
          ],
          [
           "Dead"
          ],
          [
           "Alive"
          ],
          [
           "Alive"
          ],
          [
           "Alive"
          ],
          [
           "Alive"
          ],
          [
           "Dead"
          ],
          [
           "Alive"
          ],
          [
           "Alive"
          ],
          [
           "Alive"
          ],
          [
           "Alive"
          ],
          [
           "Alive"
          ],
          [
           "Dead"
          ],
          [
           "Alive"
          ],
          [
           "Alive"
          ],
          [
           "Alive"
          ],
          [
           "Alive"
          ],
          [
           "Dead"
          ],
          [
           "Alive"
          ],
          [
           "Alive"
          ],
          [
           "Alive"
          ],
          [
           "Alive"
          ],
          [
           "Alive"
          ],
          [
           "Alive"
          ],
          [
           "Alive"
          ],
          [
           "Alive"
          ],
          [
           "Alive"
          ],
          [
           "Alive"
          ],
          [
           "Alive"
          ],
          [
           "Alive"
          ],
          [
           "Alive"
          ],
          [
           "Alive"
          ],
          [
           "Dead"
          ],
          [
           "Alive"
          ],
          [
           "Alive"
          ],
          [
           "Alive"
          ],
          [
           "Alive"
          ],
          [
           "Alive"
          ],
          [
           "Alive"
          ],
          [
           "Alive"
          ],
          [
           "Alive"
          ],
          [
           "Alive"
          ],
          [
           "Alive"
          ],
          [
           "Alive"
          ],
          [
           "Alive"
          ],
          [
           "Dead"
          ],
          [
           "Alive"
          ],
          [
           "Dead"
          ],
          [
           "Alive"
          ],
          [
           "Alive"
          ],
          [
           "Dead"
          ],
          [
           "Alive"
          ],
          [
           "Alive"
          ],
          [
           "Alive"
          ],
          [
           "Alive"
          ],
          [
           "Dead"
          ],
          [
           "Dead"
          ],
          [
           "Alive"
          ],
          [
           "Alive"
          ],
          [
           "Alive"
          ],
          [
           "Dead"
          ],
          [
           "Alive"
          ],
          [
           "Alive"
          ],
          [
           "Alive"
          ],
          [
           "Dead"
          ],
          [
           "Alive"
          ],
          [
           "Alive"
          ],
          [
           "Alive"
          ],
          [
           "Dead"
          ],
          [
           "Alive"
          ],
          [
           "Alive"
          ],
          [
           "Alive"
          ],
          [
           "Alive"
          ],
          [
           "Alive"
          ],
          [
           "Alive"
          ],
          [
           "Alive"
          ],
          [
           "Alive"
          ],
          [
           "Alive"
          ],
          [
           "Alive"
          ],
          [
           "Alive"
          ],
          [
           "Alive"
          ],
          [
           "Alive"
          ],
          [
           "Alive"
          ],
          [
           "Alive"
          ],
          [
           "Alive"
          ],
          [
           "Alive"
          ],
          [
           "Alive"
          ],
          [
           "Alive"
          ],
          [
           "Dead"
          ],
          [
           "Alive"
          ],
          [
           "Alive"
          ],
          [
           "Alive"
          ],
          [
           "Alive"
          ],
          [
           "Alive"
          ],
          [
           "Alive"
          ],
          [
           "Alive"
          ],
          [
           "Alive"
          ],
          [
           "Dead"
          ],
          [
           "Alive"
          ],
          [
           "Alive"
          ],
          [
           "Alive"
          ],
          [
           "Alive"
          ],
          [
           "Alive"
          ],
          [
           "Alive"
          ],
          [
           "Alive"
          ],
          [
           "Alive"
          ],
          [
           "Alive"
          ],
          [
           "Alive"
          ],
          [
           "Alive"
          ],
          [
           "Alive"
          ],
          [
           "Alive"
          ],
          [
           "Alive"
          ],
          [
           "Alive"
          ],
          [
           "Alive"
          ],
          [
           "Dead"
          ],
          [
           "Alive"
          ],
          [
           "Alive"
          ],
          [
           "Alive"
          ],
          [
           "Alive"
          ],
          [
           "Alive"
          ],
          [
           "Alive"
          ],
          [
           "Alive"
          ],
          [
           "Alive"
          ],
          [
           "Alive"
          ],
          [
           "Alive"
          ],
          [
           "Alive"
          ],
          [
           "Dead"
          ],
          [
           "Alive"
          ],
          [
           "Alive"
          ],
          [
           "Alive"
          ],
          [
           "Alive"
          ],
          [
           "Alive"
          ],
          [
           "Alive"
          ],
          [
           "Alive"
          ],
          [
           "Dead"
          ],
          [
           "Alive"
          ],
          [
           "Alive"
          ],
          [
           "Alive"
          ],
          [
           "Alive"
          ],
          [
           "Alive"
          ],
          [
           "Alive"
          ],
          [
           "Alive"
          ],
          [
           "Alive"
          ],
          [
           "Alive"
          ],
          [
           "Dead"
          ],
          [
           "Alive"
          ],
          [
           "Alive"
          ],
          [
           "Alive"
          ],
          [
           "Alive"
          ],
          [
           "Alive"
          ],
          [
           "Alive"
          ],
          [
           "Alive"
          ],
          [
           "Alive"
          ],
          [
           "Alive"
          ],
          [
           "Alive"
          ],
          [
           "Alive"
          ],
          [
           "Alive"
          ],
          [
           "Alive"
          ],
          [
           "Alive"
          ],
          [
           "Alive"
          ],
          [
           "Dead"
          ],
          [
           "Alive"
          ],
          [
           "Dead"
          ],
          [
           "Alive"
          ],
          [
           "Alive"
          ],
          [
           "Alive"
          ],
          [
           "Alive"
          ],
          [
           "Alive"
          ],
          [
           "Alive"
          ],
          [
           "Alive"
          ],
          [
           "Alive"
          ],
          [
           "Alive"
          ],
          [
           "Alive"
          ],
          [
           "Alive"
          ],
          [
           "Alive"
          ],
          [
           "Alive"
          ],
          [
           "Alive"
          ],
          [
           "Dead"
          ],
          [
           "Alive"
          ],
          [
           "Alive"
          ],
          [
           "Alive"
          ],
          [
           "Alive"
          ],
          [
           "Alive"
          ],
          [
           "Alive"
          ],
          [
           "Alive"
          ],
          [
           "Alive"
          ],
          [
           "Alive"
          ],
          [
           "Alive"
          ],
          [
           "Alive"
          ],
          [
           "Alive"
          ],
          [
           "Alive"
          ],
          [
           "Alive"
          ],
          [
           "Alive"
          ],
          [
           "Alive"
          ],
          [
           "Alive"
          ],
          [
           "Alive"
          ],
          [
           "Alive"
          ],
          [
           "Alive"
          ],
          [
           "Dead"
          ],
          [
           "Alive"
          ],
          [
           "Alive"
          ],
          [
           "Dead"
          ],
          [
           "Alive"
          ],
          [
           "Alive"
          ],
          [
           "Alive"
          ],
          [
           "Dead"
          ],
          [
           "Alive"
          ],
          [
           "Alive"
          ],
          [
           "Alive"
          ],
          [
           "Alive"
          ],
          [
           "Dead"
          ],
          [
           "Alive"
          ],
          [
           "Dead"
          ],
          [
           "Alive"
          ],
          [
           "Alive"
          ],
          [
           "Alive"
          ],
          [
           "Dead"
          ],
          [
           "Alive"
          ],
          [
           "Alive"
          ],
          [
           "Alive"
          ],
          [
           "Alive"
          ],
          [
           "Alive"
          ],
          [
           "Dead"
          ],
          [
           "Dead"
          ],
          [
           "Alive"
          ],
          [
           "Alive"
          ],
          [
           "Alive"
          ],
          [
           "Alive"
          ],
          [
           "Dead"
          ],
          [
           "Dead"
          ],
          [
           "Alive"
          ],
          [
           "Alive"
          ],
          [
           "Alive"
          ],
          [
           "Alive"
          ],
          [
           "Alive"
          ],
          [
           "Alive"
          ],
          [
           "Alive"
          ],
          [
           "Alive"
          ],
          [
           "Dead"
          ],
          [
           "Alive"
          ],
          [
           "Alive"
          ],
          [
           "Alive"
          ],
          [
           "Alive"
          ],
          [
           "Alive"
          ],
          [
           "Alive"
          ],
          [
           "Alive"
          ],
          [
           "Alive"
          ],
          [
           "Alive"
          ],
          [
           "Dead"
          ],
          [
           "Alive"
          ],
          [
           "Alive"
          ],
          [
           "Alive"
          ],
          [
           "Alive"
          ],
          [
           "Dead"
          ],
          [
           "Dead"
          ],
          [
           "Alive"
          ],
          [
           "Dead"
          ],
          [
           "Alive"
          ],
          [
           "Alive"
          ],
          [
           "Alive"
          ],
          [
           "Alive"
          ],
          [
           "Alive"
          ],
          [
           "Alive"
          ],
          [
           "Alive"
          ],
          [
           "Alive"
          ],
          [
           "Alive"
          ],
          [
           "Alive"
          ],
          [
           "Alive"
          ],
          [
           "Dead"
          ],
          [
           "Alive"
          ],
          [
           "Dead"
          ],
          [
           "Alive"
          ],
          [
           "Alive"
          ],
          [
           "Dead"
          ],
          [
           "Dead"
          ],
          [
           "Alive"
          ],
          [
           "Alive"
          ],
          [
           "Alive"
          ],
          [
           "Alive"
          ],
          [
           "Alive"
          ],
          [
           "Alive"
          ],
          [
           "Alive"
          ],
          [
           "Alive"
          ],
          [
           "Alive"
          ],
          [
           "Alive"
          ],
          [
           "Dead"
          ],
          [
           "Alive"
          ],
          [
           "Dead"
          ],
          [
           "Alive"
          ],
          [
           "Alive"
          ],
          [
           "Alive"
          ],
          [
           "Alive"
          ],
          [
           "Alive"
          ],
          [
           "Alive"
          ],
          [
           "Alive"
          ],
          [
           "Dead"
          ],
          [
           "Alive"
          ],
          [
           "Alive"
          ],
          [
           "Alive"
          ],
          [
           "Alive"
          ],
          [
           "Alive"
          ],
          [
           "Alive"
          ],
          [
           "Alive"
          ],
          [
           "Dead"
          ],
          [
           "Alive"
          ],
          [
           "Dead"
          ],
          [
           "Alive"
          ],
          [
           "Alive"
          ],
          [
           "Alive"
          ],
          [
           "Alive"
          ],
          [
           "Alive"
          ],
          [
           "Dead"
          ],
          [
           "Alive"
          ],
          [
           "Alive"
          ],
          [
           "Dead"
          ],
          [
           "Dead"
          ],
          [
           "Alive"
          ],
          [
           "Alive"
          ],
          [
           "Alive"
          ],
          [
           "Alive"
          ],
          [
           "Alive"
          ],
          [
           "Dead"
          ],
          [
           "Alive"
          ],
          [
           "Alive"
          ],
          [
           "Alive"
          ],
          [
           "Dead"
          ],
          [
           "Alive"
          ],
          [
           "Alive"
          ],
          [
           "Alive"
          ],
          [
           "Alive"
          ],
          [
           "Alive"
          ],
          [
           "Alive"
          ],
          [
           "Alive"
          ],
          [
           "Alive"
          ],
          [
           "Alive"
          ],
          [
           "Alive"
          ],
          [
           "Alive"
          ],
          [
           "Dead"
          ],
          [
           "Alive"
          ],
          [
           "Alive"
          ],
          [
           "Alive"
          ],
          [
           "Alive"
          ],
          [
           "Alive"
          ],
          [
           "Alive"
          ],
          [
           "Alive"
          ],
          [
           "Dead"
          ],
          [
           "Dead"
          ],
          [
           "Alive"
          ],
          [
           "Alive"
          ],
          [
           "Alive"
          ],
          [
           "Dead"
          ],
          [
           "Alive"
          ],
          [
           "Alive"
          ],
          [
           "Alive"
          ],
          [
           "Alive"
          ],
          [
           "Dead"
          ],
          [
           "Alive"
          ],
          [
           "Alive"
          ],
          [
           "Dead"
          ],
          [
           "Alive"
          ],
          [
           "Alive"
          ],
          [
           "Dead"
          ],
          [
           "Alive"
          ],
          [
           "Alive"
          ],
          [
           "Alive"
          ],
          [
           "Dead"
          ],
          [
           "Alive"
          ],
          [
           "Alive"
          ],
          [
           "Alive"
          ],
          [
           "Alive"
          ],
          [
           "Alive"
          ],
          [
           "Alive"
          ],
          [
           "Alive"
          ],
          [
           "Alive"
          ],
          [
           "Alive"
          ],
          [
           "Dead"
          ],
          [
           "Alive"
          ],
          [
           "Alive"
          ],
          [
           "Alive"
          ],
          [
           "Alive"
          ],
          [
           "Alive"
          ],
          [
           "Alive"
          ],
          [
           "Alive"
          ],
          [
           "Alive"
          ],
          [
           "Alive"
          ],
          [
           "Dead"
          ],
          [
           "Dead"
          ],
          [
           "Alive"
          ],
          [
           "Alive"
          ],
          [
           "Alive"
          ],
          [
           "Alive"
          ],
          [
           "Alive"
          ],
          [
           "Alive"
          ],
          [
           "Alive"
          ],
          [
           "Alive"
          ],
          [
           "Alive"
          ],
          [
           "Alive"
          ],
          [
           "Alive"
          ],
          [
           "Alive"
          ],
          [
           "Dead"
          ],
          [
           "Alive"
          ],
          [
           "Alive"
          ],
          [
           "Dead"
          ],
          [
           "Alive"
          ],
          [
           "Dead"
          ],
          [
           "Dead"
          ],
          [
           "Dead"
          ],
          [
           "Alive"
          ],
          [
           "Alive"
          ],
          [
           "Alive"
          ],
          [
           "Alive"
          ],
          [
           "Dead"
          ],
          [
           "Dead"
          ],
          [
           "Alive"
          ],
          [
           "Alive"
          ],
          [
           "Alive"
          ],
          [
           "Alive"
          ],
          [
           "Alive"
          ],
          [
           "Alive"
          ],
          [
           "Alive"
          ],
          [
           "Alive"
          ],
          [
           "Alive"
          ],
          [
           "Alive"
          ],
          [
           "Alive"
          ],
          [
           "Alive"
          ],
          [
           "Alive"
          ],
          [
           "Alive"
          ],
          [
           "Alive"
          ],
          [
           "Alive"
          ],
          [
           "Alive"
          ],
          [
           "Alive"
          ],
          [
           "Alive"
          ],
          [
           "Alive"
          ],
          [
           "Alive"
          ],
          [
           "Alive"
          ],
          [
           "Alive"
          ],
          [
           "Alive"
          ],
          [
           "Alive"
          ],
          [
           "Alive"
          ],
          [
           "Alive"
          ],
          [
           "Alive"
          ],
          [
           "Alive"
          ],
          [
           "Dead"
          ],
          [
           "Alive"
          ],
          [
           "Alive"
          ],
          [
           "Alive"
          ],
          [
           "Alive"
          ],
          [
           "Alive"
          ],
          [
           "Alive"
          ],
          [
           "Dead"
          ],
          [
           "Alive"
          ],
          [
           "Dead"
          ],
          [
           "Alive"
          ],
          [
           "Alive"
          ],
          [
           "Dead"
          ],
          [
           "Alive"
          ],
          [
           "Alive"
          ],
          [
           "Alive"
          ],
          [
           "Alive"
          ],
          [
           "Alive"
          ],
          [
           "Alive"
          ],
          [
           "Dead"
          ],
          [
           "Alive"
          ],
          [
           "Alive"
          ],
          [
           "Alive"
          ],
          [
           "Alive"
          ],
          [
           "Alive"
          ],
          [
           "Alive"
          ],
          [
           "Alive"
          ],
          [
           "Alive"
          ],
          [
           "Alive"
          ],
          [
           "Dead"
          ],
          [
           "Alive"
          ],
          [
           "Alive"
          ],
          [
           "Alive"
          ],
          [
           "Dead"
          ],
          [
           "Alive"
          ],
          [
           "Alive"
          ],
          [
           "Alive"
          ],
          [
           "Alive"
          ],
          [
           "Dead"
          ],
          [
           "Alive"
          ],
          [
           "Alive"
          ],
          [
           "Alive"
          ],
          [
           "Alive"
          ],
          [
           "Alive"
          ],
          [
           "Alive"
          ],
          [
           "Alive"
          ],
          [
           "Alive"
          ],
          [
           "Alive"
          ],
          [
           "Alive"
          ],
          [
           "Alive"
          ],
          [
           "Dead"
          ],
          [
           "Dead"
          ],
          [
           "Alive"
          ],
          [
           "Alive"
          ],
          [
           "Dead"
          ],
          [
           "Dead"
          ],
          [
           "Alive"
          ],
          [
           "Alive"
          ],
          [
           "Alive"
          ],
          [
           "Alive"
          ],
          [
           "Alive"
          ],
          [
           "Alive"
          ],
          [
           "Alive"
          ],
          [
           "Alive"
          ],
          [
           "Alive"
          ],
          [
           "Alive"
          ],
          [
           "Alive"
          ],
          [
           "Alive"
          ],
          [
           "Alive"
          ],
          [
           "Alive"
          ],
          [
           "Alive"
          ],
          [
           "Alive"
          ],
          [
           "Alive"
          ],
          [
           "Dead"
          ],
          [
           "Alive"
          ],
          [
           "Alive"
          ],
          [
           "Alive"
          ],
          [
           "Alive"
          ],
          [
           "Alive"
          ],
          [
           "Alive"
          ],
          [
           "Dead"
          ],
          [
           "Alive"
          ],
          [
           "Alive"
          ],
          [
           "Alive"
          ],
          [
           "Alive"
          ],
          [
           "Alive"
          ],
          [
           "Dead"
          ],
          [
           "Alive"
          ],
          [
           "Alive"
          ],
          [
           "Alive"
          ],
          [
           "Alive"
          ],
          [
           "Dead"
          ],
          [
           "Alive"
          ],
          [
           "Alive"
          ],
          [
           "Alive"
          ],
          [
           "Dead"
          ],
          [
           "Alive"
          ],
          [
           "Alive"
          ],
          [
           "Alive"
          ],
          [
           "Alive"
          ],
          [
           "Dead"
          ],
          [
           "Alive"
          ],
          [
           "Alive"
          ],
          [
           "Dead"
          ],
          [
           "Alive"
          ],
          [
           "Dead"
          ],
          [
           "Alive"
          ],
          [
           "Alive"
          ],
          [
           "Alive"
          ],
          [
           "Alive"
          ],
          [
           "Alive"
          ],
          [
           "Alive"
          ],
          [
           "Alive"
          ],
          [
           "Alive"
          ],
          [
           "Dead"
          ],
          [
           "Alive"
          ],
          [
           "Alive"
          ],
          [
           "Alive"
          ],
          [
           "Alive"
          ],
          [
           "Alive"
          ],
          [
           "Alive"
          ],
          [
           "Alive"
          ],
          [
           "Alive"
          ],
          [
           "Alive"
          ],
          [
           "Alive"
          ],
          [
           "Dead"
          ],
          [
           "Alive"
          ],
          [
           "Alive"
          ],
          [
           "Alive"
          ],
          [
           "Dead"
          ],
          [
           "Alive"
          ],
          [
           "Alive"
          ],
          [
           "Alive"
          ],
          [
           "Alive"
          ],
          [
           "Alive"
          ],
          [
           "Alive"
          ],
          [
           "Alive"
          ],
          [
           "Alive"
          ],
          [
           "Dead"
          ],
          [
           "Alive"
          ],
          [
           "Dead"
          ],
          [
           "Alive"
          ],
          [
           "Alive"
          ],
          [
           "Alive"
          ],
          [
           "Alive"
          ],
          [
           "Alive"
          ],
          [
           "Alive"
          ],
          [
           "Alive"
          ],
          [
           "Alive"
          ],
          [
           "Alive"
          ],
          [
           "Alive"
          ],
          [
           "Alive"
          ],
          [
           "Alive"
          ],
          [
           "Alive"
          ],
          [
           "Alive"
          ],
          [
           "Alive"
          ],
          [
           "Alive"
          ],
          [
           "Alive"
          ],
          [
           "Alive"
          ],
          [
           "Alive"
          ],
          [
           "Alive"
          ],
          [
           "Alive"
          ],
          [
           "Alive"
          ],
          [
           "Alive"
          ],
          [
           "Alive"
          ],
          [
           "Alive"
          ],
          [
           "Alive"
          ],
          [
           "Alive"
          ],
          [
           "Alive"
          ],
          [
           "Alive"
          ],
          [
           "Alive"
          ],
          [
           "Alive"
          ],
          [
           "Alive"
          ],
          [
           "Alive"
          ],
          [
           "Alive"
          ],
          [
           "Alive"
          ],
          [
           "Alive"
          ],
          [
           "Alive"
          ],
          [
           "Alive"
          ],
          [
           "Alive"
          ],
          [
           "Alive"
          ],
          [
           "Alive"
          ],
          [
           "Dead"
          ],
          [
           "Alive"
          ],
          [
           "Alive"
          ],
          [
           "Alive"
          ],
          [
           "Alive"
          ],
          [
           "Alive"
          ],
          [
           "Alive"
          ],
          [
           "Alive"
          ],
          [
           "Alive"
          ],
          [
           "Alive"
          ],
          [
           "Alive"
          ],
          [
           "Alive"
          ],
          [
           "Alive"
          ],
          [
           "Alive"
          ],
          [
           "Alive"
          ],
          [
           "Alive"
          ],
          [
           "Alive"
          ],
          [
           "Alive"
          ],
          [
           "Alive"
          ],
          [
           "Alive"
          ],
          [
           "Alive"
          ],
          [
           "Alive"
          ],
          [
           "Alive"
          ],
          [
           "Alive"
          ],
          [
           "Alive"
          ],
          [
           "Dead"
          ],
          [
           "Alive"
          ],
          [
           "Alive"
          ],
          [
           "Alive"
          ],
          [
           "Dead"
          ],
          [
           "Alive"
          ],
          [
           "Alive"
          ],
          [
           "Alive"
          ],
          [
           "Alive"
          ],
          [
           "Alive"
          ],
          [
           "Alive"
          ],
          [
           "Alive"
          ],
          [
           "Alive"
          ],
          [
           "Alive"
          ],
          [
           "Dead"
          ],
          [
           "Alive"
          ],
          [
           "Alive"
          ],
          [
           "Alive"
          ],
          [
           "Alive"
          ],
          [
           "Alive"
          ],
          [
           "Dead"
          ],
          [
           "Alive"
          ],
          [
           "Alive"
          ],
          [
           "Alive"
          ],
          [
           "Alive"
          ],
          [
           "Alive"
          ],
          [
           "Alive"
          ],
          [
           "Dead"
          ],
          [
           "Alive"
          ],
          [
           "Alive"
          ],
          [
           "Alive"
          ],
          [
           "Alive"
          ],
          [
           "Alive"
          ],
          [
           "Alive"
          ],
          [
           "Alive"
          ],
          [
           "Dead"
          ],
          [
           "Alive"
          ],
          [
           "Alive"
          ],
          [
           "Alive"
          ],
          [
           "Alive"
          ],
          [
           "Alive"
          ],
          [
           "Alive"
          ],
          [
           "Alive"
          ],
          [
           "Alive"
          ],
          [
           "Alive"
          ],
          [
           "Dead"
          ],
          [
           "Alive"
          ],
          [
           "Alive"
          ],
          [
           "Alive"
          ],
          [
           "Dead"
          ],
          [
           "Alive"
          ],
          [
           "Dead"
          ],
          [
           "Dead"
          ],
          [
           "Alive"
          ],
          [
           "Alive"
          ],
          [
           "Alive"
          ],
          [
           "Dead"
          ],
          [
           "Alive"
          ],
          [
           "Alive"
          ],
          [
           "Alive"
          ],
          [
           "Alive"
          ],
          [
           "Alive"
          ],
          [
           "Alive"
          ],
          [
           "Alive"
          ],
          [
           "Alive"
          ],
          [
           "Alive"
          ],
          [
           "Alive"
          ],
          [
           "Alive"
          ],
          [
           "Dead"
          ],
          [
           "Alive"
          ],
          [
           "Alive"
          ],
          [
           "Alive"
          ],
          [
           "Alive"
          ],
          [
           "Alive"
          ],
          [
           "Alive"
          ],
          [
           "Alive"
          ],
          [
           "Alive"
          ],
          [
           "Alive"
          ],
          [
           "Dead"
          ],
          [
           "Dead"
          ],
          [
           "Alive"
          ],
          [
           "Alive"
          ],
          [
           "Alive"
          ],
          [
           "Alive"
          ],
          [
           "Alive"
          ],
          [
           "Alive"
          ],
          [
           "Alive"
          ],
          [
           "Alive"
          ],
          [
           "Dead"
          ],
          [
           "Alive"
          ],
          [
           "Dead"
          ],
          [
           "Alive"
          ],
          [
           "Alive"
          ],
          [
           "Alive"
          ],
          [
           "Alive"
          ],
          [
           "Alive"
          ],
          [
           "Alive"
          ],
          [
           "Alive"
          ],
          [
           "Alive"
          ],
          [
           "Alive"
          ],
          [
           "Alive"
          ],
          [
           "Alive"
          ],
          [
           "Alive"
          ],
          [
           "Alive"
          ],
          [
           "Alive"
          ],
          [
           "Alive"
          ],
          [
           "Alive"
          ],
          [
           "Dead"
          ],
          [
           "Alive"
          ],
          [
           "Alive"
          ],
          [
           "Dead"
          ],
          [
           "Alive"
          ],
          [
           "Alive"
          ],
          [
           "Alive"
          ],
          [
           "Alive"
          ],
          [
           "Alive"
          ],
          [
           "Alive"
          ],
          [
           "Alive"
          ],
          [
           "Alive"
          ],
          [
           "Alive"
          ],
          [
           "Alive"
          ],
          [
           "Alive"
          ],
          [
           "Dead"
          ],
          [
           "Alive"
          ],
          [
           "Alive"
          ],
          [
           "Alive"
          ],
          [
           "Alive"
          ],
          [
           "Alive"
          ],
          [
           "Alive"
          ],
          [
           "Alive"
          ],
          [
           "Alive"
          ],
          [
           "Dead"
          ],
          [
           "Alive"
          ],
          [
           "Alive"
          ],
          [
           "Alive"
          ],
          [
           "Alive"
          ],
          [
           "Dead"
          ],
          [
           "Alive"
          ],
          [
           "Alive"
          ],
          [
           "Alive"
          ],
          [
           "Alive"
          ],
          [
           "Alive"
          ],
          [
           "Alive"
          ],
          [
           "Alive"
          ],
          [
           "Alive"
          ],
          [
           "Alive"
          ],
          [
           "Alive"
          ],
          [
           "Dead"
          ],
          [
           "Alive"
          ],
          [
           "Alive"
          ],
          [
           "Alive"
          ],
          [
           "Alive"
          ],
          [
           "Alive"
          ],
          [
           "Alive"
          ],
          [
           "Dead"
          ],
          [
           "Alive"
          ],
          [
           "Alive"
          ],
          [
           "Alive"
          ],
          [
           "Dead"
          ],
          [
           "Alive"
          ],
          [
           "Alive"
          ],
          [
           "Alive"
          ],
          [
           "Alive"
          ],
          [
           "Alive"
          ],
          [
           "Alive"
          ],
          [
           "Dead"
          ],
          [
           "Dead"
          ],
          [
           "Alive"
          ],
          [
           "Alive"
          ],
          [
           "Alive"
          ],
          [
           "Alive"
          ],
          [
           "Alive"
          ],
          [
           "Dead"
          ],
          [
           "Alive"
          ],
          [
           "Alive"
          ],
          [
           "Alive"
          ],
          [
           "Alive"
          ],
          [
           "Alive"
          ],
          [
           "Alive"
          ],
          [
           "Dead"
          ],
          [
           "Alive"
          ],
          [
           "Alive"
          ],
          [
           "Alive"
          ],
          [
           "Alive"
          ],
          [
           "Alive"
          ],
          [
           "Alive"
          ]
         ],
         "domain": {
          "x": [
           0,
           1
          ],
          "y": [
           0,
           1
          ]
         },
         "hovertemplate": "Status=%{customdata[0]}<extra></extra>",
         "labels": [
          "Alive",
          "Alive",
          "Alive",
          "Alive",
          "Alive",
          "Alive",
          "Alive",
          "Dead",
          "Alive",
          "Alive",
          "Dead",
          "Alive",
          "Alive",
          "Alive",
          "Alive",
          "Alive",
          "Alive",
          "Alive",
          "Alive",
          "Alive",
          "Alive",
          "Alive",
          "Alive",
          "Alive",
          "Alive",
          "Alive",
          "Alive",
          "Alive",
          "Alive",
          "Alive",
          "Alive",
          "Alive",
          "Alive",
          "Alive",
          "Alive",
          "Alive",
          "Alive",
          "Alive",
          "Alive",
          "Alive",
          "Dead",
          "Alive",
          "Alive",
          "Alive",
          "Alive",
          "Alive",
          "Dead",
          "Alive",
          "Alive",
          "Alive",
          "Alive",
          "Alive",
          "Alive",
          "Alive",
          "Alive",
          "Alive",
          "Alive",
          "Alive",
          "Alive",
          "Alive",
          "Alive",
          "Alive",
          "Alive",
          "Alive",
          "Dead",
          "Alive",
          "Dead",
          "Alive",
          "Alive",
          "Alive",
          "Alive",
          "Dead",
          "Alive",
          "Alive",
          "Alive",
          "Alive",
          "Alive",
          "Alive",
          "Alive",
          "Alive",
          "Alive",
          "Alive",
          "Alive",
          "Alive",
          "Alive",
          "Alive",
          "Alive",
          "Alive",
          "Alive",
          "Alive",
          "Dead",
          "Alive",
          "Dead",
          "Dead",
          "Alive",
          "Alive",
          "Dead",
          "Alive",
          "Dead",
          "Alive",
          "Dead",
          "Alive",
          "Alive",
          "Dead",
          "Alive",
          "Alive",
          "Dead",
          "Alive",
          "Alive",
          "Alive",
          "Alive",
          "Dead",
          "Alive",
          "Alive",
          "Alive",
          "Alive",
          "Alive",
          "Alive",
          "Alive",
          "Alive",
          "Alive",
          "Alive",
          "Alive",
          "Alive",
          "Alive",
          "Dead",
          "Alive",
          "Alive",
          "Alive",
          "Alive",
          "Alive",
          "Alive",
          "Alive",
          "Alive",
          "Dead",
          "Dead",
          "Alive",
          "Dead",
          "Dead",
          "Alive",
          "Alive",
          "Alive",
          "Alive",
          "Dead",
          "Dead",
          "Alive",
          "Alive",
          "Dead",
          "Alive",
          "Alive",
          "Alive",
          "Alive",
          "Dead",
          "Alive",
          "Alive",
          "Alive",
          "Alive",
          "Alive",
          "Alive",
          "Dead",
          "Alive",
          "Alive",
          "Alive",
          "Alive",
          "Alive",
          "Alive",
          "Alive",
          "Alive",
          "Alive",
          "Alive",
          "Dead",
          "Alive",
          "Alive",
          "Alive",
          "Alive",
          "Alive",
          "Dead",
          "Alive",
          "Alive",
          "Dead",
          "Alive",
          "Dead",
          "Dead",
          "Alive",
          "Alive",
          "Alive",
          "Alive",
          "Alive",
          "Dead",
          "Alive",
          "Alive",
          "Alive",
          "Alive",
          "Alive",
          "Alive",
          "Alive",
          "Alive",
          "Alive",
          "Alive",
          "Alive",
          "Alive",
          "Alive",
          "Dead",
          "Dead",
          "Alive",
          "Alive",
          "Alive",
          "Alive",
          "Alive",
          "Alive",
          "Alive",
          "Dead",
          "Alive",
          "Alive",
          "Alive",
          "Dead",
          "Dead",
          "Alive",
          "Alive",
          "Dead",
          "Dead",
          "Dead",
          "Alive",
          "Alive",
          "Alive",
          "Alive",
          "Alive",
          "Alive",
          "Alive",
          "Alive",
          "Alive",
          "Alive",
          "Alive",
          "Alive",
          "Alive",
          "Alive",
          "Alive",
          "Alive",
          "Dead",
          "Alive",
          "Dead",
          "Alive",
          "Alive",
          "Alive",
          "Alive",
          "Alive",
          "Alive",
          "Dead",
          "Alive",
          "Alive",
          "Alive",
          "Alive",
          "Alive",
          "Alive",
          "Alive",
          "Alive",
          "Alive",
          "Alive",
          "Alive",
          "Alive",
          "Alive",
          "Alive",
          "Alive",
          "Dead",
          "Alive",
          "Alive",
          "Alive",
          "Alive",
          "Dead",
          "Alive",
          "Dead",
          "Alive",
          "Alive",
          "Alive",
          "Alive",
          "Alive",
          "Alive",
          "Dead",
          "Alive",
          "Alive",
          "Alive",
          "Alive",
          "Dead",
          "Alive",
          "Alive",
          "Dead",
          "Alive",
          "Alive",
          "Alive",
          "Dead",
          "Alive",
          "Alive",
          "Dead",
          "Alive",
          "Alive",
          "Alive",
          "Alive",
          "Alive",
          "Alive",
          "Alive",
          "Alive",
          "Alive",
          "Alive",
          "Alive",
          "Alive",
          "Dead",
          "Alive",
          "Alive",
          "Alive",
          "Alive",
          "Alive",
          "Alive",
          "Alive",
          "Dead",
          "Alive",
          "Alive",
          "Alive",
          "Alive",
          "Alive",
          "Alive",
          "Alive",
          "Alive",
          "Alive",
          "Alive",
          "Alive",
          "Alive",
          "Alive",
          "Alive",
          "Alive",
          "Alive",
          "Alive",
          "Dead",
          "Alive",
          "Alive",
          "Alive",
          "Alive",
          "Alive",
          "Alive",
          "Alive",
          "Alive",
          "Alive",
          "Alive",
          "Alive",
          "Alive",
          "Alive",
          "Alive",
          "Alive",
          "Alive",
          "Alive",
          "Alive",
          "Alive",
          "Alive",
          "Alive",
          "Alive",
          "Alive",
          "Alive",
          "Alive",
          "Dead",
          "Alive",
          "Alive",
          "Alive",
          "Alive",
          "Dead",
          "Dead",
          "Alive",
          "Alive",
          "Alive",
          "Alive",
          "Alive",
          "Dead",
          "Alive",
          "Dead",
          "Alive",
          "Alive",
          "Alive",
          "Alive",
          "Alive",
          "Alive",
          "Alive",
          "Dead",
          "Alive",
          "Alive",
          "Alive",
          "Alive",
          "Alive",
          "Alive",
          "Alive",
          "Alive",
          "Alive",
          "Alive",
          "Alive",
          "Alive",
          "Alive",
          "Alive",
          "Dead",
          "Alive",
          "Alive",
          "Alive",
          "Alive",
          "Alive",
          "Alive",
          "Alive",
          "Alive",
          "Alive",
          "Alive",
          "Alive",
          "Alive",
          "Alive",
          "Alive",
          "Alive",
          "Alive",
          "Alive",
          "Alive",
          "Dead",
          "Alive",
          "Alive",
          "Alive",
          "Alive",
          "Alive",
          "Alive",
          "Alive",
          "Alive",
          "Alive",
          "Alive",
          "Alive",
          "Alive",
          "Alive",
          "Alive",
          "Dead",
          "Alive",
          "Alive",
          "Alive",
          "Alive",
          "Alive",
          "Alive",
          "Dead",
          "Alive",
          "Alive",
          "Alive",
          "Alive",
          "Alive",
          "Dead",
          "Alive",
          "Alive",
          "Alive",
          "Dead",
          "Alive",
          "Alive",
          "Alive",
          "Alive",
          "Alive",
          "Alive",
          "Alive",
          "Alive",
          "Alive",
          "Dead",
          "Alive",
          "Dead",
          "Alive",
          "Alive",
          "Alive",
          "Alive",
          "Alive",
          "Alive",
          "Alive",
          "Alive",
          "Alive",
          "Alive",
          "Alive",
          "Alive",
          "Alive",
          "Alive",
          "Alive",
          "Alive",
          "Dead",
          "Alive",
          "Alive",
          "Alive",
          "Alive",
          "Alive",
          "Alive",
          "Alive",
          "Dead",
          "Alive",
          "Dead",
          "Alive",
          "Dead",
          "Alive",
          "Alive",
          "Alive",
          "Alive",
          "Alive",
          "Alive",
          "Dead",
          "Alive",
          "Alive",
          "Alive",
          "Alive",
          "Alive",
          "Alive",
          "Alive",
          "Alive",
          "Alive",
          "Alive",
          "Alive",
          "Alive",
          "Alive",
          "Dead",
          "Alive",
          "Alive",
          "Alive",
          "Dead",
          "Alive",
          "Alive",
          "Alive",
          "Alive",
          "Alive",
          "Alive",
          "Alive",
          "Alive",
          "Dead",
          "Alive",
          "Dead",
          "Dead",
          "Alive",
          "Dead",
          "Alive",
          "Alive",
          "Alive",
          "Alive",
          "Alive",
          "Alive",
          "Alive",
          "Alive",
          "Dead",
          "Alive",
          "Alive",
          "Dead",
          "Alive",
          "Alive",
          "Alive",
          "Alive",
          "Alive",
          "Alive",
          "Alive",
          "Alive",
          "Dead",
          "Alive",
          "Dead",
          "Alive",
          "Dead",
          "Alive",
          "Alive",
          "Alive",
          "Alive",
          "Alive",
          "Dead",
          "Alive",
          "Alive",
          "Alive",
          "Alive",
          "Alive",
          "Alive",
          "Alive",
          "Alive",
          "Dead",
          "Dead",
          "Alive",
          "Alive",
          "Alive",
          "Alive",
          "Alive",
          "Dead",
          "Alive",
          "Alive",
          "Alive",
          "Alive",
          "Alive",
          "Alive",
          "Alive",
          "Dead",
          "Dead",
          "Alive",
          "Alive",
          "Alive",
          "Alive",
          "Alive",
          "Alive",
          "Dead",
          "Alive",
          "Alive",
          "Alive",
          "Alive",
          "Dead",
          "Alive",
          "Alive",
          "Alive",
          "Alive",
          "Alive",
          "Alive",
          "Alive",
          "Alive",
          "Alive",
          "Alive",
          "Alive",
          "Alive",
          "Alive",
          "Dead",
          "Alive",
          "Alive",
          "Alive",
          "Alive",
          "Alive",
          "Alive",
          "Alive",
          "Alive",
          "Alive",
          "Alive",
          "Alive",
          "Alive",
          "Dead",
          "Alive",
          "Alive",
          "Alive",
          "Alive",
          "Alive",
          "Alive",
          "Alive",
          "Alive",
          "Alive",
          "Alive",
          "Dead",
          "Alive",
          "Dead",
          "Alive",
          "Alive",
          "Alive",
          "Alive",
          "Alive",
          "Alive",
          "Alive",
          "Dead",
          "Alive",
          "Alive",
          "Alive",
          "Alive",
          "Alive",
          "Alive",
          "Alive",
          "Dead",
          "Alive",
          "Alive",
          "Alive",
          "Alive",
          "Alive",
          "Alive",
          "Dead",
          "Alive",
          "Alive",
          "Dead",
          "Alive",
          "Alive",
          "Alive",
          "Dead",
          "Alive",
          "Dead",
          "Alive",
          "Alive",
          "Alive",
          "Alive",
          "Alive",
          "Alive",
          "Alive",
          "Alive",
          "Alive",
          "Alive",
          "Alive",
          "Dead",
          "Alive",
          "Dead",
          "Alive",
          "Alive",
          "Alive",
          "Dead",
          "Alive",
          "Alive",
          "Alive",
          "Alive",
          "Alive",
          "Alive",
          "Alive",
          "Alive",
          "Alive",
          "Alive",
          "Alive",
          "Alive",
          "Dead",
          "Alive",
          "Alive",
          "Alive",
          "Alive",
          "Alive",
          "Alive",
          "Dead",
          "Alive",
          "Alive",
          "Alive",
          "Alive",
          "Dead",
          "Alive",
          "Alive",
          "Alive",
          "Alive",
          "Alive",
          "Alive",
          "Alive",
          "Alive",
          "Alive",
          "Alive",
          "Alive",
          "Alive",
          "Alive",
          "Alive",
          "Alive",
          "Dead",
          "Alive",
          "Dead",
          "Dead",
          "Dead",
          "Dead",
          "Dead",
          "Alive",
          "Alive",
          "Dead",
          "Alive",
          "Alive",
          "Dead",
          "Alive",
          "Alive",
          "Alive",
          "Alive",
          "Alive",
          "Dead",
          "Alive",
          "Alive",
          "Alive",
          "Alive",
          "Alive",
          "Alive",
          "Alive",
          "Alive",
          "Alive",
          "Dead",
          "Dead",
          "Dead",
          "Alive",
          "Alive",
          "Dead",
          "Dead",
          "Alive",
          "Alive",
          "Alive",
          "Alive",
          "Alive",
          "Alive",
          "Alive",
          "Alive",
          "Alive",
          "Alive",
          "Alive",
          "Alive",
          "Alive",
          "Alive",
          "Alive",
          "Alive",
          "Alive",
          "Dead",
          "Alive",
          "Alive",
          "Dead",
          "Alive",
          "Alive",
          "Alive",
          "Dead",
          "Alive",
          "Alive",
          "Alive",
          "Alive",
          "Alive",
          "Alive",
          "Alive",
          "Alive",
          "Alive",
          "Alive",
          "Alive",
          "Alive",
          "Alive",
          "Alive",
          "Alive",
          "Dead",
          "Dead",
          "Dead",
          "Alive",
          "Alive",
          "Alive",
          "Alive",
          "Alive",
          "Alive",
          "Alive",
          "Alive",
          "Alive",
          "Alive",
          "Alive",
          "Alive",
          "Alive",
          "Alive",
          "Alive",
          "Alive",
          "Alive",
          "Alive",
          "Alive",
          "Alive",
          "Alive",
          "Alive",
          "Alive",
          "Alive",
          "Alive",
          "Alive",
          "Alive",
          "Alive",
          "Alive",
          "Alive",
          "Dead",
          "Alive",
          "Dead",
          "Alive",
          "Alive",
          "Alive",
          "Dead",
          "Alive",
          "Alive",
          "Alive",
          "Alive",
          "Dead",
          "Alive",
          "Alive",
          "Alive",
          "Alive",
          "Alive",
          "Alive",
          "Dead",
          "Dead",
          "Alive",
          "Dead",
          "Alive",
          "Alive",
          "Alive",
          "Dead",
          "Alive",
          "Alive",
          "Dead",
          "Alive",
          "Alive",
          "Dead",
          "Dead",
          "Alive",
          "Alive",
          "Dead",
          "Alive",
          "Alive",
          "Dead",
          "Alive",
          "Alive",
          "Alive",
          "Alive",
          "Alive",
          "Alive",
          "Dead",
          "Alive",
          "Alive",
          "Alive",
          "Alive",
          "Alive",
          "Alive",
          "Alive",
          "Alive",
          "Alive",
          "Dead",
          "Alive",
          "Alive",
          "Alive",
          "Alive",
          "Dead",
          "Alive",
          "Alive",
          "Alive",
          "Dead",
          "Dead",
          "Alive",
          "Alive",
          "Alive",
          "Alive",
          "Alive",
          "Alive",
          "Alive",
          "Alive",
          "Alive",
          "Alive",
          "Dead",
          "Dead",
          "Alive",
          "Dead",
          "Alive",
          "Alive",
          "Alive",
          "Alive",
          "Alive",
          "Dead",
          "Alive",
          "Alive",
          "Alive",
          "Alive",
          "Dead",
          "Alive",
          "Alive",
          "Alive",
          "Alive",
          "Alive",
          "Dead",
          "Alive",
          "Alive",
          "Dead",
          "Alive",
          "Alive",
          "Alive",
          "Dead",
          "Alive",
          "Dead",
          "Dead",
          "Alive",
          "Alive",
          "Alive",
          "Alive",
          "Alive",
          "Alive",
          "Alive",
          "Alive",
          "Dead",
          "Alive",
          "Dead",
          "Dead",
          "Alive",
          "Alive",
          "Alive",
          "Alive",
          "Alive",
          "Alive",
          "Alive",
          "Dead",
          "Alive",
          "Dead",
          "Alive",
          "Alive",
          "Alive",
          "Alive",
          "Alive",
          "Alive",
          "Alive",
          "Alive",
          "Dead",
          "Alive",
          "Dead",
          "Alive",
          "Alive",
          "Dead",
          "Dead",
          "Alive",
          "Alive",
          "Alive",
          "Alive",
          "Alive",
          "Alive",
          "Alive",
          "Alive",
          "Alive",
          "Alive",
          "Alive",
          "Alive",
          "Alive",
          "Alive",
          "Alive",
          "Alive",
          "Alive",
          "Alive",
          "Alive",
          "Alive",
          "Alive",
          "Alive",
          "Alive",
          "Alive",
          "Alive",
          "Alive",
          "Alive",
          "Alive",
          "Dead",
          "Alive",
          "Alive",
          "Alive",
          "Alive",
          "Alive",
          "Alive",
          "Alive",
          "Alive",
          "Dead",
          "Alive",
          "Dead",
          "Alive",
          "Alive",
          "Alive",
          "Alive",
          "Alive",
          "Alive",
          "Alive",
          "Dead",
          "Alive",
          "Alive",
          "Alive",
          "Alive",
          "Alive",
          "Dead",
          "Alive",
          "Alive",
          "Alive",
          "Dead",
          "Alive",
          "Alive",
          "Alive",
          "Alive",
          "Alive",
          "Alive",
          "Dead",
          "Alive",
          "Dead",
          "Alive",
          "Alive",
          "Alive",
          "Dead",
          "Alive",
          "Alive",
          "Dead",
          "Alive",
          "Alive",
          "Alive",
          "Dead",
          "Alive",
          "Alive",
          "Alive",
          "Alive",
          "Alive",
          "Alive",
          "Alive",
          "Alive",
          "Dead",
          "Alive",
          "Alive",
          "Alive",
          "Alive",
          "Alive",
          "Alive",
          "Alive",
          "Dead",
          "Alive",
          "Alive",
          "Alive",
          "Alive",
          "Alive",
          "Alive",
          "Alive",
          "Alive",
          "Dead",
          "Alive",
          "Dead",
          "Dead",
          "Alive",
          "Alive",
          "Alive",
          "Alive",
          "Alive",
          "Dead",
          "Alive",
          "Alive",
          "Alive",
          "Dead",
          "Alive",
          "Alive",
          "Alive",
          "Dead",
          "Alive",
          "Alive",
          "Alive",
          "Alive",
          "Alive",
          "Alive",
          "Alive",
          "Alive",
          "Alive",
          "Dead",
          "Dead",
          "Alive",
          "Alive",
          "Alive",
          "Alive",
          "Alive",
          "Alive",
          "Alive",
          "Alive",
          "Alive",
          "Alive",
          "Alive",
          "Dead",
          "Dead",
          "Alive",
          "Alive",
          "Alive",
          "Alive",
          "Alive",
          "Dead",
          "Alive",
          "Alive",
          "Alive",
          "Alive",
          "Alive",
          "Alive",
          "Dead",
          "Alive",
          "Alive",
          "Alive",
          "Alive",
          "Dead",
          "Alive",
          "Alive",
          "Alive",
          "Alive",
          "Alive",
          "Alive",
          "Dead",
          "Alive",
          "Alive",
          "Dead",
          "Alive",
          "Alive",
          "Alive",
          "Alive",
          "Alive",
          "Alive",
          "Dead",
          "Dead",
          "Alive",
          "Alive",
          "Dead",
          "Alive",
          "Alive",
          "Alive",
          "Alive",
          "Alive",
          "Alive",
          "Alive",
          "Alive",
          "Alive",
          "Alive",
          "Dead",
          "Alive",
          "Alive",
          "Alive",
          "Alive",
          "Alive",
          "Alive",
          "Alive",
          "Dead",
          "Alive",
          "Alive",
          "Alive",
          "Alive",
          "Alive",
          "Alive",
          "Alive",
          "Alive",
          "Alive",
          "Alive",
          "Alive",
          "Alive",
          "Alive",
          "Alive",
          "Alive",
          "Alive",
          "Alive",
          "Alive",
          "Alive",
          "Alive",
          "Dead",
          "Alive",
          "Dead",
          "Alive",
          "Alive",
          "Alive",
          "Alive",
          "Alive",
          "Alive",
          "Alive",
          "Alive",
          "Dead",
          "Dead",
          "Dead",
          "Dead",
          "Alive",
          "Alive",
          "Alive",
          "Alive",
          "Alive",
          "Alive",
          "Alive",
          "Alive",
          "Alive",
          "Alive",
          "Alive",
          "Alive",
          "Alive",
          "Alive",
          "Dead",
          "Alive",
          "Alive",
          "Alive",
          "Alive",
          "Alive",
          "Alive",
          "Alive",
          "Alive",
          "Alive",
          "Alive",
          "Alive",
          "Alive",
          "Alive",
          "Alive",
          "Alive",
          "Alive",
          "Dead",
          "Dead",
          "Alive",
          "Alive",
          "Alive",
          "Alive",
          "Alive",
          "Alive",
          "Alive",
          "Alive",
          "Alive",
          "Alive",
          "Alive",
          "Alive",
          "Alive",
          "Alive",
          "Alive",
          "Alive",
          "Dead",
          "Alive",
          "Dead",
          "Alive",
          "Dead",
          "Alive",
          "Alive",
          "Alive",
          "Alive",
          "Alive",
          "Alive",
          "Alive",
          "Alive",
          "Alive",
          "Alive",
          "Dead",
          "Alive",
          "Alive",
          "Alive",
          "Dead",
          "Alive",
          "Alive",
          "Alive",
          "Alive",
          "Alive",
          "Alive",
          "Alive",
          "Alive",
          "Alive",
          "Alive",
          "Alive",
          "Alive",
          "Alive",
          "Alive",
          "Alive",
          "Dead",
          "Dead",
          "Alive",
          "Alive",
          "Alive",
          "Alive",
          "Alive",
          "Alive",
          "Alive",
          "Dead",
          "Alive",
          "Alive",
          "Alive",
          "Alive",
          "Alive",
          "Alive",
          "Alive",
          "Alive",
          "Alive",
          "Alive",
          "Alive",
          "Alive",
          "Dead",
          "Alive",
          "Alive",
          "Alive",
          "Alive",
          "Dead",
          "Alive",
          "Alive",
          "Alive",
          "Alive",
          "Alive",
          "Alive",
          "Dead",
          "Alive",
          "Alive",
          "Dead",
          "Alive",
          "Alive",
          "Alive",
          "Dead",
          "Alive",
          "Alive",
          "Alive",
          "Alive",
          "Alive",
          "Alive",
          "Dead",
          "Alive",
          "Alive",
          "Alive",
          "Alive",
          "Alive",
          "Alive",
          "Alive",
          "Alive",
          "Alive",
          "Alive",
          "Alive",
          "Alive",
          "Alive",
          "Alive",
          "Alive",
          "Alive",
          "Alive",
          "Alive",
          "Alive",
          "Alive",
          "Alive",
          "Alive",
          "Dead",
          "Alive",
          "Alive",
          "Alive",
          "Alive",
          "Alive",
          "Dead",
          "Alive",
          "Dead",
          "Dead",
          "Alive",
          "Alive",
          "Dead",
          "Dead",
          "Alive",
          "Dead",
          "Alive",
          "Alive",
          "Alive",
          "Alive",
          "Alive",
          "Alive",
          "Alive",
          "Alive",
          "Alive",
          "Alive",
          "Alive",
          "Alive",
          "Dead",
          "Alive",
          "Alive",
          "Dead",
          "Alive",
          "Alive",
          "Alive",
          "Alive",
          "Alive",
          "Alive",
          "Alive",
          "Alive",
          "Alive",
          "Alive",
          "Dead",
          "Alive",
          "Alive",
          "Alive",
          "Alive",
          "Alive",
          "Alive",
          "Alive",
          "Alive",
          "Dead",
          "Alive",
          "Alive",
          "Alive",
          "Dead",
          "Alive",
          "Alive",
          "Alive",
          "Alive",
          "Alive",
          "Alive",
          "Alive",
          "Dead",
          "Alive",
          "Alive",
          "Alive",
          "Alive",
          "Alive",
          "Alive",
          "Alive",
          "Alive",
          "Alive",
          "Alive",
          "Alive",
          "Alive",
          "Dead",
          "Alive",
          "Alive",
          "Alive",
          "Alive",
          "Alive",
          "Alive",
          "Alive",
          "Alive",
          "Alive",
          "Alive",
          "Alive",
          "Dead",
          "Dead",
          "Dead",
          "Alive",
          "Alive",
          "Alive",
          "Alive",
          "Alive",
          "Alive",
          "Alive",
          "Alive",
          "Alive",
          "Alive",
          "Alive",
          "Alive",
          "Dead",
          "Alive",
          "Alive",
          "Alive",
          "Alive",
          "Alive",
          "Alive",
          "Alive",
          "Alive",
          "Alive",
          "Alive",
          "Dead",
          "Dead",
          "Alive",
          "Alive",
          "Dead",
          "Alive",
          "Alive",
          "Dead",
          "Alive",
          "Alive",
          "Alive",
          "Alive",
          "Alive",
          "Dead",
          "Dead",
          "Alive",
          "Alive",
          "Alive",
          "Alive",
          "Alive",
          "Alive",
          "Alive",
          "Alive",
          "Alive",
          "Alive",
          "Alive",
          "Dead",
          "Alive",
          "Alive",
          "Alive",
          "Alive",
          "Alive",
          "Alive",
          "Alive",
          "Alive",
          "Alive",
          "Alive",
          "Alive",
          "Alive",
          "Alive",
          "Alive",
          "Alive",
          "Alive",
          "Alive",
          "Alive",
          "Alive",
          "Dead",
          "Alive",
          "Alive",
          "Alive",
          "Alive",
          "Alive",
          "Alive",
          "Alive",
          "Alive",
          "Alive",
          "Alive",
          "Alive",
          "Dead",
          "Alive",
          "Alive",
          "Alive",
          "Alive",
          "Alive",
          "Alive",
          "Alive",
          "Alive",
          "Alive",
          "Alive",
          "Alive",
          "Alive",
          "Dead",
          "Alive",
          "Alive",
          "Alive",
          "Alive",
          "Alive",
          "Dead",
          "Alive",
          "Dead",
          "Alive",
          "Alive",
          "Alive",
          "Dead",
          "Dead",
          "Alive",
          "Alive",
          "Alive",
          "Alive",
          "Dead",
          "Alive",
          "Alive",
          "Alive",
          "Alive",
          "Alive",
          "Alive",
          "Alive",
          "Alive",
          "Dead",
          "Dead",
          "Alive",
          "Alive",
          "Alive",
          "Alive",
          "Alive",
          "Dead",
          "Alive",
          "Dead",
          "Alive",
          "Alive",
          "Alive",
          "Dead",
          "Alive",
          "Alive",
          "Alive",
          "Dead",
          "Alive",
          "Alive",
          "Alive",
          "Alive",
          "Alive",
          "Dead",
          "Alive",
          "Alive",
          "Alive",
          "Alive",
          "Alive",
          "Alive",
          "Alive",
          "Alive",
          "Alive",
          "Alive",
          "Alive",
          "Alive",
          "Alive",
          "Alive",
          "Alive",
          "Alive",
          "Alive",
          "Alive",
          "Alive",
          "Alive",
          "Alive",
          "Alive",
          "Alive",
          "Dead",
          "Alive",
          "Alive",
          "Alive",
          "Alive",
          "Dead",
          "Alive",
          "Alive",
          "Alive",
          "Alive",
          "Dead",
          "Alive",
          "Alive",
          "Alive",
          "Alive",
          "Alive",
          "Alive",
          "Alive",
          "Alive",
          "Alive",
          "Alive",
          "Alive",
          "Alive",
          "Alive",
          "Alive",
          "Alive",
          "Alive",
          "Alive",
          "Alive",
          "Alive",
          "Alive",
          "Alive",
          "Alive",
          "Alive",
          "Alive",
          "Alive",
          "Alive",
          "Alive",
          "Alive",
          "Dead",
          "Alive",
          "Dead",
          "Alive",
          "Alive",
          "Alive",
          "Alive",
          "Alive",
          "Alive",
          "Alive",
          "Alive",
          "Alive",
          "Alive",
          "Alive",
          "Alive",
          "Alive",
          "Alive",
          "Alive",
          "Alive",
          "Dead",
          "Alive",
          "Alive",
          "Alive",
          "Alive",
          "Alive",
          "Alive",
          "Alive",
          "Alive",
          "Alive",
          "Alive",
          "Alive",
          "Dead",
          "Alive",
          "Alive",
          "Alive",
          "Dead",
          "Alive",
          "Alive",
          "Alive",
          "Alive",
          "Alive",
          "Alive",
          "Dead",
          "Alive",
          "Dead",
          "Alive",
          "Alive",
          "Alive",
          "Alive",
          "Dead",
          "Alive",
          "Alive",
          "Alive",
          "Alive",
          "Alive",
          "Dead",
          "Alive",
          "Alive",
          "Alive",
          "Alive",
          "Alive",
          "Alive",
          "Dead",
          "Alive",
          "Dead",
          "Alive",
          "Alive",
          "Alive",
          "Alive",
          "Alive",
          "Dead",
          "Alive",
          "Alive",
          "Alive",
          "Alive",
          "Alive",
          "Alive",
          "Alive",
          "Alive",
          "Alive",
          "Alive",
          "Alive",
          "Alive",
          "Alive",
          "Dead",
          "Alive",
          "Alive",
          "Dead",
          "Alive",
          "Alive",
          "Alive",
          "Alive",
          "Alive",
          "Alive",
          "Alive",
          "Alive",
          "Alive",
          "Alive",
          "Alive",
          "Alive",
          "Alive",
          "Alive",
          "Dead",
          "Alive",
          "Alive",
          "Alive",
          "Alive",
          "Alive",
          "Alive",
          "Dead",
          "Dead",
          "Alive",
          "Alive",
          "Alive",
          "Alive",
          "Alive",
          "Dead",
          "Alive",
          "Alive",
          "Alive",
          "Alive",
          "Alive",
          "Alive",
          "Alive",
          "Alive",
          "Alive",
          "Alive",
          "Alive",
          "Alive",
          "Dead",
          "Alive",
          "Alive",
          "Alive",
          "Alive",
          "Dead",
          "Alive",
          "Alive",
          "Alive",
          "Alive",
          "Alive",
          "Alive",
          "Alive",
          "Alive",
          "Alive",
          "Dead",
          "Alive",
          "Alive",
          "Alive",
          "Alive",
          "Alive",
          "Alive",
          "Alive",
          "Alive",
          "Alive",
          "Alive",
          "Dead",
          "Alive",
          "Alive",
          "Alive",
          "Dead",
          "Alive",
          "Dead",
          "Dead",
          "Alive",
          "Alive",
          "Alive",
          "Dead",
          "Dead",
          "Dead",
          "Alive",
          "Alive",
          "Alive",
          "Alive",
          "Alive",
          "Alive",
          "Alive",
          "Alive",
          "Alive",
          "Dead",
          "Alive",
          "Alive",
          "Alive",
          "Alive",
          "Alive",
          "Dead",
          "Alive",
          "Alive",
          "Dead",
          "Alive",
          "Alive",
          "Alive",
          "Alive",
          "Alive",
          "Alive",
          "Dead",
          "Alive",
          "Alive",
          "Alive",
          "Alive",
          "Alive",
          "Alive",
          "Alive",
          "Alive",
          "Alive",
          "Alive",
          "Alive",
          "Alive",
          "Alive",
          "Dead",
          "Alive",
          "Alive",
          "Alive",
          "Alive",
          "Alive",
          "Alive",
          "Alive",
          "Alive",
          "Alive",
          "Alive",
          "Alive",
          "Alive",
          "Dead",
          "Alive",
          "Alive",
          "Alive",
          "Alive",
          "Dead",
          "Alive",
          "Alive",
          "Alive",
          "Alive",
          "Alive",
          "Alive",
          "Alive",
          "Alive",
          "Alive",
          "Alive",
          "Alive",
          "Alive",
          "Alive",
          "Alive",
          "Alive",
          "Alive",
          "Alive",
          "Alive",
          "Alive",
          "Alive",
          "Alive",
          "Alive",
          "Dead",
          "Dead",
          "Alive",
          "Alive",
          "Alive",
          "Alive",
          "Alive",
          "Alive",
          "Alive",
          "Alive",
          "Dead",
          "Dead",
          "Alive",
          "Alive",
          "Alive",
          "Dead",
          "Alive",
          "Alive",
          "Alive",
          "Alive",
          "Alive",
          "Dead",
          "Alive",
          "Alive",
          "Alive",
          "Alive",
          "Dead",
          "Alive",
          "Alive",
          "Alive",
          "Dead",
          "Alive",
          "Alive",
          "Alive",
          "Dead",
          "Alive",
          "Dead",
          "Alive",
          "Alive",
          "Alive",
          "Alive",
          "Alive",
          "Alive",
          "Alive",
          "Alive",
          "Dead",
          "Alive",
          "Dead",
          "Alive",
          "Alive",
          "Alive",
          "Dead",
          "Dead",
          "Alive",
          "Alive",
          "Alive",
          "Alive",
          "Alive",
          "Alive",
          "Alive",
          "Alive",
          "Dead",
          "Alive",
          "Alive",
          "Alive",
          "Alive",
          "Alive",
          "Alive",
          "Dead",
          "Alive",
          "Dead",
          "Alive",
          "Alive",
          "Alive",
          "Alive",
          "Alive",
          "Alive",
          "Alive",
          "Dead",
          "Alive",
          "Alive",
          "Alive",
          "Alive",
          "Alive",
          "Alive",
          "Alive",
          "Alive",
          "Alive",
          "Alive",
          "Alive",
          "Alive",
          "Alive",
          "Alive",
          "Alive",
          "Alive",
          "Alive",
          "Alive",
          "Alive",
          "Alive",
          "Alive",
          "Alive",
          "Alive",
          "Alive",
          "Alive",
          "Alive",
          "Alive",
          "Alive",
          "Dead",
          "Alive",
          "Dead",
          "Alive",
          "Alive",
          "Dead",
          "Alive",
          "Dead",
          "Alive",
          "Dead",
          "Alive",
          "Alive",
          "Dead",
          "Dead",
          "Alive",
          "Alive",
          "Alive",
          "Alive",
          "Alive",
          "Alive",
          "Alive",
          "Alive",
          "Alive",
          "Alive",
          "Alive",
          "Alive",
          "Dead",
          "Alive",
          "Alive",
          "Alive",
          "Dead",
          "Alive",
          "Alive",
          "Alive",
          "Alive",
          "Alive",
          "Alive",
          "Dead",
          "Alive",
          "Dead",
          "Alive",
          "Alive",
          "Alive",
          "Alive",
          "Alive",
          "Alive",
          "Alive",
          "Alive",
          "Alive",
          "Alive",
          "Alive",
          "Alive",
          "Alive",
          "Alive",
          "Alive",
          "Alive",
          "Alive",
          "Alive",
          "Alive",
          "Alive",
          "Dead",
          "Alive",
          "Alive",
          "Alive",
          "Alive",
          "Dead",
          "Alive",
          "Alive",
          "Alive",
          "Alive",
          "Alive",
          "Dead",
          "Dead",
          "Dead",
          "Alive",
          "Dead",
          "Alive",
          "Alive",
          "Alive",
          "Alive",
          "Alive",
          "Alive",
          "Alive",
          "Dead",
          "Dead",
          "Alive",
          "Alive",
          "Alive",
          "Alive",
          "Alive",
          "Alive",
          "Alive",
          "Alive",
          "Alive",
          "Alive",
          "Dead",
          "Alive",
          "Alive",
          "Alive",
          "Alive",
          "Alive",
          "Alive",
          "Alive",
          "Alive",
          "Alive",
          "Alive",
          "Alive",
          "Alive",
          "Alive",
          "Alive",
          "Alive",
          "Alive",
          "Alive",
          "Alive",
          "Alive",
          "Alive",
          "Dead",
          "Alive",
          "Alive",
          "Alive",
          "Dead",
          "Alive",
          "Alive",
          "Alive",
          "Alive",
          "Alive",
          "Dead",
          "Alive",
          "Alive",
          "Alive",
          "Alive",
          "Alive",
          "Alive",
          "Alive",
          "Alive",
          "Alive",
          "Alive",
          "Alive",
          "Alive",
          "Alive",
          "Alive",
          "Alive",
          "Dead",
          "Alive",
          "Alive",
          "Alive",
          "Alive",
          "Alive",
          "Alive",
          "Dead",
          "Alive",
          "Alive",
          "Alive",
          "Alive",
          "Dead",
          "Alive",
          "Alive",
          "Alive",
          "Alive",
          "Alive",
          "Dead",
          "Alive",
          "Alive",
          "Alive",
          "Alive",
          "Alive",
          "Alive",
          "Alive",
          "Alive",
          "Dead",
          "Alive",
          "Alive",
          "Alive",
          "Alive",
          "Dead",
          "Alive",
          "Alive",
          "Alive",
          "Alive",
          "Alive",
          "Alive",
          "Alive",
          "Alive",
          "Alive",
          "Alive",
          "Alive",
          "Alive",
          "Alive",
          "Dead",
          "Alive",
          "Alive",
          "Alive",
          "Alive",
          "Alive",
          "Alive",
          "Alive",
          "Alive",
          "Alive",
          "Alive",
          "Alive",
          "Alive",
          "Alive",
          "Alive",
          "Alive",
          "Alive",
          "Alive",
          "Alive",
          "Alive",
          "Alive",
          "Alive",
          "Alive",
          "Alive",
          "Alive",
          "Alive",
          "Alive",
          "Dead",
          "Alive",
          "Alive",
          "Alive",
          "Alive",
          "Alive",
          "Dead",
          "Alive",
          "Alive",
          "Alive",
          "Alive",
          "Alive",
          "Alive",
          "Alive",
          "Alive",
          "Alive",
          "Alive",
          "Alive",
          "Alive",
          "Alive",
          "Dead",
          "Alive",
          "Alive",
          "Dead",
          "Alive",
          "Alive",
          "Alive",
          "Alive",
          "Alive",
          "Alive",
          "Alive",
          "Alive",
          "Alive",
          "Alive",
          "Alive",
          "Alive",
          "Alive",
          "Alive",
          "Alive",
          "Alive",
          "Dead",
          "Alive",
          "Alive",
          "Dead",
          "Alive",
          "Alive",
          "Alive",
          "Dead",
          "Alive",
          "Alive",
          "Dead",
          "Alive",
          "Alive",
          "Alive",
          "Alive",
          "Alive",
          "Alive",
          "Alive",
          "Alive",
          "Alive",
          "Alive",
          "Alive",
          "Alive",
          "Alive",
          "Alive",
          "Alive",
          "Dead",
          "Alive",
          "Alive",
          "Alive",
          "Alive",
          "Dead",
          "Alive",
          "Alive",
          "Alive",
          "Alive",
          "Dead",
          "Alive",
          "Dead",
          "Alive",
          "Alive",
          "Alive",
          "Alive",
          "Alive",
          "Dead",
          "Dead",
          "Alive",
          "Alive",
          "Alive",
          "Alive",
          "Alive",
          "Alive",
          "Alive",
          "Alive",
          "Alive",
          "Alive",
          "Dead",
          "Alive",
          "Alive",
          "Alive",
          "Alive",
          "Dead",
          "Dead",
          "Alive",
          "Alive",
          "Alive",
          "Alive",
          "Alive",
          "Alive",
          "Alive",
          "Alive",
          "Alive",
          "Alive",
          "Alive",
          "Alive",
          "Alive",
          "Dead",
          "Alive",
          "Alive",
          "Alive",
          "Dead",
          "Alive",
          "Alive",
          "Dead",
          "Alive",
          "Alive",
          "Alive",
          "Alive",
          "Alive",
          "Alive",
          "Alive",
          "Alive",
          "Dead",
          "Alive",
          "Dead",
          "Alive",
          "Alive",
          "Alive",
          "Alive",
          "Alive",
          "Alive",
          "Alive",
          "Dead",
          "Alive",
          "Alive",
          "Dead",
          "Alive",
          "Alive",
          "Alive",
          "Alive",
          "Alive",
          "Dead",
          "Alive",
          "Alive",
          "Alive",
          "Alive",
          "Alive",
          "Alive",
          "Alive",
          "Alive",
          "Alive",
          "Alive",
          "Alive",
          "Alive",
          "Alive",
          "Alive",
          "Alive",
          "Alive",
          "Dead",
          "Alive",
          "Dead",
          "Alive",
          "Dead",
          "Alive",
          "Alive",
          "Alive",
          "Alive",
          "Alive",
          "Alive",
          "Alive",
          "Alive",
          "Dead",
          "Alive",
          "Alive",
          "Alive",
          "Alive",
          "Alive",
          "Dead",
          "Alive",
          "Alive",
          "Dead",
          "Alive",
          "Alive",
          "Alive",
          "Alive",
          "Alive",
          "Alive",
          "Alive",
          "Alive",
          "Dead",
          "Alive",
          "Alive",
          "Alive",
          "Alive",
          "Alive",
          "Alive",
          "Alive",
          "Dead",
          "Alive",
          "Alive",
          "Alive",
          "Alive",
          "Alive",
          "Alive",
          "Alive",
          "Alive",
          "Dead",
          "Alive",
          "Alive",
          "Alive",
          "Alive",
          "Alive",
          "Alive",
          "Alive",
          "Dead",
          "Alive",
          "Alive",
          "Alive",
          "Alive",
          "Alive",
          "Alive",
          "Alive",
          "Alive",
          "Alive",
          "Alive",
          "Alive",
          "Alive",
          "Alive",
          "Alive",
          "Alive",
          "Alive",
          "Alive",
          "Dead",
          "Alive",
          "Alive",
          "Alive",
          "Alive",
          "Alive",
          "Alive",
          "Alive",
          "Alive",
          "Dead",
          "Alive",
          "Alive",
          "Dead",
          "Alive",
          "Dead",
          "Alive",
          "Alive",
          "Alive",
          "Alive",
          "Alive",
          "Dead",
          "Alive",
          "Dead",
          "Dead",
          "Alive",
          "Dead",
          "Alive",
          "Alive",
          "Alive",
          "Alive",
          "Dead",
          "Alive",
          "Alive",
          "Alive",
          "Alive",
          "Alive",
          "Alive",
          "Dead",
          "Alive",
          "Alive",
          "Alive",
          "Alive",
          "Alive",
          "Alive",
          "Dead",
          "Dead",
          "Alive",
          "Alive",
          "Dead",
          "Alive",
          "Alive",
          "Alive",
          "Alive",
          "Dead",
          "Alive",
          "Alive",
          "Alive",
          "Alive",
          "Alive",
          "Alive",
          "Alive",
          "Alive",
          "Alive",
          "Alive",
          "Alive",
          "Dead",
          "Alive",
          "Alive",
          "Dead",
          "Alive",
          "Alive",
          "Alive",
          "Alive",
          "Alive",
          "Alive",
          "Alive",
          "Alive",
          "Alive",
          "Alive",
          "Alive",
          "Alive",
          "Alive",
          "Alive",
          "Alive",
          "Alive",
          "Alive",
          "Alive",
          "Alive",
          "Alive",
          "Alive",
          "Alive",
          "Dead",
          "Alive",
          "Alive",
          "Dead",
          "Alive",
          "Alive",
          "Alive",
          "Dead",
          "Alive",
          "Alive",
          "Alive",
          "Alive",
          "Alive",
          "Alive",
          "Alive",
          "Alive",
          "Alive",
          "Alive",
          "Alive",
          "Alive",
          "Alive",
          "Alive",
          "Alive",
          "Alive",
          "Alive",
          "Alive",
          "Alive",
          "Alive",
          "Dead",
          "Dead",
          "Alive",
          "Alive",
          "Alive",
          "Dead",
          "Alive",
          "Alive",
          "Dead",
          "Alive",
          "Dead",
          "Alive",
          "Alive",
          "Dead",
          "Alive",
          "Alive",
          "Dead",
          "Alive",
          "Alive",
          "Alive",
          "Alive",
          "Alive",
          "Alive",
          "Alive",
          "Alive",
          "Dead",
          "Alive",
          "Alive",
          "Alive",
          "Alive",
          "Dead",
          "Alive",
          "Alive",
          "Alive",
          "Alive",
          "Alive",
          "Alive",
          "Alive",
          "Dead",
          "Dead",
          "Alive",
          "Alive",
          "Dead",
          "Alive",
          "Dead",
          "Dead",
          "Alive",
          "Dead",
          "Alive",
          "Alive",
          "Dead",
          "Alive",
          "Alive",
          "Alive",
          "Dead",
          "Alive",
          "Alive",
          "Dead",
          "Alive",
          "Alive",
          "Alive",
          "Alive",
          "Dead",
          "Alive",
          "Alive",
          "Alive",
          "Alive",
          "Alive",
          "Dead",
          "Alive",
          "Alive",
          "Alive",
          "Alive",
          "Alive",
          "Alive",
          "Alive",
          "Alive",
          "Alive",
          "Alive",
          "Alive",
          "Alive",
          "Alive",
          "Alive",
          "Dead",
          "Alive",
          "Alive",
          "Alive",
          "Alive",
          "Alive",
          "Alive",
          "Alive",
          "Alive",
          "Alive",
          "Alive",
          "Alive",
          "Dead",
          "Alive",
          "Alive",
          "Alive",
          "Alive",
          "Alive",
          "Dead",
          "Alive",
          "Alive",
          "Alive",
          "Alive",
          "Alive",
          "Alive",
          "Alive",
          "Alive",
          "Alive",
          "Alive",
          "Alive",
          "Dead",
          "Alive",
          "Dead",
          "Alive",
          "Alive",
          "Alive",
          "Alive",
          "Alive",
          "Alive",
          "Alive",
          "Alive",
          "Alive",
          "Alive",
          "Alive",
          "Alive",
          "Alive",
          "Alive",
          "Alive",
          "Alive",
          "Alive",
          "Dead",
          "Alive",
          "Alive",
          "Alive",
          "Alive",
          "Dead",
          "Alive",
          "Dead",
          "Dead",
          "Dead",
          "Alive",
          "Alive",
          "Alive",
          "Alive",
          "Alive",
          "Alive",
          "Alive",
          "Alive",
          "Alive",
          "Alive",
          "Alive",
          "Alive",
          "Alive",
          "Alive",
          "Alive",
          "Alive",
          "Alive",
          "Alive",
          "Alive",
          "Dead",
          "Alive",
          "Alive",
          "Alive",
          "Alive",
          "Alive",
          "Alive",
          "Alive",
          "Alive",
          "Alive",
          "Alive",
          "Alive",
          "Dead",
          "Alive",
          "Alive",
          "Alive",
          "Alive",
          "Alive",
          "Alive",
          "Alive",
          "Alive",
          "Alive",
          "Alive",
          "Alive",
          "Alive",
          "Dead",
          "Dead",
          "Alive",
          "Dead",
          "Alive",
          "Alive",
          "Alive",
          "Alive",
          "Alive",
          "Alive",
          "Alive",
          "Alive",
          "Alive",
          "Alive",
          "Alive",
          "Alive",
          "Alive",
          "Alive",
          "Dead",
          "Alive",
          "Alive",
          "Alive",
          "Dead",
          "Alive",
          "Alive",
          "Alive",
          "Dead",
          "Alive",
          "Alive",
          "Dead",
          "Alive",
          "Alive",
          "Alive",
          "Dead",
          "Alive",
          "Alive",
          "Alive",
          "Alive",
          "Alive",
          "Alive",
          "Alive",
          "Alive",
          "Alive",
          "Dead",
          "Alive",
          "Alive",
          "Alive",
          "Alive",
          "Alive",
          "Alive",
          "Dead",
          "Alive",
          "Alive",
          "Alive",
          "Alive",
          "Alive",
          "Alive",
          "Alive",
          "Alive",
          "Alive",
          "Alive",
          "Alive",
          "Alive",
          "Alive",
          "Alive",
          "Alive",
          "Dead",
          "Dead",
          "Alive",
          "Alive",
          "Alive",
          "Alive",
          "Alive",
          "Dead",
          "Alive",
          "Dead",
          "Alive",
          "Alive",
          "Alive",
          "Dead",
          "Alive",
          "Dead",
          "Alive",
          "Alive",
          "Alive",
          "Alive",
          "Dead",
          "Alive",
          "Alive",
          "Alive",
          "Alive",
          "Alive",
          "Dead",
          "Alive",
          "Alive",
          "Dead",
          "Dead",
          "Alive",
          "Alive",
          "Alive",
          "Alive",
          "Alive",
          "Alive",
          "Alive",
          "Alive",
          "Alive",
          "Alive",
          "Alive",
          "Alive",
          "Alive",
          "Alive",
          "Alive",
          "Dead",
          "Alive",
          "Alive",
          "Alive",
          "Alive",
          "Dead",
          "Alive",
          "Alive",
          "Dead",
          "Alive",
          "Alive",
          "Dead",
          "Alive",
          "Alive",
          "Alive",
          "Alive",
          "Alive",
          "Alive",
          "Dead",
          "Alive",
          "Alive",
          "Alive",
          "Alive",
          "Dead",
          "Alive",
          "Alive",
          "Alive",
          "Alive",
          "Alive",
          "Alive",
          "Dead",
          "Dead",
          "Alive",
          "Alive",
          "Alive",
          "Alive",
          "Dead",
          "Dead",
          "Alive",
          "Alive",
          "Alive",
          "Alive",
          "Alive",
          "Alive",
          "Alive",
          "Alive",
          "Alive",
          "Alive",
          "Alive",
          "Dead",
          "Alive",
          "Alive",
          "Alive",
          "Dead",
          "Alive",
          "Alive",
          "Alive",
          "Alive",
          "Alive",
          "Alive",
          "Alive",
          "Alive",
          "Alive",
          "Alive",
          "Alive",
          "Alive",
          "Alive",
          "Alive",
          "Dead",
          "Alive",
          "Alive",
          "Alive",
          "Alive",
          "Alive",
          "Alive",
          "Alive",
          "Alive",
          "Alive",
          "Alive",
          "Alive",
          "Alive",
          "Alive",
          "Alive",
          "Alive",
          "Alive",
          "Alive",
          "Alive",
          "Alive",
          "Dead",
          "Alive",
          "Dead",
          "Alive",
          "Alive",
          "Alive",
          "Alive",
          "Alive",
          "Alive",
          "Alive",
          "Alive",
          "Alive",
          "Alive",
          "Dead",
          "Alive",
          "Alive",
          "Alive",
          "Alive",
          "Alive",
          "Alive",
          "Alive",
          "Dead",
          "Alive",
          "Alive",
          "Alive",
          "Alive",
          "Alive",
          "Alive",
          "Alive",
          "Alive",
          "Alive",
          "Alive",
          "Dead",
          "Alive",
          "Alive",
          "Alive",
          "Alive",
          "Alive",
          "Dead",
          "Alive",
          "Alive",
          "Alive",
          "Alive",
          "Dead",
          "Alive",
          "Alive",
          "Alive",
          "Alive",
          "Alive",
          "Alive",
          "Alive",
          "Dead",
          "Alive",
          "Alive",
          "Alive",
          "Alive",
          "Alive",
          "Alive",
          "Alive",
          "Alive",
          "Alive",
          "Alive",
          "Alive",
          "Alive",
          "Alive",
          "Alive",
          "Dead",
          "Alive",
          "Alive",
          "Alive",
          "Alive",
          "Alive",
          "Alive",
          "Alive",
          "Alive",
          "Alive",
          "Alive",
          "Alive",
          "Alive",
          "Alive",
          "Alive",
          "Alive",
          "Dead",
          "Dead",
          "Dead",
          "Alive",
          "Alive",
          "Alive",
          "Alive",
          "Alive",
          "Alive",
          "Alive",
          "Alive",
          "Alive",
          "Alive",
          "Alive",
          "Dead",
          "Alive",
          "Alive",
          "Alive",
          "Alive",
          "Alive",
          "Alive",
          "Dead",
          "Alive",
          "Alive",
          "Alive",
          "Alive",
          "Alive",
          "Dead",
          "Alive",
          "Alive",
          "Dead",
          "Alive",
          "Alive",
          "Alive",
          "Dead",
          "Alive",
          "Alive",
          "Alive",
          "Dead",
          "Alive",
          "Dead",
          "Alive",
          "Alive",
          "Alive",
          "Alive",
          "Alive",
          "Alive",
          "Alive",
          "Alive",
          "Alive",
          "Alive",
          "Alive",
          "Alive",
          "Alive",
          "Alive",
          "Alive",
          "Alive",
          "Alive",
          "Alive",
          "Alive",
          "Alive",
          "Alive",
          "Alive",
          "Alive",
          "Alive",
          "Alive",
          "Alive",
          "Dead",
          "Alive",
          "Dead",
          "Dead",
          "Alive",
          "Alive",
          "Dead",
          "Alive",
          "Alive",
          "Alive",
          "Dead",
          "Alive",
          "Alive",
          "Alive",
          "Alive",
          "Alive",
          "Alive",
          "Alive",
          "Alive",
          "Alive",
          "Alive",
          "Alive",
          "Alive",
          "Alive",
          "Alive",
          "Alive",
          "Alive",
          "Alive",
          "Alive",
          "Alive",
          "Alive",
          "Alive",
          "Alive",
          "Alive",
          "Dead",
          "Alive",
          "Alive",
          "Alive",
          "Alive",
          "Alive",
          "Alive",
          "Alive",
          "Alive",
          "Alive",
          "Dead",
          "Alive",
          "Dead",
          "Alive",
          "Alive",
          "Alive",
          "Alive",
          "Alive",
          "Alive",
          "Alive",
          "Alive",
          "Dead",
          "Alive",
          "Alive",
          "Alive",
          "Alive",
          "Dead",
          "Alive",
          "Alive",
          "Alive",
          "Alive",
          "Alive",
          "Dead",
          "Alive",
          "Alive",
          "Alive",
          "Alive",
          "Dead",
          "Alive",
          "Alive",
          "Alive",
          "Alive",
          "Alive",
          "Alive",
          "Alive",
          "Alive",
          "Alive",
          "Alive",
          "Alive",
          "Alive",
          "Alive",
          "Alive",
          "Dead",
          "Alive",
          "Alive",
          "Alive",
          "Alive",
          "Alive",
          "Alive",
          "Alive",
          "Alive",
          "Alive",
          "Alive",
          "Alive",
          "Alive",
          "Dead",
          "Alive",
          "Dead",
          "Alive",
          "Alive",
          "Dead",
          "Alive",
          "Alive",
          "Alive",
          "Alive",
          "Dead",
          "Dead",
          "Alive",
          "Alive",
          "Alive",
          "Dead",
          "Alive",
          "Alive",
          "Alive",
          "Dead",
          "Alive",
          "Alive",
          "Alive",
          "Dead",
          "Alive",
          "Alive",
          "Alive",
          "Alive",
          "Alive",
          "Alive",
          "Alive",
          "Alive",
          "Alive",
          "Alive",
          "Alive",
          "Alive",
          "Alive",
          "Alive",
          "Alive",
          "Alive",
          "Alive",
          "Alive",
          "Alive",
          "Dead",
          "Alive",
          "Alive",
          "Alive",
          "Alive",
          "Alive",
          "Alive",
          "Alive",
          "Alive",
          "Dead",
          "Alive",
          "Alive",
          "Alive",
          "Alive",
          "Alive",
          "Alive",
          "Alive",
          "Alive",
          "Alive",
          "Alive",
          "Alive",
          "Alive",
          "Alive",
          "Alive",
          "Alive",
          "Alive",
          "Dead",
          "Alive",
          "Alive",
          "Alive",
          "Alive",
          "Alive",
          "Alive",
          "Alive",
          "Alive",
          "Alive",
          "Alive",
          "Alive",
          "Dead",
          "Alive",
          "Alive",
          "Alive",
          "Alive",
          "Alive",
          "Alive",
          "Alive",
          "Dead",
          "Alive",
          "Alive",
          "Alive",
          "Alive",
          "Alive",
          "Alive",
          "Alive",
          "Alive",
          "Alive",
          "Dead",
          "Alive",
          "Alive",
          "Alive",
          "Alive",
          "Alive",
          "Alive",
          "Alive",
          "Alive",
          "Alive",
          "Alive",
          "Alive",
          "Alive",
          "Alive",
          "Alive",
          "Alive",
          "Dead",
          "Alive",
          "Dead",
          "Alive",
          "Alive",
          "Alive",
          "Alive",
          "Alive",
          "Alive",
          "Alive",
          "Alive",
          "Alive",
          "Alive",
          "Alive",
          "Alive",
          "Alive",
          "Alive",
          "Dead",
          "Alive",
          "Alive",
          "Alive",
          "Alive",
          "Alive",
          "Alive",
          "Alive",
          "Alive",
          "Alive",
          "Alive",
          "Alive",
          "Alive",
          "Alive",
          "Alive",
          "Alive",
          "Alive",
          "Alive",
          "Alive",
          "Alive",
          "Alive",
          "Dead",
          "Alive",
          "Alive",
          "Dead",
          "Alive",
          "Alive",
          "Alive",
          "Dead",
          "Alive",
          "Alive",
          "Alive",
          "Alive",
          "Dead",
          "Alive",
          "Dead",
          "Alive",
          "Alive",
          "Alive",
          "Dead",
          "Alive",
          "Alive",
          "Alive",
          "Alive",
          "Alive",
          "Dead",
          "Dead",
          "Alive",
          "Alive",
          "Alive",
          "Alive",
          "Dead",
          "Dead",
          "Alive",
          "Alive",
          "Alive",
          "Alive",
          "Alive",
          "Alive",
          "Alive",
          "Alive",
          "Dead",
          "Alive",
          "Alive",
          "Alive",
          "Alive",
          "Alive",
          "Alive",
          "Alive",
          "Alive",
          "Alive",
          "Dead",
          "Alive",
          "Alive",
          "Alive",
          "Alive",
          "Dead",
          "Dead",
          "Alive",
          "Dead",
          "Alive",
          "Alive",
          "Alive",
          "Alive",
          "Alive",
          "Alive",
          "Alive",
          "Alive",
          "Alive",
          "Alive",
          "Alive",
          "Dead",
          "Alive",
          "Dead",
          "Alive",
          "Alive",
          "Dead",
          "Dead",
          "Alive",
          "Alive",
          "Alive",
          "Alive",
          "Alive",
          "Alive",
          "Alive",
          "Alive",
          "Alive",
          "Alive",
          "Dead",
          "Alive",
          "Dead",
          "Alive",
          "Alive",
          "Alive",
          "Alive",
          "Alive",
          "Alive",
          "Alive",
          "Dead",
          "Alive",
          "Alive",
          "Alive",
          "Alive",
          "Alive",
          "Alive",
          "Alive",
          "Dead",
          "Alive",
          "Dead",
          "Alive",
          "Alive",
          "Alive",
          "Alive",
          "Alive",
          "Dead",
          "Alive",
          "Alive",
          "Dead",
          "Dead",
          "Alive",
          "Alive",
          "Alive",
          "Alive",
          "Alive",
          "Dead",
          "Alive",
          "Alive",
          "Alive",
          "Dead",
          "Alive",
          "Alive",
          "Alive",
          "Alive",
          "Alive",
          "Alive",
          "Alive",
          "Alive",
          "Alive",
          "Alive",
          "Alive",
          "Dead",
          "Alive",
          "Alive",
          "Alive",
          "Alive",
          "Alive",
          "Alive",
          "Alive",
          "Dead",
          "Dead",
          "Alive",
          "Alive",
          "Alive",
          "Dead",
          "Alive",
          "Alive",
          "Alive",
          "Alive",
          "Dead",
          "Alive",
          "Alive",
          "Dead",
          "Alive",
          "Alive",
          "Dead",
          "Alive",
          "Alive",
          "Alive",
          "Dead",
          "Alive",
          "Alive",
          "Alive",
          "Alive",
          "Alive",
          "Alive",
          "Alive",
          "Alive",
          "Alive",
          "Dead",
          "Alive",
          "Alive",
          "Alive",
          "Alive",
          "Alive",
          "Alive",
          "Alive",
          "Alive",
          "Alive",
          "Dead",
          "Dead",
          "Alive",
          "Alive",
          "Alive",
          "Alive",
          "Alive",
          "Alive",
          "Alive",
          "Alive",
          "Alive",
          "Alive",
          "Alive",
          "Alive",
          "Dead",
          "Alive",
          "Alive",
          "Dead",
          "Alive",
          "Dead",
          "Dead",
          "Dead",
          "Alive",
          "Alive",
          "Alive",
          "Alive",
          "Dead",
          "Dead",
          "Alive",
          "Alive",
          "Alive",
          "Alive",
          "Alive",
          "Alive",
          "Alive",
          "Alive",
          "Alive",
          "Alive",
          "Alive",
          "Alive",
          "Alive",
          "Alive",
          "Alive",
          "Alive",
          "Alive",
          "Alive",
          "Alive",
          "Alive",
          "Alive",
          "Alive",
          "Alive",
          "Alive",
          "Alive",
          "Alive",
          "Alive",
          "Alive",
          "Alive",
          "Dead",
          "Alive",
          "Alive",
          "Alive",
          "Alive",
          "Alive",
          "Alive",
          "Dead",
          "Alive",
          "Dead",
          "Alive",
          "Alive",
          "Dead",
          "Alive",
          "Alive",
          "Alive",
          "Alive",
          "Alive",
          "Alive",
          "Dead",
          "Alive",
          "Alive",
          "Alive",
          "Alive",
          "Alive",
          "Alive",
          "Alive",
          "Alive",
          "Alive",
          "Dead",
          "Alive",
          "Alive",
          "Alive",
          "Dead",
          "Alive",
          "Alive",
          "Alive",
          "Alive",
          "Dead",
          "Alive",
          "Alive",
          "Alive",
          "Alive",
          "Alive",
          "Alive",
          "Alive",
          "Alive",
          "Alive",
          "Alive",
          "Alive",
          "Dead",
          "Dead",
          "Alive",
          "Alive",
          "Dead",
          "Dead",
          "Alive",
          "Alive",
          "Alive",
          "Alive",
          "Alive",
          "Alive",
          "Alive",
          "Alive",
          "Alive",
          "Alive",
          "Alive",
          "Alive",
          "Alive",
          "Alive",
          "Alive",
          "Alive",
          "Alive",
          "Dead",
          "Alive",
          "Alive",
          "Alive",
          "Alive",
          "Alive",
          "Alive",
          "Dead",
          "Alive",
          "Alive",
          "Alive",
          "Alive",
          "Alive",
          "Dead",
          "Alive",
          "Alive",
          "Alive",
          "Alive",
          "Dead",
          "Alive",
          "Alive",
          "Alive",
          "Dead",
          "Alive",
          "Alive",
          "Alive",
          "Alive",
          "Dead",
          "Alive",
          "Alive",
          "Dead",
          "Alive",
          "Dead",
          "Alive",
          "Alive",
          "Alive",
          "Alive",
          "Alive",
          "Alive",
          "Alive",
          "Alive",
          "Dead",
          "Alive",
          "Alive",
          "Alive",
          "Alive",
          "Alive",
          "Alive",
          "Alive",
          "Alive",
          "Alive",
          "Alive",
          "Dead",
          "Alive",
          "Alive",
          "Alive",
          "Dead",
          "Alive",
          "Alive",
          "Alive",
          "Alive",
          "Alive",
          "Alive",
          "Alive",
          "Alive",
          "Dead",
          "Alive",
          "Dead",
          "Alive",
          "Alive",
          "Alive",
          "Alive",
          "Alive",
          "Alive",
          "Alive",
          "Alive",
          "Alive",
          "Alive",
          "Alive",
          "Alive",
          "Alive",
          "Alive",
          "Alive",
          "Alive",
          "Alive",
          "Alive",
          "Alive",
          "Alive",
          "Alive",
          "Alive",
          "Alive",
          "Alive",
          "Alive",
          "Alive",
          "Alive",
          "Alive",
          "Alive",
          "Alive",
          "Alive",
          "Alive",
          "Alive",
          "Alive",
          "Alive",
          "Alive",
          "Alive",
          "Alive",
          "Alive",
          "Alive",
          "Alive",
          "Dead",
          "Alive",
          "Alive",
          "Alive",
          "Alive",
          "Alive",
          "Alive",
          "Alive",
          "Alive",
          "Alive",
          "Alive",
          "Alive",
          "Alive",
          "Alive",
          "Alive",
          "Alive",
          "Alive",
          "Alive",
          "Alive",
          "Alive",
          "Alive",
          "Alive",
          "Alive",
          "Alive",
          "Alive",
          "Dead",
          "Alive",
          "Alive",
          "Alive",
          "Dead",
          "Alive",
          "Alive",
          "Alive",
          "Alive",
          "Alive",
          "Alive",
          "Alive",
          "Alive",
          "Alive",
          "Dead",
          "Alive",
          "Alive",
          "Alive",
          "Alive",
          "Alive",
          "Dead",
          "Alive",
          "Alive",
          "Alive",
          "Alive",
          "Alive",
          "Alive",
          "Dead",
          "Alive",
          "Alive",
          "Alive",
          "Alive",
          "Alive",
          "Alive",
          "Alive",
          "Dead",
          "Alive",
          "Alive",
          "Alive",
          "Alive",
          "Alive",
          "Alive",
          "Alive",
          "Alive",
          "Alive",
          "Dead",
          "Alive",
          "Alive",
          "Alive",
          "Dead",
          "Alive",
          "Dead",
          "Dead",
          "Alive",
          "Alive",
          "Alive",
          "Dead",
          "Alive",
          "Alive",
          "Alive",
          "Alive",
          "Alive",
          "Alive",
          "Alive",
          "Alive",
          "Alive",
          "Alive",
          "Alive",
          "Dead",
          "Alive",
          "Alive",
          "Alive",
          "Alive",
          "Alive",
          "Alive",
          "Alive",
          "Alive",
          "Alive",
          "Dead",
          "Dead",
          "Alive",
          "Alive",
          "Alive",
          "Alive",
          "Alive",
          "Alive",
          "Alive",
          "Alive",
          "Dead",
          "Alive",
          "Dead",
          "Alive",
          "Alive",
          "Alive",
          "Alive",
          "Alive",
          "Alive",
          "Alive",
          "Alive",
          "Alive",
          "Alive",
          "Alive",
          "Alive",
          "Alive",
          "Alive",
          "Alive",
          "Alive",
          "Dead",
          "Alive",
          "Alive",
          "Dead",
          "Alive",
          "Alive",
          "Alive",
          "Alive",
          "Alive",
          "Alive",
          "Alive",
          "Alive",
          "Alive",
          "Alive",
          "Alive",
          "Dead",
          "Alive",
          "Alive",
          "Alive",
          "Alive",
          "Alive",
          "Alive",
          "Alive",
          "Alive",
          "Dead",
          "Alive",
          "Alive",
          "Alive",
          "Alive",
          "Dead",
          "Alive",
          "Alive",
          "Alive",
          "Alive",
          "Alive",
          "Alive",
          "Alive",
          "Alive",
          "Alive",
          "Alive",
          "Dead",
          "Alive",
          "Alive",
          "Alive",
          "Alive",
          "Alive",
          "Alive",
          "Dead",
          "Alive",
          "Alive",
          "Alive",
          "Dead",
          "Alive",
          "Alive",
          "Alive",
          "Alive",
          "Alive",
          "Alive",
          "Dead",
          "Dead",
          "Alive",
          "Alive",
          "Alive",
          "Alive",
          "Alive",
          "Dead",
          "Alive",
          "Alive",
          "Alive",
          "Alive",
          "Alive",
          "Alive",
          "Dead",
          "Alive",
          "Alive",
          "Alive",
          "Alive",
          "Alive",
          "Alive"
         ],
         "legendgroup": "",
         "marker": {
          "colors": [
           "#00cc96",
           "#00cc96",
           "#00cc96",
           "#00cc96",
           "#00cc96",
           "#00cc96",
           "#00cc96",
           "#ab63fa",
           "#00cc96",
           "#00cc96",
           "#ab63fa",
           "#00cc96",
           "#00cc96",
           "#00cc96",
           "#00cc96",
           "#00cc96",
           "#00cc96",
           "#00cc96",
           "#00cc96",
           "#00cc96",
           "#00cc96",
           "#00cc96",
           "#00cc96",
           "#00cc96",
           "#00cc96",
           "#00cc96",
           "#00cc96",
           "#00cc96",
           "#00cc96",
           "#00cc96",
           "#00cc96",
           "#00cc96",
           "#00cc96",
           "#00cc96",
           "#00cc96",
           "#00cc96",
           "#00cc96",
           "#00cc96",
           "#00cc96",
           "#00cc96",
           "#ab63fa",
           "#00cc96",
           "#00cc96",
           "#00cc96",
           "#00cc96",
           "#00cc96",
           "#ab63fa",
           "#00cc96",
           "#00cc96",
           "#00cc96",
           "#00cc96",
           "#00cc96",
           "#00cc96",
           "#00cc96",
           "#00cc96",
           "#00cc96",
           "#00cc96",
           "#00cc96",
           "#00cc96",
           "#00cc96",
           "#00cc96",
           "#00cc96",
           "#00cc96",
           "#00cc96",
           "#ab63fa",
           "#00cc96",
           "#ab63fa",
           "#00cc96",
           "#00cc96",
           "#00cc96",
           "#00cc96",
           "#ab63fa",
           "#00cc96",
           "#00cc96",
           "#00cc96",
           "#00cc96",
           "#00cc96",
           "#00cc96",
           "#00cc96",
           "#00cc96",
           "#00cc96",
           "#00cc96",
           "#00cc96",
           "#00cc96",
           "#00cc96",
           "#00cc96",
           "#00cc96",
           "#00cc96",
           "#00cc96",
           "#00cc96",
           "#ab63fa",
           "#00cc96",
           "#ab63fa",
           "#ab63fa",
           "#00cc96",
           "#00cc96",
           "#ab63fa",
           "#00cc96",
           "#ab63fa",
           "#00cc96",
           "#ab63fa",
           "#00cc96",
           "#00cc96",
           "#ab63fa",
           "#00cc96",
           "#00cc96",
           "#ab63fa",
           "#00cc96",
           "#00cc96",
           "#00cc96",
           "#00cc96",
           "#ab63fa",
           "#00cc96",
           "#00cc96",
           "#00cc96",
           "#00cc96",
           "#00cc96",
           "#00cc96",
           "#00cc96",
           "#00cc96",
           "#00cc96",
           "#00cc96",
           "#00cc96",
           "#00cc96",
           "#00cc96",
           "#ab63fa",
           "#00cc96",
           "#00cc96",
           "#00cc96",
           "#00cc96",
           "#00cc96",
           "#00cc96",
           "#00cc96",
           "#00cc96",
           "#ab63fa",
           "#ab63fa",
           "#00cc96",
           "#ab63fa",
           "#ab63fa",
           "#00cc96",
           "#00cc96",
           "#00cc96",
           "#00cc96",
           "#ab63fa",
           "#ab63fa",
           "#00cc96",
           "#00cc96",
           "#ab63fa",
           "#00cc96",
           "#00cc96",
           "#00cc96",
           "#00cc96",
           "#ab63fa",
           "#00cc96",
           "#00cc96",
           "#00cc96",
           "#00cc96",
           "#00cc96",
           "#00cc96",
           "#ab63fa",
           "#00cc96",
           "#00cc96",
           "#00cc96",
           "#00cc96",
           "#00cc96",
           "#00cc96",
           "#00cc96",
           "#00cc96",
           "#00cc96",
           "#00cc96",
           "#ab63fa",
           "#00cc96",
           "#00cc96",
           "#00cc96",
           "#00cc96",
           "#00cc96",
           "#ab63fa",
           "#00cc96",
           "#00cc96",
           "#ab63fa",
           "#00cc96",
           "#ab63fa",
           "#ab63fa",
           "#00cc96",
           "#00cc96",
           "#00cc96",
           "#00cc96",
           "#00cc96",
           "#ab63fa",
           "#00cc96",
           "#00cc96",
           "#00cc96",
           "#00cc96",
           "#00cc96",
           "#00cc96",
           "#00cc96",
           "#00cc96",
           "#00cc96",
           "#00cc96",
           "#00cc96",
           "#00cc96",
           "#00cc96",
           "#ab63fa",
           "#ab63fa",
           "#00cc96",
           "#00cc96",
           "#00cc96",
           "#00cc96",
           "#00cc96",
           "#00cc96",
           "#00cc96",
           "#ab63fa",
           "#00cc96",
           "#00cc96",
           "#00cc96",
           "#ab63fa",
           "#ab63fa",
           "#00cc96",
           "#00cc96",
           "#ab63fa",
           "#ab63fa",
           "#ab63fa",
           "#00cc96",
           "#00cc96",
           "#00cc96",
           "#00cc96",
           "#00cc96",
           "#00cc96",
           "#00cc96",
           "#00cc96",
           "#00cc96",
           "#00cc96",
           "#00cc96",
           "#00cc96",
           "#00cc96",
           "#00cc96",
           "#00cc96",
           "#00cc96",
           "#ab63fa",
           "#00cc96",
           "#ab63fa",
           "#00cc96",
           "#00cc96",
           "#00cc96",
           "#00cc96",
           "#00cc96",
           "#00cc96",
           "#ab63fa",
           "#00cc96",
           "#00cc96",
           "#00cc96",
           "#00cc96",
           "#00cc96",
           "#00cc96",
           "#00cc96",
           "#00cc96",
           "#00cc96",
           "#00cc96",
           "#00cc96",
           "#00cc96",
           "#00cc96",
           "#00cc96",
           "#00cc96",
           "#ab63fa",
           "#00cc96",
           "#00cc96",
           "#00cc96",
           "#00cc96",
           "#ab63fa",
           "#00cc96",
           "#ab63fa",
           "#00cc96",
           "#00cc96",
           "#00cc96",
           "#00cc96",
           "#00cc96",
           "#00cc96",
           "#ab63fa",
           "#00cc96",
           "#00cc96",
           "#00cc96",
           "#00cc96",
           "#ab63fa",
           "#00cc96",
           "#00cc96",
           "#ab63fa",
           "#00cc96",
           "#00cc96",
           "#00cc96",
           "#ab63fa",
           "#00cc96",
           "#00cc96",
           "#ab63fa",
           "#00cc96",
           "#00cc96",
           "#00cc96",
           "#00cc96",
           "#00cc96",
           "#00cc96",
           "#00cc96",
           "#00cc96",
           "#00cc96",
           "#00cc96",
           "#00cc96",
           "#00cc96",
           "#ab63fa",
           "#00cc96",
           "#00cc96",
           "#00cc96",
           "#00cc96",
           "#00cc96",
           "#00cc96",
           "#00cc96",
           "#ab63fa",
           "#00cc96",
           "#00cc96",
           "#00cc96",
           "#00cc96",
           "#00cc96",
           "#00cc96",
           "#00cc96",
           "#00cc96",
           "#00cc96",
           "#00cc96",
           "#00cc96",
           "#00cc96",
           "#00cc96",
           "#00cc96",
           "#00cc96",
           "#00cc96",
           "#00cc96",
           "#ab63fa",
           "#00cc96",
           "#00cc96",
           "#00cc96",
           "#00cc96",
           "#00cc96",
           "#00cc96",
           "#00cc96",
           "#00cc96",
           "#00cc96",
           "#00cc96",
           "#00cc96",
           "#00cc96",
           "#00cc96",
           "#00cc96",
           "#00cc96",
           "#00cc96",
           "#00cc96",
           "#00cc96",
           "#00cc96",
           "#00cc96",
           "#00cc96",
           "#00cc96",
           "#00cc96",
           "#00cc96",
           "#00cc96",
           "#ab63fa",
           "#00cc96",
           "#00cc96",
           "#00cc96",
           "#00cc96",
           "#ab63fa",
           "#ab63fa",
           "#00cc96",
           "#00cc96",
           "#00cc96",
           "#00cc96",
           "#00cc96",
           "#ab63fa",
           "#00cc96",
           "#ab63fa",
           "#00cc96",
           "#00cc96",
           "#00cc96",
           "#00cc96",
           "#00cc96",
           "#00cc96",
           "#00cc96",
           "#ab63fa",
           "#00cc96",
           "#00cc96",
           "#00cc96",
           "#00cc96",
           "#00cc96",
           "#00cc96",
           "#00cc96",
           "#00cc96",
           "#00cc96",
           "#00cc96",
           "#00cc96",
           "#00cc96",
           "#00cc96",
           "#00cc96",
           "#ab63fa",
           "#00cc96",
           "#00cc96",
           "#00cc96",
           "#00cc96",
           "#00cc96",
           "#00cc96",
           "#00cc96",
           "#00cc96",
           "#00cc96",
           "#00cc96",
           "#00cc96",
           "#00cc96",
           "#00cc96",
           "#00cc96",
           "#00cc96",
           "#00cc96",
           "#00cc96",
           "#00cc96",
           "#ab63fa",
           "#00cc96",
           "#00cc96",
           "#00cc96",
           "#00cc96",
           "#00cc96",
           "#00cc96",
           "#00cc96",
           "#00cc96",
           "#00cc96",
           "#00cc96",
           "#00cc96",
           "#00cc96",
           "#00cc96",
           "#00cc96",
           "#ab63fa",
           "#00cc96",
           "#00cc96",
           "#00cc96",
           "#00cc96",
           "#00cc96",
           "#00cc96",
           "#ab63fa",
           "#00cc96",
           "#00cc96",
           "#00cc96",
           "#00cc96",
           "#00cc96",
           "#ab63fa",
           "#00cc96",
           "#00cc96",
           "#00cc96",
           "#ab63fa",
           "#00cc96",
           "#00cc96",
           "#00cc96",
           "#00cc96",
           "#00cc96",
           "#00cc96",
           "#00cc96",
           "#00cc96",
           "#00cc96",
           "#ab63fa",
           "#00cc96",
           "#ab63fa",
           "#00cc96",
           "#00cc96",
           "#00cc96",
           "#00cc96",
           "#00cc96",
           "#00cc96",
           "#00cc96",
           "#00cc96",
           "#00cc96",
           "#00cc96",
           "#00cc96",
           "#00cc96",
           "#00cc96",
           "#00cc96",
           "#00cc96",
           "#00cc96",
           "#ab63fa",
           "#00cc96",
           "#00cc96",
           "#00cc96",
           "#00cc96",
           "#00cc96",
           "#00cc96",
           "#00cc96",
           "#ab63fa",
           "#00cc96",
           "#ab63fa",
           "#00cc96",
           "#ab63fa",
           "#00cc96",
           "#00cc96",
           "#00cc96",
           "#00cc96",
           "#00cc96",
           "#00cc96",
           "#ab63fa",
           "#00cc96",
           "#00cc96",
           "#00cc96",
           "#00cc96",
           "#00cc96",
           "#00cc96",
           "#00cc96",
           "#00cc96",
           "#00cc96",
           "#00cc96",
           "#00cc96",
           "#00cc96",
           "#00cc96",
           "#ab63fa",
           "#00cc96",
           "#00cc96",
           "#00cc96",
           "#ab63fa",
           "#00cc96",
           "#00cc96",
           "#00cc96",
           "#00cc96",
           "#00cc96",
           "#00cc96",
           "#00cc96",
           "#00cc96",
           "#ab63fa",
           "#00cc96",
           "#ab63fa",
           "#ab63fa",
           "#00cc96",
           "#ab63fa",
           "#00cc96",
           "#00cc96",
           "#00cc96",
           "#00cc96",
           "#00cc96",
           "#00cc96",
           "#00cc96",
           "#00cc96",
           "#ab63fa",
           "#00cc96",
           "#00cc96",
           "#ab63fa",
           "#00cc96",
           "#00cc96",
           "#00cc96",
           "#00cc96",
           "#00cc96",
           "#00cc96",
           "#00cc96",
           "#00cc96",
           "#ab63fa",
           "#00cc96",
           "#ab63fa",
           "#00cc96",
           "#ab63fa",
           "#00cc96",
           "#00cc96",
           "#00cc96",
           "#00cc96",
           "#00cc96",
           "#ab63fa",
           "#00cc96",
           "#00cc96",
           "#00cc96",
           "#00cc96",
           "#00cc96",
           "#00cc96",
           "#00cc96",
           "#00cc96",
           "#ab63fa",
           "#ab63fa",
           "#00cc96",
           "#00cc96",
           "#00cc96",
           "#00cc96",
           "#00cc96",
           "#ab63fa",
           "#00cc96",
           "#00cc96",
           "#00cc96",
           "#00cc96",
           "#00cc96",
           "#00cc96",
           "#00cc96",
           "#ab63fa",
           "#ab63fa",
           "#00cc96",
           "#00cc96",
           "#00cc96",
           "#00cc96",
           "#00cc96",
           "#00cc96",
           "#ab63fa",
           "#00cc96",
           "#00cc96",
           "#00cc96",
           "#00cc96",
           "#ab63fa",
           "#00cc96",
           "#00cc96",
           "#00cc96",
           "#00cc96",
           "#00cc96",
           "#00cc96",
           "#00cc96",
           "#00cc96",
           "#00cc96",
           "#00cc96",
           "#00cc96",
           "#00cc96",
           "#00cc96",
           "#ab63fa",
           "#00cc96",
           "#00cc96",
           "#00cc96",
           "#00cc96",
           "#00cc96",
           "#00cc96",
           "#00cc96",
           "#00cc96",
           "#00cc96",
           "#00cc96",
           "#00cc96",
           "#00cc96",
           "#ab63fa",
           "#00cc96",
           "#00cc96",
           "#00cc96",
           "#00cc96",
           "#00cc96",
           "#00cc96",
           "#00cc96",
           "#00cc96",
           "#00cc96",
           "#00cc96",
           "#ab63fa",
           "#00cc96",
           "#ab63fa",
           "#00cc96",
           "#00cc96",
           "#00cc96",
           "#00cc96",
           "#00cc96",
           "#00cc96",
           "#00cc96",
           "#ab63fa",
           "#00cc96",
           "#00cc96",
           "#00cc96",
           "#00cc96",
           "#00cc96",
           "#00cc96",
           "#00cc96",
           "#ab63fa",
           "#00cc96",
           "#00cc96",
           "#00cc96",
           "#00cc96",
           "#00cc96",
           "#00cc96",
           "#ab63fa",
           "#00cc96",
           "#00cc96",
           "#ab63fa",
           "#00cc96",
           "#00cc96",
           "#00cc96",
           "#ab63fa",
           "#00cc96",
           "#ab63fa",
           "#00cc96",
           "#00cc96",
           "#00cc96",
           "#00cc96",
           "#00cc96",
           "#00cc96",
           "#00cc96",
           "#00cc96",
           "#00cc96",
           "#00cc96",
           "#00cc96",
           "#ab63fa",
           "#00cc96",
           "#ab63fa",
           "#00cc96",
           "#00cc96",
           "#00cc96",
           "#ab63fa",
           "#00cc96",
           "#00cc96",
           "#00cc96",
           "#00cc96",
           "#00cc96",
           "#00cc96",
           "#00cc96",
           "#00cc96",
           "#00cc96",
           "#00cc96",
           "#00cc96",
           "#00cc96",
           "#ab63fa",
           "#00cc96",
           "#00cc96",
           "#00cc96",
           "#00cc96",
           "#00cc96",
           "#00cc96",
           "#ab63fa",
           "#00cc96",
           "#00cc96",
           "#00cc96",
           "#00cc96",
           "#ab63fa",
           "#00cc96",
           "#00cc96",
           "#00cc96",
           "#00cc96",
           "#00cc96",
           "#00cc96",
           "#00cc96",
           "#00cc96",
           "#00cc96",
           "#00cc96",
           "#00cc96",
           "#00cc96",
           "#00cc96",
           "#00cc96",
           "#00cc96",
           "#ab63fa",
           "#00cc96",
           "#ab63fa",
           "#ab63fa",
           "#ab63fa",
           "#ab63fa",
           "#ab63fa",
           "#00cc96",
           "#00cc96",
           "#ab63fa",
           "#00cc96",
           "#00cc96",
           "#ab63fa",
           "#00cc96",
           "#00cc96",
           "#00cc96",
           "#00cc96",
           "#00cc96",
           "#ab63fa",
           "#00cc96",
           "#00cc96",
           "#00cc96",
           "#00cc96",
           "#00cc96",
           "#00cc96",
           "#00cc96",
           "#00cc96",
           "#00cc96",
           "#ab63fa",
           "#ab63fa",
           "#ab63fa",
           "#00cc96",
           "#00cc96",
           "#ab63fa",
           "#ab63fa",
           "#00cc96",
           "#00cc96",
           "#00cc96",
           "#00cc96",
           "#00cc96",
           "#00cc96",
           "#00cc96",
           "#00cc96",
           "#00cc96",
           "#00cc96",
           "#00cc96",
           "#00cc96",
           "#00cc96",
           "#00cc96",
           "#00cc96",
           "#00cc96",
           "#00cc96",
           "#ab63fa",
           "#00cc96",
           "#00cc96",
           "#ab63fa",
           "#00cc96",
           "#00cc96",
           "#00cc96",
           "#ab63fa",
           "#00cc96",
           "#00cc96",
           "#00cc96",
           "#00cc96",
           "#00cc96",
           "#00cc96",
           "#00cc96",
           "#00cc96",
           "#00cc96",
           "#00cc96",
           "#00cc96",
           "#00cc96",
           "#00cc96",
           "#00cc96",
           "#00cc96",
           "#ab63fa",
           "#ab63fa",
           "#ab63fa",
           "#00cc96",
           "#00cc96",
           "#00cc96",
           "#00cc96",
           "#00cc96",
           "#00cc96",
           "#00cc96",
           "#00cc96",
           "#00cc96",
           "#00cc96",
           "#00cc96",
           "#00cc96",
           "#00cc96",
           "#00cc96",
           "#00cc96",
           "#00cc96",
           "#00cc96",
           "#00cc96",
           "#00cc96",
           "#00cc96",
           "#00cc96",
           "#00cc96",
           "#00cc96",
           "#00cc96",
           "#00cc96",
           "#00cc96",
           "#00cc96",
           "#00cc96",
           "#00cc96",
           "#00cc96",
           "#ab63fa",
           "#00cc96",
           "#ab63fa",
           "#00cc96",
           "#00cc96",
           "#00cc96",
           "#ab63fa",
           "#00cc96",
           "#00cc96",
           "#00cc96",
           "#00cc96",
           "#ab63fa",
           "#00cc96",
           "#00cc96",
           "#00cc96",
           "#00cc96",
           "#00cc96",
           "#00cc96",
           "#ab63fa",
           "#ab63fa",
           "#00cc96",
           "#ab63fa",
           "#00cc96",
           "#00cc96",
           "#00cc96",
           "#ab63fa",
           "#00cc96",
           "#00cc96",
           "#ab63fa",
           "#00cc96",
           "#00cc96",
           "#ab63fa",
           "#ab63fa",
           "#00cc96",
           "#00cc96",
           "#ab63fa",
           "#00cc96",
           "#00cc96",
           "#ab63fa",
           "#00cc96",
           "#00cc96",
           "#00cc96",
           "#00cc96",
           "#00cc96",
           "#00cc96",
           "#ab63fa",
           "#00cc96",
           "#00cc96",
           "#00cc96",
           "#00cc96",
           "#00cc96",
           "#00cc96",
           "#00cc96",
           "#00cc96",
           "#00cc96",
           "#ab63fa",
           "#00cc96",
           "#00cc96",
           "#00cc96",
           "#00cc96",
           "#ab63fa",
           "#00cc96",
           "#00cc96",
           "#00cc96",
           "#ab63fa",
           "#ab63fa",
           "#00cc96",
           "#00cc96",
           "#00cc96",
           "#00cc96",
           "#00cc96",
           "#00cc96",
           "#00cc96",
           "#00cc96",
           "#00cc96",
           "#00cc96",
           "#ab63fa",
           "#ab63fa",
           "#00cc96",
           "#ab63fa",
           "#00cc96",
           "#00cc96",
           "#00cc96",
           "#00cc96",
           "#00cc96",
           "#ab63fa",
           "#00cc96",
           "#00cc96",
           "#00cc96",
           "#00cc96",
           "#ab63fa",
           "#00cc96",
           "#00cc96",
           "#00cc96",
           "#00cc96",
           "#00cc96",
           "#ab63fa",
           "#00cc96",
           "#00cc96",
           "#ab63fa",
           "#00cc96",
           "#00cc96",
           "#00cc96",
           "#ab63fa",
           "#00cc96",
           "#ab63fa",
           "#ab63fa",
           "#00cc96",
           "#00cc96",
           "#00cc96",
           "#00cc96",
           "#00cc96",
           "#00cc96",
           "#00cc96",
           "#00cc96",
           "#ab63fa",
           "#00cc96",
           "#ab63fa",
           "#ab63fa",
           "#00cc96",
           "#00cc96",
           "#00cc96",
           "#00cc96",
           "#00cc96",
           "#00cc96",
           "#00cc96",
           "#ab63fa",
           "#00cc96",
           "#ab63fa",
           "#00cc96",
           "#00cc96",
           "#00cc96",
           "#00cc96",
           "#00cc96",
           "#00cc96",
           "#00cc96",
           "#00cc96",
           "#ab63fa",
           "#00cc96",
           "#ab63fa",
           "#00cc96",
           "#00cc96",
           "#ab63fa",
           "#ab63fa",
           "#00cc96",
           "#00cc96",
           "#00cc96",
           "#00cc96",
           "#00cc96",
           "#00cc96",
           "#00cc96",
           "#00cc96",
           "#00cc96",
           "#00cc96",
           "#00cc96",
           "#00cc96",
           "#00cc96",
           "#00cc96",
           "#00cc96",
           "#00cc96",
           "#00cc96",
           "#00cc96",
           "#00cc96",
           "#00cc96",
           "#00cc96",
           "#00cc96",
           "#00cc96",
           "#00cc96",
           "#00cc96",
           "#00cc96",
           "#00cc96",
           "#00cc96",
           "#ab63fa",
           "#00cc96",
           "#00cc96",
           "#00cc96",
           "#00cc96",
           "#00cc96",
           "#00cc96",
           "#00cc96",
           "#00cc96",
           "#ab63fa",
           "#00cc96",
           "#ab63fa",
           "#00cc96",
           "#00cc96",
           "#00cc96",
           "#00cc96",
           "#00cc96",
           "#00cc96",
           "#00cc96",
           "#ab63fa",
           "#00cc96",
           "#00cc96",
           "#00cc96",
           "#00cc96",
           "#00cc96",
           "#ab63fa",
           "#00cc96",
           "#00cc96",
           "#00cc96",
           "#ab63fa",
           "#00cc96",
           "#00cc96",
           "#00cc96",
           "#00cc96",
           "#00cc96",
           "#00cc96",
           "#ab63fa",
           "#00cc96",
           "#ab63fa",
           "#00cc96",
           "#00cc96",
           "#00cc96",
           "#ab63fa",
           "#00cc96",
           "#00cc96",
           "#ab63fa",
           "#00cc96",
           "#00cc96",
           "#00cc96",
           "#ab63fa",
           "#00cc96",
           "#00cc96",
           "#00cc96",
           "#00cc96",
           "#00cc96",
           "#00cc96",
           "#00cc96",
           "#00cc96",
           "#ab63fa",
           "#00cc96",
           "#00cc96",
           "#00cc96",
           "#00cc96",
           "#00cc96",
           "#00cc96",
           "#00cc96",
           "#ab63fa",
           "#00cc96",
           "#00cc96",
           "#00cc96",
           "#00cc96",
           "#00cc96",
           "#00cc96",
           "#00cc96",
           "#00cc96",
           "#ab63fa",
           "#00cc96",
           "#ab63fa",
           "#ab63fa",
           "#00cc96",
           "#00cc96",
           "#00cc96",
           "#00cc96",
           "#00cc96",
           "#ab63fa",
           "#00cc96",
           "#00cc96",
           "#00cc96",
           "#ab63fa",
           "#00cc96",
           "#00cc96",
           "#00cc96",
           "#ab63fa",
           "#00cc96",
           "#00cc96",
           "#00cc96",
           "#00cc96",
           "#00cc96",
           "#00cc96",
           "#00cc96",
           "#00cc96",
           "#00cc96",
           "#ab63fa",
           "#ab63fa",
           "#00cc96",
           "#00cc96",
           "#00cc96",
           "#00cc96",
           "#00cc96",
           "#00cc96",
           "#00cc96",
           "#00cc96",
           "#00cc96",
           "#00cc96",
           "#00cc96",
           "#ab63fa",
           "#ab63fa",
           "#00cc96",
           "#00cc96",
           "#00cc96",
           "#00cc96",
           "#00cc96",
           "#ab63fa",
           "#00cc96",
           "#00cc96",
           "#00cc96",
           "#00cc96",
           "#00cc96",
           "#00cc96",
           "#ab63fa",
           "#00cc96",
           "#00cc96",
           "#00cc96",
           "#00cc96",
           "#ab63fa",
           "#00cc96",
           "#00cc96",
           "#00cc96",
           "#00cc96",
           "#00cc96",
           "#00cc96",
           "#ab63fa",
           "#00cc96",
           "#00cc96",
           "#ab63fa",
           "#00cc96",
           "#00cc96",
           "#00cc96",
           "#00cc96",
           "#00cc96",
           "#00cc96",
           "#ab63fa",
           "#ab63fa",
           "#00cc96",
           "#00cc96",
           "#ab63fa",
           "#00cc96",
           "#00cc96",
           "#00cc96",
           "#00cc96",
           "#00cc96",
           "#00cc96",
           "#00cc96",
           "#00cc96",
           "#00cc96",
           "#00cc96",
           "#ab63fa",
           "#00cc96",
           "#00cc96",
           "#00cc96",
           "#00cc96",
           "#00cc96",
           "#00cc96",
           "#00cc96",
           "#ab63fa",
           "#00cc96",
           "#00cc96",
           "#00cc96",
           "#00cc96",
           "#00cc96",
           "#00cc96",
           "#00cc96",
           "#00cc96",
           "#00cc96",
           "#00cc96",
           "#00cc96",
           "#00cc96",
           "#00cc96",
           "#00cc96",
           "#00cc96",
           "#00cc96",
           "#00cc96",
           "#00cc96",
           "#00cc96",
           "#00cc96",
           "#ab63fa",
           "#00cc96",
           "#ab63fa",
           "#00cc96",
           "#00cc96",
           "#00cc96",
           "#00cc96",
           "#00cc96",
           "#00cc96",
           "#00cc96",
           "#00cc96",
           "#ab63fa",
           "#ab63fa",
           "#ab63fa",
           "#ab63fa",
           "#00cc96",
           "#00cc96",
           "#00cc96",
           "#00cc96",
           "#00cc96",
           "#00cc96",
           "#00cc96",
           "#00cc96",
           "#00cc96",
           "#00cc96",
           "#00cc96",
           "#00cc96",
           "#00cc96",
           "#00cc96",
           "#ab63fa",
           "#00cc96",
           "#00cc96",
           "#00cc96",
           "#00cc96",
           "#00cc96",
           "#00cc96",
           "#00cc96",
           "#00cc96",
           "#00cc96",
           "#00cc96",
           "#00cc96",
           "#00cc96",
           "#00cc96",
           "#00cc96",
           "#00cc96",
           "#00cc96",
           "#ab63fa",
           "#ab63fa",
           "#00cc96",
           "#00cc96",
           "#00cc96",
           "#00cc96",
           "#00cc96",
           "#00cc96",
           "#00cc96",
           "#00cc96",
           "#00cc96",
           "#00cc96",
           "#00cc96",
           "#00cc96",
           "#00cc96",
           "#00cc96",
           "#00cc96",
           "#00cc96",
           "#ab63fa",
           "#00cc96",
           "#ab63fa",
           "#00cc96",
           "#ab63fa",
           "#00cc96",
           "#00cc96",
           "#00cc96",
           "#00cc96",
           "#00cc96",
           "#00cc96",
           "#00cc96",
           "#00cc96",
           "#00cc96",
           "#00cc96",
           "#ab63fa",
           "#00cc96",
           "#00cc96",
           "#00cc96",
           "#ab63fa",
           "#00cc96",
           "#00cc96",
           "#00cc96",
           "#00cc96",
           "#00cc96",
           "#00cc96",
           "#00cc96",
           "#00cc96",
           "#00cc96",
           "#00cc96",
           "#00cc96",
           "#00cc96",
           "#00cc96",
           "#00cc96",
           "#00cc96",
           "#ab63fa",
           "#ab63fa",
           "#00cc96",
           "#00cc96",
           "#00cc96",
           "#00cc96",
           "#00cc96",
           "#00cc96",
           "#00cc96",
           "#ab63fa",
           "#00cc96",
           "#00cc96",
           "#00cc96",
           "#00cc96",
           "#00cc96",
           "#00cc96",
           "#00cc96",
           "#00cc96",
           "#00cc96",
           "#00cc96",
           "#00cc96",
           "#00cc96",
           "#ab63fa",
           "#00cc96",
           "#00cc96",
           "#00cc96",
           "#00cc96",
           "#ab63fa",
           "#00cc96",
           "#00cc96",
           "#00cc96",
           "#00cc96",
           "#00cc96",
           "#00cc96",
           "#ab63fa",
           "#00cc96",
           "#00cc96",
           "#ab63fa",
           "#00cc96",
           "#00cc96",
           "#00cc96",
           "#ab63fa",
           "#00cc96",
           "#00cc96",
           "#00cc96",
           "#00cc96",
           "#00cc96",
           "#00cc96",
           "#ab63fa",
           "#00cc96",
           "#00cc96",
           "#00cc96",
           "#00cc96",
           "#00cc96",
           "#00cc96",
           "#00cc96",
           "#00cc96",
           "#00cc96",
           "#00cc96",
           "#00cc96",
           "#00cc96",
           "#00cc96",
           "#00cc96",
           "#00cc96",
           "#00cc96",
           "#00cc96",
           "#00cc96",
           "#00cc96",
           "#00cc96",
           "#00cc96",
           "#00cc96",
           "#ab63fa",
           "#00cc96",
           "#00cc96",
           "#00cc96",
           "#00cc96",
           "#00cc96",
           "#ab63fa",
           "#00cc96",
           "#ab63fa",
           "#ab63fa",
           "#00cc96",
           "#00cc96",
           "#ab63fa",
           "#ab63fa",
           "#00cc96",
           "#ab63fa",
           "#00cc96",
           "#00cc96",
           "#00cc96",
           "#00cc96",
           "#00cc96",
           "#00cc96",
           "#00cc96",
           "#00cc96",
           "#00cc96",
           "#00cc96",
           "#00cc96",
           "#00cc96",
           "#ab63fa",
           "#00cc96",
           "#00cc96",
           "#ab63fa",
           "#00cc96",
           "#00cc96",
           "#00cc96",
           "#00cc96",
           "#00cc96",
           "#00cc96",
           "#00cc96",
           "#00cc96",
           "#00cc96",
           "#00cc96",
           "#ab63fa",
           "#00cc96",
           "#00cc96",
           "#00cc96",
           "#00cc96",
           "#00cc96",
           "#00cc96",
           "#00cc96",
           "#00cc96",
           "#ab63fa",
           "#00cc96",
           "#00cc96",
           "#00cc96",
           "#ab63fa",
           "#00cc96",
           "#00cc96",
           "#00cc96",
           "#00cc96",
           "#00cc96",
           "#00cc96",
           "#00cc96",
           "#ab63fa",
           "#00cc96",
           "#00cc96",
           "#00cc96",
           "#00cc96",
           "#00cc96",
           "#00cc96",
           "#00cc96",
           "#00cc96",
           "#00cc96",
           "#00cc96",
           "#00cc96",
           "#00cc96",
           "#ab63fa",
           "#00cc96",
           "#00cc96",
           "#00cc96",
           "#00cc96",
           "#00cc96",
           "#00cc96",
           "#00cc96",
           "#00cc96",
           "#00cc96",
           "#00cc96",
           "#00cc96",
           "#ab63fa",
           "#ab63fa",
           "#ab63fa",
           "#00cc96",
           "#00cc96",
           "#00cc96",
           "#00cc96",
           "#00cc96",
           "#00cc96",
           "#00cc96",
           "#00cc96",
           "#00cc96",
           "#00cc96",
           "#00cc96",
           "#00cc96",
           "#ab63fa",
           "#00cc96",
           "#00cc96",
           "#00cc96",
           "#00cc96",
           "#00cc96",
           "#00cc96",
           "#00cc96",
           "#00cc96",
           "#00cc96",
           "#00cc96",
           "#ab63fa",
           "#ab63fa",
           "#00cc96",
           "#00cc96",
           "#ab63fa",
           "#00cc96",
           "#00cc96",
           "#ab63fa",
           "#00cc96",
           "#00cc96",
           "#00cc96",
           "#00cc96",
           "#00cc96",
           "#ab63fa",
           "#ab63fa",
           "#00cc96",
           "#00cc96",
           "#00cc96",
           "#00cc96",
           "#00cc96",
           "#00cc96",
           "#00cc96",
           "#00cc96",
           "#00cc96",
           "#00cc96",
           "#00cc96",
           "#ab63fa",
           "#00cc96",
           "#00cc96",
           "#00cc96",
           "#00cc96",
           "#00cc96",
           "#00cc96",
           "#00cc96",
           "#00cc96",
           "#00cc96",
           "#00cc96",
           "#00cc96",
           "#00cc96",
           "#00cc96",
           "#00cc96",
           "#00cc96",
           "#00cc96",
           "#00cc96",
           "#00cc96",
           "#00cc96",
           "#ab63fa",
           "#00cc96",
           "#00cc96",
           "#00cc96",
           "#00cc96",
           "#00cc96",
           "#00cc96",
           "#00cc96",
           "#00cc96",
           "#00cc96",
           "#00cc96",
           "#00cc96",
           "#ab63fa",
           "#00cc96",
           "#00cc96",
           "#00cc96",
           "#00cc96",
           "#00cc96",
           "#00cc96",
           "#00cc96",
           "#00cc96",
           "#00cc96",
           "#00cc96",
           "#00cc96",
           "#00cc96",
           "#ab63fa",
           "#00cc96",
           "#00cc96",
           "#00cc96",
           "#00cc96",
           "#00cc96",
           "#ab63fa",
           "#00cc96",
           "#ab63fa",
           "#00cc96",
           "#00cc96",
           "#00cc96",
           "#ab63fa",
           "#ab63fa",
           "#00cc96",
           "#00cc96",
           "#00cc96",
           "#00cc96",
           "#ab63fa",
           "#00cc96",
           "#00cc96",
           "#00cc96",
           "#00cc96",
           "#00cc96",
           "#00cc96",
           "#00cc96",
           "#00cc96",
           "#ab63fa",
           "#ab63fa",
           "#00cc96",
           "#00cc96",
           "#00cc96",
           "#00cc96",
           "#00cc96",
           "#ab63fa",
           "#00cc96",
           "#ab63fa",
           "#00cc96",
           "#00cc96",
           "#00cc96",
           "#ab63fa",
           "#00cc96",
           "#00cc96",
           "#00cc96",
           "#ab63fa",
           "#00cc96",
           "#00cc96",
           "#00cc96",
           "#00cc96",
           "#00cc96",
           "#ab63fa",
           "#00cc96",
           "#00cc96",
           "#00cc96",
           "#00cc96",
           "#00cc96",
           "#00cc96",
           "#00cc96",
           "#00cc96",
           "#00cc96",
           "#00cc96",
           "#00cc96",
           "#00cc96",
           "#00cc96",
           "#00cc96",
           "#00cc96",
           "#00cc96",
           "#00cc96",
           "#00cc96",
           "#00cc96",
           "#00cc96",
           "#00cc96",
           "#00cc96",
           "#00cc96",
           "#ab63fa",
           "#00cc96",
           "#00cc96",
           "#00cc96",
           "#00cc96",
           "#ab63fa",
           "#00cc96",
           "#00cc96",
           "#00cc96",
           "#00cc96",
           "#ab63fa",
           "#00cc96",
           "#00cc96",
           "#00cc96",
           "#00cc96",
           "#00cc96",
           "#00cc96",
           "#00cc96",
           "#00cc96",
           "#00cc96",
           "#00cc96",
           "#00cc96",
           "#00cc96",
           "#00cc96",
           "#00cc96",
           "#00cc96",
           "#00cc96",
           "#00cc96",
           "#00cc96",
           "#00cc96",
           "#00cc96",
           "#00cc96",
           "#00cc96",
           "#00cc96",
           "#00cc96",
           "#00cc96",
           "#00cc96",
           "#00cc96",
           "#00cc96",
           "#ab63fa",
           "#00cc96",
           "#ab63fa",
           "#00cc96",
           "#00cc96",
           "#00cc96",
           "#00cc96",
           "#00cc96",
           "#00cc96",
           "#00cc96",
           "#00cc96",
           "#00cc96",
           "#00cc96",
           "#00cc96",
           "#00cc96",
           "#00cc96",
           "#00cc96",
           "#00cc96",
           "#00cc96",
           "#ab63fa",
           "#00cc96",
           "#00cc96",
           "#00cc96",
           "#00cc96",
           "#00cc96",
           "#00cc96",
           "#00cc96",
           "#00cc96",
           "#00cc96",
           "#00cc96",
           "#00cc96",
           "#ab63fa",
           "#00cc96",
           "#00cc96",
           "#00cc96",
           "#ab63fa",
           "#00cc96",
           "#00cc96",
           "#00cc96",
           "#00cc96",
           "#00cc96",
           "#00cc96",
           "#ab63fa",
           "#00cc96",
           "#ab63fa",
           "#00cc96",
           "#00cc96",
           "#00cc96",
           "#00cc96",
           "#ab63fa",
           "#00cc96",
           "#00cc96",
           "#00cc96",
           "#00cc96",
           "#00cc96",
           "#ab63fa",
           "#00cc96",
           "#00cc96",
           "#00cc96",
           "#00cc96",
           "#00cc96",
           "#00cc96",
           "#ab63fa",
           "#00cc96",
           "#ab63fa",
           "#00cc96",
           "#00cc96",
           "#00cc96",
           "#00cc96",
           "#00cc96",
           "#ab63fa",
           "#00cc96",
           "#00cc96",
           "#00cc96",
           "#00cc96",
           "#00cc96",
           "#00cc96",
           "#00cc96",
           "#00cc96",
           "#00cc96",
           "#00cc96",
           "#00cc96",
           "#00cc96",
           "#00cc96",
           "#ab63fa",
           "#00cc96",
           "#00cc96",
           "#ab63fa",
           "#00cc96",
           "#00cc96",
           "#00cc96",
           "#00cc96",
           "#00cc96",
           "#00cc96",
           "#00cc96",
           "#00cc96",
           "#00cc96",
           "#00cc96",
           "#00cc96",
           "#00cc96",
           "#00cc96",
           "#00cc96",
           "#ab63fa",
           "#00cc96",
           "#00cc96",
           "#00cc96",
           "#00cc96",
           "#00cc96",
           "#00cc96",
           "#ab63fa",
           "#ab63fa",
           "#00cc96",
           "#00cc96",
           "#00cc96",
           "#00cc96",
           "#00cc96",
           "#ab63fa",
           "#00cc96",
           "#00cc96",
           "#00cc96",
           "#00cc96",
           "#00cc96",
           "#00cc96",
           "#00cc96",
           "#00cc96",
           "#00cc96",
           "#00cc96",
           "#00cc96",
           "#00cc96",
           "#ab63fa",
           "#00cc96",
           "#00cc96",
           "#00cc96",
           "#00cc96",
           "#ab63fa",
           "#00cc96",
           "#00cc96",
           "#00cc96",
           "#00cc96",
           "#00cc96",
           "#00cc96",
           "#00cc96",
           "#00cc96",
           "#00cc96",
           "#ab63fa",
           "#00cc96",
           "#00cc96",
           "#00cc96",
           "#00cc96",
           "#00cc96",
           "#00cc96",
           "#00cc96",
           "#00cc96",
           "#00cc96",
           "#00cc96",
           "#ab63fa",
           "#00cc96",
           "#00cc96",
           "#00cc96",
           "#ab63fa",
           "#00cc96",
           "#ab63fa",
           "#ab63fa",
           "#00cc96",
           "#00cc96",
           "#00cc96",
           "#ab63fa",
           "#ab63fa",
           "#ab63fa",
           "#00cc96",
           "#00cc96",
           "#00cc96",
           "#00cc96",
           "#00cc96",
           "#00cc96",
           "#00cc96",
           "#00cc96",
           "#00cc96",
           "#ab63fa",
           "#00cc96",
           "#00cc96",
           "#00cc96",
           "#00cc96",
           "#00cc96",
           "#ab63fa",
           "#00cc96",
           "#00cc96",
           "#ab63fa",
           "#00cc96",
           "#00cc96",
           "#00cc96",
           "#00cc96",
           "#00cc96",
           "#00cc96",
           "#ab63fa",
           "#00cc96",
           "#00cc96",
           "#00cc96",
           "#00cc96",
           "#00cc96",
           "#00cc96",
           "#00cc96",
           "#00cc96",
           "#00cc96",
           "#00cc96",
           "#00cc96",
           "#00cc96",
           "#00cc96",
           "#ab63fa",
           "#00cc96",
           "#00cc96",
           "#00cc96",
           "#00cc96",
           "#00cc96",
           "#00cc96",
           "#00cc96",
           "#00cc96",
           "#00cc96",
           "#00cc96",
           "#00cc96",
           "#00cc96",
           "#ab63fa",
           "#00cc96",
           "#00cc96",
           "#00cc96",
           "#00cc96",
           "#ab63fa",
           "#00cc96",
           "#00cc96",
           "#00cc96",
           "#00cc96",
           "#00cc96",
           "#00cc96",
           "#00cc96",
           "#00cc96",
           "#00cc96",
           "#00cc96",
           "#00cc96",
           "#00cc96",
           "#00cc96",
           "#00cc96",
           "#00cc96",
           "#00cc96",
           "#00cc96",
           "#00cc96",
           "#00cc96",
           "#00cc96",
           "#00cc96",
           "#00cc96",
           "#ab63fa",
           "#ab63fa",
           "#00cc96",
           "#00cc96",
           "#00cc96",
           "#00cc96",
           "#00cc96",
           "#00cc96",
           "#00cc96",
           "#00cc96",
           "#ab63fa",
           "#ab63fa",
           "#00cc96",
           "#00cc96",
           "#00cc96",
           "#ab63fa",
           "#00cc96",
           "#00cc96",
           "#00cc96",
           "#00cc96",
           "#00cc96",
           "#ab63fa",
           "#00cc96",
           "#00cc96",
           "#00cc96",
           "#00cc96",
           "#ab63fa",
           "#00cc96",
           "#00cc96",
           "#00cc96",
           "#ab63fa",
           "#00cc96",
           "#00cc96",
           "#00cc96",
           "#ab63fa",
           "#00cc96",
           "#ab63fa",
           "#00cc96",
           "#00cc96",
           "#00cc96",
           "#00cc96",
           "#00cc96",
           "#00cc96",
           "#00cc96",
           "#00cc96",
           "#ab63fa",
           "#00cc96",
           "#ab63fa",
           "#00cc96",
           "#00cc96",
           "#00cc96",
           "#ab63fa",
           "#ab63fa",
           "#00cc96",
           "#00cc96",
           "#00cc96",
           "#00cc96",
           "#00cc96",
           "#00cc96",
           "#00cc96",
           "#00cc96",
           "#ab63fa",
           "#00cc96",
           "#00cc96",
           "#00cc96",
           "#00cc96",
           "#00cc96",
           "#00cc96",
           "#ab63fa",
           "#00cc96",
           "#ab63fa",
           "#00cc96",
           "#00cc96",
           "#00cc96",
           "#00cc96",
           "#00cc96",
           "#00cc96",
           "#00cc96",
           "#ab63fa",
           "#00cc96",
           "#00cc96",
           "#00cc96",
           "#00cc96",
           "#00cc96",
           "#00cc96",
           "#00cc96",
           "#00cc96",
           "#00cc96",
           "#00cc96",
           "#00cc96",
           "#00cc96",
           "#00cc96",
           "#00cc96",
           "#00cc96",
           "#00cc96",
           "#00cc96",
           "#00cc96",
           "#00cc96",
           "#00cc96",
           "#00cc96",
           "#00cc96",
           "#00cc96",
           "#00cc96",
           "#00cc96",
           "#00cc96",
           "#00cc96",
           "#00cc96",
           "#ab63fa",
           "#00cc96",
           "#ab63fa",
           "#00cc96",
           "#00cc96",
           "#ab63fa",
           "#00cc96",
           "#ab63fa",
           "#00cc96",
           "#ab63fa",
           "#00cc96",
           "#00cc96",
           "#ab63fa",
           "#ab63fa",
           "#00cc96",
           "#00cc96",
           "#00cc96",
           "#00cc96",
           "#00cc96",
           "#00cc96",
           "#00cc96",
           "#00cc96",
           "#00cc96",
           "#00cc96",
           "#00cc96",
           "#00cc96",
           "#ab63fa",
           "#00cc96",
           "#00cc96",
           "#00cc96",
           "#ab63fa",
           "#00cc96",
           "#00cc96",
           "#00cc96",
           "#00cc96",
           "#00cc96",
           "#00cc96",
           "#ab63fa",
           "#00cc96",
           "#ab63fa",
           "#00cc96",
           "#00cc96",
           "#00cc96",
           "#00cc96",
           "#00cc96",
           "#00cc96",
           "#00cc96",
           "#00cc96",
           "#00cc96",
           "#00cc96",
           "#00cc96",
           "#00cc96",
           "#00cc96",
           "#00cc96",
           "#00cc96",
           "#00cc96",
           "#00cc96",
           "#00cc96",
           "#00cc96",
           "#00cc96",
           "#ab63fa",
           "#00cc96",
           "#00cc96",
           "#00cc96",
           "#00cc96",
           "#ab63fa",
           "#00cc96",
           "#00cc96",
           "#00cc96",
           "#00cc96",
           "#00cc96",
           "#ab63fa",
           "#ab63fa",
           "#ab63fa",
           "#00cc96",
           "#ab63fa",
           "#00cc96",
           "#00cc96",
           "#00cc96",
           "#00cc96",
           "#00cc96",
           "#00cc96",
           "#00cc96",
           "#ab63fa",
           "#ab63fa",
           "#00cc96",
           "#00cc96",
           "#00cc96",
           "#00cc96",
           "#00cc96",
           "#00cc96",
           "#00cc96",
           "#00cc96",
           "#00cc96",
           "#00cc96",
           "#ab63fa",
           "#00cc96",
           "#00cc96",
           "#00cc96",
           "#00cc96",
           "#00cc96",
           "#00cc96",
           "#00cc96",
           "#00cc96",
           "#00cc96",
           "#00cc96",
           "#00cc96",
           "#00cc96",
           "#00cc96",
           "#00cc96",
           "#00cc96",
           "#00cc96",
           "#00cc96",
           "#00cc96",
           "#00cc96",
           "#00cc96",
           "#ab63fa",
           "#00cc96",
           "#00cc96",
           "#00cc96",
           "#ab63fa",
           "#00cc96",
           "#00cc96",
           "#00cc96",
           "#00cc96",
           "#00cc96",
           "#ab63fa",
           "#00cc96",
           "#00cc96",
           "#00cc96",
           "#00cc96",
           "#00cc96",
           "#00cc96",
           "#00cc96",
           "#00cc96",
           "#00cc96",
           "#00cc96",
           "#00cc96",
           "#00cc96",
           "#00cc96",
           "#00cc96",
           "#00cc96",
           "#ab63fa",
           "#00cc96",
           "#00cc96",
           "#00cc96",
           "#00cc96",
           "#00cc96",
           "#00cc96",
           "#ab63fa",
           "#00cc96",
           "#00cc96",
           "#00cc96",
           "#00cc96",
           "#ab63fa",
           "#00cc96",
           "#00cc96",
           "#00cc96",
           "#00cc96",
           "#00cc96",
           "#ab63fa",
           "#00cc96",
           "#00cc96",
           "#00cc96",
           "#00cc96",
           "#00cc96",
           "#00cc96",
           "#00cc96",
           "#00cc96",
           "#ab63fa",
           "#00cc96",
           "#00cc96",
           "#00cc96",
           "#00cc96",
           "#ab63fa",
           "#00cc96",
           "#00cc96",
           "#00cc96",
           "#00cc96",
           "#00cc96",
           "#00cc96",
           "#00cc96",
           "#00cc96",
           "#00cc96",
           "#00cc96",
           "#00cc96",
           "#00cc96",
           "#00cc96",
           "#ab63fa",
           "#00cc96",
           "#00cc96",
           "#00cc96",
           "#00cc96",
           "#00cc96",
           "#00cc96",
           "#00cc96",
           "#00cc96",
           "#00cc96",
           "#00cc96",
           "#00cc96",
           "#00cc96",
           "#00cc96",
           "#00cc96",
           "#00cc96",
           "#00cc96",
           "#00cc96",
           "#00cc96",
           "#00cc96",
           "#00cc96",
           "#00cc96",
           "#00cc96",
           "#00cc96",
           "#00cc96",
           "#00cc96",
           "#00cc96",
           "#ab63fa",
           "#00cc96",
           "#00cc96",
           "#00cc96",
           "#00cc96",
           "#00cc96",
           "#ab63fa",
           "#00cc96",
           "#00cc96",
           "#00cc96",
           "#00cc96",
           "#00cc96",
           "#00cc96",
           "#00cc96",
           "#00cc96",
           "#00cc96",
           "#00cc96",
           "#00cc96",
           "#00cc96",
           "#00cc96",
           "#ab63fa",
           "#00cc96",
           "#00cc96",
           "#ab63fa",
           "#00cc96",
           "#00cc96",
           "#00cc96",
           "#00cc96",
           "#00cc96",
           "#00cc96",
           "#00cc96",
           "#00cc96",
           "#00cc96",
           "#00cc96",
           "#00cc96",
           "#00cc96",
           "#00cc96",
           "#00cc96",
           "#00cc96",
           "#00cc96",
           "#ab63fa",
           "#00cc96",
           "#00cc96",
           "#ab63fa",
           "#00cc96",
           "#00cc96",
           "#00cc96",
           "#ab63fa",
           "#00cc96",
           "#00cc96",
           "#ab63fa",
           "#00cc96",
           "#00cc96",
           "#00cc96",
           "#00cc96",
           "#00cc96",
           "#00cc96",
           "#00cc96",
           "#00cc96",
           "#00cc96",
           "#00cc96",
           "#00cc96",
           "#00cc96",
           "#00cc96",
           "#00cc96",
           "#00cc96",
           "#ab63fa",
           "#00cc96",
           "#00cc96",
           "#00cc96",
           "#00cc96",
           "#ab63fa",
           "#00cc96",
           "#00cc96",
           "#00cc96",
           "#00cc96",
           "#ab63fa",
           "#00cc96",
           "#ab63fa",
           "#00cc96",
           "#00cc96",
           "#00cc96",
           "#00cc96",
           "#00cc96",
           "#ab63fa",
           "#ab63fa",
           "#00cc96",
           "#00cc96",
           "#00cc96",
           "#00cc96",
           "#00cc96",
           "#00cc96",
           "#00cc96",
           "#00cc96",
           "#00cc96",
           "#00cc96",
           "#ab63fa",
           "#00cc96",
           "#00cc96",
           "#00cc96",
           "#00cc96",
           "#ab63fa",
           "#ab63fa",
           "#00cc96",
           "#00cc96",
           "#00cc96",
           "#00cc96",
           "#00cc96",
           "#00cc96",
           "#00cc96",
           "#00cc96",
           "#00cc96",
           "#00cc96",
           "#00cc96",
           "#00cc96",
           "#00cc96",
           "#ab63fa",
           "#00cc96",
           "#00cc96",
           "#00cc96",
           "#ab63fa",
           "#00cc96",
           "#00cc96",
           "#ab63fa",
           "#00cc96",
           "#00cc96",
           "#00cc96",
           "#00cc96",
           "#00cc96",
           "#00cc96",
           "#00cc96",
           "#00cc96",
           "#ab63fa",
           "#00cc96",
           "#ab63fa",
           "#00cc96",
           "#00cc96",
           "#00cc96",
           "#00cc96",
           "#00cc96",
           "#00cc96",
           "#00cc96",
           "#ab63fa",
           "#00cc96",
           "#00cc96",
           "#ab63fa",
           "#00cc96",
           "#00cc96",
           "#00cc96",
           "#00cc96",
           "#00cc96",
           "#ab63fa",
           "#00cc96",
           "#00cc96",
           "#00cc96",
           "#00cc96",
           "#00cc96",
           "#00cc96",
           "#00cc96",
           "#00cc96",
           "#00cc96",
           "#00cc96",
           "#00cc96",
           "#00cc96",
           "#00cc96",
           "#00cc96",
           "#00cc96",
           "#00cc96",
           "#ab63fa",
           "#00cc96",
           "#ab63fa",
           "#00cc96",
           "#ab63fa",
           "#00cc96",
           "#00cc96",
           "#00cc96",
           "#00cc96",
           "#00cc96",
           "#00cc96",
           "#00cc96",
           "#00cc96",
           "#ab63fa",
           "#00cc96",
           "#00cc96",
           "#00cc96",
           "#00cc96",
           "#00cc96",
           "#ab63fa",
           "#00cc96",
           "#00cc96",
           "#ab63fa",
           "#00cc96",
           "#00cc96",
           "#00cc96",
           "#00cc96",
           "#00cc96",
           "#00cc96",
           "#00cc96",
           "#00cc96",
           "#ab63fa",
           "#00cc96",
           "#00cc96",
           "#00cc96",
           "#00cc96",
           "#00cc96",
           "#00cc96",
           "#00cc96",
           "#ab63fa",
           "#00cc96",
           "#00cc96",
           "#00cc96",
           "#00cc96",
           "#00cc96",
           "#00cc96",
           "#00cc96",
           "#00cc96",
           "#ab63fa",
           "#00cc96",
           "#00cc96",
           "#00cc96",
           "#00cc96",
           "#00cc96",
           "#00cc96",
           "#00cc96",
           "#ab63fa",
           "#00cc96",
           "#00cc96",
           "#00cc96",
           "#00cc96",
           "#00cc96",
           "#00cc96",
           "#00cc96",
           "#00cc96",
           "#00cc96",
           "#00cc96",
           "#00cc96",
           "#00cc96",
           "#00cc96",
           "#00cc96",
           "#00cc96",
           "#00cc96",
           "#00cc96",
           "#ab63fa",
           "#00cc96",
           "#00cc96",
           "#00cc96",
           "#00cc96",
           "#00cc96",
           "#00cc96",
           "#00cc96",
           "#00cc96",
           "#ab63fa",
           "#00cc96",
           "#00cc96",
           "#ab63fa",
           "#00cc96",
           "#ab63fa",
           "#00cc96",
           "#00cc96",
           "#00cc96",
           "#00cc96",
           "#00cc96",
           "#ab63fa",
           "#00cc96",
           "#ab63fa",
           "#ab63fa",
           "#00cc96",
           "#ab63fa",
           "#00cc96",
           "#00cc96",
           "#00cc96",
           "#00cc96",
           "#ab63fa",
           "#00cc96",
           "#00cc96",
           "#00cc96",
           "#00cc96",
           "#00cc96",
           "#00cc96",
           "#ab63fa",
           "#00cc96",
           "#00cc96",
           "#00cc96",
           "#00cc96",
           "#00cc96",
           "#00cc96",
           "#ab63fa",
           "#ab63fa",
           "#00cc96",
           "#00cc96",
           "#ab63fa",
           "#00cc96",
           "#00cc96",
           "#00cc96",
           "#00cc96",
           "#ab63fa",
           "#00cc96",
           "#00cc96",
           "#00cc96",
           "#00cc96",
           "#00cc96",
           "#00cc96",
           "#00cc96",
           "#00cc96",
           "#00cc96",
           "#00cc96",
           "#00cc96",
           "#ab63fa",
           "#00cc96",
           "#00cc96",
           "#ab63fa",
           "#00cc96",
           "#00cc96",
           "#00cc96",
           "#00cc96",
           "#00cc96",
           "#00cc96",
           "#00cc96",
           "#00cc96",
           "#00cc96",
           "#00cc96",
           "#00cc96",
           "#00cc96",
           "#00cc96",
           "#00cc96",
           "#00cc96",
           "#00cc96",
           "#00cc96",
           "#00cc96",
           "#00cc96",
           "#00cc96",
           "#00cc96",
           "#00cc96",
           "#ab63fa",
           "#00cc96",
           "#00cc96",
           "#ab63fa",
           "#00cc96",
           "#00cc96",
           "#00cc96",
           "#ab63fa",
           "#00cc96",
           "#00cc96",
           "#00cc96",
           "#00cc96",
           "#00cc96",
           "#00cc96",
           "#00cc96",
           "#00cc96",
           "#00cc96",
           "#00cc96",
           "#00cc96",
           "#00cc96",
           "#00cc96",
           "#00cc96",
           "#00cc96",
           "#00cc96",
           "#00cc96",
           "#00cc96",
           "#00cc96",
           "#00cc96",
           "#ab63fa",
           "#ab63fa",
           "#00cc96",
           "#00cc96",
           "#00cc96",
           "#ab63fa",
           "#00cc96",
           "#00cc96",
           "#ab63fa",
           "#00cc96",
           "#ab63fa",
           "#00cc96",
           "#00cc96",
           "#ab63fa",
           "#00cc96",
           "#00cc96",
           "#ab63fa",
           "#00cc96",
           "#00cc96",
           "#00cc96",
           "#00cc96",
           "#00cc96",
           "#00cc96",
           "#00cc96",
           "#00cc96",
           "#ab63fa",
           "#00cc96",
           "#00cc96",
           "#00cc96",
           "#00cc96",
           "#ab63fa",
           "#00cc96",
           "#00cc96",
           "#00cc96",
           "#00cc96",
           "#00cc96",
           "#00cc96",
           "#00cc96",
           "#ab63fa",
           "#ab63fa",
           "#00cc96",
           "#00cc96",
           "#ab63fa",
           "#00cc96",
           "#ab63fa",
           "#ab63fa",
           "#00cc96",
           "#ab63fa",
           "#00cc96",
           "#00cc96",
           "#ab63fa",
           "#00cc96",
           "#00cc96",
           "#00cc96",
           "#ab63fa",
           "#00cc96",
           "#00cc96",
           "#ab63fa",
           "#00cc96",
           "#00cc96",
           "#00cc96",
           "#00cc96",
           "#ab63fa",
           "#00cc96",
           "#00cc96",
           "#00cc96",
           "#00cc96",
           "#00cc96",
           "#ab63fa",
           "#00cc96",
           "#00cc96",
           "#00cc96",
           "#00cc96",
           "#00cc96",
           "#00cc96",
           "#00cc96",
           "#00cc96",
           "#00cc96",
           "#00cc96",
           "#00cc96",
           "#00cc96",
           "#00cc96",
           "#00cc96",
           "#ab63fa",
           "#00cc96",
           "#00cc96",
           "#00cc96",
           "#00cc96",
           "#00cc96",
           "#00cc96",
           "#00cc96",
           "#00cc96",
           "#00cc96",
           "#00cc96",
           "#00cc96",
           "#ab63fa",
           "#00cc96",
           "#00cc96",
           "#00cc96",
           "#00cc96",
           "#00cc96",
           "#ab63fa",
           "#00cc96",
           "#00cc96",
           "#00cc96",
           "#00cc96",
           "#00cc96",
           "#00cc96",
           "#00cc96",
           "#00cc96",
           "#00cc96",
           "#00cc96",
           "#00cc96",
           "#ab63fa",
           "#00cc96",
           "#ab63fa",
           "#00cc96",
           "#00cc96",
           "#00cc96",
           "#00cc96",
           "#00cc96",
           "#00cc96",
           "#00cc96",
           "#00cc96",
           "#00cc96",
           "#00cc96",
           "#00cc96",
           "#00cc96",
           "#00cc96",
           "#00cc96",
           "#00cc96",
           "#00cc96",
           "#00cc96",
           "#ab63fa",
           "#00cc96",
           "#00cc96",
           "#00cc96",
           "#00cc96",
           "#ab63fa",
           "#00cc96",
           "#ab63fa",
           "#ab63fa",
           "#ab63fa",
           "#00cc96",
           "#00cc96",
           "#00cc96",
           "#00cc96",
           "#00cc96",
           "#00cc96",
           "#00cc96",
           "#00cc96",
           "#00cc96",
           "#00cc96",
           "#00cc96",
           "#00cc96",
           "#00cc96",
           "#00cc96",
           "#00cc96",
           "#00cc96",
           "#00cc96",
           "#00cc96",
           "#00cc96",
           "#ab63fa",
           "#00cc96",
           "#00cc96",
           "#00cc96",
           "#00cc96",
           "#00cc96",
           "#00cc96",
           "#00cc96",
           "#00cc96",
           "#00cc96",
           "#00cc96",
           "#00cc96",
           "#ab63fa",
           "#00cc96",
           "#00cc96",
           "#00cc96",
           "#00cc96",
           "#00cc96",
           "#00cc96",
           "#00cc96",
           "#00cc96",
           "#00cc96",
           "#00cc96",
           "#00cc96",
           "#00cc96",
           "#ab63fa",
           "#ab63fa",
           "#00cc96",
           "#ab63fa",
           "#00cc96",
           "#00cc96",
           "#00cc96",
           "#00cc96",
           "#00cc96",
           "#00cc96",
           "#00cc96",
           "#00cc96",
           "#00cc96",
           "#00cc96",
           "#00cc96",
           "#00cc96",
           "#00cc96",
           "#00cc96",
           "#ab63fa",
           "#00cc96",
           "#00cc96",
           "#00cc96",
           "#ab63fa",
           "#00cc96",
           "#00cc96",
           "#00cc96",
           "#ab63fa",
           "#00cc96",
           "#00cc96",
           "#ab63fa",
           "#00cc96",
           "#00cc96",
           "#00cc96",
           "#ab63fa",
           "#00cc96",
           "#00cc96",
           "#00cc96",
           "#00cc96",
           "#00cc96",
           "#00cc96",
           "#00cc96",
           "#00cc96",
           "#00cc96",
           "#ab63fa",
           "#00cc96",
           "#00cc96",
           "#00cc96",
           "#00cc96",
           "#00cc96",
           "#00cc96",
           "#ab63fa",
           "#00cc96",
           "#00cc96",
           "#00cc96",
           "#00cc96",
           "#00cc96",
           "#00cc96",
           "#00cc96",
           "#00cc96",
           "#00cc96",
           "#00cc96",
           "#00cc96",
           "#00cc96",
           "#00cc96",
           "#00cc96",
           "#00cc96",
           "#ab63fa",
           "#ab63fa",
           "#00cc96",
           "#00cc96",
           "#00cc96",
           "#00cc96",
           "#00cc96",
           "#ab63fa",
           "#00cc96",
           "#ab63fa",
           "#00cc96",
           "#00cc96",
           "#00cc96",
           "#ab63fa",
           "#00cc96",
           "#ab63fa",
           "#00cc96",
           "#00cc96",
           "#00cc96",
           "#00cc96",
           "#ab63fa",
           "#00cc96",
           "#00cc96",
           "#00cc96",
           "#00cc96",
           "#00cc96",
           "#ab63fa",
           "#00cc96",
           "#00cc96",
           "#ab63fa",
           "#ab63fa",
           "#00cc96",
           "#00cc96",
           "#00cc96",
           "#00cc96",
           "#00cc96",
           "#00cc96",
           "#00cc96",
           "#00cc96",
           "#00cc96",
           "#00cc96",
           "#00cc96",
           "#00cc96",
           "#00cc96",
           "#00cc96",
           "#00cc96",
           "#ab63fa",
           "#00cc96",
           "#00cc96",
           "#00cc96",
           "#00cc96",
           "#ab63fa",
           "#00cc96",
           "#00cc96",
           "#ab63fa",
           "#00cc96",
           "#00cc96",
           "#ab63fa",
           "#00cc96",
           "#00cc96",
           "#00cc96",
           "#00cc96",
           "#00cc96",
           "#00cc96",
           "#ab63fa",
           "#00cc96",
           "#00cc96",
           "#00cc96",
           "#00cc96",
           "#ab63fa",
           "#00cc96",
           "#00cc96",
           "#00cc96",
           "#00cc96",
           "#00cc96",
           "#00cc96",
           "#ab63fa",
           "#ab63fa",
           "#00cc96",
           "#00cc96",
           "#00cc96",
           "#00cc96",
           "#ab63fa",
           "#ab63fa",
           "#00cc96",
           "#00cc96",
           "#00cc96",
           "#00cc96",
           "#00cc96",
           "#00cc96",
           "#00cc96",
           "#00cc96",
           "#00cc96",
           "#00cc96",
           "#00cc96",
           "#ab63fa",
           "#00cc96",
           "#00cc96",
           "#00cc96",
           "#ab63fa",
           "#00cc96",
           "#00cc96",
           "#00cc96",
           "#00cc96",
           "#00cc96",
           "#00cc96",
           "#00cc96",
           "#00cc96",
           "#00cc96",
           "#00cc96",
           "#00cc96",
           "#00cc96",
           "#00cc96",
           "#00cc96",
           "#ab63fa",
           "#00cc96",
           "#00cc96",
           "#00cc96",
           "#00cc96",
           "#00cc96",
           "#00cc96",
           "#00cc96",
           "#00cc96",
           "#00cc96",
           "#00cc96",
           "#00cc96",
           "#00cc96",
           "#00cc96",
           "#00cc96",
           "#00cc96",
           "#00cc96",
           "#00cc96",
           "#00cc96",
           "#00cc96",
           "#ab63fa",
           "#00cc96",
           "#ab63fa",
           "#00cc96",
           "#00cc96",
           "#00cc96",
           "#00cc96",
           "#00cc96",
           "#00cc96",
           "#00cc96",
           "#00cc96",
           "#00cc96",
           "#00cc96",
           "#ab63fa",
           "#00cc96",
           "#00cc96",
           "#00cc96",
           "#00cc96",
           "#00cc96",
           "#00cc96",
           "#00cc96",
           "#ab63fa",
           "#00cc96",
           "#00cc96",
           "#00cc96",
           "#00cc96",
           "#00cc96",
           "#00cc96",
           "#00cc96",
           "#00cc96",
           "#00cc96",
           "#00cc96",
           "#ab63fa",
           "#00cc96",
           "#00cc96",
           "#00cc96",
           "#00cc96",
           "#00cc96",
           "#ab63fa",
           "#00cc96",
           "#00cc96",
           "#00cc96",
           "#00cc96",
           "#ab63fa",
           "#00cc96",
           "#00cc96",
           "#00cc96",
           "#00cc96",
           "#00cc96",
           "#00cc96",
           "#00cc96",
           "#ab63fa",
           "#00cc96",
           "#00cc96",
           "#00cc96",
           "#00cc96",
           "#00cc96",
           "#00cc96",
           "#00cc96",
           "#00cc96",
           "#00cc96",
           "#00cc96",
           "#00cc96",
           "#00cc96",
           "#00cc96",
           "#00cc96",
           "#ab63fa",
           "#00cc96",
           "#00cc96",
           "#00cc96",
           "#00cc96",
           "#00cc96",
           "#00cc96",
           "#00cc96",
           "#00cc96",
           "#00cc96",
           "#00cc96",
           "#00cc96",
           "#00cc96",
           "#00cc96",
           "#00cc96",
           "#00cc96",
           "#ab63fa",
           "#ab63fa",
           "#ab63fa",
           "#00cc96",
           "#00cc96",
           "#00cc96",
           "#00cc96",
           "#00cc96",
           "#00cc96",
           "#00cc96",
           "#00cc96",
           "#00cc96",
           "#00cc96",
           "#00cc96",
           "#ab63fa",
           "#00cc96",
           "#00cc96",
           "#00cc96",
           "#00cc96",
           "#00cc96",
           "#00cc96",
           "#ab63fa",
           "#00cc96",
           "#00cc96",
           "#00cc96",
           "#00cc96",
           "#00cc96",
           "#ab63fa",
           "#00cc96",
           "#00cc96",
           "#ab63fa",
           "#00cc96",
           "#00cc96",
           "#00cc96",
           "#ab63fa",
           "#00cc96",
           "#00cc96",
           "#00cc96",
           "#ab63fa",
           "#00cc96",
           "#ab63fa",
           "#00cc96",
           "#00cc96",
           "#00cc96",
           "#00cc96",
           "#00cc96",
           "#00cc96",
           "#00cc96",
           "#00cc96",
           "#00cc96",
           "#00cc96",
           "#00cc96",
           "#00cc96",
           "#00cc96",
           "#00cc96",
           "#00cc96",
           "#00cc96",
           "#00cc96",
           "#00cc96",
           "#00cc96",
           "#00cc96",
           "#00cc96",
           "#00cc96",
           "#00cc96",
           "#00cc96",
           "#00cc96",
           "#00cc96",
           "#ab63fa",
           "#00cc96",
           "#ab63fa",
           "#ab63fa",
           "#00cc96",
           "#00cc96",
           "#ab63fa",
           "#00cc96",
           "#00cc96",
           "#00cc96",
           "#ab63fa",
           "#00cc96",
           "#00cc96",
           "#00cc96",
           "#00cc96",
           "#00cc96",
           "#00cc96",
           "#00cc96",
           "#00cc96",
           "#00cc96",
           "#00cc96",
           "#00cc96",
           "#00cc96",
           "#00cc96",
           "#00cc96",
           "#00cc96",
           "#00cc96",
           "#00cc96",
           "#00cc96",
           "#00cc96",
           "#00cc96",
           "#00cc96",
           "#00cc96",
           "#00cc96",
           "#ab63fa",
           "#00cc96",
           "#00cc96",
           "#00cc96",
           "#00cc96",
           "#00cc96",
           "#00cc96",
           "#00cc96",
           "#00cc96",
           "#00cc96",
           "#ab63fa",
           "#00cc96",
           "#ab63fa",
           "#00cc96",
           "#00cc96",
           "#00cc96",
           "#00cc96",
           "#00cc96",
           "#00cc96",
           "#00cc96",
           "#00cc96",
           "#ab63fa",
           "#00cc96",
           "#00cc96",
           "#00cc96",
           "#00cc96",
           "#ab63fa",
           "#00cc96",
           "#00cc96",
           "#00cc96",
           "#00cc96",
           "#00cc96",
           "#ab63fa",
           "#00cc96",
           "#00cc96",
           "#00cc96",
           "#00cc96",
           "#ab63fa",
           "#00cc96",
           "#00cc96",
           "#00cc96",
           "#00cc96",
           "#00cc96",
           "#00cc96",
           "#00cc96",
           "#00cc96",
           "#00cc96",
           "#00cc96",
           "#00cc96",
           "#00cc96",
           "#00cc96",
           "#00cc96",
           "#ab63fa",
           "#00cc96",
           "#00cc96",
           "#00cc96",
           "#00cc96",
           "#00cc96",
           "#00cc96",
           "#00cc96",
           "#00cc96",
           "#00cc96",
           "#00cc96",
           "#00cc96",
           "#00cc96",
           "#ab63fa",
           "#00cc96",
           "#ab63fa",
           "#00cc96",
           "#00cc96",
           "#ab63fa",
           "#00cc96",
           "#00cc96",
           "#00cc96",
           "#00cc96",
           "#ab63fa",
           "#ab63fa",
           "#00cc96",
           "#00cc96",
           "#00cc96",
           "#ab63fa",
           "#00cc96",
           "#00cc96",
           "#00cc96",
           "#ab63fa",
           "#00cc96",
           "#00cc96",
           "#00cc96",
           "#ab63fa",
           "#00cc96",
           "#00cc96",
           "#00cc96",
           "#00cc96",
           "#00cc96",
           "#00cc96",
           "#00cc96",
           "#00cc96",
           "#00cc96",
           "#00cc96",
           "#00cc96",
           "#00cc96",
           "#00cc96",
           "#00cc96",
           "#00cc96",
           "#00cc96",
           "#00cc96",
           "#00cc96",
           "#00cc96",
           "#ab63fa",
           "#00cc96",
           "#00cc96",
           "#00cc96",
           "#00cc96",
           "#00cc96",
           "#00cc96",
           "#00cc96",
           "#00cc96",
           "#ab63fa",
           "#00cc96",
           "#00cc96",
           "#00cc96",
           "#00cc96",
           "#00cc96",
           "#00cc96",
           "#00cc96",
           "#00cc96",
           "#00cc96",
           "#00cc96",
           "#00cc96",
           "#00cc96",
           "#00cc96",
           "#00cc96",
           "#00cc96",
           "#00cc96",
           "#ab63fa",
           "#00cc96",
           "#00cc96",
           "#00cc96",
           "#00cc96",
           "#00cc96",
           "#00cc96",
           "#00cc96",
           "#00cc96",
           "#00cc96",
           "#00cc96",
           "#00cc96",
           "#ab63fa",
           "#00cc96",
           "#00cc96",
           "#00cc96",
           "#00cc96",
           "#00cc96",
           "#00cc96",
           "#00cc96",
           "#ab63fa",
           "#00cc96",
           "#00cc96",
           "#00cc96",
           "#00cc96",
           "#00cc96",
           "#00cc96",
           "#00cc96",
           "#00cc96",
           "#00cc96",
           "#ab63fa",
           "#00cc96",
           "#00cc96",
           "#00cc96",
           "#00cc96",
           "#00cc96",
           "#00cc96",
           "#00cc96",
           "#00cc96",
           "#00cc96",
           "#00cc96",
           "#00cc96",
           "#00cc96",
           "#00cc96",
           "#00cc96",
           "#00cc96",
           "#ab63fa",
           "#00cc96",
           "#ab63fa",
           "#00cc96",
           "#00cc96",
           "#00cc96",
           "#00cc96",
           "#00cc96",
           "#00cc96",
           "#00cc96",
           "#00cc96",
           "#00cc96",
           "#00cc96",
           "#00cc96",
           "#00cc96",
           "#00cc96",
           "#00cc96",
           "#ab63fa",
           "#00cc96",
           "#00cc96",
           "#00cc96",
           "#00cc96",
           "#00cc96",
           "#00cc96",
           "#00cc96",
           "#00cc96",
           "#00cc96",
           "#00cc96",
           "#00cc96",
           "#00cc96",
           "#00cc96",
           "#00cc96",
           "#00cc96",
           "#00cc96",
           "#00cc96",
           "#00cc96",
           "#00cc96",
           "#00cc96",
           "#ab63fa",
           "#00cc96",
           "#00cc96",
           "#ab63fa",
           "#00cc96",
           "#00cc96",
           "#00cc96",
           "#ab63fa",
           "#00cc96",
           "#00cc96",
           "#00cc96",
           "#00cc96",
           "#ab63fa",
           "#00cc96",
           "#ab63fa",
           "#00cc96",
           "#00cc96",
           "#00cc96",
           "#ab63fa",
           "#00cc96",
           "#00cc96",
           "#00cc96",
           "#00cc96",
           "#00cc96",
           "#ab63fa",
           "#ab63fa",
           "#00cc96",
           "#00cc96",
           "#00cc96",
           "#00cc96",
           "#ab63fa",
           "#ab63fa",
           "#00cc96",
           "#00cc96",
           "#00cc96",
           "#00cc96",
           "#00cc96",
           "#00cc96",
           "#00cc96",
           "#00cc96",
           "#ab63fa",
           "#00cc96",
           "#00cc96",
           "#00cc96",
           "#00cc96",
           "#00cc96",
           "#00cc96",
           "#00cc96",
           "#00cc96",
           "#00cc96",
           "#ab63fa",
           "#00cc96",
           "#00cc96",
           "#00cc96",
           "#00cc96",
           "#ab63fa",
           "#ab63fa",
           "#00cc96",
           "#ab63fa",
           "#00cc96",
           "#00cc96",
           "#00cc96",
           "#00cc96",
           "#00cc96",
           "#00cc96",
           "#00cc96",
           "#00cc96",
           "#00cc96",
           "#00cc96",
           "#00cc96",
           "#ab63fa",
           "#00cc96",
           "#ab63fa",
           "#00cc96",
           "#00cc96",
           "#ab63fa",
           "#ab63fa",
           "#00cc96",
           "#00cc96",
           "#00cc96",
           "#00cc96",
           "#00cc96",
           "#00cc96",
           "#00cc96",
           "#00cc96",
           "#00cc96",
           "#00cc96",
           "#ab63fa",
           "#00cc96",
           "#ab63fa",
           "#00cc96",
           "#00cc96",
           "#00cc96",
           "#00cc96",
           "#00cc96",
           "#00cc96",
           "#00cc96",
           "#ab63fa",
           "#00cc96",
           "#00cc96",
           "#00cc96",
           "#00cc96",
           "#00cc96",
           "#00cc96",
           "#00cc96",
           "#ab63fa",
           "#00cc96",
           "#ab63fa",
           "#00cc96",
           "#00cc96",
           "#00cc96",
           "#00cc96",
           "#00cc96",
           "#ab63fa",
           "#00cc96",
           "#00cc96",
           "#ab63fa",
           "#ab63fa",
           "#00cc96",
           "#00cc96",
           "#00cc96",
           "#00cc96",
           "#00cc96",
           "#ab63fa",
           "#00cc96",
           "#00cc96",
           "#00cc96",
           "#ab63fa",
           "#00cc96",
           "#00cc96",
           "#00cc96",
           "#00cc96",
           "#00cc96",
           "#00cc96",
           "#00cc96",
           "#00cc96",
           "#00cc96",
           "#00cc96",
           "#00cc96",
           "#ab63fa",
           "#00cc96",
           "#00cc96",
           "#00cc96",
           "#00cc96",
           "#00cc96",
           "#00cc96",
           "#00cc96",
           "#ab63fa",
           "#ab63fa",
           "#00cc96",
           "#00cc96",
           "#00cc96",
           "#ab63fa",
           "#00cc96",
           "#00cc96",
           "#00cc96",
           "#00cc96",
           "#ab63fa",
           "#00cc96",
           "#00cc96",
           "#ab63fa",
           "#00cc96",
           "#00cc96",
           "#ab63fa",
           "#00cc96",
           "#00cc96",
           "#00cc96",
           "#ab63fa",
           "#00cc96",
           "#00cc96",
           "#00cc96",
           "#00cc96",
           "#00cc96",
           "#00cc96",
           "#00cc96",
           "#00cc96",
           "#00cc96",
           "#ab63fa",
           "#00cc96",
           "#00cc96",
           "#00cc96",
           "#00cc96",
           "#00cc96",
           "#00cc96",
           "#00cc96",
           "#00cc96",
           "#00cc96",
           "#ab63fa",
           "#ab63fa",
           "#00cc96",
           "#00cc96",
           "#00cc96",
           "#00cc96",
           "#00cc96",
           "#00cc96",
           "#00cc96",
           "#00cc96",
           "#00cc96",
           "#00cc96",
           "#00cc96",
           "#00cc96",
           "#ab63fa",
           "#00cc96",
           "#00cc96",
           "#ab63fa",
           "#00cc96",
           "#ab63fa",
           "#ab63fa",
           "#ab63fa",
           "#00cc96",
           "#00cc96",
           "#00cc96",
           "#00cc96",
           "#ab63fa",
           "#ab63fa",
           "#00cc96",
           "#00cc96",
           "#00cc96",
           "#00cc96",
           "#00cc96",
           "#00cc96",
           "#00cc96",
           "#00cc96",
           "#00cc96",
           "#00cc96",
           "#00cc96",
           "#00cc96",
           "#00cc96",
           "#00cc96",
           "#00cc96",
           "#00cc96",
           "#00cc96",
           "#00cc96",
           "#00cc96",
           "#00cc96",
           "#00cc96",
           "#00cc96",
           "#00cc96",
           "#00cc96",
           "#00cc96",
           "#00cc96",
           "#00cc96",
           "#00cc96",
           "#00cc96",
           "#ab63fa",
           "#00cc96",
           "#00cc96",
           "#00cc96",
           "#00cc96",
           "#00cc96",
           "#00cc96",
           "#ab63fa",
           "#00cc96",
           "#ab63fa",
           "#00cc96",
           "#00cc96",
           "#ab63fa",
           "#00cc96",
           "#00cc96",
           "#00cc96",
           "#00cc96",
           "#00cc96",
           "#00cc96",
           "#ab63fa",
           "#00cc96",
           "#00cc96",
           "#00cc96",
           "#00cc96",
           "#00cc96",
           "#00cc96",
           "#00cc96",
           "#00cc96",
           "#00cc96",
           "#ab63fa",
           "#00cc96",
           "#00cc96",
           "#00cc96",
           "#ab63fa",
           "#00cc96",
           "#00cc96",
           "#00cc96",
           "#00cc96",
           "#ab63fa",
           "#00cc96",
           "#00cc96",
           "#00cc96",
           "#00cc96",
           "#00cc96",
           "#00cc96",
           "#00cc96",
           "#00cc96",
           "#00cc96",
           "#00cc96",
           "#00cc96",
           "#ab63fa",
           "#ab63fa",
           "#00cc96",
           "#00cc96",
           "#ab63fa",
           "#ab63fa",
           "#00cc96",
           "#00cc96",
           "#00cc96",
           "#00cc96",
           "#00cc96",
           "#00cc96",
           "#00cc96",
           "#00cc96",
           "#00cc96",
           "#00cc96",
           "#00cc96",
           "#00cc96",
           "#00cc96",
           "#00cc96",
           "#00cc96",
           "#00cc96",
           "#00cc96",
           "#ab63fa",
           "#00cc96",
           "#00cc96",
           "#00cc96",
           "#00cc96",
           "#00cc96",
           "#00cc96",
           "#ab63fa",
           "#00cc96",
           "#00cc96",
           "#00cc96",
           "#00cc96",
           "#00cc96",
           "#ab63fa",
           "#00cc96",
           "#00cc96",
           "#00cc96",
           "#00cc96",
           "#ab63fa",
           "#00cc96",
           "#00cc96",
           "#00cc96",
           "#ab63fa",
           "#00cc96",
           "#00cc96",
           "#00cc96",
           "#00cc96",
           "#ab63fa",
           "#00cc96",
           "#00cc96",
           "#ab63fa",
           "#00cc96",
           "#ab63fa",
           "#00cc96",
           "#00cc96",
           "#00cc96",
           "#00cc96",
           "#00cc96",
           "#00cc96",
           "#00cc96",
           "#00cc96",
           "#ab63fa",
           "#00cc96",
           "#00cc96",
           "#00cc96",
           "#00cc96",
           "#00cc96",
           "#00cc96",
           "#00cc96",
           "#00cc96",
           "#00cc96",
           "#00cc96",
           "#ab63fa",
           "#00cc96",
           "#00cc96",
           "#00cc96",
           "#ab63fa",
           "#00cc96",
           "#00cc96",
           "#00cc96",
           "#00cc96",
           "#00cc96",
           "#00cc96",
           "#00cc96",
           "#00cc96",
           "#ab63fa",
           "#00cc96",
           "#ab63fa",
           "#00cc96",
           "#00cc96",
           "#00cc96",
           "#00cc96",
           "#00cc96",
           "#00cc96",
           "#00cc96",
           "#00cc96",
           "#00cc96",
           "#00cc96",
           "#00cc96",
           "#00cc96",
           "#00cc96",
           "#00cc96",
           "#00cc96",
           "#00cc96",
           "#00cc96",
           "#00cc96",
           "#00cc96",
           "#00cc96",
           "#00cc96",
           "#00cc96",
           "#00cc96",
           "#00cc96",
           "#00cc96",
           "#00cc96",
           "#00cc96",
           "#00cc96",
           "#00cc96",
           "#00cc96",
           "#00cc96",
           "#00cc96",
           "#00cc96",
           "#00cc96",
           "#00cc96",
           "#00cc96",
           "#00cc96",
           "#00cc96",
           "#00cc96",
           "#00cc96",
           "#00cc96",
           "#ab63fa",
           "#00cc96",
           "#00cc96",
           "#00cc96",
           "#00cc96",
           "#00cc96",
           "#00cc96",
           "#00cc96",
           "#00cc96",
           "#00cc96",
           "#00cc96",
           "#00cc96",
           "#00cc96",
           "#00cc96",
           "#00cc96",
           "#00cc96",
           "#00cc96",
           "#00cc96",
           "#00cc96",
           "#00cc96",
           "#00cc96",
           "#00cc96",
           "#00cc96",
           "#00cc96",
           "#00cc96",
           "#ab63fa",
           "#00cc96",
           "#00cc96",
           "#00cc96",
           "#ab63fa",
           "#00cc96",
           "#00cc96",
           "#00cc96",
           "#00cc96",
           "#00cc96",
           "#00cc96",
           "#00cc96",
           "#00cc96",
           "#00cc96",
           "#ab63fa",
           "#00cc96",
           "#00cc96",
           "#00cc96",
           "#00cc96",
           "#00cc96",
           "#ab63fa",
           "#00cc96",
           "#00cc96",
           "#00cc96",
           "#00cc96",
           "#00cc96",
           "#00cc96",
           "#ab63fa",
           "#00cc96",
           "#00cc96",
           "#00cc96",
           "#00cc96",
           "#00cc96",
           "#00cc96",
           "#00cc96",
           "#ab63fa",
           "#00cc96",
           "#00cc96",
           "#00cc96",
           "#00cc96",
           "#00cc96",
           "#00cc96",
           "#00cc96",
           "#00cc96",
           "#00cc96",
           "#ab63fa",
           "#00cc96",
           "#00cc96",
           "#00cc96",
           "#ab63fa",
           "#00cc96",
           "#ab63fa",
           "#ab63fa",
           "#00cc96",
           "#00cc96",
           "#00cc96",
           "#ab63fa",
           "#00cc96",
           "#00cc96",
           "#00cc96",
           "#00cc96",
           "#00cc96",
           "#00cc96",
           "#00cc96",
           "#00cc96",
           "#00cc96",
           "#00cc96",
           "#00cc96",
           "#ab63fa",
           "#00cc96",
           "#00cc96",
           "#00cc96",
           "#00cc96",
           "#00cc96",
           "#00cc96",
           "#00cc96",
           "#00cc96",
           "#00cc96",
           "#ab63fa",
           "#ab63fa",
           "#00cc96",
           "#00cc96",
           "#00cc96",
           "#00cc96",
           "#00cc96",
           "#00cc96",
           "#00cc96",
           "#00cc96",
           "#ab63fa",
           "#00cc96",
           "#ab63fa",
           "#00cc96",
           "#00cc96",
           "#00cc96",
           "#00cc96",
           "#00cc96",
           "#00cc96",
           "#00cc96",
           "#00cc96",
           "#00cc96",
           "#00cc96",
           "#00cc96",
           "#00cc96",
           "#00cc96",
           "#00cc96",
           "#00cc96",
           "#00cc96",
           "#ab63fa",
           "#00cc96",
           "#00cc96",
           "#ab63fa",
           "#00cc96",
           "#00cc96",
           "#00cc96",
           "#00cc96",
           "#00cc96",
           "#00cc96",
           "#00cc96",
           "#00cc96",
           "#00cc96",
           "#00cc96",
           "#00cc96",
           "#ab63fa",
           "#00cc96",
           "#00cc96",
           "#00cc96",
           "#00cc96",
           "#00cc96",
           "#00cc96",
           "#00cc96",
           "#00cc96",
           "#ab63fa",
           "#00cc96",
           "#00cc96",
           "#00cc96",
           "#00cc96",
           "#ab63fa",
           "#00cc96",
           "#00cc96",
           "#00cc96",
           "#00cc96",
           "#00cc96",
           "#00cc96",
           "#00cc96",
           "#00cc96",
           "#00cc96",
           "#00cc96",
           "#ab63fa",
           "#00cc96",
           "#00cc96",
           "#00cc96",
           "#00cc96",
           "#00cc96",
           "#00cc96",
           "#ab63fa",
           "#00cc96",
           "#00cc96",
           "#00cc96",
           "#ab63fa",
           "#00cc96",
           "#00cc96",
           "#00cc96",
           "#00cc96",
           "#00cc96",
           "#00cc96",
           "#ab63fa",
           "#ab63fa",
           "#00cc96",
           "#00cc96",
           "#00cc96",
           "#00cc96",
           "#00cc96",
           "#ab63fa",
           "#00cc96",
           "#00cc96",
           "#00cc96",
           "#00cc96",
           "#00cc96",
           "#00cc96",
           "#ab63fa",
           "#00cc96",
           "#00cc96",
           "#00cc96",
           "#00cc96",
           "#00cc96",
           "#00cc96"
          ]
         },
         "name": "",
         "showlegend": true,
         "type": "pie"
        }
       ],
       "layout": {
        "legend": {
         "tracegroupgap": 0
        },
        "margin": {
         "t": 60
        },
        "template": {
         "data": {
          "bar": [
           {
            "error_x": {
             "color": "#2a3f5f"
            },
            "error_y": {
             "color": "#2a3f5f"
            },
            "marker": {
             "line": {
              "color": "#E5ECF6",
              "width": 0.5
             },
             "pattern": {
              "fillmode": "overlay",
              "size": 10,
              "solidity": 0.2
             }
            },
            "type": "bar"
           }
          ],
          "barpolar": [
           {
            "marker": {
             "line": {
              "color": "#E5ECF6",
              "width": 0.5
             },
             "pattern": {
              "fillmode": "overlay",
              "size": 10,
              "solidity": 0.2
             }
            },
            "type": "barpolar"
           }
          ],
          "carpet": [
           {
            "aaxis": {
             "endlinecolor": "#2a3f5f",
             "gridcolor": "white",
             "linecolor": "white",
             "minorgridcolor": "white",
             "startlinecolor": "#2a3f5f"
            },
            "baxis": {
             "endlinecolor": "#2a3f5f",
             "gridcolor": "white",
             "linecolor": "white",
             "minorgridcolor": "white",
             "startlinecolor": "#2a3f5f"
            },
            "type": "carpet"
           }
          ],
          "choropleth": [
           {
            "colorbar": {
             "outlinewidth": 0,
             "ticks": ""
            },
            "type": "choropleth"
           }
          ],
          "contour": [
           {
            "colorbar": {
             "outlinewidth": 0,
             "ticks": ""
            },
            "colorscale": [
             [
              0,
              "#0d0887"
             ],
             [
              0.1111111111111111,
              "#46039f"
             ],
             [
              0.2222222222222222,
              "#7201a8"
             ],
             [
              0.3333333333333333,
              "#9c179e"
             ],
             [
              0.4444444444444444,
              "#bd3786"
             ],
             [
              0.5555555555555556,
              "#d8576b"
             ],
             [
              0.6666666666666666,
              "#ed7953"
             ],
             [
              0.7777777777777778,
              "#fb9f3a"
             ],
             [
              0.8888888888888888,
              "#fdca26"
             ],
             [
              1,
              "#f0f921"
             ]
            ],
            "type": "contour"
           }
          ],
          "contourcarpet": [
           {
            "colorbar": {
             "outlinewidth": 0,
             "ticks": ""
            },
            "type": "contourcarpet"
           }
          ],
          "heatmap": [
           {
            "colorbar": {
             "outlinewidth": 0,
             "ticks": ""
            },
            "colorscale": [
             [
              0,
              "#0d0887"
             ],
             [
              0.1111111111111111,
              "#46039f"
             ],
             [
              0.2222222222222222,
              "#7201a8"
             ],
             [
              0.3333333333333333,
              "#9c179e"
             ],
             [
              0.4444444444444444,
              "#bd3786"
             ],
             [
              0.5555555555555556,
              "#d8576b"
             ],
             [
              0.6666666666666666,
              "#ed7953"
             ],
             [
              0.7777777777777778,
              "#fb9f3a"
             ],
             [
              0.8888888888888888,
              "#fdca26"
             ],
             [
              1,
              "#f0f921"
             ]
            ],
            "type": "heatmap"
           }
          ],
          "heatmapgl": [
           {
            "colorbar": {
             "outlinewidth": 0,
             "ticks": ""
            },
            "colorscale": [
             [
              0,
              "#0d0887"
             ],
             [
              0.1111111111111111,
              "#46039f"
             ],
             [
              0.2222222222222222,
              "#7201a8"
             ],
             [
              0.3333333333333333,
              "#9c179e"
             ],
             [
              0.4444444444444444,
              "#bd3786"
             ],
             [
              0.5555555555555556,
              "#d8576b"
             ],
             [
              0.6666666666666666,
              "#ed7953"
             ],
             [
              0.7777777777777778,
              "#fb9f3a"
             ],
             [
              0.8888888888888888,
              "#fdca26"
             ],
             [
              1,
              "#f0f921"
             ]
            ],
            "type": "heatmapgl"
           }
          ],
          "histogram": [
           {
            "marker": {
             "pattern": {
              "fillmode": "overlay",
              "size": 10,
              "solidity": 0.2
             }
            },
            "type": "histogram"
           }
          ],
          "histogram2d": [
           {
            "colorbar": {
             "outlinewidth": 0,
             "ticks": ""
            },
            "colorscale": [
             [
              0,
              "#0d0887"
             ],
             [
              0.1111111111111111,
              "#46039f"
             ],
             [
              0.2222222222222222,
              "#7201a8"
             ],
             [
              0.3333333333333333,
              "#9c179e"
             ],
             [
              0.4444444444444444,
              "#bd3786"
             ],
             [
              0.5555555555555556,
              "#d8576b"
             ],
             [
              0.6666666666666666,
              "#ed7953"
             ],
             [
              0.7777777777777778,
              "#fb9f3a"
             ],
             [
              0.8888888888888888,
              "#fdca26"
             ],
             [
              1,
              "#f0f921"
             ]
            ],
            "type": "histogram2d"
           }
          ],
          "histogram2dcontour": [
           {
            "colorbar": {
             "outlinewidth": 0,
             "ticks": ""
            },
            "colorscale": [
             [
              0,
              "#0d0887"
             ],
             [
              0.1111111111111111,
              "#46039f"
             ],
             [
              0.2222222222222222,
              "#7201a8"
             ],
             [
              0.3333333333333333,
              "#9c179e"
             ],
             [
              0.4444444444444444,
              "#bd3786"
             ],
             [
              0.5555555555555556,
              "#d8576b"
             ],
             [
              0.6666666666666666,
              "#ed7953"
             ],
             [
              0.7777777777777778,
              "#fb9f3a"
             ],
             [
              0.8888888888888888,
              "#fdca26"
             ],
             [
              1,
              "#f0f921"
             ]
            ],
            "type": "histogram2dcontour"
           }
          ],
          "mesh3d": [
           {
            "colorbar": {
             "outlinewidth": 0,
             "ticks": ""
            },
            "type": "mesh3d"
           }
          ],
          "parcoords": [
           {
            "line": {
             "colorbar": {
              "outlinewidth": 0,
              "ticks": ""
             }
            },
            "type": "parcoords"
           }
          ],
          "pie": [
           {
            "automargin": true,
            "type": "pie"
           }
          ],
          "scatter": [
           {
            "fillpattern": {
             "fillmode": "overlay",
             "size": 10,
             "solidity": 0.2
            },
            "type": "scatter"
           }
          ],
          "scatter3d": [
           {
            "line": {
             "colorbar": {
              "outlinewidth": 0,
              "ticks": ""
             }
            },
            "marker": {
             "colorbar": {
              "outlinewidth": 0,
              "ticks": ""
             }
            },
            "type": "scatter3d"
           }
          ],
          "scattercarpet": [
           {
            "marker": {
             "colorbar": {
              "outlinewidth": 0,
              "ticks": ""
             }
            },
            "type": "scattercarpet"
           }
          ],
          "scattergeo": [
           {
            "marker": {
             "colorbar": {
              "outlinewidth": 0,
              "ticks": ""
             }
            },
            "type": "scattergeo"
           }
          ],
          "scattergl": [
           {
            "marker": {
             "colorbar": {
              "outlinewidth": 0,
              "ticks": ""
             }
            },
            "type": "scattergl"
           }
          ],
          "scattermapbox": [
           {
            "marker": {
             "colorbar": {
              "outlinewidth": 0,
              "ticks": ""
             }
            },
            "type": "scattermapbox"
           }
          ],
          "scatterpolar": [
           {
            "marker": {
             "colorbar": {
              "outlinewidth": 0,
              "ticks": ""
             }
            },
            "type": "scatterpolar"
           }
          ],
          "scatterpolargl": [
           {
            "marker": {
             "colorbar": {
              "outlinewidth": 0,
              "ticks": ""
             }
            },
            "type": "scatterpolargl"
           }
          ],
          "scatterternary": [
           {
            "marker": {
             "colorbar": {
              "outlinewidth": 0,
              "ticks": ""
             }
            },
            "type": "scatterternary"
           }
          ],
          "surface": [
           {
            "colorbar": {
             "outlinewidth": 0,
             "ticks": ""
            },
            "colorscale": [
             [
              0,
              "#0d0887"
             ],
             [
              0.1111111111111111,
              "#46039f"
             ],
             [
              0.2222222222222222,
              "#7201a8"
             ],
             [
              0.3333333333333333,
              "#9c179e"
             ],
             [
              0.4444444444444444,
              "#bd3786"
             ],
             [
              0.5555555555555556,
              "#d8576b"
             ],
             [
              0.6666666666666666,
              "#ed7953"
             ],
             [
              0.7777777777777778,
              "#fb9f3a"
             ],
             [
              0.8888888888888888,
              "#fdca26"
             ],
             [
              1,
              "#f0f921"
             ]
            ],
            "type": "surface"
           }
          ],
          "table": [
           {
            "cells": {
             "fill": {
              "color": "#EBF0F8"
             },
             "line": {
              "color": "white"
             }
            },
            "header": {
             "fill": {
              "color": "#C8D4E3"
             },
             "line": {
              "color": "white"
             }
            },
            "type": "table"
           }
          ]
         },
         "layout": {
          "annotationdefaults": {
           "arrowcolor": "#2a3f5f",
           "arrowhead": 0,
           "arrowwidth": 1
          },
          "autotypenumbers": "strict",
          "coloraxis": {
           "colorbar": {
            "outlinewidth": 0,
            "ticks": ""
           }
          },
          "colorscale": {
           "diverging": [
            [
             0,
             "#8e0152"
            ],
            [
             0.1,
             "#c51b7d"
            ],
            [
             0.2,
             "#de77ae"
            ],
            [
             0.3,
             "#f1b6da"
            ],
            [
             0.4,
             "#fde0ef"
            ],
            [
             0.5,
             "#f7f7f7"
            ],
            [
             0.6,
             "#e6f5d0"
            ],
            [
             0.7,
             "#b8e186"
            ],
            [
             0.8,
             "#7fbc41"
            ],
            [
             0.9,
             "#4d9221"
            ],
            [
             1,
             "#276419"
            ]
           ],
           "sequential": [
            [
             0,
             "#0d0887"
            ],
            [
             0.1111111111111111,
             "#46039f"
            ],
            [
             0.2222222222222222,
             "#7201a8"
            ],
            [
             0.3333333333333333,
             "#9c179e"
            ],
            [
             0.4444444444444444,
             "#bd3786"
            ],
            [
             0.5555555555555556,
             "#d8576b"
            ],
            [
             0.6666666666666666,
             "#ed7953"
            ],
            [
             0.7777777777777778,
             "#fb9f3a"
            ],
            [
             0.8888888888888888,
             "#fdca26"
            ],
            [
             1,
             "#f0f921"
            ]
           ],
           "sequentialminus": [
            [
             0,
             "#0d0887"
            ],
            [
             0.1111111111111111,
             "#46039f"
            ],
            [
             0.2222222222222222,
             "#7201a8"
            ],
            [
             0.3333333333333333,
             "#9c179e"
            ],
            [
             0.4444444444444444,
             "#bd3786"
            ],
            [
             0.5555555555555556,
             "#d8576b"
            ],
            [
             0.6666666666666666,
             "#ed7953"
            ],
            [
             0.7777777777777778,
             "#fb9f3a"
            ],
            [
             0.8888888888888888,
             "#fdca26"
            ],
            [
             1,
             "#f0f921"
            ]
           ]
          },
          "colorway": [
           "#636efa",
           "#EF553B",
           "#00cc96",
           "#ab63fa",
           "#FFA15A",
           "#19d3f3",
           "#FF6692",
           "#B6E880",
           "#FF97FF",
           "#FECB52"
          ],
          "font": {
           "color": "#2a3f5f"
          },
          "geo": {
           "bgcolor": "white",
           "lakecolor": "white",
           "landcolor": "#E5ECF6",
           "showlakes": true,
           "showland": true,
           "subunitcolor": "white"
          },
          "hoverlabel": {
           "align": "left"
          },
          "hovermode": "closest",
          "mapbox": {
           "style": "light"
          },
          "paper_bgcolor": "white",
          "plot_bgcolor": "#E5ECF6",
          "polar": {
           "angularaxis": {
            "gridcolor": "white",
            "linecolor": "white",
            "ticks": ""
           },
           "bgcolor": "#E5ECF6",
           "radialaxis": {
            "gridcolor": "white",
            "linecolor": "white",
            "ticks": ""
           }
          },
          "scene": {
           "xaxis": {
            "backgroundcolor": "#E5ECF6",
            "gridcolor": "white",
            "gridwidth": 2,
            "linecolor": "white",
            "showbackground": true,
            "ticks": "",
            "zerolinecolor": "white"
           },
           "yaxis": {
            "backgroundcolor": "#E5ECF6",
            "gridcolor": "white",
            "gridwidth": 2,
            "linecolor": "white",
            "showbackground": true,
            "ticks": "",
            "zerolinecolor": "white"
           },
           "zaxis": {
            "backgroundcolor": "#E5ECF6",
            "gridcolor": "white",
            "gridwidth": 2,
            "linecolor": "white",
            "showbackground": true,
            "ticks": "",
            "zerolinecolor": "white"
           }
          },
          "shapedefaults": {
           "line": {
            "color": "#2a3f5f"
           }
          },
          "ternary": {
           "aaxis": {
            "gridcolor": "white",
            "linecolor": "white",
            "ticks": ""
           },
           "baxis": {
            "gridcolor": "white",
            "linecolor": "white",
            "ticks": ""
           },
           "bgcolor": "#E5ECF6",
           "caxis": {
            "gridcolor": "white",
            "linecolor": "white",
            "ticks": ""
           }
          },
          "title": {
           "x": 0.05
          },
          "xaxis": {
           "automargin": true,
           "gridcolor": "white",
           "linecolor": "white",
           "ticks": "",
           "title": {
            "standoff": 15
           },
           "zerolinecolor": "white",
           "zerolinewidth": 2
          },
          "yaxis": {
           "automargin": true,
           "gridcolor": "white",
           "linecolor": "white",
           "ticks": "",
           "title": {
            "standoff": 15
           },
           "zerolinecolor": "white",
           "zerolinewidth": 2
          }
         }
        }
       }
      },
      "text/html": [
       "<div>                            <div id=\"7ff3e3e4-9cfc-4ec1-bd31-a14054a1eed4\" class=\"plotly-graph-div\" style=\"height:525px; width:100%;\"></div>            <script type=\"text/javascript\">                require([\"plotly\"], function(Plotly) {                    window.PLOTLYENV=window.PLOTLYENV || {};                                    if (document.getElementById(\"7ff3e3e4-9cfc-4ec1-bd31-a14054a1eed4\")) {                    Plotly.newPlot(                        \"7ff3e3e4-9cfc-4ec1-bd31-a14054a1eed4\",                        [{\"customdata\":[[\"Alive\"],[\"Alive\"],[\"Alive\"],[\"Alive\"],[\"Alive\"],[\"Alive\"],[\"Alive\"],[\"Dead\"],[\"Alive\"],[\"Alive\"],[\"Dead\"],[\"Alive\"],[\"Alive\"],[\"Alive\"],[\"Alive\"],[\"Alive\"],[\"Alive\"],[\"Alive\"],[\"Alive\"],[\"Alive\"],[\"Alive\"],[\"Alive\"],[\"Alive\"],[\"Alive\"],[\"Alive\"],[\"Alive\"],[\"Alive\"],[\"Alive\"],[\"Alive\"],[\"Alive\"],[\"Alive\"],[\"Alive\"],[\"Alive\"],[\"Alive\"],[\"Alive\"],[\"Alive\"],[\"Alive\"],[\"Alive\"],[\"Alive\"],[\"Alive\"],[\"Dead\"],[\"Alive\"],[\"Alive\"],[\"Alive\"],[\"Alive\"],[\"Alive\"],[\"Dead\"],[\"Alive\"],[\"Alive\"],[\"Alive\"],[\"Alive\"],[\"Alive\"],[\"Alive\"],[\"Alive\"],[\"Alive\"],[\"Alive\"],[\"Alive\"],[\"Alive\"],[\"Alive\"],[\"Alive\"],[\"Alive\"],[\"Alive\"],[\"Alive\"],[\"Alive\"],[\"Dead\"],[\"Alive\"],[\"Dead\"],[\"Alive\"],[\"Alive\"],[\"Alive\"],[\"Alive\"],[\"Dead\"],[\"Alive\"],[\"Alive\"],[\"Alive\"],[\"Alive\"],[\"Alive\"],[\"Alive\"],[\"Alive\"],[\"Alive\"],[\"Alive\"],[\"Alive\"],[\"Alive\"],[\"Alive\"],[\"Alive\"],[\"Alive\"],[\"Alive\"],[\"Alive\"],[\"Alive\"],[\"Alive\"],[\"Dead\"],[\"Alive\"],[\"Dead\"],[\"Dead\"],[\"Alive\"],[\"Alive\"],[\"Dead\"],[\"Alive\"],[\"Dead\"],[\"Alive\"],[\"Dead\"],[\"Alive\"],[\"Alive\"],[\"Dead\"],[\"Alive\"],[\"Alive\"],[\"Dead\"],[\"Alive\"],[\"Alive\"],[\"Alive\"],[\"Alive\"],[\"Dead\"],[\"Alive\"],[\"Alive\"],[\"Alive\"],[\"Alive\"],[\"Alive\"],[\"Alive\"],[\"Alive\"],[\"Alive\"],[\"Alive\"],[\"Alive\"],[\"Alive\"],[\"Alive\"],[\"Alive\"],[\"Dead\"],[\"Alive\"],[\"Alive\"],[\"Alive\"],[\"Alive\"],[\"Alive\"],[\"Alive\"],[\"Alive\"],[\"Alive\"],[\"Dead\"],[\"Dead\"],[\"Alive\"],[\"Dead\"],[\"Dead\"],[\"Alive\"],[\"Alive\"],[\"Alive\"],[\"Alive\"],[\"Dead\"],[\"Dead\"],[\"Alive\"],[\"Alive\"],[\"Dead\"],[\"Alive\"],[\"Alive\"],[\"Alive\"],[\"Alive\"],[\"Dead\"],[\"Alive\"],[\"Alive\"],[\"Alive\"],[\"Alive\"],[\"Alive\"],[\"Alive\"],[\"Dead\"],[\"Alive\"],[\"Alive\"],[\"Alive\"],[\"Alive\"],[\"Alive\"],[\"Alive\"],[\"Alive\"],[\"Alive\"],[\"Alive\"],[\"Alive\"],[\"Dead\"],[\"Alive\"],[\"Alive\"],[\"Alive\"],[\"Alive\"],[\"Alive\"],[\"Dead\"],[\"Alive\"],[\"Alive\"],[\"Dead\"],[\"Alive\"],[\"Dead\"],[\"Dead\"],[\"Alive\"],[\"Alive\"],[\"Alive\"],[\"Alive\"],[\"Alive\"],[\"Dead\"],[\"Alive\"],[\"Alive\"],[\"Alive\"],[\"Alive\"],[\"Alive\"],[\"Alive\"],[\"Alive\"],[\"Alive\"],[\"Alive\"],[\"Alive\"],[\"Alive\"],[\"Alive\"],[\"Alive\"],[\"Dead\"],[\"Dead\"],[\"Alive\"],[\"Alive\"],[\"Alive\"],[\"Alive\"],[\"Alive\"],[\"Alive\"],[\"Alive\"],[\"Dead\"],[\"Alive\"],[\"Alive\"],[\"Alive\"],[\"Dead\"],[\"Dead\"],[\"Alive\"],[\"Alive\"],[\"Dead\"],[\"Dead\"],[\"Dead\"],[\"Alive\"],[\"Alive\"],[\"Alive\"],[\"Alive\"],[\"Alive\"],[\"Alive\"],[\"Alive\"],[\"Alive\"],[\"Alive\"],[\"Alive\"],[\"Alive\"],[\"Alive\"],[\"Alive\"],[\"Alive\"],[\"Alive\"],[\"Alive\"],[\"Dead\"],[\"Alive\"],[\"Dead\"],[\"Alive\"],[\"Alive\"],[\"Alive\"],[\"Alive\"],[\"Alive\"],[\"Alive\"],[\"Dead\"],[\"Alive\"],[\"Alive\"],[\"Alive\"],[\"Alive\"],[\"Alive\"],[\"Alive\"],[\"Alive\"],[\"Alive\"],[\"Alive\"],[\"Alive\"],[\"Alive\"],[\"Alive\"],[\"Alive\"],[\"Alive\"],[\"Alive\"],[\"Dead\"],[\"Alive\"],[\"Alive\"],[\"Alive\"],[\"Alive\"],[\"Dead\"],[\"Alive\"],[\"Dead\"],[\"Alive\"],[\"Alive\"],[\"Alive\"],[\"Alive\"],[\"Alive\"],[\"Alive\"],[\"Dead\"],[\"Alive\"],[\"Alive\"],[\"Alive\"],[\"Alive\"],[\"Dead\"],[\"Alive\"],[\"Alive\"],[\"Dead\"],[\"Alive\"],[\"Alive\"],[\"Alive\"],[\"Dead\"],[\"Alive\"],[\"Alive\"],[\"Dead\"],[\"Alive\"],[\"Alive\"],[\"Alive\"],[\"Alive\"],[\"Alive\"],[\"Alive\"],[\"Alive\"],[\"Alive\"],[\"Alive\"],[\"Alive\"],[\"Alive\"],[\"Alive\"],[\"Dead\"],[\"Alive\"],[\"Alive\"],[\"Alive\"],[\"Alive\"],[\"Alive\"],[\"Alive\"],[\"Alive\"],[\"Dead\"],[\"Alive\"],[\"Alive\"],[\"Alive\"],[\"Alive\"],[\"Alive\"],[\"Alive\"],[\"Alive\"],[\"Alive\"],[\"Alive\"],[\"Alive\"],[\"Alive\"],[\"Alive\"],[\"Alive\"],[\"Alive\"],[\"Alive\"],[\"Alive\"],[\"Alive\"],[\"Dead\"],[\"Alive\"],[\"Alive\"],[\"Alive\"],[\"Alive\"],[\"Alive\"],[\"Alive\"],[\"Alive\"],[\"Alive\"],[\"Alive\"],[\"Alive\"],[\"Alive\"],[\"Alive\"],[\"Alive\"],[\"Alive\"],[\"Alive\"],[\"Alive\"],[\"Alive\"],[\"Alive\"],[\"Alive\"],[\"Alive\"],[\"Alive\"],[\"Alive\"],[\"Alive\"],[\"Alive\"],[\"Alive\"],[\"Dead\"],[\"Alive\"],[\"Alive\"],[\"Alive\"],[\"Alive\"],[\"Dead\"],[\"Dead\"],[\"Alive\"],[\"Alive\"],[\"Alive\"],[\"Alive\"],[\"Alive\"],[\"Dead\"],[\"Alive\"],[\"Dead\"],[\"Alive\"],[\"Alive\"],[\"Alive\"],[\"Alive\"],[\"Alive\"],[\"Alive\"],[\"Alive\"],[\"Dead\"],[\"Alive\"],[\"Alive\"],[\"Alive\"],[\"Alive\"],[\"Alive\"],[\"Alive\"],[\"Alive\"],[\"Alive\"],[\"Alive\"],[\"Alive\"],[\"Alive\"],[\"Alive\"],[\"Alive\"],[\"Alive\"],[\"Dead\"],[\"Alive\"],[\"Alive\"],[\"Alive\"],[\"Alive\"],[\"Alive\"],[\"Alive\"],[\"Alive\"],[\"Alive\"],[\"Alive\"],[\"Alive\"],[\"Alive\"],[\"Alive\"],[\"Alive\"],[\"Alive\"],[\"Alive\"],[\"Alive\"],[\"Alive\"],[\"Alive\"],[\"Dead\"],[\"Alive\"],[\"Alive\"],[\"Alive\"],[\"Alive\"],[\"Alive\"],[\"Alive\"],[\"Alive\"],[\"Alive\"],[\"Alive\"],[\"Alive\"],[\"Alive\"],[\"Alive\"],[\"Alive\"],[\"Alive\"],[\"Dead\"],[\"Alive\"],[\"Alive\"],[\"Alive\"],[\"Alive\"],[\"Alive\"],[\"Alive\"],[\"Dead\"],[\"Alive\"],[\"Alive\"],[\"Alive\"],[\"Alive\"],[\"Alive\"],[\"Dead\"],[\"Alive\"],[\"Alive\"],[\"Alive\"],[\"Dead\"],[\"Alive\"],[\"Alive\"],[\"Alive\"],[\"Alive\"],[\"Alive\"],[\"Alive\"],[\"Alive\"],[\"Alive\"],[\"Alive\"],[\"Dead\"],[\"Alive\"],[\"Dead\"],[\"Alive\"],[\"Alive\"],[\"Alive\"],[\"Alive\"],[\"Alive\"],[\"Alive\"],[\"Alive\"],[\"Alive\"],[\"Alive\"],[\"Alive\"],[\"Alive\"],[\"Alive\"],[\"Alive\"],[\"Alive\"],[\"Alive\"],[\"Alive\"],[\"Dead\"],[\"Alive\"],[\"Alive\"],[\"Alive\"],[\"Alive\"],[\"Alive\"],[\"Alive\"],[\"Alive\"],[\"Dead\"],[\"Alive\"],[\"Dead\"],[\"Alive\"],[\"Dead\"],[\"Alive\"],[\"Alive\"],[\"Alive\"],[\"Alive\"],[\"Alive\"],[\"Alive\"],[\"Dead\"],[\"Alive\"],[\"Alive\"],[\"Alive\"],[\"Alive\"],[\"Alive\"],[\"Alive\"],[\"Alive\"],[\"Alive\"],[\"Alive\"],[\"Alive\"],[\"Alive\"],[\"Alive\"],[\"Alive\"],[\"Dead\"],[\"Alive\"],[\"Alive\"],[\"Alive\"],[\"Dead\"],[\"Alive\"],[\"Alive\"],[\"Alive\"],[\"Alive\"],[\"Alive\"],[\"Alive\"],[\"Alive\"],[\"Alive\"],[\"Dead\"],[\"Alive\"],[\"Dead\"],[\"Dead\"],[\"Alive\"],[\"Dead\"],[\"Alive\"],[\"Alive\"],[\"Alive\"],[\"Alive\"],[\"Alive\"],[\"Alive\"],[\"Alive\"],[\"Alive\"],[\"Dead\"],[\"Alive\"],[\"Alive\"],[\"Dead\"],[\"Alive\"],[\"Alive\"],[\"Alive\"],[\"Alive\"],[\"Alive\"],[\"Alive\"],[\"Alive\"],[\"Alive\"],[\"Dead\"],[\"Alive\"],[\"Dead\"],[\"Alive\"],[\"Dead\"],[\"Alive\"],[\"Alive\"],[\"Alive\"],[\"Alive\"],[\"Alive\"],[\"Dead\"],[\"Alive\"],[\"Alive\"],[\"Alive\"],[\"Alive\"],[\"Alive\"],[\"Alive\"],[\"Alive\"],[\"Alive\"],[\"Dead\"],[\"Dead\"],[\"Alive\"],[\"Alive\"],[\"Alive\"],[\"Alive\"],[\"Alive\"],[\"Dead\"],[\"Alive\"],[\"Alive\"],[\"Alive\"],[\"Alive\"],[\"Alive\"],[\"Alive\"],[\"Alive\"],[\"Dead\"],[\"Dead\"],[\"Alive\"],[\"Alive\"],[\"Alive\"],[\"Alive\"],[\"Alive\"],[\"Alive\"],[\"Dead\"],[\"Alive\"],[\"Alive\"],[\"Alive\"],[\"Alive\"],[\"Dead\"],[\"Alive\"],[\"Alive\"],[\"Alive\"],[\"Alive\"],[\"Alive\"],[\"Alive\"],[\"Alive\"],[\"Alive\"],[\"Alive\"],[\"Alive\"],[\"Alive\"],[\"Alive\"],[\"Alive\"],[\"Dead\"],[\"Alive\"],[\"Alive\"],[\"Alive\"],[\"Alive\"],[\"Alive\"],[\"Alive\"],[\"Alive\"],[\"Alive\"],[\"Alive\"],[\"Alive\"],[\"Alive\"],[\"Alive\"],[\"Dead\"],[\"Alive\"],[\"Alive\"],[\"Alive\"],[\"Alive\"],[\"Alive\"],[\"Alive\"],[\"Alive\"],[\"Alive\"],[\"Alive\"],[\"Alive\"],[\"Dead\"],[\"Alive\"],[\"Dead\"],[\"Alive\"],[\"Alive\"],[\"Alive\"],[\"Alive\"],[\"Alive\"],[\"Alive\"],[\"Alive\"],[\"Dead\"],[\"Alive\"],[\"Alive\"],[\"Alive\"],[\"Alive\"],[\"Alive\"],[\"Alive\"],[\"Alive\"],[\"Dead\"],[\"Alive\"],[\"Alive\"],[\"Alive\"],[\"Alive\"],[\"Alive\"],[\"Alive\"],[\"Dead\"],[\"Alive\"],[\"Alive\"],[\"Dead\"],[\"Alive\"],[\"Alive\"],[\"Alive\"],[\"Dead\"],[\"Alive\"],[\"Dead\"],[\"Alive\"],[\"Alive\"],[\"Alive\"],[\"Alive\"],[\"Alive\"],[\"Alive\"],[\"Alive\"],[\"Alive\"],[\"Alive\"],[\"Alive\"],[\"Alive\"],[\"Dead\"],[\"Alive\"],[\"Dead\"],[\"Alive\"],[\"Alive\"],[\"Alive\"],[\"Dead\"],[\"Alive\"],[\"Alive\"],[\"Alive\"],[\"Alive\"],[\"Alive\"],[\"Alive\"],[\"Alive\"],[\"Alive\"],[\"Alive\"],[\"Alive\"],[\"Alive\"],[\"Alive\"],[\"Dead\"],[\"Alive\"],[\"Alive\"],[\"Alive\"],[\"Alive\"],[\"Alive\"],[\"Alive\"],[\"Dead\"],[\"Alive\"],[\"Alive\"],[\"Alive\"],[\"Alive\"],[\"Dead\"],[\"Alive\"],[\"Alive\"],[\"Alive\"],[\"Alive\"],[\"Alive\"],[\"Alive\"],[\"Alive\"],[\"Alive\"],[\"Alive\"],[\"Alive\"],[\"Alive\"],[\"Alive\"],[\"Alive\"],[\"Alive\"],[\"Alive\"],[\"Dead\"],[\"Alive\"],[\"Dead\"],[\"Dead\"],[\"Dead\"],[\"Dead\"],[\"Dead\"],[\"Alive\"],[\"Alive\"],[\"Dead\"],[\"Alive\"],[\"Alive\"],[\"Dead\"],[\"Alive\"],[\"Alive\"],[\"Alive\"],[\"Alive\"],[\"Alive\"],[\"Dead\"],[\"Alive\"],[\"Alive\"],[\"Alive\"],[\"Alive\"],[\"Alive\"],[\"Alive\"],[\"Alive\"],[\"Alive\"],[\"Alive\"],[\"Dead\"],[\"Dead\"],[\"Dead\"],[\"Alive\"],[\"Alive\"],[\"Dead\"],[\"Dead\"],[\"Alive\"],[\"Alive\"],[\"Alive\"],[\"Alive\"],[\"Alive\"],[\"Alive\"],[\"Alive\"],[\"Alive\"],[\"Alive\"],[\"Alive\"],[\"Alive\"],[\"Alive\"],[\"Alive\"],[\"Alive\"],[\"Alive\"],[\"Alive\"],[\"Alive\"],[\"Dead\"],[\"Alive\"],[\"Alive\"],[\"Dead\"],[\"Alive\"],[\"Alive\"],[\"Alive\"],[\"Dead\"],[\"Alive\"],[\"Alive\"],[\"Alive\"],[\"Alive\"],[\"Alive\"],[\"Alive\"],[\"Alive\"],[\"Alive\"],[\"Alive\"],[\"Alive\"],[\"Alive\"],[\"Alive\"],[\"Alive\"],[\"Alive\"],[\"Alive\"],[\"Dead\"],[\"Dead\"],[\"Dead\"],[\"Alive\"],[\"Alive\"],[\"Alive\"],[\"Alive\"],[\"Alive\"],[\"Alive\"],[\"Alive\"],[\"Alive\"],[\"Alive\"],[\"Alive\"],[\"Alive\"],[\"Alive\"],[\"Alive\"],[\"Alive\"],[\"Alive\"],[\"Alive\"],[\"Alive\"],[\"Alive\"],[\"Alive\"],[\"Alive\"],[\"Alive\"],[\"Alive\"],[\"Alive\"],[\"Alive\"],[\"Alive\"],[\"Alive\"],[\"Alive\"],[\"Alive\"],[\"Alive\"],[\"Alive\"],[\"Dead\"],[\"Alive\"],[\"Dead\"],[\"Alive\"],[\"Alive\"],[\"Alive\"],[\"Dead\"],[\"Alive\"],[\"Alive\"],[\"Alive\"],[\"Alive\"],[\"Dead\"],[\"Alive\"],[\"Alive\"],[\"Alive\"],[\"Alive\"],[\"Alive\"],[\"Alive\"],[\"Dead\"],[\"Dead\"],[\"Alive\"],[\"Dead\"],[\"Alive\"],[\"Alive\"],[\"Alive\"],[\"Dead\"],[\"Alive\"],[\"Alive\"],[\"Dead\"],[\"Alive\"],[\"Alive\"],[\"Dead\"],[\"Dead\"],[\"Alive\"],[\"Alive\"],[\"Dead\"],[\"Alive\"],[\"Alive\"],[\"Dead\"],[\"Alive\"],[\"Alive\"],[\"Alive\"],[\"Alive\"],[\"Alive\"],[\"Alive\"],[\"Dead\"],[\"Alive\"],[\"Alive\"],[\"Alive\"],[\"Alive\"],[\"Alive\"],[\"Alive\"],[\"Alive\"],[\"Alive\"],[\"Alive\"],[\"Dead\"],[\"Alive\"],[\"Alive\"],[\"Alive\"],[\"Alive\"],[\"Dead\"],[\"Alive\"],[\"Alive\"],[\"Alive\"],[\"Dead\"],[\"Dead\"],[\"Alive\"],[\"Alive\"],[\"Alive\"],[\"Alive\"],[\"Alive\"],[\"Alive\"],[\"Alive\"],[\"Alive\"],[\"Alive\"],[\"Alive\"],[\"Dead\"],[\"Dead\"],[\"Alive\"],[\"Dead\"],[\"Alive\"],[\"Alive\"],[\"Alive\"],[\"Alive\"],[\"Alive\"],[\"Dead\"],[\"Alive\"],[\"Alive\"],[\"Alive\"],[\"Alive\"],[\"Dead\"],[\"Alive\"],[\"Alive\"],[\"Alive\"],[\"Alive\"],[\"Alive\"],[\"Dead\"],[\"Alive\"],[\"Alive\"],[\"Dead\"],[\"Alive\"],[\"Alive\"],[\"Alive\"],[\"Dead\"],[\"Alive\"],[\"Dead\"],[\"Dead\"],[\"Alive\"],[\"Alive\"],[\"Alive\"],[\"Alive\"],[\"Alive\"],[\"Alive\"],[\"Alive\"],[\"Alive\"],[\"Dead\"],[\"Alive\"],[\"Dead\"],[\"Dead\"],[\"Alive\"],[\"Alive\"],[\"Alive\"],[\"Alive\"],[\"Alive\"],[\"Alive\"],[\"Alive\"],[\"Dead\"],[\"Alive\"],[\"Dead\"],[\"Alive\"],[\"Alive\"],[\"Alive\"],[\"Alive\"],[\"Alive\"],[\"Alive\"],[\"Alive\"],[\"Alive\"],[\"Dead\"],[\"Alive\"],[\"Dead\"],[\"Alive\"],[\"Alive\"],[\"Dead\"],[\"Dead\"],[\"Alive\"],[\"Alive\"],[\"Alive\"],[\"Alive\"],[\"Alive\"],[\"Alive\"],[\"Alive\"],[\"Alive\"],[\"Alive\"],[\"Alive\"],[\"Alive\"],[\"Alive\"],[\"Alive\"],[\"Alive\"],[\"Alive\"],[\"Alive\"],[\"Alive\"],[\"Alive\"],[\"Alive\"],[\"Alive\"],[\"Alive\"],[\"Alive\"],[\"Alive\"],[\"Alive\"],[\"Alive\"],[\"Alive\"],[\"Alive\"],[\"Alive\"],[\"Dead\"],[\"Alive\"],[\"Alive\"],[\"Alive\"],[\"Alive\"],[\"Alive\"],[\"Alive\"],[\"Alive\"],[\"Alive\"],[\"Dead\"],[\"Alive\"],[\"Dead\"],[\"Alive\"],[\"Alive\"],[\"Alive\"],[\"Alive\"],[\"Alive\"],[\"Alive\"],[\"Alive\"],[\"Dead\"],[\"Alive\"],[\"Alive\"],[\"Alive\"],[\"Alive\"],[\"Alive\"],[\"Dead\"],[\"Alive\"],[\"Alive\"],[\"Alive\"],[\"Dead\"],[\"Alive\"],[\"Alive\"],[\"Alive\"],[\"Alive\"],[\"Alive\"],[\"Alive\"],[\"Dead\"],[\"Alive\"],[\"Dead\"],[\"Alive\"],[\"Alive\"],[\"Alive\"],[\"Dead\"],[\"Alive\"],[\"Alive\"],[\"Dead\"],[\"Alive\"],[\"Alive\"],[\"Alive\"],[\"Dead\"],[\"Alive\"],[\"Alive\"],[\"Alive\"],[\"Alive\"],[\"Alive\"],[\"Alive\"],[\"Alive\"],[\"Alive\"],[\"Dead\"],[\"Alive\"],[\"Alive\"],[\"Alive\"],[\"Alive\"],[\"Alive\"],[\"Alive\"],[\"Alive\"],[\"Dead\"],[\"Alive\"],[\"Alive\"],[\"Alive\"],[\"Alive\"],[\"Alive\"],[\"Alive\"],[\"Alive\"],[\"Alive\"],[\"Dead\"],[\"Alive\"],[\"Dead\"],[\"Dead\"],[\"Alive\"],[\"Alive\"],[\"Alive\"],[\"Alive\"],[\"Alive\"],[\"Dead\"],[\"Alive\"],[\"Alive\"],[\"Alive\"],[\"Dead\"],[\"Alive\"],[\"Alive\"],[\"Alive\"],[\"Dead\"],[\"Alive\"],[\"Alive\"],[\"Alive\"],[\"Alive\"],[\"Alive\"],[\"Alive\"],[\"Alive\"],[\"Alive\"],[\"Alive\"],[\"Dead\"],[\"Dead\"],[\"Alive\"],[\"Alive\"],[\"Alive\"],[\"Alive\"],[\"Alive\"],[\"Alive\"],[\"Alive\"],[\"Alive\"],[\"Alive\"],[\"Alive\"],[\"Alive\"],[\"Dead\"],[\"Dead\"],[\"Alive\"],[\"Alive\"],[\"Alive\"],[\"Alive\"],[\"Alive\"],[\"Dead\"],[\"Alive\"],[\"Alive\"],[\"Alive\"],[\"Alive\"],[\"Alive\"],[\"Alive\"],[\"Dead\"],[\"Alive\"],[\"Alive\"],[\"Alive\"],[\"Alive\"],[\"Dead\"],[\"Alive\"],[\"Alive\"],[\"Alive\"],[\"Alive\"],[\"Alive\"],[\"Alive\"],[\"Dead\"],[\"Alive\"],[\"Alive\"],[\"Dead\"],[\"Alive\"],[\"Alive\"],[\"Alive\"],[\"Alive\"],[\"Alive\"],[\"Alive\"],[\"Dead\"],[\"Dead\"],[\"Alive\"],[\"Alive\"],[\"Dead\"],[\"Alive\"],[\"Alive\"],[\"Alive\"],[\"Alive\"],[\"Alive\"],[\"Alive\"],[\"Alive\"],[\"Alive\"],[\"Alive\"],[\"Alive\"],[\"Dead\"],[\"Alive\"],[\"Alive\"],[\"Alive\"],[\"Alive\"],[\"Alive\"],[\"Alive\"],[\"Alive\"],[\"Dead\"],[\"Alive\"],[\"Alive\"],[\"Alive\"],[\"Alive\"],[\"Alive\"],[\"Alive\"],[\"Alive\"],[\"Alive\"],[\"Alive\"],[\"Alive\"],[\"Alive\"],[\"Alive\"],[\"Alive\"],[\"Alive\"],[\"Alive\"],[\"Alive\"],[\"Alive\"],[\"Alive\"],[\"Alive\"],[\"Alive\"],[\"Dead\"],[\"Alive\"],[\"Dead\"],[\"Alive\"],[\"Alive\"],[\"Alive\"],[\"Alive\"],[\"Alive\"],[\"Alive\"],[\"Alive\"],[\"Alive\"],[\"Dead\"],[\"Dead\"],[\"Dead\"],[\"Dead\"],[\"Alive\"],[\"Alive\"],[\"Alive\"],[\"Alive\"],[\"Alive\"],[\"Alive\"],[\"Alive\"],[\"Alive\"],[\"Alive\"],[\"Alive\"],[\"Alive\"],[\"Alive\"],[\"Alive\"],[\"Alive\"],[\"Dead\"],[\"Alive\"],[\"Alive\"],[\"Alive\"],[\"Alive\"],[\"Alive\"],[\"Alive\"],[\"Alive\"],[\"Alive\"],[\"Alive\"],[\"Alive\"],[\"Alive\"],[\"Alive\"],[\"Alive\"],[\"Alive\"],[\"Alive\"],[\"Alive\"],[\"Dead\"],[\"Dead\"],[\"Alive\"],[\"Alive\"],[\"Alive\"],[\"Alive\"],[\"Alive\"],[\"Alive\"],[\"Alive\"],[\"Alive\"],[\"Alive\"],[\"Alive\"],[\"Alive\"],[\"Alive\"],[\"Alive\"],[\"Alive\"],[\"Alive\"],[\"Alive\"],[\"Dead\"],[\"Alive\"],[\"Dead\"],[\"Alive\"],[\"Dead\"],[\"Alive\"],[\"Alive\"],[\"Alive\"],[\"Alive\"],[\"Alive\"],[\"Alive\"],[\"Alive\"],[\"Alive\"],[\"Alive\"],[\"Alive\"],[\"Dead\"],[\"Alive\"],[\"Alive\"],[\"Alive\"],[\"Dead\"],[\"Alive\"],[\"Alive\"],[\"Alive\"],[\"Alive\"],[\"Alive\"],[\"Alive\"],[\"Alive\"],[\"Alive\"],[\"Alive\"],[\"Alive\"],[\"Alive\"],[\"Alive\"],[\"Alive\"],[\"Alive\"],[\"Alive\"],[\"Dead\"],[\"Dead\"],[\"Alive\"],[\"Alive\"],[\"Alive\"],[\"Alive\"],[\"Alive\"],[\"Alive\"],[\"Alive\"],[\"Dead\"],[\"Alive\"],[\"Alive\"],[\"Alive\"],[\"Alive\"],[\"Alive\"],[\"Alive\"],[\"Alive\"],[\"Alive\"],[\"Alive\"],[\"Alive\"],[\"Alive\"],[\"Alive\"],[\"Dead\"],[\"Alive\"],[\"Alive\"],[\"Alive\"],[\"Alive\"],[\"Dead\"],[\"Alive\"],[\"Alive\"],[\"Alive\"],[\"Alive\"],[\"Alive\"],[\"Alive\"],[\"Dead\"],[\"Alive\"],[\"Alive\"],[\"Dead\"],[\"Alive\"],[\"Alive\"],[\"Alive\"],[\"Dead\"],[\"Alive\"],[\"Alive\"],[\"Alive\"],[\"Alive\"],[\"Alive\"],[\"Alive\"],[\"Dead\"],[\"Alive\"],[\"Alive\"],[\"Alive\"],[\"Alive\"],[\"Alive\"],[\"Alive\"],[\"Alive\"],[\"Alive\"],[\"Alive\"],[\"Alive\"],[\"Alive\"],[\"Alive\"],[\"Alive\"],[\"Alive\"],[\"Alive\"],[\"Alive\"],[\"Alive\"],[\"Alive\"],[\"Alive\"],[\"Alive\"],[\"Alive\"],[\"Alive\"],[\"Dead\"],[\"Alive\"],[\"Alive\"],[\"Alive\"],[\"Alive\"],[\"Alive\"],[\"Dead\"],[\"Alive\"],[\"Dead\"],[\"Dead\"],[\"Alive\"],[\"Alive\"],[\"Dead\"],[\"Dead\"],[\"Alive\"],[\"Dead\"],[\"Alive\"],[\"Alive\"],[\"Alive\"],[\"Alive\"],[\"Alive\"],[\"Alive\"],[\"Alive\"],[\"Alive\"],[\"Alive\"],[\"Alive\"],[\"Alive\"],[\"Alive\"],[\"Dead\"],[\"Alive\"],[\"Alive\"],[\"Dead\"],[\"Alive\"],[\"Alive\"],[\"Alive\"],[\"Alive\"],[\"Alive\"],[\"Alive\"],[\"Alive\"],[\"Alive\"],[\"Alive\"],[\"Alive\"],[\"Dead\"],[\"Alive\"],[\"Alive\"],[\"Alive\"],[\"Alive\"],[\"Alive\"],[\"Alive\"],[\"Alive\"],[\"Alive\"],[\"Dead\"],[\"Alive\"],[\"Alive\"],[\"Alive\"],[\"Dead\"],[\"Alive\"],[\"Alive\"],[\"Alive\"],[\"Alive\"],[\"Alive\"],[\"Alive\"],[\"Alive\"],[\"Dead\"],[\"Alive\"],[\"Alive\"],[\"Alive\"],[\"Alive\"],[\"Alive\"],[\"Alive\"],[\"Alive\"],[\"Alive\"],[\"Alive\"],[\"Alive\"],[\"Alive\"],[\"Alive\"],[\"Dead\"],[\"Alive\"],[\"Alive\"],[\"Alive\"],[\"Alive\"],[\"Alive\"],[\"Alive\"],[\"Alive\"],[\"Alive\"],[\"Alive\"],[\"Alive\"],[\"Alive\"],[\"Dead\"],[\"Dead\"],[\"Dead\"],[\"Alive\"],[\"Alive\"],[\"Alive\"],[\"Alive\"],[\"Alive\"],[\"Alive\"],[\"Alive\"],[\"Alive\"],[\"Alive\"],[\"Alive\"],[\"Alive\"],[\"Alive\"],[\"Dead\"],[\"Alive\"],[\"Alive\"],[\"Alive\"],[\"Alive\"],[\"Alive\"],[\"Alive\"],[\"Alive\"],[\"Alive\"],[\"Alive\"],[\"Alive\"],[\"Dead\"],[\"Dead\"],[\"Alive\"],[\"Alive\"],[\"Dead\"],[\"Alive\"],[\"Alive\"],[\"Dead\"],[\"Alive\"],[\"Alive\"],[\"Alive\"],[\"Alive\"],[\"Alive\"],[\"Dead\"],[\"Dead\"],[\"Alive\"],[\"Alive\"],[\"Alive\"],[\"Alive\"],[\"Alive\"],[\"Alive\"],[\"Alive\"],[\"Alive\"],[\"Alive\"],[\"Alive\"],[\"Alive\"],[\"Dead\"],[\"Alive\"],[\"Alive\"],[\"Alive\"],[\"Alive\"],[\"Alive\"],[\"Alive\"],[\"Alive\"],[\"Alive\"],[\"Alive\"],[\"Alive\"],[\"Alive\"],[\"Alive\"],[\"Alive\"],[\"Alive\"],[\"Alive\"],[\"Alive\"],[\"Alive\"],[\"Alive\"],[\"Alive\"],[\"Dead\"],[\"Alive\"],[\"Alive\"],[\"Alive\"],[\"Alive\"],[\"Alive\"],[\"Alive\"],[\"Alive\"],[\"Alive\"],[\"Alive\"],[\"Alive\"],[\"Alive\"],[\"Dead\"],[\"Alive\"],[\"Alive\"],[\"Alive\"],[\"Alive\"],[\"Alive\"],[\"Alive\"],[\"Alive\"],[\"Alive\"],[\"Alive\"],[\"Alive\"],[\"Alive\"],[\"Alive\"],[\"Dead\"],[\"Alive\"],[\"Alive\"],[\"Alive\"],[\"Alive\"],[\"Alive\"],[\"Dead\"],[\"Alive\"],[\"Dead\"],[\"Alive\"],[\"Alive\"],[\"Alive\"],[\"Dead\"],[\"Dead\"],[\"Alive\"],[\"Alive\"],[\"Alive\"],[\"Alive\"],[\"Dead\"],[\"Alive\"],[\"Alive\"],[\"Alive\"],[\"Alive\"],[\"Alive\"],[\"Alive\"],[\"Alive\"],[\"Alive\"],[\"Dead\"],[\"Dead\"],[\"Alive\"],[\"Alive\"],[\"Alive\"],[\"Alive\"],[\"Alive\"],[\"Dead\"],[\"Alive\"],[\"Dead\"],[\"Alive\"],[\"Alive\"],[\"Alive\"],[\"Dead\"],[\"Alive\"],[\"Alive\"],[\"Alive\"],[\"Dead\"],[\"Alive\"],[\"Alive\"],[\"Alive\"],[\"Alive\"],[\"Alive\"],[\"Dead\"],[\"Alive\"],[\"Alive\"],[\"Alive\"],[\"Alive\"],[\"Alive\"],[\"Alive\"],[\"Alive\"],[\"Alive\"],[\"Alive\"],[\"Alive\"],[\"Alive\"],[\"Alive\"],[\"Alive\"],[\"Alive\"],[\"Alive\"],[\"Alive\"],[\"Alive\"],[\"Alive\"],[\"Alive\"],[\"Alive\"],[\"Alive\"],[\"Alive\"],[\"Alive\"],[\"Dead\"],[\"Alive\"],[\"Alive\"],[\"Alive\"],[\"Alive\"],[\"Dead\"],[\"Alive\"],[\"Alive\"],[\"Alive\"],[\"Alive\"],[\"Dead\"],[\"Alive\"],[\"Alive\"],[\"Alive\"],[\"Alive\"],[\"Alive\"],[\"Alive\"],[\"Alive\"],[\"Alive\"],[\"Alive\"],[\"Alive\"],[\"Alive\"],[\"Alive\"],[\"Alive\"],[\"Alive\"],[\"Alive\"],[\"Alive\"],[\"Alive\"],[\"Alive\"],[\"Alive\"],[\"Alive\"],[\"Alive\"],[\"Alive\"],[\"Alive\"],[\"Alive\"],[\"Alive\"],[\"Alive\"],[\"Alive\"],[\"Alive\"],[\"Dead\"],[\"Alive\"],[\"Dead\"],[\"Alive\"],[\"Alive\"],[\"Alive\"],[\"Alive\"],[\"Alive\"],[\"Alive\"],[\"Alive\"],[\"Alive\"],[\"Alive\"],[\"Alive\"],[\"Alive\"],[\"Alive\"],[\"Alive\"],[\"Alive\"],[\"Alive\"],[\"Alive\"],[\"Dead\"],[\"Alive\"],[\"Alive\"],[\"Alive\"],[\"Alive\"],[\"Alive\"],[\"Alive\"],[\"Alive\"],[\"Alive\"],[\"Alive\"],[\"Alive\"],[\"Alive\"],[\"Dead\"],[\"Alive\"],[\"Alive\"],[\"Alive\"],[\"Dead\"],[\"Alive\"],[\"Alive\"],[\"Alive\"],[\"Alive\"],[\"Alive\"],[\"Alive\"],[\"Dead\"],[\"Alive\"],[\"Dead\"],[\"Alive\"],[\"Alive\"],[\"Alive\"],[\"Alive\"],[\"Dead\"],[\"Alive\"],[\"Alive\"],[\"Alive\"],[\"Alive\"],[\"Alive\"],[\"Dead\"],[\"Alive\"],[\"Alive\"],[\"Alive\"],[\"Alive\"],[\"Alive\"],[\"Alive\"],[\"Dead\"],[\"Alive\"],[\"Dead\"],[\"Alive\"],[\"Alive\"],[\"Alive\"],[\"Alive\"],[\"Alive\"],[\"Dead\"],[\"Alive\"],[\"Alive\"],[\"Alive\"],[\"Alive\"],[\"Alive\"],[\"Alive\"],[\"Alive\"],[\"Alive\"],[\"Alive\"],[\"Alive\"],[\"Alive\"],[\"Alive\"],[\"Alive\"],[\"Dead\"],[\"Alive\"],[\"Alive\"],[\"Dead\"],[\"Alive\"],[\"Alive\"],[\"Alive\"],[\"Alive\"],[\"Alive\"],[\"Alive\"],[\"Alive\"],[\"Alive\"],[\"Alive\"],[\"Alive\"],[\"Alive\"],[\"Alive\"],[\"Alive\"],[\"Alive\"],[\"Dead\"],[\"Alive\"],[\"Alive\"],[\"Alive\"],[\"Alive\"],[\"Alive\"],[\"Alive\"],[\"Dead\"],[\"Dead\"],[\"Alive\"],[\"Alive\"],[\"Alive\"],[\"Alive\"],[\"Alive\"],[\"Dead\"],[\"Alive\"],[\"Alive\"],[\"Alive\"],[\"Alive\"],[\"Alive\"],[\"Alive\"],[\"Alive\"],[\"Alive\"],[\"Alive\"],[\"Alive\"],[\"Alive\"],[\"Alive\"],[\"Dead\"],[\"Alive\"],[\"Alive\"],[\"Alive\"],[\"Alive\"],[\"Dead\"],[\"Alive\"],[\"Alive\"],[\"Alive\"],[\"Alive\"],[\"Alive\"],[\"Alive\"],[\"Alive\"],[\"Alive\"],[\"Alive\"],[\"Dead\"],[\"Alive\"],[\"Alive\"],[\"Alive\"],[\"Alive\"],[\"Alive\"],[\"Alive\"],[\"Alive\"],[\"Alive\"],[\"Alive\"],[\"Alive\"],[\"Dead\"],[\"Alive\"],[\"Alive\"],[\"Alive\"],[\"Dead\"],[\"Alive\"],[\"Dead\"],[\"Dead\"],[\"Alive\"],[\"Alive\"],[\"Alive\"],[\"Dead\"],[\"Dead\"],[\"Dead\"],[\"Alive\"],[\"Alive\"],[\"Alive\"],[\"Alive\"],[\"Alive\"],[\"Alive\"],[\"Alive\"],[\"Alive\"],[\"Alive\"],[\"Dead\"],[\"Alive\"],[\"Alive\"],[\"Alive\"],[\"Alive\"],[\"Alive\"],[\"Dead\"],[\"Alive\"],[\"Alive\"],[\"Dead\"],[\"Alive\"],[\"Alive\"],[\"Alive\"],[\"Alive\"],[\"Alive\"],[\"Alive\"],[\"Dead\"],[\"Alive\"],[\"Alive\"],[\"Alive\"],[\"Alive\"],[\"Alive\"],[\"Alive\"],[\"Alive\"],[\"Alive\"],[\"Alive\"],[\"Alive\"],[\"Alive\"],[\"Alive\"],[\"Alive\"],[\"Dead\"],[\"Alive\"],[\"Alive\"],[\"Alive\"],[\"Alive\"],[\"Alive\"],[\"Alive\"],[\"Alive\"],[\"Alive\"],[\"Alive\"],[\"Alive\"],[\"Alive\"],[\"Alive\"],[\"Dead\"],[\"Alive\"],[\"Alive\"],[\"Alive\"],[\"Alive\"],[\"Dead\"],[\"Alive\"],[\"Alive\"],[\"Alive\"],[\"Alive\"],[\"Alive\"],[\"Alive\"],[\"Alive\"],[\"Alive\"],[\"Alive\"],[\"Alive\"],[\"Alive\"],[\"Alive\"],[\"Alive\"],[\"Alive\"],[\"Alive\"],[\"Alive\"],[\"Alive\"],[\"Alive\"],[\"Alive\"],[\"Alive\"],[\"Alive\"],[\"Alive\"],[\"Dead\"],[\"Dead\"],[\"Alive\"],[\"Alive\"],[\"Alive\"],[\"Alive\"],[\"Alive\"],[\"Alive\"],[\"Alive\"],[\"Alive\"],[\"Dead\"],[\"Dead\"],[\"Alive\"],[\"Alive\"],[\"Alive\"],[\"Dead\"],[\"Alive\"],[\"Alive\"],[\"Alive\"],[\"Alive\"],[\"Alive\"],[\"Dead\"],[\"Alive\"],[\"Alive\"],[\"Alive\"],[\"Alive\"],[\"Dead\"],[\"Alive\"],[\"Alive\"],[\"Alive\"],[\"Dead\"],[\"Alive\"],[\"Alive\"],[\"Alive\"],[\"Dead\"],[\"Alive\"],[\"Dead\"],[\"Alive\"],[\"Alive\"],[\"Alive\"],[\"Alive\"],[\"Alive\"],[\"Alive\"],[\"Alive\"],[\"Alive\"],[\"Dead\"],[\"Alive\"],[\"Dead\"],[\"Alive\"],[\"Alive\"],[\"Alive\"],[\"Dead\"],[\"Dead\"],[\"Alive\"],[\"Alive\"],[\"Alive\"],[\"Alive\"],[\"Alive\"],[\"Alive\"],[\"Alive\"],[\"Alive\"],[\"Dead\"],[\"Alive\"],[\"Alive\"],[\"Alive\"],[\"Alive\"],[\"Alive\"],[\"Alive\"],[\"Dead\"],[\"Alive\"],[\"Dead\"],[\"Alive\"],[\"Alive\"],[\"Alive\"],[\"Alive\"],[\"Alive\"],[\"Alive\"],[\"Alive\"],[\"Dead\"],[\"Alive\"],[\"Alive\"],[\"Alive\"],[\"Alive\"],[\"Alive\"],[\"Alive\"],[\"Alive\"],[\"Alive\"],[\"Alive\"],[\"Alive\"],[\"Alive\"],[\"Alive\"],[\"Alive\"],[\"Alive\"],[\"Alive\"],[\"Alive\"],[\"Alive\"],[\"Alive\"],[\"Alive\"],[\"Alive\"],[\"Alive\"],[\"Alive\"],[\"Alive\"],[\"Alive\"],[\"Alive\"],[\"Alive\"],[\"Alive\"],[\"Alive\"],[\"Dead\"],[\"Alive\"],[\"Dead\"],[\"Alive\"],[\"Alive\"],[\"Dead\"],[\"Alive\"],[\"Dead\"],[\"Alive\"],[\"Dead\"],[\"Alive\"],[\"Alive\"],[\"Dead\"],[\"Dead\"],[\"Alive\"],[\"Alive\"],[\"Alive\"],[\"Alive\"],[\"Alive\"],[\"Alive\"],[\"Alive\"],[\"Alive\"],[\"Alive\"],[\"Alive\"],[\"Alive\"],[\"Alive\"],[\"Dead\"],[\"Alive\"],[\"Alive\"],[\"Alive\"],[\"Dead\"],[\"Alive\"],[\"Alive\"],[\"Alive\"],[\"Alive\"],[\"Alive\"],[\"Alive\"],[\"Dead\"],[\"Alive\"],[\"Dead\"],[\"Alive\"],[\"Alive\"],[\"Alive\"],[\"Alive\"],[\"Alive\"],[\"Alive\"],[\"Alive\"],[\"Alive\"],[\"Alive\"],[\"Alive\"],[\"Alive\"],[\"Alive\"],[\"Alive\"],[\"Alive\"],[\"Alive\"],[\"Alive\"],[\"Alive\"],[\"Alive\"],[\"Alive\"],[\"Alive\"],[\"Dead\"],[\"Alive\"],[\"Alive\"],[\"Alive\"],[\"Alive\"],[\"Dead\"],[\"Alive\"],[\"Alive\"],[\"Alive\"],[\"Alive\"],[\"Alive\"],[\"Dead\"],[\"Dead\"],[\"Dead\"],[\"Alive\"],[\"Dead\"],[\"Alive\"],[\"Alive\"],[\"Alive\"],[\"Alive\"],[\"Alive\"],[\"Alive\"],[\"Alive\"],[\"Dead\"],[\"Dead\"],[\"Alive\"],[\"Alive\"],[\"Alive\"],[\"Alive\"],[\"Alive\"],[\"Alive\"],[\"Alive\"],[\"Alive\"],[\"Alive\"],[\"Alive\"],[\"Dead\"],[\"Alive\"],[\"Alive\"],[\"Alive\"],[\"Alive\"],[\"Alive\"],[\"Alive\"],[\"Alive\"],[\"Alive\"],[\"Alive\"],[\"Alive\"],[\"Alive\"],[\"Alive\"],[\"Alive\"],[\"Alive\"],[\"Alive\"],[\"Alive\"],[\"Alive\"],[\"Alive\"],[\"Alive\"],[\"Alive\"],[\"Dead\"],[\"Alive\"],[\"Alive\"],[\"Alive\"],[\"Dead\"],[\"Alive\"],[\"Alive\"],[\"Alive\"],[\"Alive\"],[\"Alive\"],[\"Dead\"],[\"Alive\"],[\"Alive\"],[\"Alive\"],[\"Alive\"],[\"Alive\"],[\"Alive\"],[\"Alive\"],[\"Alive\"],[\"Alive\"],[\"Alive\"],[\"Alive\"],[\"Alive\"],[\"Alive\"],[\"Alive\"],[\"Alive\"],[\"Dead\"],[\"Alive\"],[\"Alive\"],[\"Alive\"],[\"Alive\"],[\"Alive\"],[\"Alive\"],[\"Dead\"],[\"Alive\"],[\"Alive\"],[\"Alive\"],[\"Alive\"],[\"Dead\"],[\"Alive\"],[\"Alive\"],[\"Alive\"],[\"Alive\"],[\"Alive\"],[\"Dead\"],[\"Alive\"],[\"Alive\"],[\"Alive\"],[\"Alive\"],[\"Alive\"],[\"Alive\"],[\"Alive\"],[\"Alive\"],[\"Dead\"],[\"Alive\"],[\"Alive\"],[\"Alive\"],[\"Alive\"],[\"Dead\"],[\"Alive\"],[\"Alive\"],[\"Alive\"],[\"Alive\"],[\"Alive\"],[\"Alive\"],[\"Alive\"],[\"Alive\"],[\"Alive\"],[\"Alive\"],[\"Alive\"],[\"Alive\"],[\"Alive\"],[\"Dead\"],[\"Alive\"],[\"Alive\"],[\"Alive\"],[\"Alive\"],[\"Alive\"],[\"Alive\"],[\"Alive\"],[\"Alive\"],[\"Alive\"],[\"Alive\"],[\"Alive\"],[\"Alive\"],[\"Alive\"],[\"Alive\"],[\"Alive\"],[\"Alive\"],[\"Alive\"],[\"Alive\"],[\"Alive\"],[\"Alive\"],[\"Alive\"],[\"Alive\"],[\"Alive\"],[\"Alive\"],[\"Alive\"],[\"Alive\"],[\"Dead\"],[\"Alive\"],[\"Alive\"],[\"Alive\"],[\"Alive\"],[\"Alive\"],[\"Dead\"],[\"Alive\"],[\"Alive\"],[\"Alive\"],[\"Alive\"],[\"Alive\"],[\"Alive\"],[\"Alive\"],[\"Alive\"],[\"Alive\"],[\"Alive\"],[\"Alive\"],[\"Alive\"],[\"Alive\"],[\"Dead\"],[\"Alive\"],[\"Alive\"],[\"Dead\"],[\"Alive\"],[\"Alive\"],[\"Alive\"],[\"Alive\"],[\"Alive\"],[\"Alive\"],[\"Alive\"],[\"Alive\"],[\"Alive\"],[\"Alive\"],[\"Alive\"],[\"Alive\"],[\"Alive\"],[\"Alive\"],[\"Alive\"],[\"Alive\"],[\"Dead\"],[\"Alive\"],[\"Alive\"],[\"Dead\"],[\"Alive\"],[\"Alive\"],[\"Alive\"],[\"Dead\"],[\"Alive\"],[\"Alive\"],[\"Dead\"],[\"Alive\"],[\"Alive\"],[\"Alive\"],[\"Alive\"],[\"Alive\"],[\"Alive\"],[\"Alive\"],[\"Alive\"],[\"Alive\"],[\"Alive\"],[\"Alive\"],[\"Alive\"],[\"Alive\"],[\"Alive\"],[\"Alive\"],[\"Dead\"],[\"Alive\"],[\"Alive\"],[\"Alive\"],[\"Alive\"],[\"Dead\"],[\"Alive\"],[\"Alive\"],[\"Alive\"],[\"Alive\"],[\"Dead\"],[\"Alive\"],[\"Dead\"],[\"Alive\"],[\"Alive\"],[\"Alive\"],[\"Alive\"],[\"Alive\"],[\"Dead\"],[\"Dead\"],[\"Alive\"],[\"Alive\"],[\"Alive\"],[\"Alive\"],[\"Alive\"],[\"Alive\"],[\"Alive\"],[\"Alive\"],[\"Alive\"],[\"Alive\"],[\"Dead\"],[\"Alive\"],[\"Alive\"],[\"Alive\"],[\"Alive\"],[\"Dead\"],[\"Dead\"],[\"Alive\"],[\"Alive\"],[\"Alive\"],[\"Alive\"],[\"Alive\"],[\"Alive\"],[\"Alive\"],[\"Alive\"],[\"Alive\"],[\"Alive\"],[\"Alive\"],[\"Alive\"],[\"Alive\"],[\"Dead\"],[\"Alive\"],[\"Alive\"],[\"Alive\"],[\"Dead\"],[\"Alive\"],[\"Alive\"],[\"Dead\"],[\"Alive\"],[\"Alive\"],[\"Alive\"],[\"Alive\"],[\"Alive\"],[\"Alive\"],[\"Alive\"],[\"Alive\"],[\"Dead\"],[\"Alive\"],[\"Dead\"],[\"Alive\"],[\"Alive\"],[\"Alive\"],[\"Alive\"],[\"Alive\"],[\"Alive\"],[\"Alive\"],[\"Dead\"],[\"Alive\"],[\"Alive\"],[\"Dead\"],[\"Alive\"],[\"Alive\"],[\"Alive\"],[\"Alive\"],[\"Alive\"],[\"Dead\"],[\"Alive\"],[\"Alive\"],[\"Alive\"],[\"Alive\"],[\"Alive\"],[\"Alive\"],[\"Alive\"],[\"Alive\"],[\"Alive\"],[\"Alive\"],[\"Alive\"],[\"Alive\"],[\"Alive\"],[\"Alive\"],[\"Alive\"],[\"Alive\"],[\"Dead\"],[\"Alive\"],[\"Dead\"],[\"Alive\"],[\"Dead\"],[\"Alive\"],[\"Alive\"],[\"Alive\"],[\"Alive\"],[\"Alive\"],[\"Alive\"],[\"Alive\"],[\"Alive\"],[\"Dead\"],[\"Alive\"],[\"Alive\"],[\"Alive\"],[\"Alive\"],[\"Alive\"],[\"Dead\"],[\"Alive\"],[\"Alive\"],[\"Dead\"],[\"Alive\"],[\"Alive\"],[\"Alive\"],[\"Alive\"],[\"Alive\"],[\"Alive\"],[\"Alive\"],[\"Alive\"],[\"Dead\"],[\"Alive\"],[\"Alive\"],[\"Alive\"],[\"Alive\"],[\"Alive\"],[\"Alive\"],[\"Alive\"],[\"Dead\"],[\"Alive\"],[\"Alive\"],[\"Alive\"],[\"Alive\"],[\"Alive\"],[\"Alive\"],[\"Alive\"],[\"Alive\"],[\"Dead\"],[\"Alive\"],[\"Alive\"],[\"Alive\"],[\"Alive\"],[\"Alive\"],[\"Alive\"],[\"Alive\"],[\"Dead\"],[\"Alive\"],[\"Alive\"],[\"Alive\"],[\"Alive\"],[\"Alive\"],[\"Alive\"],[\"Alive\"],[\"Alive\"],[\"Alive\"],[\"Alive\"],[\"Alive\"],[\"Alive\"],[\"Alive\"],[\"Alive\"],[\"Alive\"],[\"Alive\"],[\"Alive\"],[\"Dead\"],[\"Alive\"],[\"Alive\"],[\"Alive\"],[\"Alive\"],[\"Alive\"],[\"Alive\"],[\"Alive\"],[\"Alive\"],[\"Dead\"],[\"Alive\"],[\"Alive\"],[\"Dead\"],[\"Alive\"],[\"Dead\"],[\"Alive\"],[\"Alive\"],[\"Alive\"],[\"Alive\"],[\"Alive\"],[\"Dead\"],[\"Alive\"],[\"Dead\"],[\"Dead\"],[\"Alive\"],[\"Dead\"],[\"Alive\"],[\"Alive\"],[\"Alive\"],[\"Alive\"],[\"Dead\"],[\"Alive\"],[\"Alive\"],[\"Alive\"],[\"Alive\"],[\"Alive\"],[\"Alive\"],[\"Dead\"],[\"Alive\"],[\"Alive\"],[\"Alive\"],[\"Alive\"],[\"Alive\"],[\"Alive\"],[\"Dead\"],[\"Dead\"],[\"Alive\"],[\"Alive\"],[\"Dead\"],[\"Alive\"],[\"Alive\"],[\"Alive\"],[\"Alive\"],[\"Dead\"],[\"Alive\"],[\"Alive\"],[\"Alive\"],[\"Alive\"],[\"Alive\"],[\"Alive\"],[\"Alive\"],[\"Alive\"],[\"Alive\"],[\"Alive\"],[\"Alive\"],[\"Dead\"],[\"Alive\"],[\"Alive\"],[\"Dead\"],[\"Alive\"],[\"Alive\"],[\"Alive\"],[\"Alive\"],[\"Alive\"],[\"Alive\"],[\"Alive\"],[\"Alive\"],[\"Alive\"],[\"Alive\"],[\"Alive\"],[\"Alive\"],[\"Alive\"],[\"Alive\"],[\"Alive\"],[\"Alive\"],[\"Alive\"],[\"Alive\"],[\"Alive\"],[\"Alive\"],[\"Alive\"],[\"Alive\"],[\"Dead\"],[\"Alive\"],[\"Alive\"],[\"Dead\"],[\"Alive\"],[\"Alive\"],[\"Alive\"],[\"Dead\"],[\"Alive\"],[\"Alive\"],[\"Alive\"],[\"Alive\"],[\"Alive\"],[\"Alive\"],[\"Alive\"],[\"Alive\"],[\"Alive\"],[\"Alive\"],[\"Alive\"],[\"Alive\"],[\"Alive\"],[\"Alive\"],[\"Alive\"],[\"Alive\"],[\"Alive\"],[\"Alive\"],[\"Alive\"],[\"Alive\"],[\"Dead\"],[\"Dead\"],[\"Alive\"],[\"Alive\"],[\"Alive\"],[\"Dead\"],[\"Alive\"],[\"Alive\"],[\"Dead\"],[\"Alive\"],[\"Dead\"],[\"Alive\"],[\"Alive\"],[\"Dead\"],[\"Alive\"],[\"Alive\"],[\"Dead\"],[\"Alive\"],[\"Alive\"],[\"Alive\"],[\"Alive\"],[\"Alive\"],[\"Alive\"],[\"Alive\"],[\"Alive\"],[\"Dead\"],[\"Alive\"],[\"Alive\"],[\"Alive\"],[\"Alive\"],[\"Dead\"],[\"Alive\"],[\"Alive\"],[\"Alive\"],[\"Alive\"],[\"Alive\"],[\"Alive\"],[\"Alive\"],[\"Dead\"],[\"Dead\"],[\"Alive\"],[\"Alive\"],[\"Dead\"],[\"Alive\"],[\"Dead\"],[\"Dead\"],[\"Alive\"],[\"Dead\"],[\"Alive\"],[\"Alive\"],[\"Dead\"],[\"Alive\"],[\"Alive\"],[\"Alive\"],[\"Dead\"],[\"Alive\"],[\"Alive\"],[\"Dead\"],[\"Alive\"],[\"Alive\"],[\"Alive\"],[\"Alive\"],[\"Dead\"],[\"Alive\"],[\"Alive\"],[\"Alive\"],[\"Alive\"],[\"Alive\"],[\"Dead\"],[\"Alive\"],[\"Alive\"],[\"Alive\"],[\"Alive\"],[\"Alive\"],[\"Alive\"],[\"Alive\"],[\"Alive\"],[\"Alive\"],[\"Alive\"],[\"Alive\"],[\"Alive\"],[\"Alive\"],[\"Alive\"],[\"Dead\"],[\"Alive\"],[\"Alive\"],[\"Alive\"],[\"Alive\"],[\"Alive\"],[\"Alive\"],[\"Alive\"],[\"Alive\"],[\"Alive\"],[\"Alive\"],[\"Alive\"],[\"Dead\"],[\"Alive\"],[\"Alive\"],[\"Alive\"],[\"Alive\"],[\"Alive\"],[\"Dead\"],[\"Alive\"],[\"Alive\"],[\"Alive\"],[\"Alive\"],[\"Alive\"],[\"Alive\"],[\"Alive\"],[\"Alive\"],[\"Alive\"],[\"Alive\"],[\"Alive\"],[\"Dead\"],[\"Alive\"],[\"Dead\"],[\"Alive\"],[\"Alive\"],[\"Alive\"],[\"Alive\"],[\"Alive\"],[\"Alive\"],[\"Alive\"],[\"Alive\"],[\"Alive\"],[\"Alive\"],[\"Alive\"],[\"Alive\"],[\"Alive\"],[\"Alive\"],[\"Alive\"],[\"Alive\"],[\"Alive\"],[\"Dead\"],[\"Alive\"],[\"Alive\"],[\"Alive\"],[\"Alive\"],[\"Dead\"],[\"Alive\"],[\"Dead\"],[\"Dead\"],[\"Dead\"],[\"Alive\"],[\"Alive\"],[\"Alive\"],[\"Alive\"],[\"Alive\"],[\"Alive\"],[\"Alive\"],[\"Alive\"],[\"Alive\"],[\"Alive\"],[\"Alive\"],[\"Alive\"],[\"Alive\"],[\"Alive\"],[\"Alive\"],[\"Alive\"],[\"Alive\"],[\"Alive\"],[\"Alive\"],[\"Dead\"],[\"Alive\"],[\"Alive\"],[\"Alive\"],[\"Alive\"],[\"Alive\"],[\"Alive\"],[\"Alive\"],[\"Alive\"],[\"Alive\"],[\"Alive\"],[\"Alive\"],[\"Dead\"],[\"Alive\"],[\"Alive\"],[\"Alive\"],[\"Alive\"],[\"Alive\"],[\"Alive\"],[\"Alive\"],[\"Alive\"],[\"Alive\"],[\"Alive\"],[\"Alive\"],[\"Alive\"],[\"Dead\"],[\"Dead\"],[\"Alive\"],[\"Dead\"],[\"Alive\"],[\"Alive\"],[\"Alive\"],[\"Alive\"],[\"Alive\"],[\"Alive\"],[\"Alive\"],[\"Alive\"],[\"Alive\"],[\"Alive\"],[\"Alive\"],[\"Alive\"],[\"Alive\"],[\"Alive\"],[\"Dead\"],[\"Alive\"],[\"Alive\"],[\"Alive\"],[\"Dead\"],[\"Alive\"],[\"Alive\"],[\"Alive\"],[\"Dead\"],[\"Alive\"],[\"Alive\"],[\"Dead\"],[\"Alive\"],[\"Alive\"],[\"Alive\"],[\"Dead\"],[\"Alive\"],[\"Alive\"],[\"Alive\"],[\"Alive\"],[\"Alive\"],[\"Alive\"],[\"Alive\"],[\"Alive\"],[\"Alive\"],[\"Dead\"],[\"Alive\"],[\"Alive\"],[\"Alive\"],[\"Alive\"],[\"Alive\"],[\"Alive\"],[\"Dead\"],[\"Alive\"],[\"Alive\"],[\"Alive\"],[\"Alive\"],[\"Alive\"],[\"Alive\"],[\"Alive\"],[\"Alive\"],[\"Alive\"],[\"Alive\"],[\"Alive\"],[\"Alive\"],[\"Alive\"],[\"Alive\"],[\"Alive\"],[\"Dead\"],[\"Dead\"],[\"Alive\"],[\"Alive\"],[\"Alive\"],[\"Alive\"],[\"Alive\"],[\"Dead\"],[\"Alive\"],[\"Dead\"],[\"Alive\"],[\"Alive\"],[\"Alive\"],[\"Dead\"],[\"Alive\"],[\"Dead\"],[\"Alive\"],[\"Alive\"],[\"Alive\"],[\"Alive\"],[\"Dead\"],[\"Alive\"],[\"Alive\"],[\"Alive\"],[\"Alive\"],[\"Alive\"],[\"Dead\"],[\"Alive\"],[\"Alive\"],[\"Dead\"],[\"Dead\"],[\"Alive\"],[\"Alive\"],[\"Alive\"],[\"Alive\"],[\"Alive\"],[\"Alive\"],[\"Alive\"],[\"Alive\"],[\"Alive\"],[\"Alive\"],[\"Alive\"],[\"Alive\"],[\"Alive\"],[\"Alive\"],[\"Alive\"],[\"Dead\"],[\"Alive\"],[\"Alive\"],[\"Alive\"],[\"Alive\"],[\"Dead\"],[\"Alive\"],[\"Alive\"],[\"Dead\"],[\"Alive\"],[\"Alive\"],[\"Dead\"],[\"Alive\"],[\"Alive\"],[\"Alive\"],[\"Alive\"],[\"Alive\"],[\"Alive\"],[\"Dead\"],[\"Alive\"],[\"Alive\"],[\"Alive\"],[\"Alive\"],[\"Dead\"],[\"Alive\"],[\"Alive\"],[\"Alive\"],[\"Alive\"],[\"Alive\"],[\"Alive\"],[\"Dead\"],[\"Dead\"],[\"Alive\"],[\"Alive\"],[\"Alive\"],[\"Alive\"],[\"Dead\"],[\"Dead\"],[\"Alive\"],[\"Alive\"],[\"Alive\"],[\"Alive\"],[\"Alive\"],[\"Alive\"],[\"Alive\"],[\"Alive\"],[\"Alive\"],[\"Alive\"],[\"Alive\"],[\"Dead\"],[\"Alive\"],[\"Alive\"],[\"Alive\"],[\"Dead\"],[\"Alive\"],[\"Alive\"],[\"Alive\"],[\"Alive\"],[\"Alive\"],[\"Alive\"],[\"Alive\"],[\"Alive\"],[\"Alive\"],[\"Alive\"],[\"Alive\"],[\"Alive\"],[\"Alive\"],[\"Alive\"],[\"Dead\"],[\"Alive\"],[\"Alive\"],[\"Alive\"],[\"Alive\"],[\"Alive\"],[\"Alive\"],[\"Alive\"],[\"Alive\"],[\"Alive\"],[\"Alive\"],[\"Alive\"],[\"Alive\"],[\"Alive\"],[\"Alive\"],[\"Alive\"],[\"Alive\"],[\"Alive\"],[\"Alive\"],[\"Alive\"],[\"Dead\"],[\"Alive\"],[\"Dead\"],[\"Alive\"],[\"Alive\"],[\"Alive\"],[\"Alive\"],[\"Alive\"],[\"Alive\"],[\"Alive\"],[\"Alive\"],[\"Alive\"],[\"Alive\"],[\"Dead\"],[\"Alive\"],[\"Alive\"],[\"Alive\"],[\"Alive\"],[\"Alive\"],[\"Alive\"],[\"Alive\"],[\"Dead\"],[\"Alive\"],[\"Alive\"],[\"Alive\"],[\"Alive\"],[\"Alive\"],[\"Alive\"],[\"Alive\"],[\"Alive\"],[\"Alive\"],[\"Alive\"],[\"Dead\"],[\"Alive\"],[\"Alive\"],[\"Alive\"],[\"Alive\"],[\"Alive\"],[\"Dead\"],[\"Alive\"],[\"Alive\"],[\"Alive\"],[\"Alive\"],[\"Dead\"],[\"Alive\"],[\"Alive\"],[\"Alive\"],[\"Alive\"],[\"Alive\"],[\"Alive\"],[\"Alive\"],[\"Dead\"],[\"Alive\"],[\"Alive\"],[\"Alive\"],[\"Alive\"],[\"Alive\"],[\"Alive\"],[\"Alive\"],[\"Alive\"],[\"Alive\"],[\"Alive\"],[\"Alive\"],[\"Alive\"],[\"Alive\"],[\"Alive\"],[\"Dead\"],[\"Alive\"],[\"Alive\"],[\"Alive\"],[\"Alive\"],[\"Alive\"],[\"Alive\"],[\"Alive\"],[\"Alive\"],[\"Alive\"],[\"Alive\"],[\"Alive\"],[\"Alive\"],[\"Alive\"],[\"Alive\"],[\"Alive\"],[\"Dead\"],[\"Dead\"],[\"Dead\"],[\"Alive\"],[\"Alive\"],[\"Alive\"],[\"Alive\"],[\"Alive\"],[\"Alive\"],[\"Alive\"],[\"Alive\"],[\"Alive\"],[\"Alive\"],[\"Alive\"],[\"Dead\"],[\"Alive\"],[\"Alive\"],[\"Alive\"],[\"Alive\"],[\"Alive\"],[\"Alive\"],[\"Dead\"],[\"Alive\"],[\"Alive\"],[\"Alive\"],[\"Alive\"],[\"Alive\"],[\"Dead\"],[\"Alive\"],[\"Alive\"],[\"Dead\"],[\"Alive\"],[\"Alive\"],[\"Alive\"],[\"Dead\"],[\"Alive\"],[\"Alive\"],[\"Alive\"],[\"Dead\"],[\"Alive\"],[\"Dead\"],[\"Alive\"],[\"Alive\"],[\"Alive\"],[\"Alive\"],[\"Alive\"],[\"Alive\"],[\"Alive\"],[\"Alive\"],[\"Alive\"],[\"Alive\"],[\"Alive\"],[\"Alive\"],[\"Alive\"],[\"Alive\"],[\"Alive\"],[\"Alive\"],[\"Alive\"],[\"Alive\"],[\"Alive\"],[\"Alive\"],[\"Alive\"],[\"Alive\"],[\"Alive\"],[\"Alive\"],[\"Alive\"],[\"Alive\"],[\"Dead\"],[\"Alive\"],[\"Dead\"],[\"Dead\"],[\"Alive\"],[\"Alive\"],[\"Dead\"],[\"Alive\"],[\"Alive\"],[\"Alive\"],[\"Dead\"],[\"Alive\"],[\"Alive\"],[\"Alive\"],[\"Alive\"],[\"Alive\"],[\"Alive\"],[\"Alive\"],[\"Alive\"],[\"Alive\"],[\"Alive\"],[\"Alive\"],[\"Alive\"],[\"Alive\"],[\"Alive\"],[\"Alive\"],[\"Alive\"],[\"Alive\"],[\"Alive\"],[\"Alive\"],[\"Alive\"],[\"Alive\"],[\"Alive\"],[\"Alive\"],[\"Dead\"],[\"Alive\"],[\"Alive\"],[\"Alive\"],[\"Alive\"],[\"Alive\"],[\"Alive\"],[\"Alive\"],[\"Alive\"],[\"Alive\"],[\"Dead\"],[\"Alive\"],[\"Dead\"],[\"Alive\"],[\"Alive\"],[\"Alive\"],[\"Alive\"],[\"Alive\"],[\"Alive\"],[\"Alive\"],[\"Alive\"],[\"Dead\"],[\"Alive\"],[\"Alive\"],[\"Alive\"],[\"Alive\"],[\"Dead\"],[\"Alive\"],[\"Alive\"],[\"Alive\"],[\"Alive\"],[\"Alive\"],[\"Dead\"],[\"Alive\"],[\"Alive\"],[\"Alive\"],[\"Alive\"],[\"Dead\"],[\"Alive\"],[\"Alive\"],[\"Alive\"],[\"Alive\"],[\"Alive\"],[\"Alive\"],[\"Alive\"],[\"Alive\"],[\"Alive\"],[\"Alive\"],[\"Alive\"],[\"Alive\"],[\"Alive\"],[\"Alive\"],[\"Dead\"],[\"Alive\"],[\"Alive\"],[\"Alive\"],[\"Alive\"],[\"Alive\"],[\"Alive\"],[\"Alive\"],[\"Alive\"],[\"Alive\"],[\"Alive\"],[\"Alive\"],[\"Alive\"],[\"Dead\"],[\"Alive\"],[\"Dead\"],[\"Alive\"],[\"Alive\"],[\"Dead\"],[\"Alive\"],[\"Alive\"],[\"Alive\"],[\"Alive\"],[\"Dead\"],[\"Dead\"],[\"Alive\"],[\"Alive\"],[\"Alive\"],[\"Dead\"],[\"Alive\"],[\"Alive\"],[\"Alive\"],[\"Dead\"],[\"Alive\"],[\"Alive\"],[\"Alive\"],[\"Dead\"],[\"Alive\"],[\"Alive\"],[\"Alive\"],[\"Alive\"],[\"Alive\"],[\"Alive\"],[\"Alive\"],[\"Alive\"],[\"Alive\"],[\"Alive\"],[\"Alive\"],[\"Alive\"],[\"Alive\"],[\"Alive\"],[\"Alive\"],[\"Alive\"],[\"Alive\"],[\"Alive\"],[\"Alive\"],[\"Dead\"],[\"Alive\"],[\"Alive\"],[\"Alive\"],[\"Alive\"],[\"Alive\"],[\"Alive\"],[\"Alive\"],[\"Alive\"],[\"Dead\"],[\"Alive\"],[\"Alive\"],[\"Alive\"],[\"Alive\"],[\"Alive\"],[\"Alive\"],[\"Alive\"],[\"Alive\"],[\"Alive\"],[\"Alive\"],[\"Alive\"],[\"Alive\"],[\"Alive\"],[\"Alive\"],[\"Alive\"],[\"Alive\"],[\"Dead\"],[\"Alive\"],[\"Alive\"],[\"Alive\"],[\"Alive\"],[\"Alive\"],[\"Alive\"],[\"Alive\"],[\"Alive\"],[\"Alive\"],[\"Alive\"],[\"Alive\"],[\"Dead\"],[\"Alive\"],[\"Alive\"],[\"Alive\"],[\"Alive\"],[\"Alive\"],[\"Alive\"],[\"Alive\"],[\"Dead\"],[\"Alive\"],[\"Alive\"],[\"Alive\"],[\"Alive\"],[\"Alive\"],[\"Alive\"],[\"Alive\"],[\"Alive\"],[\"Alive\"],[\"Dead\"],[\"Alive\"],[\"Alive\"],[\"Alive\"],[\"Alive\"],[\"Alive\"],[\"Alive\"],[\"Alive\"],[\"Alive\"],[\"Alive\"],[\"Alive\"],[\"Alive\"],[\"Alive\"],[\"Alive\"],[\"Alive\"],[\"Alive\"],[\"Dead\"],[\"Alive\"],[\"Dead\"],[\"Alive\"],[\"Alive\"],[\"Alive\"],[\"Alive\"],[\"Alive\"],[\"Alive\"],[\"Alive\"],[\"Alive\"],[\"Alive\"],[\"Alive\"],[\"Alive\"],[\"Alive\"],[\"Alive\"],[\"Alive\"],[\"Dead\"],[\"Alive\"],[\"Alive\"],[\"Alive\"],[\"Alive\"],[\"Alive\"],[\"Alive\"],[\"Alive\"],[\"Alive\"],[\"Alive\"],[\"Alive\"],[\"Alive\"],[\"Alive\"],[\"Alive\"],[\"Alive\"],[\"Alive\"],[\"Alive\"],[\"Alive\"],[\"Alive\"],[\"Alive\"],[\"Alive\"],[\"Dead\"],[\"Alive\"],[\"Alive\"],[\"Dead\"],[\"Alive\"],[\"Alive\"],[\"Alive\"],[\"Dead\"],[\"Alive\"],[\"Alive\"],[\"Alive\"],[\"Alive\"],[\"Dead\"],[\"Alive\"],[\"Dead\"],[\"Alive\"],[\"Alive\"],[\"Alive\"],[\"Dead\"],[\"Alive\"],[\"Alive\"],[\"Alive\"],[\"Alive\"],[\"Alive\"],[\"Dead\"],[\"Dead\"],[\"Alive\"],[\"Alive\"],[\"Alive\"],[\"Alive\"],[\"Dead\"],[\"Dead\"],[\"Alive\"],[\"Alive\"],[\"Alive\"],[\"Alive\"],[\"Alive\"],[\"Alive\"],[\"Alive\"],[\"Alive\"],[\"Dead\"],[\"Alive\"],[\"Alive\"],[\"Alive\"],[\"Alive\"],[\"Alive\"],[\"Alive\"],[\"Alive\"],[\"Alive\"],[\"Alive\"],[\"Dead\"],[\"Alive\"],[\"Alive\"],[\"Alive\"],[\"Alive\"],[\"Dead\"],[\"Dead\"],[\"Alive\"],[\"Dead\"],[\"Alive\"],[\"Alive\"],[\"Alive\"],[\"Alive\"],[\"Alive\"],[\"Alive\"],[\"Alive\"],[\"Alive\"],[\"Alive\"],[\"Alive\"],[\"Alive\"],[\"Dead\"],[\"Alive\"],[\"Dead\"],[\"Alive\"],[\"Alive\"],[\"Dead\"],[\"Dead\"],[\"Alive\"],[\"Alive\"],[\"Alive\"],[\"Alive\"],[\"Alive\"],[\"Alive\"],[\"Alive\"],[\"Alive\"],[\"Alive\"],[\"Alive\"],[\"Dead\"],[\"Alive\"],[\"Dead\"],[\"Alive\"],[\"Alive\"],[\"Alive\"],[\"Alive\"],[\"Alive\"],[\"Alive\"],[\"Alive\"],[\"Dead\"],[\"Alive\"],[\"Alive\"],[\"Alive\"],[\"Alive\"],[\"Alive\"],[\"Alive\"],[\"Alive\"],[\"Dead\"],[\"Alive\"],[\"Dead\"],[\"Alive\"],[\"Alive\"],[\"Alive\"],[\"Alive\"],[\"Alive\"],[\"Dead\"],[\"Alive\"],[\"Alive\"],[\"Dead\"],[\"Dead\"],[\"Alive\"],[\"Alive\"],[\"Alive\"],[\"Alive\"],[\"Alive\"],[\"Dead\"],[\"Alive\"],[\"Alive\"],[\"Alive\"],[\"Dead\"],[\"Alive\"],[\"Alive\"],[\"Alive\"],[\"Alive\"],[\"Alive\"],[\"Alive\"],[\"Alive\"],[\"Alive\"],[\"Alive\"],[\"Alive\"],[\"Alive\"],[\"Dead\"],[\"Alive\"],[\"Alive\"],[\"Alive\"],[\"Alive\"],[\"Alive\"],[\"Alive\"],[\"Alive\"],[\"Dead\"],[\"Dead\"],[\"Alive\"],[\"Alive\"],[\"Alive\"],[\"Dead\"],[\"Alive\"],[\"Alive\"],[\"Alive\"],[\"Alive\"],[\"Dead\"],[\"Alive\"],[\"Alive\"],[\"Dead\"],[\"Alive\"],[\"Alive\"],[\"Dead\"],[\"Alive\"],[\"Alive\"],[\"Alive\"],[\"Dead\"],[\"Alive\"],[\"Alive\"],[\"Alive\"],[\"Alive\"],[\"Alive\"],[\"Alive\"],[\"Alive\"],[\"Alive\"],[\"Alive\"],[\"Dead\"],[\"Alive\"],[\"Alive\"],[\"Alive\"],[\"Alive\"],[\"Alive\"],[\"Alive\"],[\"Alive\"],[\"Alive\"],[\"Alive\"],[\"Dead\"],[\"Dead\"],[\"Alive\"],[\"Alive\"],[\"Alive\"],[\"Alive\"],[\"Alive\"],[\"Alive\"],[\"Alive\"],[\"Alive\"],[\"Alive\"],[\"Alive\"],[\"Alive\"],[\"Alive\"],[\"Dead\"],[\"Alive\"],[\"Alive\"],[\"Dead\"],[\"Alive\"],[\"Dead\"],[\"Dead\"],[\"Dead\"],[\"Alive\"],[\"Alive\"],[\"Alive\"],[\"Alive\"],[\"Dead\"],[\"Dead\"],[\"Alive\"],[\"Alive\"],[\"Alive\"],[\"Alive\"],[\"Alive\"],[\"Alive\"],[\"Alive\"],[\"Alive\"],[\"Alive\"],[\"Alive\"],[\"Alive\"],[\"Alive\"],[\"Alive\"],[\"Alive\"],[\"Alive\"],[\"Alive\"],[\"Alive\"],[\"Alive\"],[\"Alive\"],[\"Alive\"],[\"Alive\"],[\"Alive\"],[\"Alive\"],[\"Alive\"],[\"Alive\"],[\"Alive\"],[\"Alive\"],[\"Alive\"],[\"Alive\"],[\"Dead\"],[\"Alive\"],[\"Alive\"],[\"Alive\"],[\"Alive\"],[\"Alive\"],[\"Alive\"],[\"Dead\"],[\"Alive\"],[\"Dead\"],[\"Alive\"],[\"Alive\"],[\"Dead\"],[\"Alive\"],[\"Alive\"],[\"Alive\"],[\"Alive\"],[\"Alive\"],[\"Alive\"],[\"Dead\"],[\"Alive\"],[\"Alive\"],[\"Alive\"],[\"Alive\"],[\"Alive\"],[\"Alive\"],[\"Alive\"],[\"Alive\"],[\"Alive\"],[\"Dead\"],[\"Alive\"],[\"Alive\"],[\"Alive\"],[\"Dead\"],[\"Alive\"],[\"Alive\"],[\"Alive\"],[\"Alive\"],[\"Dead\"],[\"Alive\"],[\"Alive\"],[\"Alive\"],[\"Alive\"],[\"Alive\"],[\"Alive\"],[\"Alive\"],[\"Alive\"],[\"Alive\"],[\"Alive\"],[\"Alive\"],[\"Dead\"],[\"Dead\"],[\"Alive\"],[\"Alive\"],[\"Dead\"],[\"Dead\"],[\"Alive\"],[\"Alive\"],[\"Alive\"],[\"Alive\"],[\"Alive\"],[\"Alive\"],[\"Alive\"],[\"Alive\"],[\"Alive\"],[\"Alive\"],[\"Alive\"],[\"Alive\"],[\"Alive\"],[\"Alive\"],[\"Alive\"],[\"Alive\"],[\"Alive\"],[\"Dead\"],[\"Alive\"],[\"Alive\"],[\"Alive\"],[\"Alive\"],[\"Alive\"],[\"Alive\"],[\"Dead\"],[\"Alive\"],[\"Alive\"],[\"Alive\"],[\"Alive\"],[\"Alive\"],[\"Dead\"],[\"Alive\"],[\"Alive\"],[\"Alive\"],[\"Alive\"],[\"Dead\"],[\"Alive\"],[\"Alive\"],[\"Alive\"],[\"Dead\"],[\"Alive\"],[\"Alive\"],[\"Alive\"],[\"Alive\"],[\"Dead\"],[\"Alive\"],[\"Alive\"],[\"Dead\"],[\"Alive\"],[\"Dead\"],[\"Alive\"],[\"Alive\"],[\"Alive\"],[\"Alive\"],[\"Alive\"],[\"Alive\"],[\"Alive\"],[\"Alive\"],[\"Dead\"],[\"Alive\"],[\"Alive\"],[\"Alive\"],[\"Alive\"],[\"Alive\"],[\"Alive\"],[\"Alive\"],[\"Alive\"],[\"Alive\"],[\"Alive\"],[\"Dead\"],[\"Alive\"],[\"Alive\"],[\"Alive\"],[\"Dead\"],[\"Alive\"],[\"Alive\"],[\"Alive\"],[\"Alive\"],[\"Alive\"],[\"Alive\"],[\"Alive\"],[\"Alive\"],[\"Dead\"],[\"Alive\"],[\"Dead\"],[\"Alive\"],[\"Alive\"],[\"Alive\"],[\"Alive\"],[\"Alive\"],[\"Alive\"],[\"Alive\"],[\"Alive\"],[\"Alive\"],[\"Alive\"],[\"Alive\"],[\"Alive\"],[\"Alive\"],[\"Alive\"],[\"Alive\"],[\"Alive\"],[\"Alive\"],[\"Alive\"],[\"Alive\"],[\"Alive\"],[\"Alive\"],[\"Alive\"],[\"Alive\"],[\"Alive\"],[\"Alive\"],[\"Alive\"],[\"Alive\"],[\"Alive\"],[\"Alive\"],[\"Alive\"],[\"Alive\"],[\"Alive\"],[\"Alive\"],[\"Alive\"],[\"Alive\"],[\"Alive\"],[\"Alive\"],[\"Alive\"],[\"Alive\"],[\"Alive\"],[\"Alive\"],[\"Dead\"],[\"Alive\"],[\"Alive\"],[\"Alive\"],[\"Alive\"],[\"Alive\"],[\"Alive\"],[\"Alive\"],[\"Alive\"],[\"Alive\"],[\"Alive\"],[\"Alive\"],[\"Alive\"],[\"Alive\"],[\"Alive\"],[\"Alive\"],[\"Alive\"],[\"Alive\"],[\"Alive\"],[\"Alive\"],[\"Alive\"],[\"Alive\"],[\"Alive\"],[\"Alive\"],[\"Alive\"],[\"Dead\"],[\"Alive\"],[\"Alive\"],[\"Alive\"],[\"Dead\"],[\"Alive\"],[\"Alive\"],[\"Alive\"],[\"Alive\"],[\"Alive\"],[\"Alive\"],[\"Alive\"],[\"Alive\"],[\"Alive\"],[\"Dead\"],[\"Alive\"],[\"Alive\"],[\"Alive\"],[\"Alive\"],[\"Alive\"],[\"Dead\"],[\"Alive\"],[\"Alive\"],[\"Alive\"],[\"Alive\"],[\"Alive\"],[\"Alive\"],[\"Dead\"],[\"Alive\"],[\"Alive\"],[\"Alive\"],[\"Alive\"],[\"Alive\"],[\"Alive\"],[\"Alive\"],[\"Dead\"],[\"Alive\"],[\"Alive\"],[\"Alive\"],[\"Alive\"],[\"Alive\"],[\"Alive\"],[\"Alive\"],[\"Alive\"],[\"Alive\"],[\"Dead\"],[\"Alive\"],[\"Alive\"],[\"Alive\"],[\"Dead\"],[\"Alive\"],[\"Dead\"],[\"Dead\"],[\"Alive\"],[\"Alive\"],[\"Alive\"],[\"Dead\"],[\"Alive\"],[\"Alive\"],[\"Alive\"],[\"Alive\"],[\"Alive\"],[\"Alive\"],[\"Alive\"],[\"Alive\"],[\"Alive\"],[\"Alive\"],[\"Alive\"],[\"Dead\"],[\"Alive\"],[\"Alive\"],[\"Alive\"],[\"Alive\"],[\"Alive\"],[\"Alive\"],[\"Alive\"],[\"Alive\"],[\"Alive\"],[\"Dead\"],[\"Dead\"],[\"Alive\"],[\"Alive\"],[\"Alive\"],[\"Alive\"],[\"Alive\"],[\"Alive\"],[\"Alive\"],[\"Alive\"],[\"Dead\"],[\"Alive\"],[\"Dead\"],[\"Alive\"],[\"Alive\"],[\"Alive\"],[\"Alive\"],[\"Alive\"],[\"Alive\"],[\"Alive\"],[\"Alive\"],[\"Alive\"],[\"Alive\"],[\"Alive\"],[\"Alive\"],[\"Alive\"],[\"Alive\"],[\"Alive\"],[\"Alive\"],[\"Dead\"],[\"Alive\"],[\"Alive\"],[\"Dead\"],[\"Alive\"],[\"Alive\"],[\"Alive\"],[\"Alive\"],[\"Alive\"],[\"Alive\"],[\"Alive\"],[\"Alive\"],[\"Alive\"],[\"Alive\"],[\"Alive\"],[\"Dead\"],[\"Alive\"],[\"Alive\"],[\"Alive\"],[\"Alive\"],[\"Alive\"],[\"Alive\"],[\"Alive\"],[\"Alive\"],[\"Dead\"],[\"Alive\"],[\"Alive\"],[\"Alive\"],[\"Alive\"],[\"Dead\"],[\"Alive\"],[\"Alive\"],[\"Alive\"],[\"Alive\"],[\"Alive\"],[\"Alive\"],[\"Alive\"],[\"Alive\"],[\"Alive\"],[\"Alive\"],[\"Dead\"],[\"Alive\"],[\"Alive\"],[\"Alive\"],[\"Alive\"],[\"Alive\"],[\"Alive\"],[\"Dead\"],[\"Alive\"],[\"Alive\"],[\"Alive\"],[\"Dead\"],[\"Alive\"],[\"Alive\"],[\"Alive\"],[\"Alive\"],[\"Alive\"],[\"Alive\"],[\"Dead\"],[\"Dead\"],[\"Alive\"],[\"Alive\"],[\"Alive\"],[\"Alive\"],[\"Alive\"],[\"Dead\"],[\"Alive\"],[\"Alive\"],[\"Alive\"],[\"Alive\"],[\"Alive\"],[\"Alive\"],[\"Dead\"],[\"Alive\"],[\"Alive\"],[\"Alive\"],[\"Alive\"],[\"Alive\"],[\"Alive\"]],\"domain\":{\"x\":[0.0,1.0],\"y\":[0.0,1.0]},\"hovertemplate\":\"Status=%{customdata[0]}<extra></extra>\",\"labels\":[\"Alive\",\"Alive\",\"Alive\",\"Alive\",\"Alive\",\"Alive\",\"Alive\",\"Dead\",\"Alive\",\"Alive\",\"Dead\",\"Alive\",\"Alive\",\"Alive\",\"Alive\",\"Alive\",\"Alive\",\"Alive\",\"Alive\",\"Alive\",\"Alive\",\"Alive\",\"Alive\",\"Alive\",\"Alive\",\"Alive\",\"Alive\",\"Alive\",\"Alive\",\"Alive\",\"Alive\",\"Alive\",\"Alive\",\"Alive\",\"Alive\",\"Alive\",\"Alive\",\"Alive\",\"Alive\",\"Alive\",\"Dead\",\"Alive\",\"Alive\",\"Alive\",\"Alive\",\"Alive\",\"Dead\",\"Alive\",\"Alive\",\"Alive\",\"Alive\",\"Alive\",\"Alive\",\"Alive\",\"Alive\",\"Alive\",\"Alive\",\"Alive\",\"Alive\",\"Alive\",\"Alive\",\"Alive\",\"Alive\",\"Alive\",\"Dead\",\"Alive\",\"Dead\",\"Alive\",\"Alive\",\"Alive\",\"Alive\",\"Dead\",\"Alive\",\"Alive\",\"Alive\",\"Alive\",\"Alive\",\"Alive\",\"Alive\",\"Alive\",\"Alive\",\"Alive\",\"Alive\",\"Alive\",\"Alive\",\"Alive\",\"Alive\",\"Alive\",\"Alive\",\"Alive\",\"Dead\",\"Alive\",\"Dead\",\"Dead\",\"Alive\",\"Alive\",\"Dead\",\"Alive\",\"Dead\",\"Alive\",\"Dead\",\"Alive\",\"Alive\",\"Dead\",\"Alive\",\"Alive\",\"Dead\",\"Alive\",\"Alive\",\"Alive\",\"Alive\",\"Dead\",\"Alive\",\"Alive\",\"Alive\",\"Alive\",\"Alive\",\"Alive\",\"Alive\",\"Alive\",\"Alive\",\"Alive\",\"Alive\",\"Alive\",\"Alive\",\"Dead\",\"Alive\",\"Alive\",\"Alive\",\"Alive\",\"Alive\",\"Alive\",\"Alive\",\"Alive\",\"Dead\",\"Dead\",\"Alive\",\"Dead\",\"Dead\",\"Alive\",\"Alive\",\"Alive\",\"Alive\",\"Dead\",\"Dead\",\"Alive\",\"Alive\",\"Dead\",\"Alive\",\"Alive\",\"Alive\",\"Alive\",\"Dead\",\"Alive\",\"Alive\",\"Alive\",\"Alive\",\"Alive\",\"Alive\",\"Dead\",\"Alive\",\"Alive\",\"Alive\",\"Alive\",\"Alive\",\"Alive\",\"Alive\",\"Alive\",\"Alive\",\"Alive\",\"Dead\",\"Alive\",\"Alive\",\"Alive\",\"Alive\",\"Alive\",\"Dead\",\"Alive\",\"Alive\",\"Dead\",\"Alive\",\"Dead\",\"Dead\",\"Alive\",\"Alive\",\"Alive\",\"Alive\",\"Alive\",\"Dead\",\"Alive\",\"Alive\",\"Alive\",\"Alive\",\"Alive\",\"Alive\",\"Alive\",\"Alive\",\"Alive\",\"Alive\",\"Alive\",\"Alive\",\"Alive\",\"Dead\",\"Dead\",\"Alive\",\"Alive\",\"Alive\",\"Alive\",\"Alive\",\"Alive\",\"Alive\",\"Dead\",\"Alive\",\"Alive\",\"Alive\",\"Dead\",\"Dead\",\"Alive\",\"Alive\",\"Dead\",\"Dead\",\"Dead\",\"Alive\",\"Alive\",\"Alive\",\"Alive\",\"Alive\",\"Alive\",\"Alive\",\"Alive\",\"Alive\",\"Alive\",\"Alive\",\"Alive\",\"Alive\",\"Alive\",\"Alive\",\"Alive\",\"Dead\",\"Alive\",\"Dead\",\"Alive\",\"Alive\",\"Alive\",\"Alive\",\"Alive\",\"Alive\",\"Dead\",\"Alive\",\"Alive\",\"Alive\",\"Alive\",\"Alive\",\"Alive\",\"Alive\",\"Alive\",\"Alive\",\"Alive\",\"Alive\",\"Alive\",\"Alive\",\"Alive\",\"Alive\",\"Dead\",\"Alive\",\"Alive\",\"Alive\",\"Alive\",\"Dead\",\"Alive\",\"Dead\",\"Alive\",\"Alive\",\"Alive\",\"Alive\",\"Alive\",\"Alive\",\"Dead\",\"Alive\",\"Alive\",\"Alive\",\"Alive\",\"Dead\",\"Alive\",\"Alive\",\"Dead\",\"Alive\",\"Alive\",\"Alive\",\"Dead\",\"Alive\",\"Alive\",\"Dead\",\"Alive\",\"Alive\",\"Alive\",\"Alive\",\"Alive\",\"Alive\",\"Alive\",\"Alive\",\"Alive\",\"Alive\",\"Alive\",\"Alive\",\"Dead\",\"Alive\",\"Alive\",\"Alive\",\"Alive\",\"Alive\",\"Alive\",\"Alive\",\"Dead\",\"Alive\",\"Alive\",\"Alive\",\"Alive\",\"Alive\",\"Alive\",\"Alive\",\"Alive\",\"Alive\",\"Alive\",\"Alive\",\"Alive\",\"Alive\",\"Alive\",\"Alive\",\"Alive\",\"Alive\",\"Dead\",\"Alive\",\"Alive\",\"Alive\",\"Alive\",\"Alive\",\"Alive\",\"Alive\",\"Alive\",\"Alive\",\"Alive\",\"Alive\",\"Alive\",\"Alive\",\"Alive\",\"Alive\",\"Alive\",\"Alive\",\"Alive\",\"Alive\",\"Alive\",\"Alive\",\"Alive\",\"Alive\",\"Alive\",\"Alive\",\"Dead\",\"Alive\",\"Alive\",\"Alive\",\"Alive\",\"Dead\",\"Dead\",\"Alive\",\"Alive\",\"Alive\",\"Alive\",\"Alive\",\"Dead\",\"Alive\",\"Dead\",\"Alive\",\"Alive\",\"Alive\",\"Alive\",\"Alive\",\"Alive\",\"Alive\",\"Dead\",\"Alive\",\"Alive\",\"Alive\",\"Alive\",\"Alive\",\"Alive\",\"Alive\",\"Alive\",\"Alive\",\"Alive\",\"Alive\",\"Alive\",\"Alive\",\"Alive\",\"Dead\",\"Alive\",\"Alive\",\"Alive\",\"Alive\",\"Alive\",\"Alive\",\"Alive\",\"Alive\",\"Alive\",\"Alive\",\"Alive\",\"Alive\",\"Alive\",\"Alive\",\"Alive\",\"Alive\",\"Alive\",\"Alive\",\"Dead\",\"Alive\",\"Alive\",\"Alive\",\"Alive\",\"Alive\",\"Alive\",\"Alive\",\"Alive\",\"Alive\",\"Alive\",\"Alive\",\"Alive\",\"Alive\",\"Alive\",\"Dead\",\"Alive\",\"Alive\",\"Alive\",\"Alive\",\"Alive\",\"Alive\",\"Dead\",\"Alive\",\"Alive\",\"Alive\",\"Alive\",\"Alive\",\"Dead\",\"Alive\",\"Alive\",\"Alive\",\"Dead\",\"Alive\",\"Alive\",\"Alive\",\"Alive\",\"Alive\",\"Alive\",\"Alive\",\"Alive\",\"Alive\",\"Dead\",\"Alive\",\"Dead\",\"Alive\",\"Alive\",\"Alive\",\"Alive\",\"Alive\",\"Alive\",\"Alive\",\"Alive\",\"Alive\",\"Alive\",\"Alive\",\"Alive\",\"Alive\",\"Alive\",\"Alive\",\"Alive\",\"Dead\",\"Alive\",\"Alive\",\"Alive\",\"Alive\",\"Alive\",\"Alive\",\"Alive\",\"Dead\",\"Alive\",\"Dead\",\"Alive\",\"Dead\",\"Alive\",\"Alive\",\"Alive\",\"Alive\",\"Alive\",\"Alive\",\"Dead\",\"Alive\",\"Alive\",\"Alive\",\"Alive\",\"Alive\",\"Alive\",\"Alive\",\"Alive\",\"Alive\",\"Alive\",\"Alive\",\"Alive\",\"Alive\",\"Dead\",\"Alive\",\"Alive\",\"Alive\",\"Dead\",\"Alive\",\"Alive\",\"Alive\",\"Alive\",\"Alive\",\"Alive\",\"Alive\",\"Alive\",\"Dead\",\"Alive\",\"Dead\",\"Dead\",\"Alive\",\"Dead\",\"Alive\",\"Alive\",\"Alive\",\"Alive\",\"Alive\",\"Alive\",\"Alive\",\"Alive\",\"Dead\",\"Alive\",\"Alive\",\"Dead\",\"Alive\",\"Alive\",\"Alive\",\"Alive\",\"Alive\",\"Alive\",\"Alive\",\"Alive\",\"Dead\",\"Alive\",\"Dead\",\"Alive\",\"Dead\",\"Alive\",\"Alive\",\"Alive\",\"Alive\",\"Alive\",\"Dead\",\"Alive\",\"Alive\",\"Alive\",\"Alive\",\"Alive\",\"Alive\",\"Alive\",\"Alive\",\"Dead\",\"Dead\",\"Alive\",\"Alive\",\"Alive\",\"Alive\",\"Alive\",\"Dead\",\"Alive\",\"Alive\",\"Alive\",\"Alive\",\"Alive\",\"Alive\",\"Alive\",\"Dead\",\"Dead\",\"Alive\",\"Alive\",\"Alive\",\"Alive\",\"Alive\",\"Alive\",\"Dead\",\"Alive\",\"Alive\",\"Alive\",\"Alive\",\"Dead\",\"Alive\",\"Alive\",\"Alive\",\"Alive\",\"Alive\",\"Alive\",\"Alive\",\"Alive\",\"Alive\",\"Alive\",\"Alive\",\"Alive\",\"Alive\",\"Dead\",\"Alive\",\"Alive\",\"Alive\",\"Alive\",\"Alive\",\"Alive\",\"Alive\",\"Alive\",\"Alive\",\"Alive\",\"Alive\",\"Alive\",\"Dead\",\"Alive\",\"Alive\",\"Alive\",\"Alive\",\"Alive\",\"Alive\",\"Alive\",\"Alive\",\"Alive\",\"Alive\",\"Dead\",\"Alive\",\"Dead\",\"Alive\",\"Alive\",\"Alive\",\"Alive\",\"Alive\",\"Alive\",\"Alive\",\"Dead\",\"Alive\",\"Alive\",\"Alive\",\"Alive\",\"Alive\",\"Alive\",\"Alive\",\"Dead\",\"Alive\",\"Alive\",\"Alive\",\"Alive\",\"Alive\",\"Alive\",\"Dead\",\"Alive\",\"Alive\",\"Dead\",\"Alive\",\"Alive\",\"Alive\",\"Dead\",\"Alive\",\"Dead\",\"Alive\",\"Alive\",\"Alive\",\"Alive\",\"Alive\",\"Alive\",\"Alive\",\"Alive\",\"Alive\",\"Alive\",\"Alive\",\"Dead\",\"Alive\",\"Dead\",\"Alive\",\"Alive\",\"Alive\",\"Dead\",\"Alive\",\"Alive\",\"Alive\",\"Alive\",\"Alive\",\"Alive\",\"Alive\",\"Alive\",\"Alive\",\"Alive\",\"Alive\",\"Alive\",\"Dead\",\"Alive\",\"Alive\",\"Alive\",\"Alive\",\"Alive\",\"Alive\",\"Dead\",\"Alive\",\"Alive\",\"Alive\",\"Alive\",\"Dead\",\"Alive\",\"Alive\",\"Alive\",\"Alive\",\"Alive\",\"Alive\",\"Alive\",\"Alive\",\"Alive\",\"Alive\",\"Alive\",\"Alive\",\"Alive\",\"Alive\",\"Alive\",\"Dead\",\"Alive\",\"Dead\",\"Dead\",\"Dead\",\"Dead\",\"Dead\",\"Alive\",\"Alive\",\"Dead\",\"Alive\",\"Alive\",\"Dead\",\"Alive\",\"Alive\",\"Alive\",\"Alive\",\"Alive\",\"Dead\",\"Alive\",\"Alive\",\"Alive\",\"Alive\",\"Alive\",\"Alive\",\"Alive\",\"Alive\",\"Alive\",\"Dead\",\"Dead\",\"Dead\",\"Alive\",\"Alive\",\"Dead\",\"Dead\",\"Alive\",\"Alive\",\"Alive\",\"Alive\",\"Alive\",\"Alive\",\"Alive\",\"Alive\",\"Alive\",\"Alive\",\"Alive\",\"Alive\",\"Alive\",\"Alive\",\"Alive\",\"Alive\",\"Alive\",\"Dead\",\"Alive\",\"Alive\",\"Dead\",\"Alive\",\"Alive\",\"Alive\",\"Dead\",\"Alive\",\"Alive\",\"Alive\",\"Alive\",\"Alive\",\"Alive\",\"Alive\",\"Alive\",\"Alive\",\"Alive\",\"Alive\",\"Alive\",\"Alive\",\"Alive\",\"Alive\",\"Dead\",\"Dead\",\"Dead\",\"Alive\",\"Alive\",\"Alive\",\"Alive\",\"Alive\",\"Alive\",\"Alive\",\"Alive\",\"Alive\",\"Alive\",\"Alive\",\"Alive\",\"Alive\",\"Alive\",\"Alive\",\"Alive\",\"Alive\",\"Alive\",\"Alive\",\"Alive\",\"Alive\",\"Alive\",\"Alive\",\"Alive\",\"Alive\",\"Alive\",\"Alive\",\"Alive\",\"Alive\",\"Alive\",\"Dead\",\"Alive\",\"Dead\",\"Alive\",\"Alive\",\"Alive\",\"Dead\",\"Alive\",\"Alive\",\"Alive\",\"Alive\",\"Dead\",\"Alive\",\"Alive\",\"Alive\",\"Alive\",\"Alive\",\"Alive\",\"Dead\",\"Dead\",\"Alive\",\"Dead\",\"Alive\",\"Alive\",\"Alive\",\"Dead\",\"Alive\",\"Alive\",\"Dead\",\"Alive\",\"Alive\",\"Dead\",\"Dead\",\"Alive\",\"Alive\",\"Dead\",\"Alive\",\"Alive\",\"Dead\",\"Alive\",\"Alive\",\"Alive\",\"Alive\",\"Alive\",\"Alive\",\"Dead\",\"Alive\",\"Alive\",\"Alive\",\"Alive\",\"Alive\",\"Alive\",\"Alive\",\"Alive\",\"Alive\",\"Dead\",\"Alive\",\"Alive\",\"Alive\",\"Alive\",\"Dead\",\"Alive\",\"Alive\",\"Alive\",\"Dead\",\"Dead\",\"Alive\",\"Alive\",\"Alive\",\"Alive\",\"Alive\",\"Alive\",\"Alive\",\"Alive\",\"Alive\",\"Alive\",\"Dead\",\"Dead\",\"Alive\",\"Dead\",\"Alive\",\"Alive\",\"Alive\",\"Alive\",\"Alive\",\"Dead\",\"Alive\",\"Alive\",\"Alive\",\"Alive\",\"Dead\",\"Alive\",\"Alive\",\"Alive\",\"Alive\",\"Alive\",\"Dead\",\"Alive\",\"Alive\",\"Dead\",\"Alive\",\"Alive\",\"Alive\",\"Dead\",\"Alive\",\"Dead\",\"Dead\",\"Alive\",\"Alive\",\"Alive\",\"Alive\",\"Alive\",\"Alive\",\"Alive\",\"Alive\",\"Dead\",\"Alive\",\"Dead\",\"Dead\",\"Alive\",\"Alive\",\"Alive\",\"Alive\",\"Alive\",\"Alive\",\"Alive\",\"Dead\",\"Alive\",\"Dead\",\"Alive\",\"Alive\",\"Alive\",\"Alive\",\"Alive\",\"Alive\",\"Alive\",\"Alive\",\"Dead\",\"Alive\",\"Dead\",\"Alive\",\"Alive\",\"Dead\",\"Dead\",\"Alive\",\"Alive\",\"Alive\",\"Alive\",\"Alive\",\"Alive\",\"Alive\",\"Alive\",\"Alive\",\"Alive\",\"Alive\",\"Alive\",\"Alive\",\"Alive\",\"Alive\",\"Alive\",\"Alive\",\"Alive\",\"Alive\",\"Alive\",\"Alive\",\"Alive\",\"Alive\",\"Alive\",\"Alive\",\"Alive\",\"Alive\",\"Alive\",\"Dead\",\"Alive\",\"Alive\",\"Alive\",\"Alive\",\"Alive\",\"Alive\",\"Alive\",\"Alive\",\"Dead\",\"Alive\",\"Dead\",\"Alive\",\"Alive\",\"Alive\",\"Alive\",\"Alive\",\"Alive\",\"Alive\",\"Dead\",\"Alive\",\"Alive\",\"Alive\",\"Alive\",\"Alive\",\"Dead\",\"Alive\",\"Alive\",\"Alive\",\"Dead\",\"Alive\",\"Alive\",\"Alive\",\"Alive\",\"Alive\",\"Alive\",\"Dead\",\"Alive\",\"Dead\",\"Alive\",\"Alive\",\"Alive\",\"Dead\",\"Alive\",\"Alive\",\"Dead\",\"Alive\",\"Alive\",\"Alive\",\"Dead\",\"Alive\",\"Alive\",\"Alive\",\"Alive\",\"Alive\",\"Alive\",\"Alive\",\"Alive\",\"Dead\",\"Alive\",\"Alive\",\"Alive\",\"Alive\",\"Alive\",\"Alive\",\"Alive\",\"Dead\",\"Alive\",\"Alive\",\"Alive\",\"Alive\",\"Alive\",\"Alive\",\"Alive\",\"Alive\",\"Dead\",\"Alive\",\"Dead\",\"Dead\",\"Alive\",\"Alive\",\"Alive\",\"Alive\",\"Alive\",\"Dead\",\"Alive\",\"Alive\",\"Alive\",\"Dead\",\"Alive\",\"Alive\",\"Alive\",\"Dead\",\"Alive\",\"Alive\",\"Alive\",\"Alive\",\"Alive\",\"Alive\",\"Alive\",\"Alive\",\"Alive\",\"Dead\",\"Dead\",\"Alive\",\"Alive\",\"Alive\",\"Alive\",\"Alive\",\"Alive\",\"Alive\",\"Alive\",\"Alive\",\"Alive\",\"Alive\",\"Dead\",\"Dead\",\"Alive\",\"Alive\",\"Alive\",\"Alive\",\"Alive\",\"Dead\",\"Alive\",\"Alive\",\"Alive\",\"Alive\",\"Alive\",\"Alive\",\"Dead\",\"Alive\",\"Alive\",\"Alive\",\"Alive\",\"Dead\",\"Alive\",\"Alive\",\"Alive\",\"Alive\",\"Alive\",\"Alive\",\"Dead\",\"Alive\",\"Alive\",\"Dead\",\"Alive\",\"Alive\",\"Alive\",\"Alive\",\"Alive\",\"Alive\",\"Dead\",\"Dead\",\"Alive\",\"Alive\",\"Dead\",\"Alive\",\"Alive\",\"Alive\",\"Alive\",\"Alive\",\"Alive\",\"Alive\",\"Alive\",\"Alive\",\"Alive\",\"Dead\",\"Alive\",\"Alive\",\"Alive\",\"Alive\",\"Alive\",\"Alive\",\"Alive\",\"Dead\",\"Alive\",\"Alive\",\"Alive\",\"Alive\",\"Alive\",\"Alive\",\"Alive\",\"Alive\",\"Alive\",\"Alive\",\"Alive\",\"Alive\",\"Alive\",\"Alive\",\"Alive\",\"Alive\",\"Alive\",\"Alive\",\"Alive\",\"Alive\",\"Dead\",\"Alive\",\"Dead\",\"Alive\",\"Alive\",\"Alive\",\"Alive\",\"Alive\",\"Alive\",\"Alive\",\"Alive\",\"Dead\",\"Dead\",\"Dead\",\"Dead\",\"Alive\",\"Alive\",\"Alive\",\"Alive\",\"Alive\",\"Alive\",\"Alive\",\"Alive\",\"Alive\",\"Alive\",\"Alive\",\"Alive\",\"Alive\",\"Alive\",\"Dead\",\"Alive\",\"Alive\",\"Alive\",\"Alive\",\"Alive\",\"Alive\",\"Alive\",\"Alive\",\"Alive\",\"Alive\",\"Alive\",\"Alive\",\"Alive\",\"Alive\",\"Alive\",\"Alive\",\"Dead\",\"Dead\",\"Alive\",\"Alive\",\"Alive\",\"Alive\",\"Alive\",\"Alive\",\"Alive\",\"Alive\",\"Alive\",\"Alive\",\"Alive\",\"Alive\",\"Alive\",\"Alive\",\"Alive\",\"Alive\",\"Dead\",\"Alive\",\"Dead\",\"Alive\",\"Dead\",\"Alive\",\"Alive\",\"Alive\",\"Alive\",\"Alive\",\"Alive\",\"Alive\",\"Alive\",\"Alive\",\"Alive\",\"Dead\",\"Alive\",\"Alive\",\"Alive\",\"Dead\",\"Alive\",\"Alive\",\"Alive\",\"Alive\",\"Alive\",\"Alive\",\"Alive\",\"Alive\",\"Alive\",\"Alive\",\"Alive\",\"Alive\",\"Alive\",\"Alive\",\"Alive\",\"Dead\",\"Dead\",\"Alive\",\"Alive\",\"Alive\",\"Alive\",\"Alive\",\"Alive\",\"Alive\",\"Dead\",\"Alive\",\"Alive\",\"Alive\",\"Alive\",\"Alive\",\"Alive\",\"Alive\",\"Alive\",\"Alive\",\"Alive\",\"Alive\",\"Alive\",\"Dead\",\"Alive\",\"Alive\",\"Alive\",\"Alive\",\"Dead\",\"Alive\",\"Alive\",\"Alive\",\"Alive\",\"Alive\",\"Alive\",\"Dead\",\"Alive\",\"Alive\",\"Dead\",\"Alive\",\"Alive\",\"Alive\",\"Dead\",\"Alive\",\"Alive\",\"Alive\",\"Alive\",\"Alive\",\"Alive\",\"Dead\",\"Alive\",\"Alive\",\"Alive\",\"Alive\",\"Alive\",\"Alive\",\"Alive\",\"Alive\",\"Alive\",\"Alive\",\"Alive\",\"Alive\",\"Alive\",\"Alive\",\"Alive\",\"Alive\",\"Alive\",\"Alive\",\"Alive\",\"Alive\",\"Alive\",\"Alive\",\"Dead\",\"Alive\",\"Alive\",\"Alive\",\"Alive\",\"Alive\",\"Dead\",\"Alive\",\"Dead\",\"Dead\",\"Alive\",\"Alive\",\"Dead\",\"Dead\",\"Alive\",\"Dead\",\"Alive\",\"Alive\",\"Alive\",\"Alive\",\"Alive\",\"Alive\",\"Alive\",\"Alive\",\"Alive\",\"Alive\",\"Alive\",\"Alive\",\"Dead\",\"Alive\",\"Alive\",\"Dead\",\"Alive\",\"Alive\",\"Alive\",\"Alive\",\"Alive\",\"Alive\",\"Alive\",\"Alive\",\"Alive\",\"Alive\",\"Dead\",\"Alive\",\"Alive\",\"Alive\",\"Alive\",\"Alive\",\"Alive\",\"Alive\",\"Alive\",\"Dead\",\"Alive\",\"Alive\",\"Alive\",\"Dead\",\"Alive\",\"Alive\",\"Alive\",\"Alive\",\"Alive\",\"Alive\",\"Alive\",\"Dead\",\"Alive\",\"Alive\",\"Alive\",\"Alive\",\"Alive\",\"Alive\",\"Alive\",\"Alive\",\"Alive\",\"Alive\",\"Alive\",\"Alive\",\"Dead\",\"Alive\",\"Alive\",\"Alive\",\"Alive\",\"Alive\",\"Alive\",\"Alive\",\"Alive\",\"Alive\",\"Alive\",\"Alive\",\"Dead\",\"Dead\",\"Dead\",\"Alive\",\"Alive\",\"Alive\",\"Alive\",\"Alive\",\"Alive\",\"Alive\",\"Alive\",\"Alive\",\"Alive\",\"Alive\",\"Alive\",\"Dead\",\"Alive\",\"Alive\",\"Alive\",\"Alive\",\"Alive\",\"Alive\",\"Alive\",\"Alive\",\"Alive\",\"Alive\",\"Dead\",\"Dead\",\"Alive\",\"Alive\",\"Dead\",\"Alive\",\"Alive\",\"Dead\",\"Alive\",\"Alive\",\"Alive\",\"Alive\",\"Alive\",\"Dead\",\"Dead\",\"Alive\",\"Alive\",\"Alive\",\"Alive\",\"Alive\",\"Alive\",\"Alive\",\"Alive\",\"Alive\",\"Alive\",\"Alive\",\"Dead\",\"Alive\",\"Alive\",\"Alive\",\"Alive\",\"Alive\",\"Alive\",\"Alive\",\"Alive\",\"Alive\",\"Alive\",\"Alive\",\"Alive\",\"Alive\",\"Alive\",\"Alive\",\"Alive\",\"Alive\",\"Alive\",\"Alive\",\"Dead\",\"Alive\",\"Alive\",\"Alive\",\"Alive\",\"Alive\",\"Alive\",\"Alive\",\"Alive\",\"Alive\",\"Alive\",\"Alive\",\"Dead\",\"Alive\",\"Alive\",\"Alive\",\"Alive\",\"Alive\",\"Alive\",\"Alive\",\"Alive\",\"Alive\",\"Alive\",\"Alive\",\"Alive\",\"Dead\",\"Alive\",\"Alive\",\"Alive\",\"Alive\",\"Alive\",\"Dead\",\"Alive\",\"Dead\",\"Alive\",\"Alive\",\"Alive\",\"Dead\",\"Dead\",\"Alive\",\"Alive\",\"Alive\",\"Alive\",\"Dead\",\"Alive\",\"Alive\",\"Alive\",\"Alive\",\"Alive\",\"Alive\",\"Alive\",\"Alive\",\"Dead\",\"Dead\",\"Alive\",\"Alive\",\"Alive\",\"Alive\",\"Alive\",\"Dead\",\"Alive\",\"Dead\",\"Alive\",\"Alive\",\"Alive\",\"Dead\",\"Alive\",\"Alive\",\"Alive\",\"Dead\",\"Alive\",\"Alive\",\"Alive\",\"Alive\",\"Alive\",\"Dead\",\"Alive\",\"Alive\",\"Alive\",\"Alive\",\"Alive\",\"Alive\",\"Alive\",\"Alive\",\"Alive\",\"Alive\",\"Alive\",\"Alive\",\"Alive\",\"Alive\",\"Alive\",\"Alive\",\"Alive\",\"Alive\",\"Alive\",\"Alive\",\"Alive\",\"Alive\",\"Alive\",\"Dead\",\"Alive\",\"Alive\",\"Alive\",\"Alive\",\"Dead\",\"Alive\",\"Alive\",\"Alive\",\"Alive\",\"Dead\",\"Alive\",\"Alive\",\"Alive\",\"Alive\",\"Alive\",\"Alive\",\"Alive\",\"Alive\",\"Alive\",\"Alive\",\"Alive\",\"Alive\",\"Alive\",\"Alive\",\"Alive\",\"Alive\",\"Alive\",\"Alive\",\"Alive\",\"Alive\",\"Alive\",\"Alive\",\"Alive\",\"Alive\",\"Alive\",\"Alive\",\"Alive\",\"Alive\",\"Dead\",\"Alive\",\"Dead\",\"Alive\",\"Alive\",\"Alive\",\"Alive\",\"Alive\",\"Alive\",\"Alive\",\"Alive\",\"Alive\",\"Alive\",\"Alive\",\"Alive\",\"Alive\",\"Alive\",\"Alive\",\"Alive\",\"Dead\",\"Alive\",\"Alive\",\"Alive\",\"Alive\",\"Alive\",\"Alive\",\"Alive\",\"Alive\",\"Alive\",\"Alive\",\"Alive\",\"Dead\",\"Alive\",\"Alive\",\"Alive\",\"Dead\",\"Alive\",\"Alive\",\"Alive\",\"Alive\",\"Alive\",\"Alive\",\"Dead\",\"Alive\",\"Dead\",\"Alive\",\"Alive\",\"Alive\",\"Alive\",\"Dead\",\"Alive\",\"Alive\",\"Alive\",\"Alive\",\"Alive\",\"Dead\",\"Alive\",\"Alive\",\"Alive\",\"Alive\",\"Alive\",\"Alive\",\"Dead\",\"Alive\",\"Dead\",\"Alive\",\"Alive\",\"Alive\",\"Alive\",\"Alive\",\"Dead\",\"Alive\",\"Alive\",\"Alive\",\"Alive\",\"Alive\",\"Alive\",\"Alive\",\"Alive\",\"Alive\",\"Alive\",\"Alive\",\"Alive\",\"Alive\",\"Dead\",\"Alive\",\"Alive\",\"Dead\",\"Alive\",\"Alive\",\"Alive\",\"Alive\",\"Alive\",\"Alive\",\"Alive\",\"Alive\",\"Alive\",\"Alive\",\"Alive\",\"Alive\",\"Alive\",\"Alive\",\"Dead\",\"Alive\",\"Alive\",\"Alive\",\"Alive\",\"Alive\",\"Alive\",\"Dead\",\"Dead\",\"Alive\",\"Alive\",\"Alive\",\"Alive\",\"Alive\",\"Dead\",\"Alive\",\"Alive\",\"Alive\",\"Alive\",\"Alive\",\"Alive\",\"Alive\",\"Alive\",\"Alive\",\"Alive\",\"Alive\",\"Alive\",\"Dead\",\"Alive\",\"Alive\",\"Alive\",\"Alive\",\"Dead\",\"Alive\",\"Alive\",\"Alive\",\"Alive\",\"Alive\",\"Alive\",\"Alive\",\"Alive\",\"Alive\",\"Dead\",\"Alive\",\"Alive\",\"Alive\",\"Alive\",\"Alive\",\"Alive\",\"Alive\",\"Alive\",\"Alive\",\"Alive\",\"Dead\",\"Alive\",\"Alive\",\"Alive\",\"Dead\",\"Alive\",\"Dead\",\"Dead\",\"Alive\",\"Alive\",\"Alive\",\"Dead\",\"Dead\",\"Dead\",\"Alive\",\"Alive\",\"Alive\",\"Alive\",\"Alive\",\"Alive\",\"Alive\",\"Alive\",\"Alive\",\"Dead\",\"Alive\",\"Alive\",\"Alive\",\"Alive\",\"Alive\",\"Dead\",\"Alive\",\"Alive\",\"Dead\",\"Alive\",\"Alive\",\"Alive\",\"Alive\",\"Alive\",\"Alive\",\"Dead\",\"Alive\",\"Alive\",\"Alive\",\"Alive\",\"Alive\",\"Alive\",\"Alive\",\"Alive\",\"Alive\",\"Alive\",\"Alive\",\"Alive\",\"Alive\",\"Dead\",\"Alive\",\"Alive\",\"Alive\",\"Alive\",\"Alive\",\"Alive\",\"Alive\",\"Alive\",\"Alive\",\"Alive\",\"Alive\",\"Alive\",\"Dead\",\"Alive\",\"Alive\",\"Alive\",\"Alive\",\"Dead\",\"Alive\",\"Alive\",\"Alive\",\"Alive\",\"Alive\",\"Alive\",\"Alive\",\"Alive\",\"Alive\",\"Alive\",\"Alive\",\"Alive\",\"Alive\",\"Alive\",\"Alive\",\"Alive\",\"Alive\",\"Alive\",\"Alive\",\"Alive\",\"Alive\",\"Alive\",\"Dead\",\"Dead\",\"Alive\",\"Alive\",\"Alive\",\"Alive\",\"Alive\",\"Alive\",\"Alive\",\"Alive\",\"Dead\",\"Dead\",\"Alive\",\"Alive\",\"Alive\",\"Dead\",\"Alive\",\"Alive\",\"Alive\",\"Alive\",\"Alive\",\"Dead\",\"Alive\",\"Alive\",\"Alive\",\"Alive\",\"Dead\",\"Alive\",\"Alive\",\"Alive\",\"Dead\",\"Alive\",\"Alive\",\"Alive\",\"Dead\",\"Alive\",\"Dead\",\"Alive\",\"Alive\",\"Alive\",\"Alive\",\"Alive\",\"Alive\",\"Alive\",\"Alive\",\"Dead\",\"Alive\",\"Dead\",\"Alive\",\"Alive\",\"Alive\",\"Dead\",\"Dead\",\"Alive\",\"Alive\",\"Alive\",\"Alive\",\"Alive\",\"Alive\",\"Alive\",\"Alive\",\"Dead\",\"Alive\",\"Alive\",\"Alive\",\"Alive\",\"Alive\",\"Alive\",\"Dead\",\"Alive\",\"Dead\",\"Alive\",\"Alive\",\"Alive\",\"Alive\",\"Alive\",\"Alive\",\"Alive\",\"Dead\",\"Alive\",\"Alive\",\"Alive\",\"Alive\",\"Alive\",\"Alive\",\"Alive\",\"Alive\",\"Alive\",\"Alive\",\"Alive\",\"Alive\",\"Alive\",\"Alive\",\"Alive\",\"Alive\",\"Alive\",\"Alive\",\"Alive\",\"Alive\",\"Alive\",\"Alive\",\"Alive\",\"Alive\",\"Alive\",\"Alive\",\"Alive\",\"Alive\",\"Dead\",\"Alive\",\"Dead\",\"Alive\",\"Alive\",\"Dead\",\"Alive\",\"Dead\",\"Alive\",\"Dead\",\"Alive\",\"Alive\",\"Dead\",\"Dead\",\"Alive\",\"Alive\",\"Alive\",\"Alive\",\"Alive\",\"Alive\",\"Alive\",\"Alive\",\"Alive\",\"Alive\",\"Alive\",\"Alive\",\"Dead\",\"Alive\",\"Alive\",\"Alive\",\"Dead\",\"Alive\",\"Alive\",\"Alive\",\"Alive\",\"Alive\",\"Alive\",\"Dead\",\"Alive\",\"Dead\",\"Alive\",\"Alive\",\"Alive\",\"Alive\",\"Alive\",\"Alive\",\"Alive\",\"Alive\",\"Alive\",\"Alive\",\"Alive\",\"Alive\",\"Alive\",\"Alive\",\"Alive\",\"Alive\",\"Alive\",\"Alive\",\"Alive\",\"Alive\",\"Dead\",\"Alive\",\"Alive\",\"Alive\",\"Alive\",\"Dead\",\"Alive\",\"Alive\",\"Alive\",\"Alive\",\"Alive\",\"Dead\",\"Dead\",\"Dead\",\"Alive\",\"Dead\",\"Alive\",\"Alive\",\"Alive\",\"Alive\",\"Alive\",\"Alive\",\"Alive\",\"Dead\",\"Dead\",\"Alive\",\"Alive\",\"Alive\",\"Alive\",\"Alive\",\"Alive\",\"Alive\",\"Alive\",\"Alive\",\"Alive\",\"Dead\",\"Alive\",\"Alive\",\"Alive\",\"Alive\",\"Alive\",\"Alive\",\"Alive\",\"Alive\",\"Alive\",\"Alive\",\"Alive\",\"Alive\",\"Alive\",\"Alive\",\"Alive\",\"Alive\",\"Alive\",\"Alive\",\"Alive\",\"Alive\",\"Dead\",\"Alive\",\"Alive\",\"Alive\",\"Dead\",\"Alive\",\"Alive\",\"Alive\",\"Alive\",\"Alive\",\"Dead\",\"Alive\",\"Alive\",\"Alive\",\"Alive\",\"Alive\",\"Alive\",\"Alive\",\"Alive\",\"Alive\",\"Alive\",\"Alive\",\"Alive\",\"Alive\",\"Alive\",\"Alive\",\"Dead\",\"Alive\",\"Alive\",\"Alive\",\"Alive\",\"Alive\",\"Alive\",\"Dead\",\"Alive\",\"Alive\",\"Alive\",\"Alive\",\"Dead\",\"Alive\",\"Alive\",\"Alive\",\"Alive\",\"Alive\",\"Dead\",\"Alive\",\"Alive\",\"Alive\",\"Alive\",\"Alive\",\"Alive\",\"Alive\",\"Alive\",\"Dead\",\"Alive\",\"Alive\",\"Alive\",\"Alive\",\"Dead\",\"Alive\",\"Alive\",\"Alive\",\"Alive\",\"Alive\",\"Alive\",\"Alive\",\"Alive\",\"Alive\",\"Alive\",\"Alive\",\"Alive\",\"Alive\",\"Dead\",\"Alive\",\"Alive\",\"Alive\",\"Alive\",\"Alive\",\"Alive\",\"Alive\",\"Alive\",\"Alive\",\"Alive\",\"Alive\",\"Alive\",\"Alive\",\"Alive\",\"Alive\",\"Alive\",\"Alive\",\"Alive\",\"Alive\",\"Alive\",\"Alive\",\"Alive\",\"Alive\",\"Alive\",\"Alive\",\"Alive\",\"Dead\",\"Alive\",\"Alive\",\"Alive\",\"Alive\",\"Alive\",\"Dead\",\"Alive\",\"Alive\",\"Alive\",\"Alive\",\"Alive\",\"Alive\",\"Alive\",\"Alive\",\"Alive\",\"Alive\",\"Alive\",\"Alive\",\"Alive\",\"Dead\",\"Alive\",\"Alive\",\"Dead\",\"Alive\",\"Alive\",\"Alive\",\"Alive\",\"Alive\",\"Alive\",\"Alive\",\"Alive\",\"Alive\",\"Alive\",\"Alive\",\"Alive\",\"Alive\",\"Alive\",\"Alive\",\"Alive\",\"Dead\",\"Alive\",\"Alive\",\"Dead\",\"Alive\",\"Alive\",\"Alive\",\"Dead\",\"Alive\",\"Alive\",\"Dead\",\"Alive\",\"Alive\",\"Alive\",\"Alive\",\"Alive\",\"Alive\",\"Alive\",\"Alive\",\"Alive\",\"Alive\",\"Alive\",\"Alive\",\"Alive\",\"Alive\",\"Alive\",\"Dead\",\"Alive\",\"Alive\",\"Alive\",\"Alive\",\"Dead\",\"Alive\",\"Alive\",\"Alive\",\"Alive\",\"Dead\",\"Alive\",\"Dead\",\"Alive\",\"Alive\",\"Alive\",\"Alive\",\"Alive\",\"Dead\",\"Dead\",\"Alive\",\"Alive\",\"Alive\",\"Alive\",\"Alive\",\"Alive\",\"Alive\",\"Alive\",\"Alive\",\"Alive\",\"Dead\",\"Alive\",\"Alive\",\"Alive\",\"Alive\",\"Dead\",\"Dead\",\"Alive\",\"Alive\",\"Alive\",\"Alive\",\"Alive\",\"Alive\",\"Alive\",\"Alive\",\"Alive\",\"Alive\",\"Alive\",\"Alive\",\"Alive\",\"Dead\",\"Alive\",\"Alive\",\"Alive\",\"Dead\",\"Alive\",\"Alive\",\"Dead\",\"Alive\",\"Alive\",\"Alive\",\"Alive\",\"Alive\",\"Alive\",\"Alive\",\"Alive\",\"Dead\",\"Alive\",\"Dead\",\"Alive\",\"Alive\",\"Alive\",\"Alive\",\"Alive\",\"Alive\",\"Alive\",\"Dead\",\"Alive\",\"Alive\",\"Dead\",\"Alive\",\"Alive\",\"Alive\",\"Alive\",\"Alive\",\"Dead\",\"Alive\",\"Alive\",\"Alive\",\"Alive\",\"Alive\",\"Alive\",\"Alive\",\"Alive\",\"Alive\",\"Alive\",\"Alive\",\"Alive\",\"Alive\",\"Alive\",\"Alive\",\"Alive\",\"Dead\",\"Alive\",\"Dead\",\"Alive\",\"Dead\",\"Alive\",\"Alive\",\"Alive\",\"Alive\",\"Alive\",\"Alive\",\"Alive\",\"Alive\",\"Dead\",\"Alive\",\"Alive\",\"Alive\",\"Alive\",\"Alive\",\"Dead\",\"Alive\",\"Alive\",\"Dead\",\"Alive\",\"Alive\",\"Alive\",\"Alive\",\"Alive\",\"Alive\",\"Alive\",\"Alive\",\"Dead\",\"Alive\",\"Alive\",\"Alive\",\"Alive\",\"Alive\",\"Alive\",\"Alive\",\"Dead\",\"Alive\",\"Alive\",\"Alive\",\"Alive\",\"Alive\",\"Alive\",\"Alive\",\"Alive\",\"Dead\",\"Alive\",\"Alive\",\"Alive\",\"Alive\",\"Alive\",\"Alive\",\"Alive\",\"Dead\",\"Alive\",\"Alive\",\"Alive\",\"Alive\",\"Alive\",\"Alive\",\"Alive\",\"Alive\",\"Alive\",\"Alive\",\"Alive\",\"Alive\",\"Alive\",\"Alive\",\"Alive\",\"Alive\",\"Alive\",\"Dead\",\"Alive\",\"Alive\",\"Alive\",\"Alive\",\"Alive\",\"Alive\",\"Alive\",\"Alive\",\"Dead\",\"Alive\",\"Alive\",\"Dead\",\"Alive\",\"Dead\",\"Alive\",\"Alive\",\"Alive\",\"Alive\",\"Alive\",\"Dead\",\"Alive\",\"Dead\",\"Dead\",\"Alive\",\"Dead\",\"Alive\",\"Alive\",\"Alive\",\"Alive\",\"Dead\",\"Alive\",\"Alive\",\"Alive\",\"Alive\",\"Alive\",\"Alive\",\"Dead\",\"Alive\",\"Alive\",\"Alive\",\"Alive\",\"Alive\",\"Alive\",\"Dead\",\"Dead\",\"Alive\",\"Alive\",\"Dead\",\"Alive\",\"Alive\",\"Alive\",\"Alive\",\"Dead\",\"Alive\",\"Alive\",\"Alive\",\"Alive\",\"Alive\",\"Alive\",\"Alive\",\"Alive\",\"Alive\",\"Alive\",\"Alive\",\"Dead\",\"Alive\",\"Alive\",\"Dead\",\"Alive\",\"Alive\",\"Alive\",\"Alive\",\"Alive\",\"Alive\",\"Alive\",\"Alive\",\"Alive\",\"Alive\",\"Alive\",\"Alive\",\"Alive\",\"Alive\",\"Alive\",\"Alive\",\"Alive\",\"Alive\",\"Alive\",\"Alive\",\"Alive\",\"Alive\",\"Dead\",\"Alive\",\"Alive\",\"Dead\",\"Alive\",\"Alive\",\"Alive\",\"Dead\",\"Alive\",\"Alive\",\"Alive\",\"Alive\",\"Alive\",\"Alive\",\"Alive\",\"Alive\",\"Alive\",\"Alive\",\"Alive\",\"Alive\",\"Alive\",\"Alive\",\"Alive\",\"Alive\",\"Alive\",\"Alive\",\"Alive\",\"Alive\",\"Dead\",\"Dead\",\"Alive\",\"Alive\",\"Alive\",\"Dead\",\"Alive\",\"Alive\",\"Dead\",\"Alive\",\"Dead\",\"Alive\",\"Alive\",\"Dead\",\"Alive\",\"Alive\",\"Dead\",\"Alive\",\"Alive\",\"Alive\",\"Alive\",\"Alive\",\"Alive\",\"Alive\",\"Alive\",\"Dead\",\"Alive\",\"Alive\",\"Alive\",\"Alive\",\"Dead\",\"Alive\",\"Alive\",\"Alive\",\"Alive\",\"Alive\",\"Alive\",\"Alive\",\"Dead\",\"Dead\",\"Alive\",\"Alive\",\"Dead\",\"Alive\",\"Dead\",\"Dead\",\"Alive\",\"Dead\",\"Alive\",\"Alive\",\"Dead\",\"Alive\",\"Alive\",\"Alive\",\"Dead\",\"Alive\",\"Alive\",\"Dead\",\"Alive\",\"Alive\",\"Alive\",\"Alive\",\"Dead\",\"Alive\",\"Alive\",\"Alive\",\"Alive\",\"Alive\",\"Dead\",\"Alive\",\"Alive\",\"Alive\",\"Alive\",\"Alive\",\"Alive\",\"Alive\",\"Alive\",\"Alive\",\"Alive\",\"Alive\",\"Alive\",\"Alive\",\"Alive\",\"Dead\",\"Alive\",\"Alive\",\"Alive\",\"Alive\",\"Alive\",\"Alive\",\"Alive\",\"Alive\",\"Alive\",\"Alive\",\"Alive\",\"Dead\",\"Alive\",\"Alive\",\"Alive\",\"Alive\",\"Alive\",\"Dead\",\"Alive\",\"Alive\",\"Alive\",\"Alive\",\"Alive\",\"Alive\",\"Alive\",\"Alive\",\"Alive\",\"Alive\",\"Alive\",\"Dead\",\"Alive\",\"Dead\",\"Alive\",\"Alive\",\"Alive\",\"Alive\",\"Alive\",\"Alive\",\"Alive\",\"Alive\",\"Alive\",\"Alive\",\"Alive\",\"Alive\",\"Alive\",\"Alive\",\"Alive\",\"Alive\",\"Alive\",\"Dead\",\"Alive\",\"Alive\",\"Alive\",\"Alive\",\"Dead\",\"Alive\",\"Dead\",\"Dead\",\"Dead\",\"Alive\",\"Alive\",\"Alive\",\"Alive\",\"Alive\",\"Alive\",\"Alive\",\"Alive\",\"Alive\",\"Alive\",\"Alive\",\"Alive\",\"Alive\",\"Alive\",\"Alive\",\"Alive\",\"Alive\",\"Alive\",\"Alive\",\"Dead\",\"Alive\",\"Alive\",\"Alive\",\"Alive\",\"Alive\",\"Alive\",\"Alive\",\"Alive\",\"Alive\",\"Alive\",\"Alive\",\"Dead\",\"Alive\",\"Alive\",\"Alive\",\"Alive\",\"Alive\",\"Alive\",\"Alive\",\"Alive\",\"Alive\",\"Alive\",\"Alive\",\"Alive\",\"Dead\",\"Dead\",\"Alive\",\"Dead\",\"Alive\",\"Alive\",\"Alive\",\"Alive\",\"Alive\",\"Alive\",\"Alive\",\"Alive\",\"Alive\",\"Alive\",\"Alive\",\"Alive\",\"Alive\",\"Alive\",\"Dead\",\"Alive\",\"Alive\",\"Alive\",\"Dead\",\"Alive\",\"Alive\",\"Alive\",\"Dead\",\"Alive\",\"Alive\",\"Dead\",\"Alive\",\"Alive\",\"Alive\",\"Dead\",\"Alive\",\"Alive\",\"Alive\",\"Alive\",\"Alive\",\"Alive\",\"Alive\",\"Alive\",\"Alive\",\"Dead\",\"Alive\",\"Alive\",\"Alive\",\"Alive\",\"Alive\",\"Alive\",\"Dead\",\"Alive\",\"Alive\",\"Alive\",\"Alive\",\"Alive\",\"Alive\",\"Alive\",\"Alive\",\"Alive\",\"Alive\",\"Alive\",\"Alive\",\"Alive\",\"Alive\",\"Alive\",\"Dead\",\"Dead\",\"Alive\",\"Alive\",\"Alive\",\"Alive\",\"Alive\",\"Dead\",\"Alive\",\"Dead\",\"Alive\",\"Alive\",\"Alive\",\"Dead\",\"Alive\",\"Dead\",\"Alive\",\"Alive\",\"Alive\",\"Alive\",\"Dead\",\"Alive\",\"Alive\",\"Alive\",\"Alive\",\"Alive\",\"Dead\",\"Alive\",\"Alive\",\"Dead\",\"Dead\",\"Alive\",\"Alive\",\"Alive\",\"Alive\",\"Alive\",\"Alive\",\"Alive\",\"Alive\",\"Alive\",\"Alive\",\"Alive\",\"Alive\",\"Alive\",\"Alive\",\"Alive\",\"Dead\",\"Alive\",\"Alive\",\"Alive\",\"Alive\",\"Dead\",\"Alive\",\"Alive\",\"Dead\",\"Alive\",\"Alive\",\"Dead\",\"Alive\",\"Alive\",\"Alive\",\"Alive\",\"Alive\",\"Alive\",\"Dead\",\"Alive\",\"Alive\",\"Alive\",\"Alive\",\"Dead\",\"Alive\",\"Alive\",\"Alive\",\"Alive\",\"Alive\",\"Alive\",\"Dead\",\"Dead\",\"Alive\",\"Alive\",\"Alive\",\"Alive\",\"Dead\",\"Dead\",\"Alive\",\"Alive\",\"Alive\",\"Alive\",\"Alive\",\"Alive\",\"Alive\",\"Alive\",\"Alive\",\"Alive\",\"Alive\",\"Dead\",\"Alive\",\"Alive\",\"Alive\",\"Dead\",\"Alive\",\"Alive\",\"Alive\",\"Alive\",\"Alive\",\"Alive\",\"Alive\",\"Alive\",\"Alive\",\"Alive\",\"Alive\",\"Alive\",\"Alive\",\"Alive\",\"Dead\",\"Alive\",\"Alive\",\"Alive\",\"Alive\",\"Alive\",\"Alive\",\"Alive\",\"Alive\",\"Alive\",\"Alive\",\"Alive\",\"Alive\",\"Alive\",\"Alive\",\"Alive\",\"Alive\",\"Alive\",\"Alive\",\"Alive\",\"Dead\",\"Alive\",\"Dead\",\"Alive\",\"Alive\",\"Alive\",\"Alive\",\"Alive\",\"Alive\",\"Alive\",\"Alive\",\"Alive\",\"Alive\",\"Dead\",\"Alive\",\"Alive\",\"Alive\",\"Alive\",\"Alive\",\"Alive\",\"Alive\",\"Dead\",\"Alive\",\"Alive\",\"Alive\",\"Alive\",\"Alive\",\"Alive\",\"Alive\",\"Alive\",\"Alive\",\"Alive\",\"Dead\",\"Alive\",\"Alive\",\"Alive\",\"Alive\",\"Alive\",\"Dead\",\"Alive\",\"Alive\",\"Alive\",\"Alive\",\"Dead\",\"Alive\",\"Alive\",\"Alive\",\"Alive\",\"Alive\",\"Alive\",\"Alive\",\"Dead\",\"Alive\",\"Alive\",\"Alive\",\"Alive\",\"Alive\",\"Alive\",\"Alive\",\"Alive\",\"Alive\",\"Alive\",\"Alive\",\"Alive\",\"Alive\",\"Alive\",\"Dead\",\"Alive\",\"Alive\",\"Alive\",\"Alive\",\"Alive\",\"Alive\",\"Alive\",\"Alive\",\"Alive\",\"Alive\",\"Alive\",\"Alive\",\"Alive\",\"Alive\",\"Alive\",\"Dead\",\"Dead\",\"Dead\",\"Alive\",\"Alive\",\"Alive\",\"Alive\",\"Alive\",\"Alive\",\"Alive\",\"Alive\",\"Alive\",\"Alive\",\"Alive\",\"Dead\",\"Alive\",\"Alive\",\"Alive\",\"Alive\",\"Alive\",\"Alive\",\"Dead\",\"Alive\",\"Alive\",\"Alive\",\"Alive\",\"Alive\",\"Dead\",\"Alive\",\"Alive\",\"Dead\",\"Alive\",\"Alive\",\"Alive\",\"Dead\",\"Alive\",\"Alive\",\"Alive\",\"Dead\",\"Alive\",\"Dead\",\"Alive\",\"Alive\",\"Alive\",\"Alive\",\"Alive\",\"Alive\",\"Alive\",\"Alive\",\"Alive\",\"Alive\",\"Alive\",\"Alive\",\"Alive\",\"Alive\",\"Alive\",\"Alive\",\"Alive\",\"Alive\",\"Alive\",\"Alive\",\"Alive\",\"Alive\",\"Alive\",\"Alive\",\"Alive\",\"Alive\",\"Dead\",\"Alive\",\"Dead\",\"Dead\",\"Alive\",\"Alive\",\"Dead\",\"Alive\",\"Alive\",\"Alive\",\"Dead\",\"Alive\",\"Alive\",\"Alive\",\"Alive\",\"Alive\",\"Alive\",\"Alive\",\"Alive\",\"Alive\",\"Alive\",\"Alive\",\"Alive\",\"Alive\",\"Alive\",\"Alive\",\"Alive\",\"Alive\",\"Alive\",\"Alive\",\"Alive\",\"Alive\",\"Alive\",\"Alive\",\"Dead\",\"Alive\",\"Alive\",\"Alive\",\"Alive\",\"Alive\",\"Alive\",\"Alive\",\"Alive\",\"Alive\",\"Dead\",\"Alive\",\"Dead\",\"Alive\",\"Alive\",\"Alive\",\"Alive\",\"Alive\",\"Alive\",\"Alive\",\"Alive\",\"Dead\",\"Alive\",\"Alive\",\"Alive\",\"Alive\",\"Dead\",\"Alive\",\"Alive\",\"Alive\",\"Alive\",\"Alive\",\"Dead\",\"Alive\",\"Alive\",\"Alive\",\"Alive\",\"Dead\",\"Alive\",\"Alive\",\"Alive\",\"Alive\",\"Alive\",\"Alive\",\"Alive\",\"Alive\",\"Alive\",\"Alive\",\"Alive\",\"Alive\",\"Alive\",\"Alive\",\"Dead\",\"Alive\",\"Alive\",\"Alive\",\"Alive\",\"Alive\",\"Alive\",\"Alive\",\"Alive\",\"Alive\",\"Alive\",\"Alive\",\"Alive\",\"Dead\",\"Alive\",\"Dead\",\"Alive\",\"Alive\",\"Dead\",\"Alive\",\"Alive\",\"Alive\",\"Alive\",\"Dead\",\"Dead\",\"Alive\",\"Alive\",\"Alive\",\"Dead\",\"Alive\",\"Alive\",\"Alive\",\"Dead\",\"Alive\",\"Alive\",\"Alive\",\"Dead\",\"Alive\",\"Alive\",\"Alive\",\"Alive\",\"Alive\",\"Alive\",\"Alive\",\"Alive\",\"Alive\",\"Alive\",\"Alive\",\"Alive\",\"Alive\",\"Alive\",\"Alive\",\"Alive\",\"Alive\",\"Alive\",\"Alive\",\"Dead\",\"Alive\",\"Alive\",\"Alive\",\"Alive\",\"Alive\",\"Alive\",\"Alive\",\"Alive\",\"Dead\",\"Alive\",\"Alive\",\"Alive\",\"Alive\",\"Alive\",\"Alive\",\"Alive\",\"Alive\",\"Alive\",\"Alive\",\"Alive\",\"Alive\",\"Alive\",\"Alive\",\"Alive\",\"Alive\",\"Dead\",\"Alive\",\"Alive\",\"Alive\",\"Alive\",\"Alive\",\"Alive\",\"Alive\",\"Alive\",\"Alive\",\"Alive\",\"Alive\",\"Dead\",\"Alive\",\"Alive\",\"Alive\",\"Alive\",\"Alive\",\"Alive\",\"Alive\",\"Dead\",\"Alive\",\"Alive\",\"Alive\",\"Alive\",\"Alive\",\"Alive\",\"Alive\",\"Alive\",\"Alive\",\"Dead\",\"Alive\",\"Alive\",\"Alive\",\"Alive\",\"Alive\",\"Alive\",\"Alive\",\"Alive\",\"Alive\",\"Alive\",\"Alive\",\"Alive\",\"Alive\",\"Alive\",\"Alive\",\"Dead\",\"Alive\",\"Dead\",\"Alive\",\"Alive\",\"Alive\",\"Alive\",\"Alive\",\"Alive\",\"Alive\",\"Alive\",\"Alive\",\"Alive\",\"Alive\",\"Alive\",\"Alive\",\"Alive\",\"Dead\",\"Alive\",\"Alive\",\"Alive\",\"Alive\",\"Alive\",\"Alive\",\"Alive\",\"Alive\",\"Alive\",\"Alive\",\"Alive\",\"Alive\",\"Alive\",\"Alive\",\"Alive\",\"Alive\",\"Alive\",\"Alive\",\"Alive\",\"Alive\",\"Dead\",\"Alive\",\"Alive\",\"Dead\",\"Alive\",\"Alive\",\"Alive\",\"Dead\",\"Alive\",\"Alive\",\"Alive\",\"Alive\",\"Dead\",\"Alive\",\"Dead\",\"Alive\",\"Alive\",\"Alive\",\"Dead\",\"Alive\",\"Alive\",\"Alive\",\"Alive\",\"Alive\",\"Dead\",\"Dead\",\"Alive\",\"Alive\",\"Alive\",\"Alive\",\"Dead\",\"Dead\",\"Alive\",\"Alive\",\"Alive\",\"Alive\",\"Alive\",\"Alive\",\"Alive\",\"Alive\",\"Dead\",\"Alive\",\"Alive\",\"Alive\",\"Alive\",\"Alive\",\"Alive\",\"Alive\",\"Alive\",\"Alive\",\"Dead\",\"Alive\",\"Alive\",\"Alive\",\"Alive\",\"Dead\",\"Dead\",\"Alive\",\"Dead\",\"Alive\",\"Alive\",\"Alive\",\"Alive\",\"Alive\",\"Alive\",\"Alive\",\"Alive\",\"Alive\",\"Alive\",\"Alive\",\"Dead\",\"Alive\",\"Dead\",\"Alive\",\"Alive\",\"Dead\",\"Dead\",\"Alive\",\"Alive\",\"Alive\",\"Alive\",\"Alive\",\"Alive\",\"Alive\",\"Alive\",\"Alive\",\"Alive\",\"Dead\",\"Alive\",\"Dead\",\"Alive\",\"Alive\",\"Alive\",\"Alive\",\"Alive\",\"Alive\",\"Alive\",\"Dead\",\"Alive\",\"Alive\",\"Alive\",\"Alive\",\"Alive\",\"Alive\",\"Alive\",\"Dead\",\"Alive\",\"Dead\",\"Alive\",\"Alive\",\"Alive\",\"Alive\",\"Alive\",\"Dead\",\"Alive\",\"Alive\",\"Dead\",\"Dead\",\"Alive\",\"Alive\",\"Alive\",\"Alive\",\"Alive\",\"Dead\",\"Alive\",\"Alive\",\"Alive\",\"Dead\",\"Alive\",\"Alive\",\"Alive\",\"Alive\",\"Alive\",\"Alive\",\"Alive\",\"Alive\",\"Alive\",\"Alive\",\"Alive\",\"Dead\",\"Alive\",\"Alive\",\"Alive\",\"Alive\",\"Alive\",\"Alive\",\"Alive\",\"Dead\",\"Dead\",\"Alive\",\"Alive\",\"Alive\",\"Dead\",\"Alive\",\"Alive\",\"Alive\",\"Alive\",\"Dead\",\"Alive\",\"Alive\",\"Dead\",\"Alive\",\"Alive\",\"Dead\",\"Alive\",\"Alive\",\"Alive\",\"Dead\",\"Alive\",\"Alive\",\"Alive\",\"Alive\",\"Alive\",\"Alive\",\"Alive\",\"Alive\",\"Alive\",\"Dead\",\"Alive\",\"Alive\",\"Alive\",\"Alive\",\"Alive\",\"Alive\",\"Alive\",\"Alive\",\"Alive\",\"Dead\",\"Dead\",\"Alive\",\"Alive\",\"Alive\",\"Alive\",\"Alive\",\"Alive\",\"Alive\",\"Alive\",\"Alive\",\"Alive\",\"Alive\",\"Alive\",\"Dead\",\"Alive\",\"Alive\",\"Dead\",\"Alive\",\"Dead\",\"Dead\",\"Dead\",\"Alive\",\"Alive\",\"Alive\",\"Alive\",\"Dead\",\"Dead\",\"Alive\",\"Alive\",\"Alive\",\"Alive\",\"Alive\",\"Alive\",\"Alive\",\"Alive\",\"Alive\",\"Alive\",\"Alive\",\"Alive\",\"Alive\",\"Alive\",\"Alive\",\"Alive\",\"Alive\",\"Alive\",\"Alive\",\"Alive\",\"Alive\",\"Alive\",\"Alive\",\"Alive\",\"Alive\",\"Alive\",\"Alive\",\"Alive\",\"Alive\",\"Dead\",\"Alive\",\"Alive\",\"Alive\",\"Alive\",\"Alive\",\"Alive\",\"Dead\",\"Alive\",\"Dead\",\"Alive\",\"Alive\",\"Dead\",\"Alive\",\"Alive\",\"Alive\",\"Alive\",\"Alive\",\"Alive\",\"Dead\",\"Alive\",\"Alive\",\"Alive\",\"Alive\",\"Alive\",\"Alive\",\"Alive\",\"Alive\",\"Alive\",\"Dead\",\"Alive\",\"Alive\",\"Alive\",\"Dead\",\"Alive\",\"Alive\",\"Alive\",\"Alive\",\"Dead\",\"Alive\",\"Alive\",\"Alive\",\"Alive\",\"Alive\",\"Alive\",\"Alive\",\"Alive\",\"Alive\",\"Alive\",\"Alive\",\"Dead\",\"Dead\",\"Alive\",\"Alive\",\"Dead\",\"Dead\",\"Alive\",\"Alive\",\"Alive\",\"Alive\",\"Alive\",\"Alive\",\"Alive\",\"Alive\",\"Alive\",\"Alive\",\"Alive\",\"Alive\",\"Alive\",\"Alive\",\"Alive\",\"Alive\",\"Alive\",\"Dead\",\"Alive\",\"Alive\",\"Alive\",\"Alive\",\"Alive\",\"Alive\",\"Dead\",\"Alive\",\"Alive\",\"Alive\",\"Alive\",\"Alive\",\"Dead\",\"Alive\",\"Alive\",\"Alive\",\"Alive\",\"Dead\",\"Alive\",\"Alive\",\"Alive\",\"Dead\",\"Alive\",\"Alive\",\"Alive\",\"Alive\",\"Dead\",\"Alive\",\"Alive\",\"Dead\",\"Alive\",\"Dead\",\"Alive\",\"Alive\",\"Alive\",\"Alive\",\"Alive\",\"Alive\",\"Alive\",\"Alive\",\"Dead\",\"Alive\",\"Alive\",\"Alive\",\"Alive\",\"Alive\",\"Alive\",\"Alive\",\"Alive\",\"Alive\",\"Alive\",\"Dead\",\"Alive\",\"Alive\",\"Alive\",\"Dead\",\"Alive\",\"Alive\",\"Alive\",\"Alive\",\"Alive\",\"Alive\",\"Alive\",\"Alive\",\"Dead\",\"Alive\",\"Dead\",\"Alive\",\"Alive\",\"Alive\",\"Alive\",\"Alive\",\"Alive\",\"Alive\",\"Alive\",\"Alive\",\"Alive\",\"Alive\",\"Alive\",\"Alive\",\"Alive\",\"Alive\",\"Alive\",\"Alive\",\"Alive\",\"Alive\",\"Alive\",\"Alive\",\"Alive\",\"Alive\",\"Alive\",\"Alive\",\"Alive\",\"Alive\",\"Alive\",\"Alive\",\"Alive\",\"Alive\",\"Alive\",\"Alive\",\"Alive\",\"Alive\",\"Alive\",\"Alive\",\"Alive\",\"Alive\",\"Alive\",\"Alive\",\"Dead\",\"Alive\",\"Alive\",\"Alive\",\"Alive\",\"Alive\",\"Alive\",\"Alive\",\"Alive\",\"Alive\",\"Alive\",\"Alive\",\"Alive\",\"Alive\",\"Alive\",\"Alive\",\"Alive\",\"Alive\",\"Alive\",\"Alive\",\"Alive\",\"Alive\",\"Alive\",\"Alive\",\"Alive\",\"Dead\",\"Alive\",\"Alive\",\"Alive\",\"Dead\",\"Alive\",\"Alive\",\"Alive\",\"Alive\",\"Alive\",\"Alive\",\"Alive\",\"Alive\",\"Alive\",\"Dead\",\"Alive\",\"Alive\",\"Alive\",\"Alive\",\"Alive\",\"Dead\",\"Alive\",\"Alive\",\"Alive\",\"Alive\",\"Alive\",\"Alive\",\"Dead\",\"Alive\",\"Alive\",\"Alive\",\"Alive\",\"Alive\",\"Alive\",\"Alive\",\"Dead\",\"Alive\",\"Alive\",\"Alive\",\"Alive\",\"Alive\",\"Alive\",\"Alive\",\"Alive\",\"Alive\",\"Dead\",\"Alive\",\"Alive\",\"Alive\",\"Dead\",\"Alive\",\"Dead\",\"Dead\",\"Alive\",\"Alive\",\"Alive\",\"Dead\",\"Alive\",\"Alive\",\"Alive\",\"Alive\",\"Alive\",\"Alive\",\"Alive\",\"Alive\",\"Alive\",\"Alive\",\"Alive\",\"Dead\",\"Alive\",\"Alive\",\"Alive\",\"Alive\",\"Alive\",\"Alive\",\"Alive\",\"Alive\",\"Alive\",\"Dead\",\"Dead\",\"Alive\",\"Alive\",\"Alive\",\"Alive\",\"Alive\",\"Alive\",\"Alive\",\"Alive\",\"Dead\",\"Alive\",\"Dead\",\"Alive\",\"Alive\",\"Alive\",\"Alive\",\"Alive\",\"Alive\",\"Alive\",\"Alive\",\"Alive\",\"Alive\",\"Alive\",\"Alive\",\"Alive\",\"Alive\",\"Alive\",\"Alive\",\"Dead\",\"Alive\",\"Alive\",\"Dead\",\"Alive\",\"Alive\",\"Alive\",\"Alive\",\"Alive\",\"Alive\",\"Alive\",\"Alive\",\"Alive\",\"Alive\",\"Alive\",\"Dead\",\"Alive\",\"Alive\",\"Alive\",\"Alive\",\"Alive\",\"Alive\",\"Alive\",\"Alive\",\"Dead\",\"Alive\",\"Alive\",\"Alive\",\"Alive\",\"Dead\",\"Alive\",\"Alive\",\"Alive\",\"Alive\",\"Alive\",\"Alive\",\"Alive\",\"Alive\",\"Alive\",\"Alive\",\"Dead\",\"Alive\",\"Alive\",\"Alive\",\"Alive\",\"Alive\",\"Alive\",\"Dead\",\"Alive\",\"Alive\",\"Alive\",\"Dead\",\"Alive\",\"Alive\",\"Alive\",\"Alive\",\"Alive\",\"Alive\",\"Dead\",\"Dead\",\"Alive\",\"Alive\",\"Alive\",\"Alive\",\"Alive\",\"Dead\",\"Alive\",\"Alive\",\"Alive\",\"Alive\",\"Alive\",\"Alive\",\"Dead\",\"Alive\",\"Alive\",\"Alive\",\"Alive\",\"Alive\",\"Alive\"],\"legendgroup\":\"\",\"marker\":{\"colors\":[\"#00cc96\",\"#00cc96\",\"#00cc96\",\"#00cc96\",\"#00cc96\",\"#00cc96\",\"#00cc96\",\"#ab63fa\",\"#00cc96\",\"#00cc96\",\"#ab63fa\",\"#00cc96\",\"#00cc96\",\"#00cc96\",\"#00cc96\",\"#00cc96\",\"#00cc96\",\"#00cc96\",\"#00cc96\",\"#00cc96\",\"#00cc96\",\"#00cc96\",\"#00cc96\",\"#00cc96\",\"#00cc96\",\"#00cc96\",\"#00cc96\",\"#00cc96\",\"#00cc96\",\"#00cc96\",\"#00cc96\",\"#00cc96\",\"#00cc96\",\"#00cc96\",\"#00cc96\",\"#00cc96\",\"#00cc96\",\"#00cc96\",\"#00cc96\",\"#00cc96\",\"#ab63fa\",\"#00cc96\",\"#00cc96\",\"#00cc96\",\"#00cc96\",\"#00cc96\",\"#ab63fa\",\"#00cc96\",\"#00cc96\",\"#00cc96\",\"#00cc96\",\"#00cc96\",\"#00cc96\",\"#00cc96\",\"#00cc96\",\"#00cc96\",\"#00cc96\",\"#00cc96\",\"#00cc96\",\"#00cc96\",\"#00cc96\",\"#00cc96\",\"#00cc96\",\"#00cc96\",\"#ab63fa\",\"#00cc96\",\"#ab63fa\",\"#00cc96\",\"#00cc96\",\"#00cc96\",\"#00cc96\",\"#ab63fa\",\"#00cc96\",\"#00cc96\",\"#00cc96\",\"#00cc96\",\"#00cc96\",\"#00cc96\",\"#00cc96\",\"#00cc96\",\"#00cc96\",\"#00cc96\",\"#00cc96\",\"#00cc96\",\"#00cc96\",\"#00cc96\",\"#00cc96\",\"#00cc96\",\"#00cc96\",\"#00cc96\",\"#ab63fa\",\"#00cc96\",\"#ab63fa\",\"#ab63fa\",\"#00cc96\",\"#00cc96\",\"#ab63fa\",\"#00cc96\",\"#ab63fa\",\"#00cc96\",\"#ab63fa\",\"#00cc96\",\"#00cc96\",\"#ab63fa\",\"#00cc96\",\"#00cc96\",\"#ab63fa\",\"#00cc96\",\"#00cc96\",\"#00cc96\",\"#00cc96\",\"#ab63fa\",\"#00cc96\",\"#00cc96\",\"#00cc96\",\"#00cc96\",\"#00cc96\",\"#00cc96\",\"#00cc96\",\"#00cc96\",\"#00cc96\",\"#00cc96\",\"#00cc96\",\"#00cc96\",\"#00cc96\",\"#ab63fa\",\"#00cc96\",\"#00cc96\",\"#00cc96\",\"#00cc96\",\"#00cc96\",\"#00cc96\",\"#00cc96\",\"#00cc96\",\"#ab63fa\",\"#ab63fa\",\"#00cc96\",\"#ab63fa\",\"#ab63fa\",\"#00cc96\",\"#00cc96\",\"#00cc96\",\"#00cc96\",\"#ab63fa\",\"#ab63fa\",\"#00cc96\",\"#00cc96\",\"#ab63fa\",\"#00cc96\",\"#00cc96\",\"#00cc96\",\"#00cc96\",\"#ab63fa\",\"#00cc96\",\"#00cc96\",\"#00cc96\",\"#00cc96\",\"#00cc96\",\"#00cc96\",\"#ab63fa\",\"#00cc96\",\"#00cc96\",\"#00cc96\",\"#00cc96\",\"#00cc96\",\"#00cc96\",\"#00cc96\",\"#00cc96\",\"#00cc96\",\"#00cc96\",\"#ab63fa\",\"#00cc96\",\"#00cc96\",\"#00cc96\",\"#00cc96\",\"#00cc96\",\"#ab63fa\",\"#00cc96\",\"#00cc96\",\"#ab63fa\",\"#00cc96\",\"#ab63fa\",\"#ab63fa\",\"#00cc96\",\"#00cc96\",\"#00cc96\",\"#00cc96\",\"#00cc96\",\"#ab63fa\",\"#00cc96\",\"#00cc96\",\"#00cc96\",\"#00cc96\",\"#00cc96\",\"#00cc96\",\"#00cc96\",\"#00cc96\",\"#00cc96\",\"#00cc96\",\"#00cc96\",\"#00cc96\",\"#00cc96\",\"#ab63fa\",\"#ab63fa\",\"#00cc96\",\"#00cc96\",\"#00cc96\",\"#00cc96\",\"#00cc96\",\"#00cc96\",\"#00cc96\",\"#ab63fa\",\"#00cc96\",\"#00cc96\",\"#00cc96\",\"#ab63fa\",\"#ab63fa\",\"#00cc96\",\"#00cc96\",\"#ab63fa\",\"#ab63fa\",\"#ab63fa\",\"#00cc96\",\"#00cc96\",\"#00cc96\",\"#00cc96\",\"#00cc96\",\"#00cc96\",\"#00cc96\",\"#00cc96\",\"#00cc96\",\"#00cc96\",\"#00cc96\",\"#00cc96\",\"#00cc96\",\"#00cc96\",\"#00cc96\",\"#00cc96\",\"#ab63fa\",\"#00cc96\",\"#ab63fa\",\"#00cc96\",\"#00cc96\",\"#00cc96\",\"#00cc96\",\"#00cc96\",\"#00cc96\",\"#ab63fa\",\"#00cc96\",\"#00cc96\",\"#00cc96\",\"#00cc96\",\"#00cc96\",\"#00cc96\",\"#00cc96\",\"#00cc96\",\"#00cc96\",\"#00cc96\",\"#00cc96\",\"#00cc96\",\"#00cc96\",\"#00cc96\",\"#00cc96\",\"#ab63fa\",\"#00cc96\",\"#00cc96\",\"#00cc96\",\"#00cc96\",\"#ab63fa\",\"#00cc96\",\"#ab63fa\",\"#00cc96\",\"#00cc96\",\"#00cc96\",\"#00cc96\",\"#00cc96\",\"#00cc96\",\"#ab63fa\",\"#00cc96\",\"#00cc96\",\"#00cc96\",\"#00cc96\",\"#ab63fa\",\"#00cc96\",\"#00cc96\",\"#ab63fa\",\"#00cc96\",\"#00cc96\",\"#00cc96\",\"#ab63fa\",\"#00cc96\",\"#00cc96\",\"#ab63fa\",\"#00cc96\",\"#00cc96\",\"#00cc96\",\"#00cc96\",\"#00cc96\",\"#00cc96\",\"#00cc96\",\"#00cc96\",\"#00cc96\",\"#00cc96\",\"#00cc96\",\"#00cc96\",\"#ab63fa\",\"#00cc96\",\"#00cc96\",\"#00cc96\",\"#00cc96\",\"#00cc96\",\"#00cc96\",\"#00cc96\",\"#ab63fa\",\"#00cc96\",\"#00cc96\",\"#00cc96\",\"#00cc96\",\"#00cc96\",\"#00cc96\",\"#00cc96\",\"#00cc96\",\"#00cc96\",\"#00cc96\",\"#00cc96\",\"#00cc96\",\"#00cc96\",\"#00cc96\",\"#00cc96\",\"#00cc96\",\"#00cc96\",\"#ab63fa\",\"#00cc96\",\"#00cc96\",\"#00cc96\",\"#00cc96\",\"#00cc96\",\"#00cc96\",\"#00cc96\",\"#00cc96\",\"#00cc96\",\"#00cc96\",\"#00cc96\",\"#00cc96\",\"#00cc96\",\"#00cc96\",\"#00cc96\",\"#00cc96\",\"#00cc96\",\"#00cc96\",\"#00cc96\",\"#00cc96\",\"#00cc96\",\"#00cc96\",\"#00cc96\",\"#00cc96\",\"#00cc96\",\"#ab63fa\",\"#00cc96\",\"#00cc96\",\"#00cc96\",\"#00cc96\",\"#ab63fa\",\"#ab63fa\",\"#00cc96\",\"#00cc96\",\"#00cc96\",\"#00cc96\",\"#00cc96\",\"#ab63fa\",\"#00cc96\",\"#ab63fa\",\"#00cc96\",\"#00cc96\",\"#00cc96\",\"#00cc96\",\"#00cc96\",\"#00cc96\",\"#00cc96\",\"#ab63fa\",\"#00cc96\",\"#00cc96\",\"#00cc96\",\"#00cc96\",\"#00cc96\",\"#00cc96\",\"#00cc96\",\"#00cc96\",\"#00cc96\",\"#00cc96\",\"#00cc96\",\"#00cc96\",\"#00cc96\",\"#00cc96\",\"#ab63fa\",\"#00cc96\",\"#00cc96\",\"#00cc96\",\"#00cc96\",\"#00cc96\",\"#00cc96\",\"#00cc96\",\"#00cc96\",\"#00cc96\",\"#00cc96\",\"#00cc96\",\"#00cc96\",\"#00cc96\",\"#00cc96\",\"#00cc96\",\"#00cc96\",\"#00cc96\",\"#00cc96\",\"#ab63fa\",\"#00cc96\",\"#00cc96\",\"#00cc96\",\"#00cc96\",\"#00cc96\",\"#00cc96\",\"#00cc96\",\"#00cc96\",\"#00cc96\",\"#00cc96\",\"#00cc96\",\"#00cc96\",\"#00cc96\",\"#00cc96\",\"#ab63fa\",\"#00cc96\",\"#00cc96\",\"#00cc96\",\"#00cc96\",\"#00cc96\",\"#00cc96\",\"#ab63fa\",\"#00cc96\",\"#00cc96\",\"#00cc96\",\"#00cc96\",\"#00cc96\",\"#ab63fa\",\"#00cc96\",\"#00cc96\",\"#00cc96\",\"#ab63fa\",\"#00cc96\",\"#00cc96\",\"#00cc96\",\"#00cc96\",\"#00cc96\",\"#00cc96\",\"#00cc96\",\"#00cc96\",\"#00cc96\",\"#ab63fa\",\"#00cc96\",\"#ab63fa\",\"#00cc96\",\"#00cc96\",\"#00cc96\",\"#00cc96\",\"#00cc96\",\"#00cc96\",\"#00cc96\",\"#00cc96\",\"#00cc96\",\"#00cc96\",\"#00cc96\",\"#00cc96\",\"#00cc96\",\"#00cc96\",\"#00cc96\",\"#00cc96\",\"#ab63fa\",\"#00cc96\",\"#00cc96\",\"#00cc96\",\"#00cc96\",\"#00cc96\",\"#00cc96\",\"#00cc96\",\"#ab63fa\",\"#00cc96\",\"#ab63fa\",\"#00cc96\",\"#ab63fa\",\"#00cc96\",\"#00cc96\",\"#00cc96\",\"#00cc96\",\"#00cc96\",\"#00cc96\",\"#ab63fa\",\"#00cc96\",\"#00cc96\",\"#00cc96\",\"#00cc96\",\"#00cc96\",\"#00cc96\",\"#00cc96\",\"#00cc96\",\"#00cc96\",\"#00cc96\",\"#00cc96\",\"#00cc96\",\"#00cc96\",\"#ab63fa\",\"#00cc96\",\"#00cc96\",\"#00cc96\",\"#ab63fa\",\"#00cc96\",\"#00cc96\",\"#00cc96\",\"#00cc96\",\"#00cc96\",\"#00cc96\",\"#00cc96\",\"#00cc96\",\"#ab63fa\",\"#00cc96\",\"#ab63fa\",\"#ab63fa\",\"#00cc96\",\"#ab63fa\",\"#00cc96\",\"#00cc96\",\"#00cc96\",\"#00cc96\",\"#00cc96\",\"#00cc96\",\"#00cc96\",\"#00cc96\",\"#ab63fa\",\"#00cc96\",\"#00cc96\",\"#ab63fa\",\"#00cc96\",\"#00cc96\",\"#00cc96\",\"#00cc96\",\"#00cc96\",\"#00cc96\",\"#00cc96\",\"#00cc96\",\"#ab63fa\",\"#00cc96\",\"#ab63fa\",\"#00cc96\",\"#ab63fa\",\"#00cc96\",\"#00cc96\",\"#00cc96\",\"#00cc96\",\"#00cc96\",\"#ab63fa\",\"#00cc96\",\"#00cc96\",\"#00cc96\",\"#00cc96\",\"#00cc96\",\"#00cc96\",\"#00cc96\",\"#00cc96\",\"#ab63fa\",\"#ab63fa\",\"#00cc96\",\"#00cc96\",\"#00cc96\",\"#00cc96\",\"#00cc96\",\"#ab63fa\",\"#00cc96\",\"#00cc96\",\"#00cc96\",\"#00cc96\",\"#00cc96\",\"#00cc96\",\"#00cc96\",\"#ab63fa\",\"#ab63fa\",\"#00cc96\",\"#00cc96\",\"#00cc96\",\"#00cc96\",\"#00cc96\",\"#00cc96\",\"#ab63fa\",\"#00cc96\",\"#00cc96\",\"#00cc96\",\"#00cc96\",\"#ab63fa\",\"#00cc96\",\"#00cc96\",\"#00cc96\",\"#00cc96\",\"#00cc96\",\"#00cc96\",\"#00cc96\",\"#00cc96\",\"#00cc96\",\"#00cc96\",\"#00cc96\",\"#00cc96\",\"#00cc96\",\"#ab63fa\",\"#00cc96\",\"#00cc96\",\"#00cc96\",\"#00cc96\",\"#00cc96\",\"#00cc96\",\"#00cc96\",\"#00cc96\",\"#00cc96\",\"#00cc96\",\"#00cc96\",\"#00cc96\",\"#ab63fa\",\"#00cc96\",\"#00cc96\",\"#00cc96\",\"#00cc96\",\"#00cc96\",\"#00cc96\",\"#00cc96\",\"#00cc96\",\"#00cc96\",\"#00cc96\",\"#ab63fa\",\"#00cc96\",\"#ab63fa\",\"#00cc96\",\"#00cc96\",\"#00cc96\",\"#00cc96\",\"#00cc96\",\"#00cc96\",\"#00cc96\",\"#ab63fa\",\"#00cc96\",\"#00cc96\",\"#00cc96\",\"#00cc96\",\"#00cc96\",\"#00cc96\",\"#00cc96\",\"#ab63fa\",\"#00cc96\",\"#00cc96\",\"#00cc96\",\"#00cc96\",\"#00cc96\",\"#00cc96\",\"#ab63fa\",\"#00cc96\",\"#00cc96\",\"#ab63fa\",\"#00cc96\",\"#00cc96\",\"#00cc96\",\"#ab63fa\",\"#00cc96\",\"#ab63fa\",\"#00cc96\",\"#00cc96\",\"#00cc96\",\"#00cc96\",\"#00cc96\",\"#00cc96\",\"#00cc96\",\"#00cc96\",\"#00cc96\",\"#00cc96\",\"#00cc96\",\"#ab63fa\",\"#00cc96\",\"#ab63fa\",\"#00cc96\",\"#00cc96\",\"#00cc96\",\"#ab63fa\",\"#00cc96\",\"#00cc96\",\"#00cc96\",\"#00cc96\",\"#00cc96\",\"#00cc96\",\"#00cc96\",\"#00cc96\",\"#00cc96\",\"#00cc96\",\"#00cc96\",\"#00cc96\",\"#ab63fa\",\"#00cc96\",\"#00cc96\",\"#00cc96\",\"#00cc96\",\"#00cc96\",\"#00cc96\",\"#ab63fa\",\"#00cc96\",\"#00cc96\",\"#00cc96\",\"#00cc96\",\"#ab63fa\",\"#00cc96\",\"#00cc96\",\"#00cc96\",\"#00cc96\",\"#00cc96\",\"#00cc96\",\"#00cc96\",\"#00cc96\",\"#00cc96\",\"#00cc96\",\"#00cc96\",\"#00cc96\",\"#00cc96\",\"#00cc96\",\"#00cc96\",\"#ab63fa\",\"#00cc96\",\"#ab63fa\",\"#ab63fa\",\"#ab63fa\",\"#ab63fa\",\"#ab63fa\",\"#00cc96\",\"#00cc96\",\"#ab63fa\",\"#00cc96\",\"#00cc96\",\"#ab63fa\",\"#00cc96\",\"#00cc96\",\"#00cc96\",\"#00cc96\",\"#00cc96\",\"#ab63fa\",\"#00cc96\",\"#00cc96\",\"#00cc96\",\"#00cc96\",\"#00cc96\",\"#00cc96\",\"#00cc96\",\"#00cc96\",\"#00cc96\",\"#ab63fa\",\"#ab63fa\",\"#ab63fa\",\"#00cc96\",\"#00cc96\",\"#ab63fa\",\"#ab63fa\",\"#00cc96\",\"#00cc96\",\"#00cc96\",\"#00cc96\",\"#00cc96\",\"#00cc96\",\"#00cc96\",\"#00cc96\",\"#00cc96\",\"#00cc96\",\"#00cc96\",\"#00cc96\",\"#00cc96\",\"#00cc96\",\"#00cc96\",\"#00cc96\",\"#00cc96\",\"#ab63fa\",\"#00cc96\",\"#00cc96\",\"#ab63fa\",\"#00cc96\",\"#00cc96\",\"#00cc96\",\"#ab63fa\",\"#00cc96\",\"#00cc96\",\"#00cc96\",\"#00cc96\",\"#00cc96\",\"#00cc96\",\"#00cc96\",\"#00cc96\",\"#00cc96\",\"#00cc96\",\"#00cc96\",\"#00cc96\",\"#00cc96\",\"#00cc96\",\"#00cc96\",\"#ab63fa\",\"#ab63fa\",\"#ab63fa\",\"#00cc96\",\"#00cc96\",\"#00cc96\",\"#00cc96\",\"#00cc96\",\"#00cc96\",\"#00cc96\",\"#00cc96\",\"#00cc96\",\"#00cc96\",\"#00cc96\",\"#00cc96\",\"#00cc96\",\"#00cc96\",\"#00cc96\",\"#00cc96\",\"#00cc96\",\"#00cc96\",\"#00cc96\",\"#00cc96\",\"#00cc96\",\"#00cc96\",\"#00cc96\",\"#00cc96\",\"#00cc96\",\"#00cc96\",\"#00cc96\",\"#00cc96\",\"#00cc96\",\"#00cc96\",\"#ab63fa\",\"#00cc96\",\"#ab63fa\",\"#00cc96\",\"#00cc96\",\"#00cc96\",\"#ab63fa\",\"#00cc96\",\"#00cc96\",\"#00cc96\",\"#00cc96\",\"#ab63fa\",\"#00cc96\",\"#00cc96\",\"#00cc96\",\"#00cc96\",\"#00cc96\",\"#00cc96\",\"#ab63fa\",\"#ab63fa\",\"#00cc96\",\"#ab63fa\",\"#00cc96\",\"#00cc96\",\"#00cc96\",\"#ab63fa\",\"#00cc96\",\"#00cc96\",\"#ab63fa\",\"#00cc96\",\"#00cc96\",\"#ab63fa\",\"#ab63fa\",\"#00cc96\",\"#00cc96\",\"#ab63fa\",\"#00cc96\",\"#00cc96\",\"#ab63fa\",\"#00cc96\",\"#00cc96\",\"#00cc96\",\"#00cc96\",\"#00cc96\",\"#00cc96\",\"#ab63fa\",\"#00cc96\",\"#00cc96\",\"#00cc96\",\"#00cc96\",\"#00cc96\",\"#00cc96\",\"#00cc96\",\"#00cc96\",\"#00cc96\",\"#ab63fa\",\"#00cc96\",\"#00cc96\",\"#00cc96\",\"#00cc96\",\"#ab63fa\",\"#00cc96\",\"#00cc96\",\"#00cc96\",\"#ab63fa\",\"#ab63fa\",\"#00cc96\",\"#00cc96\",\"#00cc96\",\"#00cc96\",\"#00cc96\",\"#00cc96\",\"#00cc96\",\"#00cc96\",\"#00cc96\",\"#00cc96\",\"#ab63fa\",\"#ab63fa\",\"#00cc96\",\"#ab63fa\",\"#00cc96\",\"#00cc96\",\"#00cc96\",\"#00cc96\",\"#00cc96\",\"#ab63fa\",\"#00cc96\",\"#00cc96\",\"#00cc96\",\"#00cc96\",\"#ab63fa\",\"#00cc96\",\"#00cc96\",\"#00cc96\",\"#00cc96\",\"#00cc96\",\"#ab63fa\",\"#00cc96\",\"#00cc96\",\"#ab63fa\",\"#00cc96\",\"#00cc96\",\"#00cc96\",\"#ab63fa\",\"#00cc96\",\"#ab63fa\",\"#ab63fa\",\"#00cc96\",\"#00cc96\",\"#00cc96\",\"#00cc96\",\"#00cc96\",\"#00cc96\",\"#00cc96\",\"#00cc96\",\"#ab63fa\",\"#00cc96\",\"#ab63fa\",\"#ab63fa\",\"#00cc96\",\"#00cc96\",\"#00cc96\",\"#00cc96\",\"#00cc96\",\"#00cc96\",\"#00cc96\",\"#ab63fa\",\"#00cc96\",\"#ab63fa\",\"#00cc96\",\"#00cc96\",\"#00cc96\",\"#00cc96\",\"#00cc96\",\"#00cc96\",\"#00cc96\",\"#00cc96\",\"#ab63fa\",\"#00cc96\",\"#ab63fa\",\"#00cc96\",\"#00cc96\",\"#ab63fa\",\"#ab63fa\",\"#00cc96\",\"#00cc96\",\"#00cc96\",\"#00cc96\",\"#00cc96\",\"#00cc96\",\"#00cc96\",\"#00cc96\",\"#00cc96\",\"#00cc96\",\"#00cc96\",\"#00cc96\",\"#00cc96\",\"#00cc96\",\"#00cc96\",\"#00cc96\",\"#00cc96\",\"#00cc96\",\"#00cc96\",\"#00cc96\",\"#00cc96\",\"#00cc96\",\"#00cc96\",\"#00cc96\",\"#00cc96\",\"#00cc96\",\"#00cc96\",\"#00cc96\",\"#ab63fa\",\"#00cc96\",\"#00cc96\",\"#00cc96\",\"#00cc96\",\"#00cc96\",\"#00cc96\",\"#00cc96\",\"#00cc96\",\"#ab63fa\",\"#00cc96\",\"#ab63fa\",\"#00cc96\",\"#00cc96\",\"#00cc96\",\"#00cc96\",\"#00cc96\",\"#00cc96\",\"#00cc96\",\"#ab63fa\",\"#00cc96\",\"#00cc96\",\"#00cc96\",\"#00cc96\",\"#00cc96\",\"#ab63fa\",\"#00cc96\",\"#00cc96\",\"#00cc96\",\"#ab63fa\",\"#00cc96\",\"#00cc96\",\"#00cc96\",\"#00cc96\",\"#00cc96\",\"#00cc96\",\"#ab63fa\",\"#00cc96\",\"#ab63fa\",\"#00cc96\",\"#00cc96\",\"#00cc96\",\"#ab63fa\",\"#00cc96\",\"#00cc96\",\"#ab63fa\",\"#00cc96\",\"#00cc96\",\"#00cc96\",\"#ab63fa\",\"#00cc96\",\"#00cc96\",\"#00cc96\",\"#00cc96\",\"#00cc96\",\"#00cc96\",\"#00cc96\",\"#00cc96\",\"#ab63fa\",\"#00cc96\",\"#00cc96\",\"#00cc96\",\"#00cc96\",\"#00cc96\",\"#00cc96\",\"#00cc96\",\"#ab63fa\",\"#00cc96\",\"#00cc96\",\"#00cc96\",\"#00cc96\",\"#00cc96\",\"#00cc96\",\"#00cc96\",\"#00cc96\",\"#ab63fa\",\"#00cc96\",\"#ab63fa\",\"#ab63fa\",\"#00cc96\",\"#00cc96\",\"#00cc96\",\"#00cc96\",\"#00cc96\",\"#ab63fa\",\"#00cc96\",\"#00cc96\",\"#00cc96\",\"#ab63fa\",\"#00cc96\",\"#00cc96\",\"#00cc96\",\"#ab63fa\",\"#00cc96\",\"#00cc96\",\"#00cc96\",\"#00cc96\",\"#00cc96\",\"#00cc96\",\"#00cc96\",\"#00cc96\",\"#00cc96\",\"#ab63fa\",\"#ab63fa\",\"#00cc96\",\"#00cc96\",\"#00cc96\",\"#00cc96\",\"#00cc96\",\"#00cc96\",\"#00cc96\",\"#00cc96\",\"#00cc96\",\"#00cc96\",\"#00cc96\",\"#ab63fa\",\"#ab63fa\",\"#00cc96\",\"#00cc96\",\"#00cc96\",\"#00cc96\",\"#00cc96\",\"#ab63fa\",\"#00cc96\",\"#00cc96\",\"#00cc96\",\"#00cc96\",\"#00cc96\",\"#00cc96\",\"#ab63fa\",\"#00cc96\",\"#00cc96\",\"#00cc96\",\"#00cc96\",\"#ab63fa\",\"#00cc96\",\"#00cc96\",\"#00cc96\",\"#00cc96\",\"#00cc96\",\"#00cc96\",\"#ab63fa\",\"#00cc96\",\"#00cc96\",\"#ab63fa\",\"#00cc96\",\"#00cc96\",\"#00cc96\",\"#00cc96\",\"#00cc96\",\"#00cc96\",\"#ab63fa\",\"#ab63fa\",\"#00cc96\",\"#00cc96\",\"#ab63fa\",\"#00cc96\",\"#00cc96\",\"#00cc96\",\"#00cc96\",\"#00cc96\",\"#00cc96\",\"#00cc96\",\"#00cc96\",\"#00cc96\",\"#00cc96\",\"#ab63fa\",\"#00cc96\",\"#00cc96\",\"#00cc96\",\"#00cc96\",\"#00cc96\",\"#00cc96\",\"#00cc96\",\"#ab63fa\",\"#00cc96\",\"#00cc96\",\"#00cc96\",\"#00cc96\",\"#00cc96\",\"#00cc96\",\"#00cc96\",\"#00cc96\",\"#00cc96\",\"#00cc96\",\"#00cc96\",\"#00cc96\",\"#00cc96\",\"#00cc96\",\"#00cc96\",\"#00cc96\",\"#00cc96\",\"#00cc96\",\"#00cc96\",\"#00cc96\",\"#ab63fa\",\"#00cc96\",\"#ab63fa\",\"#00cc96\",\"#00cc96\",\"#00cc96\",\"#00cc96\",\"#00cc96\",\"#00cc96\",\"#00cc96\",\"#00cc96\",\"#ab63fa\",\"#ab63fa\",\"#ab63fa\",\"#ab63fa\",\"#00cc96\",\"#00cc96\",\"#00cc96\",\"#00cc96\",\"#00cc96\",\"#00cc96\",\"#00cc96\",\"#00cc96\",\"#00cc96\",\"#00cc96\",\"#00cc96\",\"#00cc96\",\"#00cc96\",\"#00cc96\",\"#ab63fa\",\"#00cc96\",\"#00cc96\",\"#00cc96\",\"#00cc96\",\"#00cc96\",\"#00cc96\",\"#00cc96\",\"#00cc96\",\"#00cc96\",\"#00cc96\",\"#00cc96\",\"#00cc96\",\"#00cc96\",\"#00cc96\",\"#00cc96\",\"#00cc96\",\"#ab63fa\",\"#ab63fa\",\"#00cc96\",\"#00cc96\",\"#00cc96\",\"#00cc96\",\"#00cc96\",\"#00cc96\",\"#00cc96\",\"#00cc96\",\"#00cc96\",\"#00cc96\",\"#00cc96\",\"#00cc96\",\"#00cc96\",\"#00cc96\",\"#00cc96\",\"#00cc96\",\"#ab63fa\",\"#00cc96\",\"#ab63fa\",\"#00cc96\",\"#ab63fa\",\"#00cc96\",\"#00cc96\",\"#00cc96\",\"#00cc96\",\"#00cc96\",\"#00cc96\",\"#00cc96\",\"#00cc96\",\"#00cc96\",\"#00cc96\",\"#ab63fa\",\"#00cc96\",\"#00cc96\",\"#00cc96\",\"#ab63fa\",\"#00cc96\",\"#00cc96\",\"#00cc96\",\"#00cc96\",\"#00cc96\",\"#00cc96\",\"#00cc96\",\"#00cc96\",\"#00cc96\",\"#00cc96\",\"#00cc96\",\"#00cc96\",\"#00cc96\",\"#00cc96\",\"#00cc96\",\"#ab63fa\",\"#ab63fa\",\"#00cc96\",\"#00cc96\",\"#00cc96\",\"#00cc96\",\"#00cc96\",\"#00cc96\",\"#00cc96\",\"#ab63fa\",\"#00cc96\",\"#00cc96\",\"#00cc96\",\"#00cc96\",\"#00cc96\",\"#00cc96\",\"#00cc96\",\"#00cc96\",\"#00cc96\",\"#00cc96\",\"#00cc96\",\"#00cc96\",\"#ab63fa\",\"#00cc96\",\"#00cc96\",\"#00cc96\",\"#00cc96\",\"#ab63fa\",\"#00cc96\",\"#00cc96\",\"#00cc96\",\"#00cc96\",\"#00cc96\",\"#00cc96\",\"#ab63fa\",\"#00cc96\",\"#00cc96\",\"#ab63fa\",\"#00cc96\",\"#00cc96\",\"#00cc96\",\"#ab63fa\",\"#00cc96\",\"#00cc96\",\"#00cc96\",\"#00cc96\",\"#00cc96\",\"#00cc96\",\"#ab63fa\",\"#00cc96\",\"#00cc96\",\"#00cc96\",\"#00cc96\",\"#00cc96\",\"#00cc96\",\"#00cc96\",\"#00cc96\",\"#00cc96\",\"#00cc96\",\"#00cc96\",\"#00cc96\",\"#00cc96\",\"#00cc96\",\"#00cc96\",\"#00cc96\",\"#00cc96\",\"#00cc96\",\"#00cc96\",\"#00cc96\",\"#00cc96\",\"#00cc96\",\"#ab63fa\",\"#00cc96\",\"#00cc96\",\"#00cc96\",\"#00cc96\",\"#00cc96\",\"#ab63fa\",\"#00cc96\",\"#ab63fa\",\"#ab63fa\",\"#00cc96\",\"#00cc96\",\"#ab63fa\",\"#ab63fa\",\"#00cc96\",\"#ab63fa\",\"#00cc96\",\"#00cc96\",\"#00cc96\",\"#00cc96\",\"#00cc96\",\"#00cc96\",\"#00cc96\",\"#00cc96\",\"#00cc96\",\"#00cc96\",\"#00cc96\",\"#00cc96\",\"#ab63fa\",\"#00cc96\",\"#00cc96\",\"#ab63fa\",\"#00cc96\",\"#00cc96\",\"#00cc96\",\"#00cc96\",\"#00cc96\",\"#00cc96\",\"#00cc96\",\"#00cc96\",\"#00cc96\",\"#00cc96\",\"#ab63fa\",\"#00cc96\",\"#00cc96\",\"#00cc96\",\"#00cc96\",\"#00cc96\",\"#00cc96\",\"#00cc96\",\"#00cc96\",\"#ab63fa\",\"#00cc96\",\"#00cc96\",\"#00cc96\",\"#ab63fa\",\"#00cc96\",\"#00cc96\",\"#00cc96\",\"#00cc96\",\"#00cc96\",\"#00cc96\",\"#00cc96\",\"#ab63fa\",\"#00cc96\",\"#00cc96\",\"#00cc96\",\"#00cc96\",\"#00cc96\",\"#00cc96\",\"#00cc96\",\"#00cc96\",\"#00cc96\",\"#00cc96\",\"#00cc96\",\"#00cc96\",\"#ab63fa\",\"#00cc96\",\"#00cc96\",\"#00cc96\",\"#00cc96\",\"#00cc96\",\"#00cc96\",\"#00cc96\",\"#00cc96\",\"#00cc96\",\"#00cc96\",\"#00cc96\",\"#ab63fa\",\"#ab63fa\",\"#ab63fa\",\"#00cc96\",\"#00cc96\",\"#00cc96\",\"#00cc96\",\"#00cc96\",\"#00cc96\",\"#00cc96\",\"#00cc96\",\"#00cc96\",\"#00cc96\",\"#00cc96\",\"#00cc96\",\"#ab63fa\",\"#00cc96\",\"#00cc96\",\"#00cc96\",\"#00cc96\",\"#00cc96\",\"#00cc96\",\"#00cc96\",\"#00cc96\",\"#00cc96\",\"#00cc96\",\"#ab63fa\",\"#ab63fa\",\"#00cc96\",\"#00cc96\",\"#ab63fa\",\"#00cc96\",\"#00cc96\",\"#ab63fa\",\"#00cc96\",\"#00cc96\",\"#00cc96\",\"#00cc96\",\"#00cc96\",\"#ab63fa\",\"#ab63fa\",\"#00cc96\",\"#00cc96\",\"#00cc96\",\"#00cc96\",\"#00cc96\",\"#00cc96\",\"#00cc96\",\"#00cc96\",\"#00cc96\",\"#00cc96\",\"#00cc96\",\"#ab63fa\",\"#00cc96\",\"#00cc96\",\"#00cc96\",\"#00cc96\",\"#00cc96\",\"#00cc96\",\"#00cc96\",\"#00cc96\",\"#00cc96\",\"#00cc96\",\"#00cc96\",\"#00cc96\",\"#00cc96\",\"#00cc96\",\"#00cc96\",\"#00cc96\",\"#00cc96\",\"#00cc96\",\"#00cc96\",\"#ab63fa\",\"#00cc96\",\"#00cc96\",\"#00cc96\",\"#00cc96\",\"#00cc96\",\"#00cc96\",\"#00cc96\",\"#00cc96\",\"#00cc96\",\"#00cc96\",\"#00cc96\",\"#ab63fa\",\"#00cc96\",\"#00cc96\",\"#00cc96\",\"#00cc96\",\"#00cc96\",\"#00cc96\",\"#00cc96\",\"#00cc96\",\"#00cc96\",\"#00cc96\",\"#00cc96\",\"#00cc96\",\"#ab63fa\",\"#00cc96\",\"#00cc96\",\"#00cc96\",\"#00cc96\",\"#00cc96\",\"#ab63fa\",\"#00cc96\",\"#ab63fa\",\"#00cc96\",\"#00cc96\",\"#00cc96\",\"#ab63fa\",\"#ab63fa\",\"#00cc96\",\"#00cc96\",\"#00cc96\",\"#00cc96\",\"#ab63fa\",\"#00cc96\",\"#00cc96\",\"#00cc96\",\"#00cc96\",\"#00cc96\",\"#00cc96\",\"#00cc96\",\"#00cc96\",\"#ab63fa\",\"#ab63fa\",\"#00cc96\",\"#00cc96\",\"#00cc96\",\"#00cc96\",\"#00cc96\",\"#ab63fa\",\"#00cc96\",\"#ab63fa\",\"#00cc96\",\"#00cc96\",\"#00cc96\",\"#ab63fa\",\"#00cc96\",\"#00cc96\",\"#00cc96\",\"#ab63fa\",\"#00cc96\",\"#00cc96\",\"#00cc96\",\"#00cc96\",\"#00cc96\",\"#ab63fa\",\"#00cc96\",\"#00cc96\",\"#00cc96\",\"#00cc96\",\"#00cc96\",\"#00cc96\",\"#00cc96\",\"#00cc96\",\"#00cc96\",\"#00cc96\",\"#00cc96\",\"#00cc96\",\"#00cc96\",\"#00cc96\",\"#00cc96\",\"#00cc96\",\"#00cc96\",\"#00cc96\",\"#00cc96\",\"#00cc96\",\"#00cc96\",\"#00cc96\",\"#00cc96\",\"#ab63fa\",\"#00cc96\",\"#00cc96\",\"#00cc96\",\"#00cc96\",\"#ab63fa\",\"#00cc96\",\"#00cc96\",\"#00cc96\",\"#00cc96\",\"#ab63fa\",\"#00cc96\",\"#00cc96\",\"#00cc96\",\"#00cc96\",\"#00cc96\",\"#00cc96\",\"#00cc96\",\"#00cc96\",\"#00cc96\",\"#00cc96\",\"#00cc96\",\"#00cc96\",\"#00cc96\",\"#00cc96\",\"#00cc96\",\"#00cc96\",\"#00cc96\",\"#00cc96\",\"#00cc96\",\"#00cc96\",\"#00cc96\",\"#00cc96\",\"#00cc96\",\"#00cc96\",\"#00cc96\",\"#00cc96\",\"#00cc96\",\"#00cc96\",\"#ab63fa\",\"#00cc96\",\"#ab63fa\",\"#00cc96\",\"#00cc96\",\"#00cc96\",\"#00cc96\",\"#00cc96\",\"#00cc96\",\"#00cc96\",\"#00cc96\",\"#00cc96\",\"#00cc96\",\"#00cc96\",\"#00cc96\",\"#00cc96\",\"#00cc96\",\"#00cc96\",\"#00cc96\",\"#ab63fa\",\"#00cc96\",\"#00cc96\",\"#00cc96\",\"#00cc96\",\"#00cc96\",\"#00cc96\",\"#00cc96\",\"#00cc96\",\"#00cc96\",\"#00cc96\",\"#00cc96\",\"#ab63fa\",\"#00cc96\",\"#00cc96\",\"#00cc96\",\"#ab63fa\",\"#00cc96\",\"#00cc96\",\"#00cc96\",\"#00cc96\",\"#00cc96\",\"#00cc96\",\"#ab63fa\",\"#00cc96\",\"#ab63fa\",\"#00cc96\",\"#00cc96\",\"#00cc96\",\"#00cc96\",\"#ab63fa\",\"#00cc96\",\"#00cc96\",\"#00cc96\",\"#00cc96\",\"#00cc96\",\"#ab63fa\",\"#00cc96\",\"#00cc96\",\"#00cc96\",\"#00cc96\",\"#00cc96\",\"#00cc96\",\"#ab63fa\",\"#00cc96\",\"#ab63fa\",\"#00cc96\",\"#00cc96\",\"#00cc96\",\"#00cc96\",\"#00cc96\",\"#ab63fa\",\"#00cc96\",\"#00cc96\",\"#00cc96\",\"#00cc96\",\"#00cc96\",\"#00cc96\",\"#00cc96\",\"#00cc96\",\"#00cc96\",\"#00cc96\",\"#00cc96\",\"#00cc96\",\"#00cc96\",\"#ab63fa\",\"#00cc96\",\"#00cc96\",\"#ab63fa\",\"#00cc96\",\"#00cc96\",\"#00cc96\",\"#00cc96\",\"#00cc96\",\"#00cc96\",\"#00cc96\",\"#00cc96\",\"#00cc96\",\"#00cc96\",\"#00cc96\",\"#00cc96\",\"#00cc96\",\"#00cc96\",\"#ab63fa\",\"#00cc96\",\"#00cc96\",\"#00cc96\",\"#00cc96\",\"#00cc96\",\"#00cc96\",\"#ab63fa\",\"#ab63fa\",\"#00cc96\",\"#00cc96\",\"#00cc96\",\"#00cc96\",\"#00cc96\",\"#ab63fa\",\"#00cc96\",\"#00cc96\",\"#00cc96\",\"#00cc96\",\"#00cc96\",\"#00cc96\",\"#00cc96\",\"#00cc96\",\"#00cc96\",\"#00cc96\",\"#00cc96\",\"#00cc96\",\"#ab63fa\",\"#00cc96\",\"#00cc96\",\"#00cc96\",\"#00cc96\",\"#ab63fa\",\"#00cc96\",\"#00cc96\",\"#00cc96\",\"#00cc96\",\"#00cc96\",\"#00cc96\",\"#00cc96\",\"#00cc96\",\"#00cc96\",\"#ab63fa\",\"#00cc96\",\"#00cc96\",\"#00cc96\",\"#00cc96\",\"#00cc96\",\"#00cc96\",\"#00cc96\",\"#00cc96\",\"#00cc96\",\"#00cc96\",\"#ab63fa\",\"#00cc96\",\"#00cc96\",\"#00cc96\",\"#ab63fa\",\"#00cc96\",\"#ab63fa\",\"#ab63fa\",\"#00cc96\",\"#00cc96\",\"#00cc96\",\"#ab63fa\",\"#ab63fa\",\"#ab63fa\",\"#00cc96\",\"#00cc96\",\"#00cc96\",\"#00cc96\",\"#00cc96\",\"#00cc96\",\"#00cc96\",\"#00cc96\",\"#00cc96\",\"#ab63fa\",\"#00cc96\",\"#00cc96\",\"#00cc96\",\"#00cc96\",\"#00cc96\",\"#ab63fa\",\"#00cc96\",\"#00cc96\",\"#ab63fa\",\"#00cc96\",\"#00cc96\",\"#00cc96\",\"#00cc96\",\"#00cc96\",\"#00cc96\",\"#ab63fa\",\"#00cc96\",\"#00cc96\",\"#00cc96\",\"#00cc96\",\"#00cc96\",\"#00cc96\",\"#00cc96\",\"#00cc96\",\"#00cc96\",\"#00cc96\",\"#00cc96\",\"#00cc96\",\"#00cc96\",\"#ab63fa\",\"#00cc96\",\"#00cc96\",\"#00cc96\",\"#00cc96\",\"#00cc96\",\"#00cc96\",\"#00cc96\",\"#00cc96\",\"#00cc96\",\"#00cc96\",\"#00cc96\",\"#00cc96\",\"#ab63fa\",\"#00cc96\",\"#00cc96\",\"#00cc96\",\"#00cc96\",\"#ab63fa\",\"#00cc96\",\"#00cc96\",\"#00cc96\",\"#00cc96\",\"#00cc96\",\"#00cc96\",\"#00cc96\",\"#00cc96\",\"#00cc96\",\"#00cc96\",\"#00cc96\",\"#00cc96\",\"#00cc96\",\"#00cc96\",\"#00cc96\",\"#00cc96\",\"#00cc96\",\"#00cc96\",\"#00cc96\",\"#00cc96\",\"#00cc96\",\"#00cc96\",\"#ab63fa\",\"#ab63fa\",\"#00cc96\",\"#00cc96\",\"#00cc96\",\"#00cc96\",\"#00cc96\",\"#00cc96\",\"#00cc96\",\"#00cc96\",\"#ab63fa\",\"#ab63fa\",\"#00cc96\",\"#00cc96\",\"#00cc96\",\"#ab63fa\",\"#00cc96\",\"#00cc96\",\"#00cc96\",\"#00cc96\",\"#00cc96\",\"#ab63fa\",\"#00cc96\",\"#00cc96\",\"#00cc96\",\"#00cc96\",\"#ab63fa\",\"#00cc96\",\"#00cc96\",\"#00cc96\",\"#ab63fa\",\"#00cc96\",\"#00cc96\",\"#00cc96\",\"#ab63fa\",\"#00cc96\",\"#ab63fa\",\"#00cc96\",\"#00cc96\",\"#00cc96\",\"#00cc96\",\"#00cc96\",\"#00cc96\",\"#00cc96\",\"#00cc96\",\"#ab63fa\",\"#00cc96\",\"#ab63fa\",\"#00cc96\",\"#00cc96\",\"#00cc96\",\"#ab63fa\",\"#ab63fa\",\"#00cc96\",\"#00cc96\",\"#00cc96\",\"#00cc96\",\"#00cc96\",\"#00cc96\",\"#00cc96\",\"#00cc96\",\"#ab63fa\",\"#00cc96\",\"#00cc96\",\"#00cc96\",\"#00cc96\",\"#00cc96\",\"#00cc96\",\"#ab63fa\",\"#00cc96\",\"#ab63fa\",\"#00cc96\",\"#00cc96\",\"#00cc96\",\"#00cc96\",\"#00cc96\",\"#00cc96\",\"#00cc96\",\"#ab63fa\",\"#00cc96\",\"#00cc96\",\"#00cc96\",\"#00cc96\",\"#00cc96\",\"#00cc96\",\"#00cc96\",\"#00cc96\",\"#00cc96\",\"#00cc96\",\"#00cc96\",\"#00cc96\",\"#00cc96\",\"#00cc96\",\"#00cc96\",\"#00cc96\",\"#00cc96\",\"#00cc96\",\"#00cc96\",\"#00cc96\",\"#00cc96\",\"#00cc96\",\"#00cc96\",\"#00cc96\",\"#00cc96\",\"#00cc96\",\"#00cc96\",\"#00cc96\",\"#ab63fa\",\"#00cc96\",\"#ab63fa\",\"#00cc96\",\"#00cc96\",\"#ab63fa\",\"#00cc96\",\"#ab63fa\",\"#00cc96\",\"#ab63fa\",\"#00cc96\",\"#00cc96\",\"#ab63fa\",\"#ab63fa\",\"#00cc96\",\"#00cc96\",\"#00cc96\",\"#00cc96\",\"#00cc96\",\"#00cc96\",\"#00cc96\",\"#00cc96\",\"#00cc96\",\"#00cc96\",\"#00cc96\",\"#00cc96\",\"#ab63fa\",\"#00cc96\",\"#00cc96\",\"#00cc96\",\"#ab63fa\",\"#00cc96\",\"#00cc96\",\"#00cc96\",\"#00cc96\",\"#00cc96\",\"#00cc96\",\"#ab63fa\",\"#00cc96\",\"#ab63fa\",\"#00cc96\",\"#00cc96\",\"#00cc96\",\"#00cc96\",\"#00cc96\",\"#00cc96\",\"#00cc96\",\"#00cc96\",\"#00cc96\",\"#00cc96\",\"#00cc96\",\"#00cc96\",\"#00cc96\",\"#00cc96\",\"#00cc96\",\"#00cc96\",\"#00cc96\",\"#00cc96\",\"#00cc96\",\"#00cc96\",\"#ab63fa\",\"#00cc96\",\"#00cc96\",\"#00cc96\",\"#00cc96\",\"#ab63fa\",\"#00cc96\",\"#00cc96\",\"#00cc96\",\"#00cc96\",\"#00cc96\",\"#ab63fa\",\"#ab63fa\",\"#ab63fa\",\"#00cc96\",\"#ab63fa\",\"#00cc96\",\"#00cc96\",\"#00cc96\",\"#00cc96\",\"#00cc96\",\"#00cc96\",\"#00cc96\",\"#ab63fa\",\"#ab63fa\",\"#00cc96\",\"#00cc96\",\"#00cc96\",\"#00cc96\",\"#00cc96\",\"#00cc96\",\"#00cc96\",\"#00cc96\",\"#00cc96\",\"#00cc96\",\"#ab63fa\",\"#00cc96\",\"#00cc96\",\"#00cc96\",\"#00cc96\",\"#00cc96\",\"#00cc96\",\"#00cc96\",\"#00cc96\",\"#00cc96\",\"#00cc96\",\"#00cc96\",\"#00cc96\",\"#00cc96\",\"#00cc96\",\"#00cc96\",\"#00cc96\",\"#00cc96\",\"#00cc96\",\"#00cc96\",\"#00cc96\",\"#ab63fa\",\"#00cc96\",\"#00cc96\",\"#00cc96\",\"#ab63fa\",\"#00cc96\",\"#00cc96\",\"#00cc96\",\"#00cc96\",\"#00cc96\",\"#ab63fa\",\"#00cc96\",\"#00cc96\",\"#00cc96\",\"#00cc96\",\"#00cc96\",\"#00cc96\",\"#00cc96\",\"#00cc96\",\"#00cc96\",\"#00cc96\",\"#00cc96\",\"#00cc96\",\"#00cc96\",\"#00cc96\",\"#00cc96\",\"#ab63fa\",\"#00cc96\",\"#00cc96\",\"#00cc96\",\"#00cc96\",\"#00cc96\",\"#00cc96\",\"#ab63fa\",\"#00cc96\",\"#00cc96\",\"#00cc96\",\"#00cc96\",\"#ab63fa\",\"#00cc96\",\"#00cc96\",\"#00cc96\",\"#00cc96\",\"#00cc96\",\"#ab63fa\",\"#00cc96\",\"#00cc96\",\"#00cc96\",\"#00cc96\",\"#00cc96\",\"#00cc96\",\"#00cc96\",\"#00cc96\",\"#ab63fa\",\"#00cc96\",\"#00cc96\",\"#00cc96\",\"#00cc96\",\"#ab63fa\",\"#00cc96\",\"#00cc96\",\"#00cc96\",\"#00cc96\",\"#00cc96\",\"#00cc96\",\"#00cc96\",\"#00cc96\",\"#00cc96\",\"#00cc96\",\"#00cc96\",\"#00cc96\",\"#00cc96\",\"#ab63fa\",\"#00cc96\",\"#00cc96\",\"#00cc96\",\"#00cc96\",\"#00cc96\",\"#00cc96\",\"#00cc96\",\"#00cc96\",\"#00cc96\",\"#00cc96\",\"#00cc96\",\"#00cc96\",\"#00cc96\",\"#00cc96\",\"#00cc96\",\"#00cc96\",\"#00cc96\",\"#00cc96\",\"#00cc96\",\"#00cc96\",\"#00cc96\",\"#00cc96\",\"#00cc96\",\"#00cc96\",\"#00cc96\",\"#00cc96\",\"#ab63fa\",\"#00cc96\",\"#00cc96\",\"#00cc96\",\"#00cc96\",\"#00cc96\",\"#ab63fa\",\"#00cc96\",\"#00cc96\",\"#00cc96\",\"#00cc96\",\"#00cc96\",\"#00cc96\",\"#00cc96\",\"#00cc96\",\"#00cc96\",\"#00cc96\",\"#00cc96\",\"#00cc96\",\"#00cc96\",\"#ab63fa\",\"#00cc96\",\"#00cc96\",\"#ab63fa\",\"#00cc96\",\"#00cc96\",\"#00cc96\",\"#00cc96\",\"#00cc96\",\"#00cc96\",\"#00cc96\",\"#00cc96\",\"#00cc96\",\"#00cc96\",\"#00cc96\",\"#00cc96\",\"#00cc96\",\"#00cc96\",\"#00cc96\",\"#00cc96\",\"#ab63fa\",\"#00cc96\",\"#00cc96\",\"#ab63fa\",\"#00cc96\",\"#00cc96\",\"#00cc96\",\"#ab63fa\",\"#00cc96\",\"#00cc96\",\"#ab63fa\",\"#00cc96\",\"#00cc96\",\"#00cc96\",\"#00cc96\",\"#00cc96\",\"#00cc96\",\"#00cc96\",\"#00cc96\",\"#00cc96\",\"#00cc96\",\"#00cc96\",\"#00cc96\",\"#00cc96\",\"#00cc96\",\"#00cc96\",\"#ab63fa\",\"#00cc96\",\"#00cc96\",\"#00cc96\",\"#00cc96\",\"#ab63fa\",\"#00cc96\",\"#00cc96\",\"#00cc96\",\"#00cc96\",\"#ab63fa\",\"#00cc96\",\"#ab63fa\",\"#00cc96\",\"#00cc96\",\"#00cc96\",\"#00cc96\",\"#00cc96\",\"#ab63fa\",\"#ab63fa\",\"#00cc96\",\"#00cc96\",\"#00cc96\",\"#00cc96\",\"#00cc96\",\"#00cc96\",\"#00cc96\",\"#00cc96\",\"#00cc96\",\"#00cc96\",\"#ab63fa\",\"#00cc96\",\"#00cc96\",\"#00cc96\",\"#00cc96\",\"#ab63fa\",\"#ab63fa\",\"#00cc96\",\"#00cc96\",\"#00cc96\",\"#00cc96\",\"#00cc96\",\"#00cc96\",\"#00cc96\",\"#00cc96\",\"#00cc96\",\"#00cc96\",\"#00cc96\",\"#00cc96\",\"#00cc96\",\"#ab63fa\",\"#00cc96\",\"#00cc96\",\"#00cc96\",\"#ab63fa\",\"#00cc96\",\"#00cc96\",\"#ab63fa\",\"#00cc96\",\"#00cc96\",\"#00cc96\",\"#00cc96\",\"#00cc96\",\"#00cc96\",\"#00cc96\",\"#00cc96\",\"#ab63fa\",\"#00cc96\",\"#ab63fa\",\"#00cc96\",\"#00cc96\",\"#00cc96\",\"#00cc96\",\"#00cc96\",\"#00cc96\",\"#00cc96\",\"#ab63fa\",\"#00cc96\",\"#00cc96\",\"#ab63fa\",\"#00cc96\",\"#00cc96\",\"#00cc96\",\"#00cc96\",\"#00cc96\",\"#ab63fa\",\"#00cc96\",\"#00cc96\",\"#00cc96\",\"#00cc96\",\"#00cc96\",\"#00cc96\",\"#00cc96\",\"#00cc96\",\"#00cc96\",\"#00cc96\",\"#00cc96\",\"#00cc96\",\"#00cc96\",\"#00cc96\",\"#00cc96\",\"#00cc96\",\"#ab63fa\",\"#00cc96\",\"#ab63fa\",\"#00cc96\",\"#ab63fa\",\"#00cc96\",\"#00cc96\",\"#00cc96\",\"#00cc96\",\"#00cc96\",\"#00cc96\",\"#00cc96\",\"#00cc96\",\"#ab63fa\",\"#00cc96\",\"#00cc96\",\"#00cc96\",\"#00cc96\",\"#00cc96\",\"#ab63fa\",\"#00cc96\",\"#00cc96\",\"#ab63fa\",\"#00cc96\",\"#00cc96\",\"#00cc96\",\"#00cc96\",\"#00cc96\",\"#00cc96\",\"#00cc96\",\"#00cc96\",\"#ab63fa\",\"#00cc96\",\"#00cc96\",\"#00cc96\",\"#00cc96\",\"#00cc96\",\"#00cc96\",\"#00cc96\",\"#ab63fa\",\"#00cc96\",\"#00cc96\",\"#00cc96\",\"#00cc96\",\"#00cc96\",\"#00cc96\",\"#00cc96\",\"#00cc96\",\"#ab63fa\",\"#00cc96\",\"#00cc96\",\"#00cc96\",\"#00cc96\",\"#00cc96\",\"#00cc96\",\"#00cc96\",\"#ab63fa\",\"#00cc96\",\"#00cc96\",\"#00cc96\",\"#00cc96\",\"#00cc96\",\"#00cc96\",\"#00cc96\",\"#00cc96\",\"#00cc96\",\"#00cc96\",\"#00cc96\",\"#00cc96\",\"#00cc96\",\"#00cc96\",\"#00cc96\",\"#00cc96\",\"#00cc96\",\"#ab63fa\",\"#00cc96\",\"#00cc96\",\"#00cc96\",\"#00cc96\",\"#00cc96\",\"#00cc96\",\"#00cc96\",\"#00cc96\",\"#ab63fa\",\"#00cc96\",\"#00cc96\",\"#ab63fa\",\"#00cc96\",\"#ab63fa\",\"#00cc96\",\"#00cc96\",\"#00cc96\",\"#00cc96\",\"#00cc96\",\"#ab63fa\",\"#00cc96\",\"#ab63fa\",\"#ab63fa\",\"#00cc96\",\"#ab63fa\",\"#00cc96\",\"#00cc96\",\"#00cc96\",\"#00cc96\",\"#ab63fa\",\"#00cc96\",\"#00cc96\",\"#00cc96\",\"#00cc96\",\"#00cc96\",\"#00cc96\",\"#ab63fa\",\"#00cc96\",\"#00cc96\",\"#00cc96\",\"#00cc96\",\"#00cc96\",\"#00cc96\",\"#ab63fa\",\"#ab63fa\",\"#00cc96\",\"#00cc96\",\"#ab63fa\",\"#00cc96\",\"#00cc96\",\"#00cc96\",\"#00cc96\",\"#ab63fa\",\"#00cc96\",\"#00cc96\",\"#00cc96\",\"#00cc96\",\"#00cc96\",\"#00cc96\",\"#00cc96\",\"#00cc96\",\"#00cc96\",\"#00cc96\",\"#00cc96\",\"#ab63fa\",\"#00cc96\",\"#00cc96\",\"#ab63fa\",\"#00cc96\",\"#00cc96\",\"#00cc96\",\"#00cc96\",\"#00cc96\",\"#00cc96\",\"#00cc96\",\"#00cc96\",\"#00cc96\",\"#00cc96\",\"#00cc96\",\"#00cc96\",\"#00cc96\",\"#00cc96\",\"#00cc96\",\"#00cc96\",\"#00cc96\",\"#00cc96\",\"#00cc96\",\"#00cc96\",\"#00cc96\",\"#00cc96\",\"#ab63fa\",\"#00cc96\",\"#00cc96\",\"#ab63fa\",\"#00cc96\",\"#00cc96\",\"#00cc96\",\"#ab63fa\",\"#00cc96\",\"#00cc96\",\"#00cc96\",\"#00cc96\",\"#00cc96\",\"#00cc96\",\"#00cc96\",\"#00cc96\",\"#00cc96\",\"#00cc96\",\"#00cc96\",\"#00cc96\",\"#00cc96\",\"#00cc96\",\"#00cc96\",\"#00cc96\",\"#00cc96\",\"#00cc96\",\"#00cc96\",\"#00cc96\",\"#ab63fa\",\"#ab63fa\",\"#00cc96\",\"#00cc96\",\"#00cc96\",\"#ab63fa\",\"#00cc96\",\"#00cc96\",\"#ab63fa\",\"#00cc96\",\"#ab63fa\",\"#00cc96\",\"#00cc96\",\"#ab63fa\",\"#00cc96\",\"#00cc96\",\"#ab63fa\",\"#00cc96\",\"#00cc96\",\"#00cc96\",\"#00cc96\",\"#00cc96\",\"#00cc96\",\"#00cc96\",\"#00cc96\",\"#ab63fa\",\"#00cc96\",\"#00cc96\",\"#00cc96\",\"#00cc96\",\"#ab63fa\",\"#00cc96\",\"#00cc96\",\"#00cc96\",\"#00cc96\",\"#00cc96\",\"#00cc96\",\"#00cc96\",\"#ab63fa\",\"#ab63fa\",\"#00cc96\",\"#00cc96\",\"#ab63fa\",\"#00cc96\",\"#ab63fa\",\"#ab63fa\",\"#00cc96\",\"#ab63fa\",\"#00cc96\",\"#00cc96\",\"#ab63fa\",\"#00cc96\",\"#00cc96\",\"#00cc96\",\"#ab63fa\",\"#00cc96\",\"#00cc96\",\"#ab63fa\",\"#00cc96\",\"#00cc96\",\"#00cc96\",\"#00cc96\",\"#ab63fa\",\"#00cc96\",\"#00cc96\",\"#00cc96\",\"#00cc96\",\"#00cc96\",\"#ab63fa\",\"#00cc96\",\"#00cc96\",\"#00cc96\",\"#00cc96\",\"#00cc96\",\"#00cc96\",\"#00cc96\",\"#00cc96\",\"#00cc96\",\"#00cc96\",\"#00cc96\",\"#00cc96\",\"#00cc96\",\"#00cc96\",\"#ab63fa\",\"#00cc96\",\"#00cc96\",\"#00cc96\",\"#00cc96\",\"#00cc96\",\"#00cc96\",\"#00cc96\",\"#00cc96\",\"#00cc96\",\"#00cc96\",\"#00cc96\",\"#ab63fa\",\"#00cc96\",\"#00cc96\",\"#00cc96\",\"#00cc96\",\"#00cc96\",\"#ab63fa\",\"#00cc96\",\"#00cc96\",\"#00cc96\",\"#00cc96\",\"#00cc96\",\"#00cc96\",\"#00cc96\",\"#00cc96\",\"#00cc96\",\"#00cc96\",\"#00cc96\",\"#ab63fa\",\"#00cc96\",\"#ab63fa\",\"#00cc96\",\"#00cc96\",\"#00cc96\",\"#00cc96\",\"#00cc96\",\"#00cc96\",\"#00cc96\",\"#00cc96\",\"#00cc96\",\"#00cc96\",\"#00cc96\",\"#00cc96\",\"#00cc96\",\"#00cc96\",\"#00cc96\",\"#00cc96\",\"#00cc96\",\"#ab63fa\",\"#00cc96\",\"#00cc96\",\"#00cc96\",\"#00cc96\",\"#ab63fa\",\"#00cc96\",\"#ab63fa\",\"#ab63fa\",\"#ab63fa\",\"#00cc96\",\"#00cc96\",\"#00cc96\",\"#00cc96\",\"#00cc96\",\"#00cc96\",\"#00cc96\",\"#00cc96\",\"#00cc96\",\"#00cc96\",\"#00cc96\",\"#00cc96\",\"#00cc96\",\"#00cc96\",\"#00cc96\",\"#00cc96\",\"#00cc96\",\"#00cc96\",\"#00cc96\",\"#ab63fa\",\"#00cc96\",\"#00cc96\",\"#00cc96\",\"#00cc96\",\"#00cc96\",\"#00cc96\",\"#00cc96\",\"#00cc96\",\"#00cc96\",\"#00cc96\",\"#00cc96\",\"#ab63fa\",\"#00cc96\",\"#00cc96\",\"#00cc96\",\"#00cc96\",\"#00cc96\",\"#00cc96\",\"#00cc96\",\"#00cc96\",\"#00cc96\",\"#00cc96\",\"#00cc96\",\"#00cc96\",\"#ab63fa\",\"#ab63fa\",\"#00cc96\",\"#ab63fa\",\"#00cc96\",\"#00cc96\",\"#00cc96\",\"#00cc96\",\"#00cc96\",\"#00cc96\",\"#00cc96\",\"#00cc96\",\"#00cc96\",\"#00cc96\",\"#00cc96\",\"#00cc96\",\"#00cc96\",\"#00cc96\",\"#ab63fa\",\"#00cc96\",\"#00cc96\",\"#00cc96\",\"#ab63fa\",\"#00cc96\",\"#00cc96\",\"#00cc96\",\"#ab63fa\",\"#00cc96\",\"#00cc96\",\"#ab63fa\",\"#00cc96\",\"#00cc96\",\"#00cc96\",\"#ab63fa\",\"#00cc96\",\"#00cc96\",\"#00cc96\",\"#00cc96\",\"#00cc96\",\"#00cc96\",\"#00cc96\",\"#00cc96\",\"#00cc96\",\"#ab63fa\",\"#00cc96\",\"#00cc96\",\"#00cc96\",\"#00cc96\",\"#00cc96\",\"#00cc96\",\"#ab63fa\",\"#00cc96\",\"#00cc96\",\"#00cc96\",\"#00cc96\",\"#00cc96\",\"#00cc96\",\"#00cc96\",\"#00cc96\",\"#00cc96\",\"#00cc96\",\"#00cc96\",\"#00cc96\",\"#00cc96\",\"#00cc96\",\"#00cc96\",\"#ab63fa\",\"#ab63fa\",\"#00cc96\",\"#00cc96\",\"#00cc96\",\"#00cc96\",\"#00cc96\",\"#ab63fa\",\"#00cc96\",\"#ab63fa\",\"#00cc96\",\"#00cc96\",\"#00cc96\",\"#ab63fa\",\"#00cc96\",\"#ab63fa\",\"#00cc96\",\"#00cc96\",\"#00cc96\",\"#00cc96\",\"#ab63fa\",\"#00cc96\",\"#00cc96\",\"#00cc96\",\"#00cc96\",\"#00cc96\",\"#ab63fa\",\"#00cc96\",\"#00cc96\",\"#ab63fa\",\"#ab63fa\",\"#00cc96\",\"#00cc96\",\"#00cc96\",\"#00cc96\",\"#00cc96\",\"#00cc96\",\"#00cc96\",\"#00cc96\",\"#00cc96\",\"#00cc96\",\"#00cc96\",\"#00cc96\",\"#00cc96\",\"#00cc96\",\"#00cc96\",\"#ab63fa\",\"#00cc96\",\"#00cc96\",\"#00cc96\",\"#00cc96\",\"#ab63fa\",\"#00cc96\",\"#00cc96\",\"#ab63fa\",\"#00cc96\",\"#00cc96\",\"#ab63fa\",\"#00cc96\",\"#00cc96\",\"#00cc96\",\"#00cc96\",\"#00cc96\",\"#00cc96\",\"#ab63fa\",\"#00cc96\",\"#00cc96\",\"#00cc96\",\"#00cc96\",\"#ab63fa\",\"#00cc96\",\"#00cc96\",\"#00cc96\",\"#00cc96\",\"#00cc96\",\"#00cc96\",\"#ab63fa\",\"#ab63fa\",\"#00cc96\",\"#00cc96\",\"#00cc96\",\"#00cc96\",\"#ab63fa\",\"#ab63fa\",\"#00cc96\",\"#00cc96\",\"#00cc96\",\"#00cc96\",\"#00cc96\",\"#00cc96\",\"#00cc96\",\"#00cc96\",\"#00cc96\",\"#00cc96\",\"#00cc96\",\"#ab63fa\",\"#00cc96\",\"#00cc96\",\"#00cc96\",\"#ab63fa\",\"#00cc96\",\"#00cc96\",\"#00cc96\",\"#00cc96\",\"#00cc96\",\"#00cc96\",\"#00cc96\",\"#00cc96\",\"#00cc96\",\"#00cc96\",\"#00cc96\",\"#00cc96\",\"#00cc96\",\"#00cc96\",\"#ab63fa\",\"#00cc96\",\"#00cc96\",\"#00cc96\",\"#00cc96\",\"#00cc96\",\"#00cc96\",\"#00cc96\",\"#00cc96\",\"#00cc96\",\"#00cc96\",\"#00cc96\",\"#00cc96\",\"#00cc96\",\"#00cc96\",\"#00cc96\",\"#00cc96\",\"#00cc96\",\"#00cc96\",\"#00cc96\",\"#ab63fa\",\"#00cc96\",\"#ab63fa\",\"#00cc96\",\"#00cc96\",\"#00cc96\",\"#00cc96\",\"#00cc96\",\"#00cc96\",\"#00cc96\",\"#00cc96\",\"#00cc96\",\"#00cc96\",\"#ab63fa\",\"#00cc96\",\"#00cc96\",\"#00cc96\",\"#00cc96\",\"#00cc96\",\"#00cc96\",\"#00cc96\",\"#ab63fa\",\"#00cc96\",\"#00cc96\",\"#00cc96\",\"#00cc96\",\"#00cc96\",\"#00cc96\",\"#00cc96\",\"#00cc96\",\"#00cc96\",\"#00cc96\",\"#ab63fa\",\"#00cc96\",\"#00cc96\",\"#00cc96\",\"#00cc96\",\"#00cc96\",\"#ab63fa\",\"#00cc96\",\"#00cc96\",\"#00cc96\",\"#00cc96\",\"#ab63fa\",\"#00cc96\",\"#00cc96\",\"#00cc96\",\"#00cc96\",\"#00cc96\",\"#00cc96\",\"#00cc96\",\"#ab63fa\",\"#00cc96\",\"#00cc96\",\"#00cc96\",\"#00cc96\",\"#00cc96\",\"#00cc96\",\"#00cc96\",\"#00cc96\",\"#00cc96\",\"#00cc96\",\"#00cc96\",\"#00cc96\",\"#00cc96\",\"#00cc96\",\"#ab63fa\",\"#00cc96\",\"#00cc96\",\"#00cc96\",\"#00cc96\",\"#00cc96\",\"#00cc96\",\"#00cc96\",\"#00cc96\",\"#00cc96\",\"#00cc96\",\"#00cc96\",\"#00cc96\",\"#00cc96\",\"#00cc96\",\"#00cc96\",\"#ab63fa\",\"#ab63fa\",\"#ab63fa\",\"#00cc96\",\"#00cc96\",\"#00cc96\",\"#00cc96\",\"#00cc96\",\"#00cc96\",\"#00cc96\",\"#00cc96\",\"#00cc96\",\"#00cc96\",\"#00cc96\",\"#ab63fa\",\"#00cc96\",\"#00cc96\",\"#00cc96\",\"#00cc96\",\"#00cc96\",\"#00cc96\",\"#ab63fa\",\"#00cc96\",\"#00cc96\",\"#00cc96\",\"#00cc96\",\"#00cc96\",\"#ab63fa\",\"#00cc96\",\"#00cc96\",\"#ab63fa\",\"#00cc96\",\"#00cc96\",\"#00cc96\",\"#ab63fa\",\"#00cc96\",\"#00cc96\",\"#00cc96\",\"#ab63fa\",\"#00cc96\",\"#ab63fa\",\"#00cc96\",\"#00cc96\",\"#00cc96\",\"#00cc96\",\"#00cc96\",\"#00cc96\",\"#00cc96\",\"#00cc96\",\"#00cc96\",\"#00cc96\",\"#00cc96\",\"#00cc96\",\"#00cc96\",\"#00cc96\",\"#00cc96\",\"#00cc96\",\"#00cc96\",\"#00cc96\",\"#00cc96\",\"#00cc96\",\"#00cc96\",\"#00cc96\",\"#00cc96\",\"#00cc96\",\"#00cc96\",\"#00cc96\",\"#ab63fa\",\"#00cc96\",\"#ab63fa\",\"#ab63fa\",\"#00cc96\",\"#00cc96\",\"#ab63fa\",\"#00cc96\",\"#00cc96\",\"#00cc96\",\"#ab63fa\",\"#00cc96\",\"#00cc96\",\"#00cc96\",\"#00cc96\",\"#00cc96\",\"#00cc96\",\"#00cc96\",\"#00cc96\",\"#00cc96\",\"#00cc96\",\"#00cc96\",\"#00cc96\",\"#00cc96\",\"#00cc96\",\"#00cc96\",\"#00cc96\",\"#00cc96\",\"#00cc96\",\"#00cc96\",\"#00cc96\",\"#00cc96\",\"#00cc96\",\"#00cc96\",\"#ab63fa\",\"#00cc96\",\"#00cc96\",\"#00cc96\",\"#00cc96\",\"#00cc96\",\"#00cc96\",\"#00cc96\",\"#00cc96\",\"#00cc96\",\"#ab63fa\",\"#00cc96\",\"#ab63fa\",\"#00cc96\",\"#00cc96\",\"#00cc96\",\"#00cc96\",\"#00cc96\",\"#00cc96\",\"#00cc96\",\"#00cc96\",\"#ab63fa\",\"#00cc96\",\"#00cc96\",\"#00cc96\",\"#00cc96\",\"#ab63fa\",\"#00cc96\",\"#00cc96\",\"#00cc96\",\"#00cc96\",\"#00cc96\",\"#ab63fa\",\"#00cc96\",\"#00cc96\",\"#00cc96\",\"#00cc96\",\"#ab63fa\",\"#00cc96\",\"#00cc96\",\"#00cc96\",\"#00cc96\",\"#00cc96\",\"#00cc96\",\"#00cc96\",\"#00cc96\",\"#00cc96\",\"#00cc96\",\"#00cc96\",\"#00cc96\",\"#00cc96\",\"#00cc96\",\"#ab63fa\",\"#00cc96\",\"#00cc96\",\"#00cc96\",\"#00cc96\",\"#00cc96\",\"#00cc96\",\"#00cc96\",\"#00cc96\",\"#00cc96\",\"#00cc96\",\"#00cc96\",\"#00cc96\",\"#ab63fa\",\"#00cc96\",\"#ab63fa\",\"#00cc96\",\"#00cc96\",\"#ab63fa\",\"#00cc96\",\"#00cc96\",\"#00cc96\",\"#00cc96\",\"#ab63fa\",\"#ab63fa\",\"#00cc96\",\"#00cc96\",\"#00cc96\",\"#ab63fa\",\"#00cc96\",\"#00cc96\",\"#00cc96\",\"#ab63fa\",\"#00cc96\",\"#00cc96\",\"#00cc96\",\"#ab63fa\",\"#00cc96\",\"#00cc96\",\"#00cc96\",\"#00cc96\",\"#00cc96\",\"#00cc96\",\"#00cc96\",\"#00cc96\",\"#00cc96\",\"#00cc96\",\"#00cc96\",\"#00cc96\",\"#00cc96\",\"#00cc96\",\"#00cc96\",\"#00cc96\",\"#00cc96\",\"#00cc96\",\"#00cc96\",\"#ab63fa\",\"#00cc96\",\"#00cc96\",\"#00cc96\",\"#00cc96\",\"#00cc96\",\"#00cc96\",\"#00cc96\",\"#00cc96\",\"#ab63fa\",\"#00cc96\",\"#00cc96\",\"#00cc96\",\"#00cc96\",\"#00cc96\",\"#00cc96\",\"#00cc96\",\"#00cc96\",\"#00cc96\",\"#00cc96\",\"#00cc96\",\"#00cc96\",\"#00cc96\",\"#00cc96\",\"#00cc96\",\"#00cc96\",\"#ab63fa\",\"#00cc96\",\"#00cc96\",\"#00cc96\",\"#00cc96\",\"#00cc96\",\"#00cc96\",\"#00cc96\",\"#00cc96\",\"#00cc96\",\"#00cc96\",\"#00cc96\",\"#ab63fa\",\"#00cc96\",\"#00cc96\",\"#00cc96\",\"#00cc96\",\"#00cc96\",\"#00cc96\",\"#00cc96\",\"#ab63fa\",\"#00cc96\",\"#00cc96\",\"#00cc96\",\"#00cc96\",\"#00cc96\",\"#00cc96\",\"#00cc96\",\"#00cc96\",\"#00cc96\",\"#ab63fa\",\"#00cc96\",\"#00cc96\",\"#00cc96\",\"#00cc96\",\"#00cc96\",\"#00cc96\",\"#00cc96\",\"#00cc96\",\"#00cc96\",\"#00cc96\",\"#00cc96\",\"#00cc96\",\"#00cc96\",\"#00cc96\",\"#00cc96\",\"#ab63fa\",\"#00cc96\",\"#ab63fa\",\"#00cc96\",\"#00cc96\",\"#00cc96\",\"#00cc96\",\"#00cc96\",\"#00cc96\",\"#00cc96\",\"#00cc96\",\"#00cc96\",\"#00cc96\",\"#00cc96\",\"#00cc96\",\"#00cc96\",\"#00cc96\",\"#ab63fa\",\"#00cc96\",\"#00cc96\",\"#00cc96\",\"#00cc96\",\"#00cc96\",\"#00cc96\",\"#00cc96\",\"#00cc96\",\"#00cc96\",\"#00cc96\",\"#00cc96\",\"#00cc96\",\"#00cc96\",\"#00cc96\",\"#00cc96\",\"#00cc96\",\"#00cc96\",\"#00cc96\",\"#00cc96\",\"#00cc96\",\"#ab63fa\",\"#00cc96\",\"#00cc96\",\"#ab63fa\",\"#00cc96\",\"#00cc96\",\"#00cc96\",\"#ab63fa\",\"#00cc96\",\"#00cc96\",\"#00cc96\",\"#00cc96\",\"#ab63fa\",\"#00cc96\",\"#ab63fa\",\"#00cc96\",\"#00cc96\",\"#00cc96\",\"#ab63fa\",\"#00cc96\",\"#00cc96\",\"#00cc96\",\"#00cc96\",\"#00cc96\",\"#ab63fa\",\"#ab63fa\",\"#00cc96\",\"#00cc96\",\"#00cc96\",\"#00cc96\",\"#ab63fa\",\"#ab63fa\",\"#00cc96\",\"#00cc96\",\"#00cc96\",\"#00cc96\",\"#00cc96\",\"#00cc96\",\"#00cc96\",\"#00cc96\",\"#ab63fa\",\"#00cc96\",\"#00cc96\",\"#00cc96\",\"#00cc96\",\"#00cc96\",\"#00cc96\",\"#00cc96\",\"#00cc96\",\"#00cc96\",\"#ab63fa\",\"#00cc96\",\"#00cc96\",\"#00cc96\",\"#00cc96\",\"#ab63fa\",\"#ab63fa\",\"#00cc96\",\"#ab63fa\",\"#00cc96\",\"#00cc96\",\"#00cc96\",\"#00cc96\",\"#00cc96\",\"#00cc96\",\"#00cc96\",\"#00cc96\",\"#00cc96\",\"#00cc96\",\"#00cc96\",\"#ab63fa\",\"#00cc96\",\"#ab63fa\",\"#00cc96\",\"#00cc96\",\"#ab63fa\",\"#ab63fa\",\"#00cc96\",\"#00cc96\",\"#00cc96\",\"#00cc96\",\"#00cc96\",\"#00cc96\",\"#00cc96\",\"#00cc96\",\"#00cc96\",\"#00cc96\",\"#ab63fa\",\"#00cc96\",\"#ab63fa\",\"#00cc96\",\"#00cc96\",\"#00cc96\",\"#00cc96\",\"#00cc96\",\"#00cc96\",\"#00cc96\",\"#ab63fa\",\"#00cc96\",\"#00cc96\",\"#00cc96\",\"#00cc96\",\"#00cc96\",\"#00cc96\",\"#00cc96\",\"#ab63fa\",\"#00cc96\",\"#ab63fa\",\"#00cc96\",\"#00cc96\",\"#00cc96\",\"#00cc96\",\"#00cc96\",\"#ab63fa\",\"#00cc96\",\"#00cc96\",\"#ab63fa\",\"#ab63fa\",\"#00cc96\",\"#00cc96\",\"#00cc96\",\"#00cc96\",\"#00cc96\",\"#ab63fa\",\"#00cc96\",\"#00cc96\",\"#00cc96\",\"#ab63fa\",\"#00cc96\",\"#00cc96\",\"#00cc96\",\"#00cc96\",\"#00cc96\",\"#00cc96\",\"#00cc96\",\"#00cc96\",\"#00cc96\",\"#00cc96\",\"#00cc96\",\"#ab63fa\",\"#00cc96\",\"#00cc96\",\"#00cc96\",\"#00cc96\",\"#00cc96\",\"#00cc96\",\"#00cc96\",\"#ab63fa\",\"#ab63fa\",\"#00cc96\",\"#00cc96\",\"#00cc96\",\"#ab63fa\",\"#00cc96\",\"#00cc96\",\"#00cc96\",\"#00cc96\",\"#ab63fa\",\"#00cc96\",\"#00cc96\",\"#ab63fa\",\"#00cc96\",\"#00cc96\",\"#ab63fa\",\"#00cc96\",\"#00cc96\",\"#00cc96\",\"#ab63fa\",\"#00cc96\",\"#00cc96\",\"#00cc96\",\"#00cc96\",\"#00cc96\",\"#00cc96\",\"#00cc96\",\"#00cc96\",\"#00cc96\",\"#ab63fa\",\"#00cc96\",\"#00cc96\",\"#00cc96\",\"#00cc96\",\"#00cc96\",\"#00cc96\",\"#00cc96\",\"#00cc96\",\"#00cc96\",\"#ab63fa\",\"#ab63fa\",\"#00cc96\",\"#00cc96\",\"#00cc96\",\"#00cc96\",\"#00cc96\",\"#00cc96\",\"#00cc96\",\"#00cc96\",\"#00cc96\",\"#00cc96\",\"#00cc96\",\"#00cc96\",\"#ab63fa\",\"#00cc96\",\"#00cc96\",\"#ab63fa\",\"#00cc96\",\"#ab63fa\",\"#ab63fa\",\"#ab63fa\",\"#00cc96\",\"#00cc96\",\"#00cc96\",\"#00cc96\",\"#ab63fa\",\"#ab63fa\",\"#00cc96\",\"#00cc96\",\"#00cc96\",\"#00cc96\",\"#00cc96\",\"#00cc96\",\"#00cc96\",\"#00cc96\",\"#00cc96\",\"#00cc96\",\"#00cc96\",\"#00cc96\",\"#00cc96\",\"#00cc96\",\"#00cc96\",\"#00cc96\",\"#00cc96\",\"#00cc96\",\"#00cc96\",\"#00cc96\",\"#00cc96\",\"#00cc96\",\"#00cc96\",\"#00cc96\",\"#00cc96\",\"#00cc96\",\"#00cc96\",\"#00cc96\",\"#00cc96\",\"#ab63fa\",\"#00cc96\",\"#00cc96\",\"#00cc96\",\"#00cc96\",\"#00cc96\",\"#00cc96\",\"#ab63fa\",\"#00cc96\",\"#ab63fa\",\"#00cc96\",\"#00cc96\",\"#ab63fa\",\"#00cc96\",\"#00cc96\",\"#00cc96\",\"#00cc96\",\"#00cc96\",\"#00cc96\",\"#ab63fa\",\"#00cc96\",\"#00cc96\",\"#00cc96\",\"#00cc96\",\"#00cc96\",\"#00cc96\",\"#00cc96\",\"#00cc96\",\"#00cc96\",\"#ab63fa\",\"#00cc96\",\"#00cc96\",\"#00cc96\",\"#ab63fa\",\"#00cc96\",\"#00cc96\",\"#00cc96\",\"#00cc96\",\"#ab63fa\",\"#00cc96\",\"#00cc96\",\"#00cc96\",\"#00cc96\",\"#00cc96\",\"#00cc96\",\"#00cc96\",\"#00cc96\",\"#00cc96\",\"#00cc96\",\"#00cc96\",\"#ab63fa\",\"#ab63fa\",\"#00cc96\",\"#00cc96\",\"#ab63fa\",\"#ab63fa\",\"#00cc96\",\"#00cc96\",\"#00cc96\",\"#00cc96\",\"#00cc96\",\"#00cc96\",\"#00cc96\",\"#00cc96\",\"#00cc96\",\"#00cc96\",\"#00cc96\",\"#00cc96\",\"#00cc96\",\"#00cc96\",\"#00cc96\",\"#00cc96\",\"#00cc96\",\"#ab63fa\",\"#00cc96\",\"#00cc96\",\"#00cc96\",\"#00cc96\",\"#00cc96\",\"#00cc96\",\"#ab63fa\",\"#00cc96\",\"#00cc96\",\"#00cc96\",\"#00cc96\",\"#00cc96\",\"#ab63fa\",\"#00cc96\",\"#00cc96\",\"#00cc96\",\"#00cc96\",\"#ab63fa\",\"#00cc96\",\"#00cc96\",\"#00cc96\",\"#ab63fa\",\"#00cc96\",\"#00cc96\",\"#00cc96\",\"#00cc96\",\"#ab63fa\",\"#00cc96\",\"#00cc96\",\"#ab63fa\",\"#00cc96\",\"#ab63fa\",\"#00cc96\",\"#00cc96\",\"#00cc96\",\"#00cc96\",\"#00cc96\",\"#00cc96\",\"#00cc96\",\"#00cc96\",\"#ab63fa\",\"#00cc96\",\"#00cc96\",\"#00cc96\",\"#00cc96\",\"#00cc96\",\"#00cc96\",\"#00cc96\",\"#00cc96\",\"#00cc96\",\"#00cc96\",\"#ab63fa\",\"#00cc96\",\"#00cc96\",\"#00cc96\",\"#ab63fa\",\"#00cc96\",\"#00cc96\",\"#00cc96\",\"#00cc96\",\"#00cc96\",\"#00cc96\",\"#00cc96\",\"#00cc96\",\"#ab63fa\",\"#00cc96\",\"#ab63fa\",\"#00cc96\",\"#00cc96\",\"#00cc96\",\"#00cc96\",\"#00cc96\",\"#00cc96\",\"#00cc96\",\"#00cc96\",\"#00cc96\",\"#00cc96\",\"#00cc96\",\"#00cc96\",\"#00cc96\",\"#00cc96\",\"#00cc96\",\"#00cc96\",\"#00cc96\",\"#00cc96\",\"#00cc96\",\"#00cc96\",\"#00cc96\",\"#00cc96\",\"#00cc96\",\"#00cc96\",\"#00cc96\",\"#00cc96\",\"#00cc96\",\"#00cc96\",\"#00cc96\",\"#00cc96\",\"#00cc96\",\"#00cc96\",\"#00cc96\",\"#00cc96\",\"#00cc96\",\"#00cc96\",\"#00cc96\",\"#00cc96\",\"#00cc96\",\"#00cc96\",\"#00cc96\",\"#ab63fa\",\"#00cc96\",\"#00cc96\",\"#00cc96\",\"#00cc96\",\"#00cc96\",\"#00cc96\",\"#00cc96\",\"#00cc96\",\"#00cc96\",\"#00cc96\",\"#00cc96\",\"#00cc96\",\"#00cc96\",\"#00cc96\",\"#00cc96\",\"#00cc96\",\"#00cc96\",\"#00cc96\",\"#00cc96\",\"#00cc96\",\"#00cc96\",\"#00cc96\",\"#00cc96\",\"#00cc96\",\"#ab63fa\",\"#00cc96\",\"#00cc96\",\"#00cc96\",\"#ab63fa\",\"#00cc96\",\"#00cc96\",\"#00cc96\",\"#00cc96\",\"#00cc96\",\"#00cc96\",\"#00cc96\",\"#00cc96\",\"#00cc96\",\"#ab63fa\",\"#00cc96\",\"#00cc96\",\"#00cc96\",\"#00cc96\",\"#00cc96\",\"#ab63fa\",\"#00cc96\",\"#00cc96\",\"#00cc96\",\"#00cc96\",\"#00cc96\",\"#00cc96\",\"#ab63fa\",\"#00cc96\",\"#00cc96\",\"#00cc96\",\"#00cc96\",\"#00cc96\",\"#00cc96\",\"#00cc96\",\"#ab63fa\",\"#00cc96\",\"#00cc96\",\"#00cc96\",\"#00cc96\",\"#00cc96\",\"#00cc96\",\"#00cc96\",\"#00cc96\",\"#00cc96\",\"#ab63fa\",\"#00cc96\",\"#00cc96\",\"#00cc96\",\"#ab63fa\",\"#00cc96\",\"#ab63fa\",\"#ab63fa\",\"#00cc96\",\"#00cc96\",\"#00cc96\",\"#ab63fa\",\"#00cc96\",\"#00cc96\",\"#00cc96\",\"#00cc96\",\"#00cc96\",\"#00cc96\",\"#00cc96\",\"#00cc96\",\"#00cc96\",\"#00cc96\",\"#00cc96\",\"#ab63fa\",\"#00cc96\",\"#00cc96\",\"#00cc96\",\"#00cc96\",\"#00cc96\",\"#00cc96\",\"#00cc96\",\"#00cc96\",\"#00cc96\",\"#ab63fa\",\"#ab63fa\",\"#00cc96\",\"#00cc96\",\"#00cc96\",\"#00cc96\",\"#00cc96\",\"#00cc96\",\"#00cc96\",\"#00cc96\",\"#ab63fa\",\"#00cc96\",\"#ab63fa\",\"#00cc96\",\"#00cc96\",\"#00cc96\",\"#00cc96\",\"#00cc96\",\"#00cc96\",\"#00cc96\",\"#00cc96\",\"#00cc96\",\"#00cc96\",\"#00cc96\",\"#00cc96\",\"#00cc96\",\"#00cc96\",\"#00cc96\",\"#00cc96\",\"#ab63fa\",\"#00cc96\",\"#00cc96\",\"#ab63fa\",\"#00cc96\",\"#00cc96\",\"#00cc96\",\"#00cc96\",\"#00cc96\",\"#00cc96\",\"#00cc96\",\"#00cc96\",\"#00cc96\",\"#00cc96\",\"#00cc96\",\"#ab63fa\",\"#00cc96\",\"#00cc96\",\"#00cc96\",\"#00cc96\",\"#00cc96\",\"#00cc96\",\"#00cc96\",\"#00cc96\",\"#ab63fa\",\"#00cc96\",\"#00cc96\",\"#00cc96\",\"#00cc96\",\"#ab63fa\",\"#00cc96\",\"#00cc96\",\"#00cc96\",\"#00cc96\",\"#00cc96\",\"#00cc96\",\"#00cc96\",\"#00cc96\",\"#00cc96\",\"#00cc96\",\"#ab63fa\",\"#00cc96\",\"#00cc96\",\"#00cc96\",\"#00cc96\",\"#00cc96\",\"#00cc96\",\"#ab63fa\",\"#00cc96\",\"#00cc96\",\"#00cc96\",\"#ab63fa\",\"#00cc96\",\"#00cc96\",\"#00cc96\",\"#00cc96\",\"#00cc96\",\"#00cc96\",\"#ab63fa\",\"#ab63fa\",\"#00cc96\",\"#00cc96\",\"#00cc96\",\"#00cc96\",\"#00cc96\",\"#ab63fa\",\"#00cc96\",\"#00cc96\",\"#00cc96\",\"#00cc96\",\"#00cc96\",\"#00cc96\",\"#ab63fa\",\"#00cc96\",\"#00cc96\",\"#00cc96\",\"#00cc96\",\"#00cc96\",\"#00cc96\"]},\"name\":\"\",\"showlegend\":true,\"type\":\"pie\"}],                        {\"template\":{\"data\":{\"histogram2dcontour\":[{\"type\":\"histogram2dcontour\",\"colorbar\":{\"outlinewidth\":0,\"ticks\":\"\"},\"colorscale\":[[0.0,\"#0d0887\"],[0.1111111111111111,\"#46039f\"],[0.2222222222222222,\"#7201a8\"],[0.3333333333333333,\"#9c179e\"],[0.4444444444444444,\"#bd3786\"],[0.5555555555555556,\"#d8576b\"],[0.6666666666666666,\"#ed7953\"],[0.7777777777777778,\"#fb9f3a\"],[0.8888888888888888,\"#fdca26\"],[1.0,\"#f0f921\"]]}],\"choropleth\":[{\"type\":\"choropleth\",\"colorbar\":{\"outlinewidth\":0,\"ticks\":\"\"}}],\"histogram2d\":[{\"type\":\"histogram2d\",\"colorbar\":{\"outlinewidth\":0,\"ticks\":\"\"},\"colorscale\":[[0.0,\"#0d0887\"],[0.1111111111111111,\"#46039f\"],[0.2222222222222222,\"#7201a8\"],[0.3333333333333333,\"#9c179e\"],[0.4444444444444444,\"#bd3786\"],[0.5555555555555556,\"#d8576b\"],[0.6666666666666666,\"#ed7953\"],[0.7777777777777778,\"#fb9f3a\"],[0.8888888888888888,\"#fdca26\"],[1.0,\"#f0f921\"]]}],\"heatmap\":[{\"type\":\"heatmap\",\"colorbar\":{\"outlinewidth\":0,\"ticks\":\"\"},\"colorscale\":[[0.0,\"#0d0887\"],[0.1111111111111111,\"#46039f\"],[0.2222222222222222,\"#7201a8\"],[0.3333333333333333,\"#9c179e\"],[0.4444444444444444,\"#bd3786\"],[0.5555555555555556,\"#d8576b\"],[0.6666666666666666,\"#ed7953\"],[0.7777777777777778,\"#fb9f3a\"],[0.8888888888888888,\"#fdca26\"],[1.0,\"#f0f921\"]]}],\"heatmapgl\":[{\"type\":\"heatmapgl\",\"colorbar\":{\"outlinewidth\":0,\"ticks\":\"\"},\"colorscale\":[[0.0,\"#0d0887\"],[0.1111111111111111,\"#46039f\"],[0.2222222222222222,\"#7201a8\"],[0.3333333333333333,\"#9c179e\"],[0.4444444444444444,\"#bd3786\"],[0.5555555555555556,\"#d8576b\"],[0.6666666666666666,\"#ed7953\"],[0.7777777777777778,\"#fb9f3a\"],[0.8888888888888888,\"#fdca26\"],[1.0,\"#f0f921\"]]}],\"contourcarpet\":[{\"type\":\"contourcarpet\",\"colorbar\":{\"outlinewidth\":0,\"ticks\":\"\"}}],\"contour\":[{\"type\":\"contour\",\"colorbar\":{\"outlinewidth\":0,\"ticks\":\"\"},\"colorscale\":[[0.0,\"#0d0887\"],[0.1111111111111111,\"#46039f\"],[0.2222222222222222,\"#7201a8\"],[0.3333333333333333,\"#9c179e\"],[0.4444444444444444,\"#bd3786\"],[0.5555555555555556,\"#d8576b\"],[0.6666666666666666,\"#ed7953\"],[0.7777777777777778,\"#fb9f3a\"],[0.8888888888888888,\"#fdca26\"],[1.0,\"#f0f921\"]]}],\"surface\":[{\"type\":\"surface\",\"colorbar\":{\"outlinewidth\":0,\"ticks\":\"\"},\"colorscale\":[[0.0,\"#0d0887\"],[0.1111111111111111,\"#46039f\"],[0.2222222222222222,\"#7201a8\"],[0.3333333333333333,\"#9c179e\"],[0.4444444444444444,\"#bd3786\"],[0.5555555555555556,\"#d8576b\"],[0.6666666666666666,\"#ed7953\"],[0.7777777777777778,\"#fb9f3a\"],[0.8888888888888888,\"#fdca26\"],[1.0,\"#f0f921\"]]}],\"mesh3d\":[{\"type\":\"mesh3d\",\"colorbar\":{\"outlinewidth\":0,\"ticks\":\"\"}}],\"scatter\":[{\"fillpattern\":{\"fillmode\":\"overlay\",\"size\":10,\"solidity\":0.2},\"type\":\"scatter\"}],\"parcoords\":[{\"type\":\"parcoords\",\"line\":{\"colorbar\":{\"outlinewidth\":0,\"ticks\":\"\"}}}],\"scatterpolargl\":[{\"type\":\"scatterpolargl\",\"marker\":{\"colorbar\":{\"outlinewidth\":0,\"ticks\":\"\"}}}],\"bar\":[{\"error_x\":{\"color\":\"#2a3f5f\"},\"error_y\":{\"color\":\"#2a3f5f\"},\"marker\":{\"line\":{\"color\":\"#E5ECF6\",\"width\":0.5},\"pattern\":{\"fillmode\":\"overlay\",\"size\":10,\"solidity\":0.2}},\"type\":\"bar\"}],\"scattergeo\":[{\"type\":\"scattergeo\",\"marker\":{\"colorbar\":{\"outlinewidth\":0,\"ticks\":\"\"}}}],\"scatterpolar\":[{\"type\":\"scatterpolar\",\"marker\":{\"colorbar\":{\"outlinewidth\":0,\"ticks\":\"\"}}}],\"histogram\":[{\"marker\":{\"pattern\":{\"fillmode\":\"overlay\",\"size\":10,\"solidity\":0.2}},\"type\":\"histogram\"}],\"scattergl\":[{\"type\":\"scattergl\",\"marker\":{\"colorbar\":{\"outlinewidth\":0,\"ticks\":\"\"}}}],\"scatter3d\":[{\"type\":\"scatter3d\",\"line\":{\"colorbar\":{\"outlinewidth\":0,\"ticks\":\"\"}},\"marker\":{\"colorbar\":{\"outlinewidth\":0,\"ticks\":\"\"}}}],\"scattermapbox\":[{\"type\":\"scattermapbox\",\"marker\":{\"colorbar\":{\"outlinewidth\":0,\"ticks\":\"\"}}}],\"scatterternary\":[{\"type\":\"scatterternary\",\"marker\":{\"colorbar\":{\"outlinewidth\":0,\"ticks\":\"\"}}}],\"scattercarpet\":[{\"type\":\"scattercarpet\",\"marker\":{\"colorbar\":{\"outlinewidth\":0,\"ticks\":\"\"}}}],\"carpet\":[{\"aaxis\":{\"endlinecolor\":\"#2a3f5f\",\"gridcolor\":\"white\",\"linecolor\":\"white\",\"minorgridcolor\":\"white\",\"startlinecolor\":\"#2a3f5f\"},\"baxis\":{\"endlinecolor\":\"#2a3f5f\",\"gridcolor\":\"white\",\"linecolor\":\"white\",\"minorgridcolor\":\"white\",\"startlinecolor\":\"#2a3f5f\"},\"type\":\"carpet\"}],\"table\":[{\"cells\":{\"fill\":{\"color\":\"#EBF0F8\"},\"line\":{\"color\":\"white\"}},\"header\":{\"fill\":{\"color\":\"#C8D4E3\"},\"line\":{\"color\":\"white\"}},\"type\":\"table\"}],\"barpolar\":[{\"marker\":{\"line\":{\"color\":\"#E5ECF6\",\"width\":0.5},\"pattern\":{\"fillmode\":\"overlay\",\"size\":10,\"solidity\":0.2}},\"type\":\"barpolar\"}],\"pie\":[{\"automargin\":true,\"type\":\"pie\"}]},\"layout\":{\"autotypenumbers\":\"strict\",\"colorway\":[\"#636efa\",\"#EF553B\",\"#00cc96\",\"#ab63fa\",\"#FFA15A\",\"#19d3f3\",\"#FF6692\",\"#B6E880\",\"#FF97FF\",\"#FECB52\"],\"font\":{\"color\":\"#2a3f5f\"},\"hovermode\":\"closest\",\"hoverlabel\":{\"align\":\"left\"},\"paper_bgcolor\":\"white\",\"plot_bgcolor\":\"#E5ECF6\",\"polar\":{\"bgcolor\":\"#E5ECF6\",\"angularaxis\":{\"gridcolor\":\"white\",\"linecolor\":\"white\",\"ticks\":\"\"},\"radialaxis\":{\"gridcolor\":\"white\",\"linecolor\":\"white\",\"ticks\":\"\"}},\"ternary\":{\"bgcolor\":\"#E5ECF6\",\"aaxis\":{\"gridcolor\":\"white\",\"linecolor\":\"white\",\"ticks\":\"\"},\"baxis\":{\"gridcolor\":\"white\",\"linecolor\":\"white\",\"ticks\":\"\"},\"caxis\":{\"gridcolor\":\"white\",\"linecolor\":\"white\",\"ticks\":\"\"}},\"coloraxis\":{\"colorbar\":{\"outlinewidth\":0,\"ticks\":\"\"}},\"colorscale\":{\"sequential\":[[0.0,\"#0d0887\"],[0.1111111111111111,\"#46039f\"],[0.2222222222222222,\"#7201a8\"],[0.3333333333333333,\"#9c179e\"],[0.4444444444444444,\"#bd3786\"],[0.5555555555555556,\"#d8576b\"],[0.6666666666666666,\"#ed7953\"],[0.7777777777777778,\"#fb9f3a\"],[0.8888888888888888,\"#fdca26\"],[1.0,\"#f0f921\"]],\"sequentialminus\":[[0.0,\"#0d0887\"],[0.1111111111111111,\"#46039f\"],[0.2222222222222222,\"#7201a8\"],[0.3333333333333333,\"#9c179e\"],[0.4444444444444444,\"#bd3786\"],[0.5555555555555556,\"#d8576b\"],[0.6666666666666666,\"#ed7953\"],[0.7777777777777778,\"#fb9f3a\"],[0.8888888888888888,\"#fdca26\"],[1.0,\"#f0f921\"]],\"diverging\":[[0,\"#8e0152\"],[0.1,\"#c51b7d\"],[0.2,\"#de77ae\"],[0.3,\"#f1b6da\"],[0.4,\"#fde0ef\"],[0.5,\"#f7f7f7\"],[0.6,\"#e6f5d0\"],[0.7,\"#b8e186\"],[0.8,\"#7fbc41\"],[0.9,\"#4d9221\"],[1,\"#276419\"]]},\"xaxis\":{\"gridcolor\":\"white\",\"linecolor\":\"white\",\"ticks\":\"\",\"title\":{\"standoff\":15},\"zerolinecolor\":\"white\",\"automargin\":true,\"zerolinewidth\":2},\"yaxis\":{\"gridcolor\":\"white\",\"linecolor\":\"white\",\"ticks\":\"\",\"title\":{\"standoff\":15},\"zerolinecolor\":\"white\",\"automargin\":true,\"zerolinewidth\":2},\"scene\":{\"xaxis\":{\"backgroundcolor\":\"#E5ECF6\",\"gridcolor\":\"white\",\"linecolor\":\"white\",\"showbackground\":true,\"ticks\":\"\",\"zerolinecolor\":\"white\",\"gridwidth\":2},\"yaxis\":{\"backgroundcolor\":\"#E5ECF6\",\"gridcolor\":\"white\",\"linecolor\":\"white\",\"showbackground\":true,\"ticks\":\"\",\"zerolinecolor\":\"white\",\"gridwidth\":2},\"zaxis\":{\"backgroundcolor\":\"#E5ECF6\",\"gridcolor\":\"white\",\"linecolor\":\"white\",\"showbackground\":true,\"ticks\":\"\",\"zerolinecolor\":\"white\",\"gridwidth\":2}},\"shapedefaults\":{\"line\":{\"color\":\"#2a3f5f\"}},\"annotationdefaults\":{\"arrowcolor\":\"#2a3f5f\",\"arrowhead\":0,\"arrowwidth\":1},\"geo\":{\"bgcolor\":\"white\",\"landcolor\":\"#E5ECF6\",\"subunitcolor\":\"white\",\"showland\":true,\"showlakes\":true,\"lakecolor\":\"white\"},\"title\":{\"x\":0.05},\"mapbox\":{\"style\":\"light\"}}},\"legend\":{\"tracegroupgap\":0},\"margin\":{\"t\":60}},                        {\"responsive\": true}                    ).then(function(){\n",
       "                            \n",
       "var gd = document.getElementById('7ff3e3e4-9cfc-4ec1-bd31-a14054a1eed4');\n",
       "var x = new MutationObserver(function (mutations, observer) {{\n",
       "        var display = window.getComputedStyle(gd).display;\n",
       "        if (!display || display === 'none') {{\n",
       "            console.log([gd, 'removed!']);\n",
       "            Plotly.purge(gd);\n",
       "            observer.disconnect();\n",
       "        }}\n",
       "}});\n",
       "\n",
       "// Listen for the removal of the full notebook cells\n",
       "var notebookContainer = gd.closest('#notebook-container');\n",
       "if (notebookContainer) {{\n",
       "    x.observe(notebookContainer, {childList: true});\n",
       "}}\n",
       "\n",
       "// Listen for the clearing of the current output cell\n",
       "var outputEl = gd.closest('.output');\n",
       "if (outputEl) {{\n",
       "    x.observe(outputEl, {childList: true});\n",
       "}}\n",
       "\n",
       "                        })                };                });            </script>        </div>"
      ]
     },
     "metadata": {},
     "output_type": "display_data"
    }
   ],
   "source": [
    "import plotly.express as px\n",
    "\n",
    "fig = px.pie(new,names='Status',color='Status',\n",
    "             color_discrete_map={'Yes':'red',\n",
    "                                 'No':'green'})\n",
    "fig.show()"
   ]
  },
  {
   "cell_type": "markdown",
   "id": "dacacc72",
   "metadata": {},
   "source": [
    "# 5.Labeling the data "
   ]
  },
  {
   "cell_type": "code",
   "execution_count": 23,
   "id": "77ed3da7",
   "metadata": {},
   "outputs": [
    {
     "data": {
      "text/html": [
       "<div>\n",
       "<style scoped>\n",
       "    .dataframe tbody tr th:only-of-type {\n",
       "        vertical-align: middle;\n",
       "    }\n",
       "\n",
       "    .dataframe tbody tr th {\n",
       "        vertical-align: top;\n",
       "    }\n",
       "\n",
       "    .dataframe thead th {\n",
       "        text-align: right;\n",
       "    }\n",
       "</style>\n",
       "<table border=\"1\" class=\"dataframe\">\n",
       "  <thead>\n",
       "    <tr style=\"text-align: right;\">\n",
       "      <th></th>\n",
       "      <th>Age</th>\n",
       "      <th>Race</th>\n",
       "      <th>Marital_Status</th>\n",
       "      <th>T_Stage</th>\n",
       "      <th>N_Stage</th>\n",
       "      <th>6th_Stage</th>\n",
       "      <th>differentiate</th>\n",
       "      <th>Grade</th>\n",
       "      <th>A_Stage</th>\n",
       "      <th>Tumor_Size</th>\n",
       "      <th>Estrogen_Status</th>\n",
       "      <th>Progesterone_Status</th>\n",
       "      <th>Regional_Node_Examined</th>\n",
       "      <th>Reginol_Node_Positive</th>\n",
       "      <th>Survival_Months</th>\n",
       "      <th>Status</th>\n",
       "    </tr>\n",
       "  </thead>\n",
       "  <tbody>\n",
       "    <tr>\n",
       "      <th>0</th>\n",
       "      <td>68</td>\n",
       "      <td>White</td>\n",
       "      <td>Married</td>\n",
       "      <td>T1</td>\n",
       "      <td>N1</td>\n",
       "      <td>IIA</td>\n",
       "      <td>Poorly differentiated</td>\n",
       "      <td>3</td>\n",
       "      <td>Regional</td>\n",
       "      <td>4.0</td>\n",
       "      <td>Positive</td>\n",
       "      <td>Positive</td>\n",
       "      <td>24.0</td>\n",
       "      <td>1.0</td>\n",
       "      <td>Survival_Months_49-60</td>\n",
       "      <td>Alive</td>\n",
       "    </tr>\n",
       "    <tr>\n",
       "      <th>1</th>\n",
       "      <td>50</td>\n",
       "      <td>White</td>\n",
       "      <td>Married</td>\n",
       "      <td>T2</td>\n",
       "      <td>N2</td>\n",
       "      <td>IIIA</td>\n",
       "      <td>Moderately differentiated</td>\n",
       "      <td>2</td>\n",
       "      <td>Regional</td>\n",
       "      <td>35.0</td>\n",
       "      <td>Positive</td>\n",
       "      <td>Positive</td>\n",
       "      <td>14.0</td>\n",
       "      <td>5.0</td>\n",
       "      <td>Survival_Months_gt_60</td>\n",
       "      <td>Alive</td>\n",
       "    </tr>\n",
       "    <tr>\n",
       "      <th>2</th>\n",
       "      <td>58</td>\n",
       "      <td>White</td>\n",
       "      <td>Divorced</td>\n",
       "      <td>T3</td>\n",
       "      <td>N3</td>\n",
       "      <td>IIIC</td>\n",
       "      <td>Moderately differentiated</td>\n",
       "      <td>2</td>\n",
       "      <td>Regional</td>\n",
       "      <td>63.0</td>\n",
       "      <td>Positive</td>\n",
       "      <td>Positive</td>\n",
       "      <td>14.0</td>\n",
       "      <td>7.0</td>\n",
       "      <td>Survival_Months_gt_60</td>\n",
       "      <td>Alive</td>\n",
       "    </tr>\n",
       "    <tr>\n",
       "      <th>3</th>\n",
       "      <td>58</td>\n",
       "      <td>White</td>\n",
       "      <td>Married</td>\n",
       "      <td>T1</td>\n",
       "      <td>N1</td>\n",
       "      <td>IIA</td>\n",
       "      <td>Poorly differentiated</td>\n",
       "      <td>3</td>\n",
       "      <td>Regional</td>\n",
       "      <td>18.0</td>\n",
       "      <td>Positive</td>\n",
       "      <td>Positive</td>\n",
       "      <td>2.0</td>\n",
       "      <td>1.0</td>\n",
       "      <td>Survival_Months_gt_60</td>\n",
       "      <td>Alive</td>\n",
       "    </tr>\n",
       "    <tr>\n",
       "      <th>4</th>\n",
       "      <td>47</td>\n",
       "      <td>White</td>\n",
       "      <td>Married</td>\n",
       "      <td>T2</td>\n",
       "      <td>N1</td>\n",
       "      <td>IIB</td>\n",
       "      <td>Poorly differentiated</td>\n",
       "      <td>3</td>\n",
       "      <td>Regional</td>\n",
       "      <td>41.0</td>\n",
       "      <td>Positive</td>\n",
       "      <td>Positive</td>\n",
       "      <td>3.0</td>\n",
       "      <td>1.0</td>\n",
       "      <td>Survival_Months_49-60</td>\n",
       "      <td>Alive</td>\n",
       "    </tr>\n",
       "  </tbody>\n",
       "</table>\n",
       "</div>"
      ],
      "text/plain": [
       "   Age   Race Marital_Status T_Stage  N_Stage 6th_Stage  \\\n",
       "0   68  White        Married       T1      N1       IIA   \n",
       "1   50  White        Married       T2      N2      IIIA   \n",
       "2   58  White       Divorced       T3      N3      IIIC   \n",
       "3   58  White        Married       T1      N1       IIA   \n",
       "4   47  White        Married       T2      N1       IIB   \n",
       "\n",
       "               differentiate Grade   A_Stage  Tumor_Size Estrogen_Status  \\\n",
       "0      Poorly differentiated     3  Regional         4.0        Positive   \n",
       "1  Moderately differentiated     2  Regional        35.0        Positive   \n",
       "2  Moderately differentiated     2  Regional        63.0        Positive   \n",
       "3      Poorly differentiated     3  Regional        18.0        Positive   \n",
       "4      Poorly differentiated     3  Regional        41.0        Positive   \n",
       "\n",
       "  Progesterone_Status  Regional_Node_Examined  Reginol_Node_Positive  \\\n",
       "0            Positive                    24.0                    1.0   \n",
       "1            Positive                    14.0                    5.0   \n",
       "2            Positive                    14.0                    7.0   \n",
       "3            Positive                     2.0                    1.0   \n",
       "4            Positive                     3.0                    1.0   \n",
       "\n",
       "         Survival_Months Status  \n",
       "0  Survival_Months_49-60  Alive  \n",
       "1  Survival_Months_gt_60  Alive  \n",
       "2  Survival_Months_gt_60  Alive  \n",
       "3  Survival_Months_gt_60  Alive  \n",
       "4  Survival_Months_49-60  Alive  "
      ]
     },
     "execution_count": 23,
     "metadata": {},
     "output_type": "execute_result"
    }
   ],
   "source": [
    "new.head()"
   ]
  },
  {
   "cell_type": "code",
   "execution_count": 24,
   "id": "80fd3be9",
   "metadata": {},
   "outputs": [
    {
     "data": {
      "text/plain": [
       "['Age', 'Tumor_Size', 'Regional_Node_Examined', 'Reginol_Node_Positive']"
      ]
     },
     "execution_count": 24,
     "metadata": {},
     "output_type": "execute_result"
    }
   ],
   "source": [
    "new.select_dtypes(include=[np.number]).columns.tolist()"
   ]
  },
  {
   "cell_type": "code",
   "execution_count": 25,
   "id": "71edc5af",
   "metadata": {},
   "outputs": [
    {
     "data": {
      "text/html": [
       "<div>\n",
       "<style scoped>\n",
       "    .dataframe tbody tr th:only-of-type {\n",
       "        vertical-align: middle;\n",
       "    }\n",
       "\n",
       "    .dataframe tbody tr th {\n",
       "        vertical-align: top;\n",
       "    }\n",
       "\n",
       "    .dataframe thead th {\n",
       "        text-align: right;\n",
       "    }\n",
       "</style>\n",
       "<table border=\"1\" class=\"dataframe\">\n",
       "  <thead>\n",
       "    <tr style=\"text-align: right;\">\n",
       "      <th></th>\n",
       "      <th>Age</th>\n",
       "      <th>Tumor_Size</th>\n",
       "      <th>Regional_Node_Examined</th>\n",
       "      <th>Reginol_Node_Positive</th>\n",
       "    </tr>\n",
       "  </thead>\n",
       "  <tbody>\n",
       "    <tr>\n",
       "      <th>0</th>\n",
       "      <td>68</td>\n",
       "      <td>4.0</td>\n",
       "      <td>24.0</td>\n",
       "      <td>1.0</td>\n",
       "    </tr>\n",
       "    <tr>\n",
       "      <th>1</th>\n",
       "      <td>50</td>\n",
       "      <td>35.0</td>\n",
       "      <td>14.0</td>\n",
       "      <td>5.0</td>\n",
       "    </tr>\n",
       "    <tr>\n",
       "      <th>2</th>\n",
       "      <td>58</td>\n",
       "      <td>63.0</td>\n",
       "      <td>14.0</td>\n",
       "      <td>7.0</td>\n",
       "    </tr>\n",
       "  </tbody>\n",
       "</table>\n",
       "</div>"
      ],
      "text/plain": [
       "   Age  Tumor_Size  Regional_Node_Examined  Reginol_Node_Positive\n",
       "0   68         4.0                    24.0                    1.0\n",
       "1   50        35.0                    14.0                    5.0\n",
       "2   58        63.0                    14.0                    7.0"
      ]
     },
     "execution_count": 25,
     "metadata": {},
     "output_type": "execute_result"
    }
   ],
   "source": [
    "# #Employee Numeric columns\n",
    "new_num = new[new.select_dtypes(include=[np.number]).columns.tolist()]\n",
    "new_num.head(3)"
   ]
  },
  {
   "cell_type": "code",
   "execution_count": 26,
   "id": "63655743",
   "metadata": {},
   "outputs": [
    {
     "data": {
      "text/html": [
       "<div>\n",
       "<style scoped>\n",
       "    .dataframe tbody tr th:only-of-type {\n",
       "        vertical-align: middle;\n",
       "    }\n",
       "\n",
       "    .dataframe tbody tr th {\n",
       "        vertical-align: top;\n",
       "    }\n",
       "\n",
       "    .dataframe thead th {\n",
       "        text-align: right;\n",
       "    }\n",
       "</style>\n",
       "<table border=\"1\" class=\"dataframe\">\n",
       "  <thead>\n",
       "    <tr style=\"text-align: right;\">\n",
       "      <th></th>\n",
       "      <th>Race</th>\n",
       "      <th>Marital_Status</th>\n",
       "      <th>T_Stage</th>\n",
       "      <th>N_Stage</th>\n",
       "      <th>6th_Stage</th>\n",
       "      <th>differentiate</th>\n",
       "      <th>Grade</th>\n",
       "      <th>A_Stage</th>\n",
       "      <th>Estrogen_Status</th>\n",
       "      <th>Progesterone_Status</th>\n",
       "      <th>Survival_Months</th>\n",
       "      <th>Status</th>\n",
       "    </tr>\n",
       "  </thead>\n",
       "  <tbody>\n",
       "    <tr>\n",
       "      <th>0</th>\n",
       "      <td>White</td>\n",
       "      <td>Married</td>\n",
       "      <td>T1</td>\n",
       "      <td>N1</td>\n",
       "      <td>IIA</td>\n",
       "      <td>Poorly differentiated</td>\n",
       "      <td>3</td>\n",
       "      <td>Regional</td>\n",
       "      <td>Positive</td>\n",
       "      <td>Positive</td>\n",
       "      <td>Survival_Months_49-60</td>\n",
       "      <td>Alive</td>\n",
       "    </tr>\n",
       "    <tr>\n",
       "      <th>1</th>\n",
       "      <td>White</td>\n",
       "      <td>Married</td>\n",
       "      <td>T2</td>\n",
       "      <td>N2</td>\n",
       "      <td>IIIA</td>\n",
       "      <td>Moderately differentiated</td>\n",
       "      <td>2</td>\n",
       "      <td>Regional</td>\n",
       "      <td>Positive</td>\n",
       "      <td>Positive</td>\n",
       "      <td>Survival_Months_gt_60</td>\n",
       "      <td>Alive</td>\n",
       "    </tr>\n",
       "    <tr>\n",
       "      <th>2</th>\n",
       "      <td>White</td>\n",
       "      <td>Divorced</td>\n",
       "      <td>T3</td>\n",
       "      <td>N3</td>\n",
       "      <td>IIIC</td>\n",
       "      <td>Moderately differentiated</td>\n",
       "      <td>2</td>\n",
       "      <td>Regional</td>\n",
       "      <td>Positive</td>\n",
       "      <td>Positive</td>\n",
       "      <td>Survival_Months_gt_60</td>\n",
       "      <td>Alive</td>\n",
       "    </tr>\n",
       "  </tbody>\n",
       "</table>\n",
       "</div>"
      ],
      "text/plain": [
       "    Race Marital_Status T_Stage  N_Stage 6th_Stage              differentiate  \\\n",
       "0  White        Married       T1      N1       IIA      Poorly differentiated   \n",
       "1  White        Married       T2      N2      IIIA  Moderately differentiated   \n",
       "2  White       Divorced       T3      N3      IIIC  Moderately differentiated   \n",
       "\n",
       "  Grade   A_Stage Estrogen_Status Progesterone_Status        Survival_Months  \\\n",
       "0     3  Regional        Positive            Positive  Survival_Months_49-60   \n",
       "1     2  Regional        Positive            Positive  Survival_Months_gt_60   \n",
       "2     2  Regional        Positive            Positive  Survival_Months_gt_60   \n",
       "\n",
       "  Status  \n",
       "0  Alive  \n",
       "1  Alive  \n",
       "2  Alive  "
      ]
     },
     "execution_count": 26,
     "metadata": {},
     "output_type": "execute_result"
    }
   ],
   "source": [
    "new_dummies = new[new.select_dtypes(include=['object']).columns.tolist()]\n",
    "new_dummies.head(3)"
   ]
  },
  {
   "cell_type": "code",
   "execution_count": 27,
   "id": "57623c70",
   "metadata": {},
   "outputs": [
    {
     "data": {
      "text/html": [
       "<div>\n",
       "<style scoped>\n",
       "    .dataframe tbody tr th:only-of-type {\n",
       "        vertical-align: middle;\n",
       "    }\n",
       "\n",
       "    .dataframe tbody tr th {\n",
       "        vertical-align: top;\n",
       "    }\n",
       "\n",
       "    .dataframe thead th {\n",
       "        text-align: right;\n",
       "    }\n",
       "</style>\n",
       "<table border=\"1\" class=\"dataframe\">\n",
       "  <thead>\n",
       "    <tr style=\"text-align: right;\">\n",
       "      <th></th>\n",
       "      <th>Race</th>\n",
       "      <th>Marital_Status</th>\n",
       "      <th>T_Stage</th>\n",
       "      <th>N_Stage</th>\n",
       "      <th>6th_Stage</th>\n",
       "      <th>differentiate</th>\n",
       "      <th>Grade</th>\n",
       "      <th>A_Stage</th>\n",
       "      <th>Estrogen_Status</th>\n",
       "      <th>Progesterone_Status</th>\n",
       "      <th>Survival_Months</th>\n",
       "      <th>Status</th>\n",
       "    </tr>\n",
       "  </thead>\n",
       "  <tbody>\n",
       "    <tr>\n",
       "      <th>0</th>\n",
       "      <td>2</td>\n",
       "      <td>1</td>\n",
       "      <td>0</td>\n",
       "      <td>0</td>\n",
       "      <td>0</td>\n",
       "      <td>1</td>\n",
       "      <td>3</td>\n",
       "      <td>1</td>\n",
       "      <td>1</td>\n",
       "      <td>1</td>\n",
       "      <td>3</td>\n",
       "      <td>0</td>\n",
       "    </tr>\n",
       "    <tr>\n",
       "      <th>1</th>\n",
       "      <td>2</td>\n",
       "      <td>1</td>\n",
       "      <td>1</td>\n",
       "      <td>1</td>\n",
       "      <td>2</td>\n",
       "      <td>0</td>\n",
       "      <td>2</td>\n",
       "      <td>1</td>\n",
       "      <td>1</td>\n",
       "      <td>1</td>\n",
       "      <td>4</td>\n",
       "      <td>0</td>\n",
       "    </tr>\n",
       "    <tr>\n",
       "      <th>2</th>\n",
       "      <td>2</td>\n",
       "      <td>0</td>\n",
       "      <td>2</td>\n",
       "      <td>2</td>\n",
       "      <td>4</td>\n",
       "      <td>0</td>\n",
       "      <td>2</td>\n",
       "      <td>1</td>\n",
       "      <td>1</td>\n",
       "      <td>1</td>\n",
       "      <td>4</td>\n",
       "      <td>0</td>\n",
       "    </tr>\n",
       "  </tbody>\n",
       "</table>\n",
       "</div>"
      ],
      "text/plain": [
       "   Race  Marital_Status  T_Stage   N_Stage  6th_Stage  differentiate  Grade  \\\n",
       "0     2               1         0        0          0              1      3   \n",
       "1     2               1         1        1          2              0      2   \n",
       "2     2               0         2        2          4              0      2   \n",
       "\n",
       "   A_Stage  Estrogen_Status  Progesterone_Status  Survival_Months  Status  \n",
       "0        1                1                    1                3       0  \n",
       "1        1                1                    1                4       0  \n",
       "2        1                1                    1                4       0  "
      ]
     },
     "execution_count": 27,
     "metadata": {},
     "output_type": "execute_result"
    }
   ],
   "source": [
    "from sklearn.preprocessing import LabelEncoder\n",
    "new_dummies=new_dummies.apply(LabelEncoder().fit_transform)\n",
    "new_dummies.head(3)\n",
    "# label in ascending order"
   ]
  },
  {
   "cell_type": "code",
   "execution_count": 28,
   "id": "a9278788",
   "metadata": {},
   "outputs": [
    {
     "data": {
      "text/html": [
       "<div>\n",
       "<style scoped>\n",
       "    .dataframe tbody tr th:only-of-type {\n",
       "        vertical-align: middle;\n",
       "    }\n",
       "\n",
       "    .dataframe tbody tr th {\n",
       "        vertical-align: top;\n",
       "    }\n",
       "\n",
       "    .dataframe thead th {\n",
       "        text-align: right;\n",
       "    }\n",
       "</style>\n",
       "<table border=\"1\" class=\"dataframe\">\n",
       "  <thead>\n",
       "    <tr style=\"text-align: right;\">\n",
       "      <th></th>\n",
       "      <th>Age</th>\n",
       "      <th>Tumor_Size</th>\n",
       "      <th>Regional_Node_Examined</th>\n",
       "      <th>Reginol_Node_Positive</th>\n",
       "      <th>Race</th>\n",
       "      <th>Marital_Status</th>\n",
       "      <th>T_Stage</th>\n",
       "      <th>N_Stage</th>\n",
       "      <th>6th_Stage</th>\n",
       "      <th>differentiate</th>\n",
       "      <th>Grade</th>\n",
       "      <th>A_Stage</th>\n",
       "      <th>Estrogen_Status</th>\n",
       "      <th>Progesterone_Status</th>\n",
       "      <th>Survival_Months</th>\n",
       "      <th>Status</th>\n",
       "    </tr>\n",
       "  </thead>\n",
       "  <tbody>\n",
       "    <tr>\n",
       "      <th>0</th>\n",
       "      <td>68</td>\n",
       "      <td>4.0</td>\n",
       "      <td>24.0</td>\n",
       "      <td>1.0</td>\n",
       "      <td>2</td>\n",
       "      <td>1</td>\n",
       "      <td>0</td>\n",
       "      <td>0</td>\n",
       "      <td>0</td>\n",
       "      <td>1</td>\n",
       "      <td>3</td>\n",
       "      <td>1</td>\n",
       "      <td>1</td>\n",
       "      <td>1</td>\n",
       "      <td>3</td>\n",
       "      <td>0</td>\n",
       "    </tr>\n",
       "    <tr>\n",
       "      <th>1</th>\n",
       "      <td>50</td>\n",
       "      <td>35.0</td>\n",
       "      <td>14.0</td>\n",
       "      <td>5.0</td>\n",
       "      <td>2</td>\n",
       "      <td>1</td>\n",
       "      <td>1</td>\n",
       "      <td>1</td>\n",
       "      <td>2</td>\n",
       "      <td>0</td>\n",
       "      <td>2</td>\n",
       "      <td>1</td>\n",
       "      <td>1</td>\n",
       "      <td>1</td>\n",
       "      <td>4</td>\n",
       "      <td>0</td>\n",
       "    </tr>\n",
       "    <tr>\n",
       "      <th>2</th>\n",
       "      <td>58</td>\n",
       "      <td>63.0</td>\n",
       "      <td>14.0</td>\n",
       "      <td>7.0</td>\n",
       "      <td>2</td>\n",
       "      <td>0</td>\n",
       "      <td>2</td>\n",
       "      <td>2</td>\n",
       "      <td>4</td>\n",
       "      <td>0</td>\n",
       "      <td>2</td>\n",
       "      <td>1</td>\n",
       "      <td>1</td>\n",
       "      <td>1</td>\n",
       "      <td>4</td>\n",
       "      <td>0</td>\n",
       "    </tr>\n",
       "    <tr>\n",
       "      <th>3</th>\n",
       "      <td>58</td>\n",
       "      <td>18.0</td>\n",
       "      <td>2.0</td>\n",
       "      <td>1.0</td>\n",
       "      <td>2</td>\n",
       "      <td>1</td>\n",
       "      <td>0</td>\n",
       "      <td>0</td>\n",
       "      <td>0</td>\n",
       "      <td>1</td>\n",
       "      <td>3</td>\n",
       "      <td>1</td>\n",
       "      <td>1</td>\n",
       "      <td>1</td>\n",
       "      <td>4</td>\n",
       "      <td>0</td>\n",
       "    </tr>\n",
       "    <tr>\n",
       "      <th>4</th>\n",
       "      <td>47</td>\n",
       "      <td>41.0</td>\n",
       "      <td>3.0</td>\n",
       "      <td>1.0</td>\n",
       "      <td>2</td>\n",
       "      <td>1</td>\n",
       "      <td>1</td>\n",
       "      <td>0</td>\n",
       "      <td>1</td>\n",
       "      <td>1</td>\n",
       "      <td>3</td>\n",
       "      <td>1</td>\n",
       "      <td>1</td>\n",
       "      <td>1</td>\n",
       "      <td>3</td>\n",
       "      <td>0</td>\n",
       "    </tr>\n",
       "  </tbody>\n",
       "</table>\n",
       "</div>"
      ],
      "text/plain": [
       "   Age  Tumor_Size  Regional_Node_Examined  Reginol_Node_Positive  Race  \\\n",
       "0   68         4.0                    24.0                    1.0     2   \n",
       "1   50        35.0                    14.0                    5.0     2   \n",
       "2   58        63.0                    14.0                    7.0     2   \n",
       "3   58        18.0                     2.0                    1.0     2   \n",
       "4   47        41.0                     3.0                    1.0     2   \n",
       "\n",
       "   Marital_Status  T_Stage   N_Stage  6th_Stage  differentiate  Grade  \\\n",
       "0               1         0        0          0              1      3   \n",
       "1               1         1        1          2              0      2   \n",
       "2               0         2        2          4              0      2   \n",
       "3               1         0        0          0              1      3   \n",
       "4               1         1        0          1              1      3   \n",
       "\n",
       "   A_Stage  Estrogen_Status  Progesterone_Status  Survival_Months  Status  \n",
       "0        1                1                    1                3       0  \n",
       "1        1                1                    1                4       0  \n",
       "2        1                1                    1                4       0  \n",
       "3        1                1                    1                4       0  \n",
       "4        1                1                    1                3       0  "
      ]
     },
     "execution_count": 28,
     "metadata": {},
     "output_type": "execute_result"
    }
   ],
   "source": [
    "new = pd.concat([new_num, new_dummies],axis=1)\n",
    "new.head()"
   ]
  },
  {
   "cell_type": "markdown",
   "id": "8c0125d6",
   "metadata": {},
   "source": [
    "# Data Partition "
   ]
  },
  {
   "cell_type": "code",
   "execution_count": 29,
   "id": "6d4b5d49",
   "metadata": {},
   "outputs": [],
   "source": [
    "from sklearn.model_selection import train_test_split\n",
    "\n",
    "# define our input variable (X) & output variable\n",
    "X = new.drop('Status', axis = 1)\n",
    "Y = new[['Status']]\n",
    "# Split X and y into X_\n",
    "X_train, X_test, y_train, y_test = train_test_split(X, Y, test_size=0.30, random_state=1234)"
   ]
  },
  {
   "cell_type": "code",
   "execution_count": 30,
   "id": "af72ebf1",
   "metadata": {},
   "outputs": [
    {
     "data": {
      "text/plain": [
       "(2816, 15)"
      ]
     },
     "execution_count": 30,
     "metadata": {},
     "output_type": "execute_result"
    }
   ],
   "source": [
    "X_train.shape"
   ]
  },
  {
   "cell_type": "code",
   "execution_count": 31,
   "id": "649d0f61",
   "metadata": {},
   "outputs": [
    {
     "data": {
      "text/html": [
       "<style>#sk-container-id-1 {color: black;background-color: white;}#sk-container-id-1 pre{padding: 0;}#sk-container-id-1 div.sk-toggleable {background-color: white;}#sk-container-id-1 label.sk-toggleable__label {cursor: pointer;display: block;width: 100%;margin-bottom: 0;padding: 0.3em;box-sizing: border-box;text-align: center;}#sk-container-id-1 label.sk-toggleable__label-arrow:before {content: \"▸\";float: left;margin-right: 0.25em;color: #696969;}#sk-container-id-1 label.sk-toggleable__label-arrow:hover:before {color: black;}#sk-container-id-1 div.sk-estimator:hover label.sk-toggleable__label-arrow:before {color: black;}#sk-container-id-1 div.sk-toggleable__content {max-height: 0;max-width: 0;overflow: hidden;text-align: left;background-color: #f0f8ff;}#sk-container-id-1 div.sk-toggleable__content pre {margin: 0.2em;color: black;border-radius: 0.25em;background-color: #f0f8ff;}#sk-container-id-1 input.sk-toggleable__control:checked~div.sk-toggleable__content {max-height: 200px;max-width: 100%;overflow: auto;}#sk-container-id-1 input.sk-toggleable__control:checked~label.sk-toggleable__label-arrow:before {content: \"▾\";}#sk-container-id-1 div.sk-estimator input.sk-toggleable__control:checked~label.sk-toggleable__label {background-color: #d4ebff;}#sk-container-id-1 div.sk-label input.sk-toggleable__control:checked~label.sk-toggleable__label {background-color: #d4ebff;}#sk-container-id-1 input.sk-hidden--visually {border: 0;clip: rect(1px 1px 1px 1px);clip: rect(1px, 1px, 1px, 1px);height: 1px;margin: -1px;overflow: hidden;padding: 0;position: absolute;width: 1px;}#sk-container-id-1 div.sk-estimator {font-family: monospace;background-color: #f0f8ff;border: 1px dotted black;border-radius: 0.25em;box-sizing: border-box;margin-bottom: 0.5em;}#sk-container-id-1 div.sk-estimator:hover {background-color: #d4ebff;}#sk-container-id-1 div.sk-parallel-item::after {content: \"\";width: 100%;border-bottom: 1px solid gray;flex-grow: 1;}#sk-container-id-1 div.sk-label:hover label.sk-toggleable__label {background-color: #d4ebff;}#sk-container-id-1 div.sk-serial::before {content: \"\";position: absolute;border-left: 1px solid gray;box-sizing: border-box;top: 0;bottom: 0;left: 50%;z-index: 0;}#sk-container-id-1 div.sk-serial {display: flex;flex-direction: column;align-items: center;background-color: white;padding-right: 0.2em;padding-left: 0.2em;position: relative;}#sk-container-id-1 div.sk-item {position: relative;z-index: 1;}#sk-container-id-1 div.sk-parallel {display: flex;align-items: stretch;justify-content: center;background-color: white;position: relative;}#sk-container-id-1 div.sk-item::before, #sk-container-id-1 div.sk-parallel-item::before {content: \"\";position: absolute;border-left: 1px solid gray;box-sizing: border-box;top: 0;bottom: 0;left: 50%;z-index: -1;}#sk-container-id-1 div.sk-parallel-item {display: flex;flex-direction: column;z-index: 1;position: relative;background-color: white;}#sk-container-id-1 div.sk-parallel-item:first-child::after {align-self: flex-end;width: 50%;}#sk-container-id-1 div.sk-parallel-item:last-child::after {align-self: flex-start;width: 50%;}#sk-container-id-1 div.sk-parallel-item:only-child::after {width: 0;}#sk-container-id-1 div.sk-dashed-wrapped {border: 1px dashed gray;margin: 0 0.4em 0.5em 0.4em;box-sizing: border-box;padding-bottom: 0.4em;background-color: white;}#sk-container-id-1 div.sk-label label {font-family: monospace;font-weight: bold;display: inline-block;line-height: 1.2em;}#sk-container-id-1 div.sk-label-container {text-align: center;}#sk-container-id-1 div.sk-container {/* jupyter's `normalize.less` sets `[hidden] { display: none; }` but bootstrap.min.css set `[hidden] { display: none !important; }` so we also need the `!important` here to be able to override the default hidden behavior on the sphinx rendered scikit-learn.org. See: https://github.com/scikit-learn/scikit-learn/issues/21755 */display: inline-block !important;position: relative;}#sk-container-id-1 div.sk-text-repr-fallback {display: none;}</style><div id=\"sk-container-id-1\" class=\"sk-top-container\"><div class=\"sk-text-repr-fallback\"><pre>RandomForestClassifier(max_depth=4, min_samples_leaf=50, min_samples_split=100,\n",
       "                       n_estimators=20)</pre><b>In a Jupyter environment, please rerun this cell to show the HTML representation or trust the notebook. <br />On GitHub, the HTML representation is unable to render, please try loading this page with nbviewer.org.</b></div><div class=\"sk-container\" hidden><div class=\"sk-item\"><div class=\"sk-estimator sk-toggleable\"><input class=\"sk-toggleable__control sk-hidden--visually\" id=\"sk-estimator-id-1\" type=\"checkbox\" checked><label for=\"sk-estimator-id-1\" class=\"sk-toggleable__label sk-toggleable__label-arrow\">RandomForestClassifier</label><div class=\"sk-toggleable__content\"><pre>RandomForestClassifier(max_depth=4, min_samples_leaf=50, min_samples_split=100,\n",
       "                       n_estimators=20)</pre></div></div></div></div></div>"
      ],
      "text/plain": [
       "RandomForestClassifier(max_depth=4, min_samples_leaf=50, min_samples_split=100,\n",
       "                       n_estimators=20)"
      ]
     },
     "execution_count": 31,
     "metadata": {},
     "output_type": "execute_result"
    }
   ],
   "source": [
    "from sklearn.ensemble import RandomForestRegressor\n",
    "from sklearn.ensemble import RandomForestClassifier\n",
    "\n",
    "# by default 100 tree will be form \n",
    "Model = RandomForestClassifier(n_estimators=20, # make 20 tress\n",
    "                               criterion=\"gini\",\n",
    "                               max_depth=4,  # each tree will have 4 branches\n",
    "                               min_samples_split=100,# each tree will have parent node\n",
    "                               min_samples_leaf=50,# each tree will have Child node\n",
    "                               max_features=\"sqrt\")# n_estimators means number tree we want  \n",
    "\n",
    "Model.fit(X_train, y_train)"
   ]
  },
  {
   "cell_type": "markdown",
   "id": "d59415fd",
   "metadata": {},
   "source": [
    "# Importance Features"
   ]
  },
  {
   "cell_type": "code",
   "execution_count": 32,
   "id": "d953df78",
   "metadata": {},
   "outputs": [
    {
     "data": {
      "image/png": "[encoded data removed]",
      "text/plain": [
       "<Figure size 1000x1200 with 1 Axes>"
      ]
     },
     "metadata": {},
     "output_type": "display_data"
    }
   ],
   "source": [
    "# Plot features importances\n",
    "imp = pd.Series(data=Model.feature_importances_, index=Model.feature_names_in_).sort_values(ascending=False)\n",
    "plt.figure(figsize=(10,12))\n",
    "plt.title(\"Feature importance\")\n",
    "ax = sns.barplot(y=imp.index, x=imp.values, palette=\"BrBG\", orient='h')"
   ]
  },
  {
   "cell_type": "markdown",
   "id": "5a4f81eb",
   "metadata": {},
   "source": [
    "# Random Forest Visualization"
   ]
  },
  {
   "cell_type": "code",
   "execution_count": 33,
   "id": "c2598c32",
   "metadata": {},
   "outputs": [],
   "source": [
    "# Import tools needed for visualization\n",
    "from sklearn.tree import export_graphviz\n",
    "import pydot"
   ]
  },
  {
   "cell_type": "code",
   "execution_count": 34,
   "id": "371b8431",
   "metadata": {},
   "outputs": [
    {
     "data": {
      "text/plain": [
       "['Age',\n",
       " 'Tumor_Size',\n",
       " 'Regional_Node_Examined',\n",
       " 'Reginol_Node_Positive',\n",
       " 'Race',\n",
       " 'Marital_Status',\n",
       " 'T_Stage ',\n",
       " 'N_Stage',\n",
       " '6th_Stage',\n",
       " 'differentiate',\n",
       " 'Grade',\n",
       " 'A_Stage',\n",
       " 'Estrogen_Status',\n",
       " 'Progesterone_Status',\n",
       " 'Survival_Months']"
      ]
     },
     "execution_count": 34,
     "metadata": {},
     "output_type": "execute_result"
    }
   ],
   "source": [
    "list(X.columns)"
   ]
  },
  {
   "cell_type": "code",
   "execution_count": 35,
   "id": "826228cb",
   "metadata": {},
   "outputs": [
    {
     "data": {
      "image/png": "[encoded data removed]",
      "text/plain": [
       "<IPython.core.display.Image object>"
      ]
     },
     "execution_count": 35,
     "metadata": {},
     "output_type": "execute_result"
    }
   ],
   "source": [
    "tree = Model.estimators_[19]  # specify the tree number   \n",
    "Status=['Alive','Dead'] \n",
    "feature_list = list(X.columns)  # all independent variable name\n",
    "\n",
    "export_graphviz(tree, out_file = 'abc.dot', \n",
    "                feature_names = feature_list, \n",
    "                leaves_parallel=True,\n",
    "                class_names=Status,\n",
    "                rounded = True, \n",
    "                filled=True)\n",
    "# Use dot file to create a graph\n",
    "(graph,)= pydot.graph_from_dot_file('abc.dot')\n",
    "# Write graph to a png file\n",
    "graph.write_png('tree.png')\n",
    "from IPython.display import Image\n",
    "Image(filename = 'tree.png')"
   ]
  },
  {
   "cell_type": "markdown",
   "id": "c677014c",
   "metadata": {},
   "source": [
    "# Step 6 : Predictions on Train Dataset"
   ]
  },
  {
   "cell_type": "code",
   "execution_count": 36,
   "id": "2e11a755",
   "metadata": {},
   "outputs": [
    {
     "data": {
      "text/html": [
       "<div>\n",
       "<style scoped>\n",
       "    .dataframe tbody tr th:only-of-type {\n",
       "        vertical-align: middle;\n",
       "    }\n",
       "\n",
       "    .dataframe tbody tr th {\n",
       "        vertical-align: top;\n",
       "    }\n",
       "\n",
       "    .dataframe thead th {\n",
       "        text-align: right;\n",
       "    }\n",
       "</style>\n",
       "<table border=\"1\" class=\"dataframe\">\n",
       "  <thead>\n",
       "    <tr style=\"text-align: right;\">\n",
       "      <th></th>\n",
       "      <th>Age</th>\n",
       "      <th>Tumor_Size</th>\n",
       "      <th>Regional_Node_Examined</th>\n",
       "      <th>Reginol_Node_Positive</th>\n",
       "      <th>Race</th>\n",
       "      <th>Marital_Status</th>\n",
       "      <th>T_Stage</th>\n",
       "      <th>N_Stage</th>\n",
       "      <th>6th_Stage</th>\n",
       "      <th>differentiate</th>\n",
       "      <th>Grade</th>\n",
       "      <th>A_Stage</th>\n",
       "      <th>Estrogen_Status</th>\n",
       "      <th>Progesterone_Status</th>\n",
       "      <th>Survival_Months</th>\n",
       "      <th>Status</th>\n",
       "    </tr>\n",
       "  </thead>\n",
       "  <tbody>\n",
       "    <tr>\n",
       "      <th>1964</th>\n",
       "      <td>60</td>\n",
       "      <td>20.0</td>\n",
       "      <td>14.0</td>\n",
       "      <td>4.0</td>\n",
       "      <td>2</td>\n",
       "      <td>1</td>\n",
       "      <td>0</td>\n",
       "      <td>1</td>\n",
       "      <td>2</td>\n",
       "      <td>1</td>\n",
       "      <td>3</td>\n",
       "      <td>1</td>\n",
       "      <td>1</td>\n",
       "      <td>1</td>\n",
       "      <td>4</td>\n",
       "      <td>0</td>\n",
       "    </tr>\n",
       "    <tr>\n",
       "      <th>626</th>\n",
       "      <td>53</td>\n",
       "      <td>18.0</td>\n",
       "      <td>17.0</td>\n",
       "      <td>8.0</td>\n",
       "      <td>2</td>\n",
       "      <td>1</td>\n",
       "      <td>0</td>\n",
       "      <td>1</td>\n",
       "      <td>2</td>\n",
       "      <td>1</td>\n",
       "      <td>3</td>\n",
       "      <td>1</td>\n",
       "      <td>1</td>\n",
       "      <td>1</td>\n",
       "      <td>4</td>\n",
       "      <td>0</td>\n",
       "    </tr>\n",
       "    <tr>\n",
       "      <th>3662</th>\n",
       "      <td>48</td>\n",
       "      <td>7.0</td>\n",
       "      <td>2.0</td>\n",
       "      <td>1.0</td>\n",
       "      <td>2</td>\n",
       "      <td>1</td>\n",
       "      <td>0</td>\n",
       "      <td>0</td>\n",
       "      <td>0</td>\n",
       "      <td>0</td>\n",
       "      <td>2</td>\n",
       "      <td>1</td>\n",
       "      <td>1</td>\n",
       "      <td>1</td>\n",
       "      <td>4</td>\n",
       "      <td>0</td>\n",
       "    </tr>\n",
       "    <tr>\n",
       "      <th>2948</th>\n",
       "      <td>56</td>\n",
       "      <td>42.0</td>\n",
       "      <td>10.0</td>\n",
       "      <td>2.0</td>\n",
       "      <td>2</td>\n",
       "      <td>1</td>\n",
       "      <td>1</td>\n",
       "      <td>0</td>\n",
       "      <td>1</td>\n",
       "      <td>1</td>\n",
       "      <td>3</td>\n",
       "      <td>1</td>\n",
       "      <td>1</td>\n",
       "      <td>0</td>\n",
       "      <td>4</td>\n",
       "      <td>0</td>\n",
       "    </tr>\n",
       "    <tr>\n",
       "      <th>1644</th>\n",
       "      <td>51</td>\n",
       "      <td>15.0</td>\n",
       "      <td>12.0</td>\n",
       "      <td>3.0</td>\n",
       "      <td>2</td>\n",
       "      <td>1</td>\n",
       "      <td>0</td>\n",
       "      <td>0</td>\n",
       "      <td>0</td>\n",
       "      <td>1</td>\n",
       "      <td>3</td>\n",
       "      <td>1</td>\n",
       "      <td>1</td>\n",
       "      <td>1</td>\n",
       "      <td>4</td>\n",
       "      <td>0</td>\n",
       "    </tr>\n",
       "  </tbody>\n",
       "</table>\n",
       "</div>"
      ],
      "text/plain": [
       "      Age  Tumor_Size  Regional_Node_Examined  Reginol_Node_Positive  Race  \\\n",
       "1964   60        20.0                    14.0                    4.0     2   \n",
       "626    53        18.0                    17.0                    8.0     2   \n",
       "3662   48         7.0                     2.0                    1.0     2   \n",
       "2948   56        42.0                    10.0                    2.0     2   \n",
       "1644   51        15.0                    12.0                    3.0     2   \n",
       "\n",
       "      Marital_Status  T_Stage   N_Stage  6th_Stage  differentiate  Grade  \\\n",
       "1964               1         0        1          2              1      3   \n",
       "626                1         0        1          2              1      3   \n",
       "3662               1         0        0          0              0      2   \n",
       "2948               1         1        0          1              1      3   \n",
       "1644               1         0        0          0              1      3   \n",
       "\n",
       "      A_Stage  Estrogen_Status  Progesterone_Status  Survival_Months  Status  \n",
       "1964        1                1                    1                4       0  \n",
       "626         1                1                    1                4       0  \n",
       "3662        1                1                    1                4       0  \n",
       "2948        1                1                    0                4       0  \n",
       "1644        1                1                    1                4       0  "
      ]
     },
     "execution_count": 36,
     "metadata": {},
     "output_type": "execute_result"
    }
   ],
   "source": [
    "train=pd.concat([X_train,y_train],axis=1)\n",
    "train.head()"
   ]
  },
  {
   "cell_type": "code",
   "execution_count": 37,
   "id": "2552e5e7",
   "metadata": {},
   "outputs": [
    {
     "data": {
      "text/html": [
       "<div>\n",
       "<style scoped>\n",
       "    .dataframe tbody tr th:only-of-type {\n",
       "        vertical-align: middle;\n",
       "    }\n",
       "\n",
       "    .dataframe tbody tr th {\n",
       "        vertical-align: top;\n",
       "    }\n",
       "\n",
       "    .dataframe thead th {\n",
       "        text-align: right;\n",
       "    }\n",
       "</style>\n",
       "<table border=\"1\" class=\"dataframe\">\n",
       "  <thead>\n",
       "    <tr style=\"text-align: right;\">\n",
       "      <th></th>\n",
       "      <th>Age</th>\n",
       "      <th>Tumor_Size</th>\n",
       "      <th>Regional_Node_Examined</th>\n",
       "      <th>Reginol_Node_Positive</th>\n",
       "      <th>Race</th>\n",
       "      <th>Marital_Status</th>\n",
       "      <th>T_Stage</th>\n",
       "      <th>N_Stage</th>\n",
       "      <th>6th_Stage</th>\n",
       "      <th>differentiate</th>\n",
       "      <th>Grade</th>\n",
       "      <th>A_Stage</th>\n",
       "      <th>Estrogen_Status</th>\n",
       "      <th>Progesterone_Status</th>\n",
       "      <th>Survival_Months</th>\n",
       "      <th>Status</th>\n",
       "      <th>Predicted</th>\n",
       "    </tr>\n",
       "  </thead>\n",
       "  <tbody>\n",
       "    <tr>\n",
       "      <th>1964</th>\n",
       "      <td>60</td>\n",
       "      <td>20.0</td>\n",
       "      <td>14.0</td>\n",
       "      <td>4.0</td>\n",
       "      <td>2</td>\n",
       "      <td>1</td>\n",
       "      <td>0</td>\n",
       "      <td>1</td>\n",
       "      <td>2</td>\n",
       "      <td>1</td>\n",
       "      <td>3</td>\n",
       "      <td>1</td>\n",
       "      <td>1</td>\n",
       "      <td>1</td>\n",
       "      <td>4</td>\n",
       "      <td>0</td>\n",
       "      <td>0</td>\n",
       "    </tr>\n",
       "    <tr>\n",
       "      <th>626</th>\n",
       "      <td>53</td>\n",
       "      <td>18.0</td>\n",
       "      <td>17.0</td>\n",
       "      <td>8.0</td>\n",
       "      <td>2</td>\n",
       "      <td>1</td>\n",
       "      <td>0</td>\n",
       "      <td>1</td>\n",
       "      <td>2</td>\n",
       "      <td>1</td>\n",
       "      <td>3</td>\n",
       "      <td>1</td>\n",
       "      <td>1</td>\n",
       "      <td>1</td>\n",
       "      <td>4</td>\n",
       "      <td>0</td>\n",
       "      <td>0</td>\n",
       "    </tr>\n",
       "    <tr>\n",
       "      <th>3662</th>\n",
       "      <td>48</td>\n",
       "      <td>7.0</td>\n",
       "      <td>2.0</td>\n",
       "      <td>1.0</td>\n",
       "      <td>2</td>\n",
       "      <td>1</td>\n",
       "      <td>0</td>\n",
       "      <td>0</td>\n",
       "      <td>0</td>\n",
       "      <td>0</td>\n",
       "      <td>2</td>\n",
       "      <td>1</td>\n",
       "      <td>1</td>\n",
       "      <td>1</td>\n",
       "      <td>4</td>\n",
       "      <td>0</td>\n",
       "      <td>0</td>\n",
       "    </tr>\n",
       "    <tr>\n",
       "      <th>2948</th>\n",
       "      <td>56</td>\n",
       "      <td>42.0</td>\n",
       "      <td>10.0</td>\n",
       "      <td>2.0</td>\n",
       "      <td>2</td>\n",
       "      <td>1</td>\n",
       "      <td>1</td>\n",
       "      <td>0</td>\n",
       "      <td>1</td>\n",
       "      <td>1</td>\n",
       "      <td>3</td>\n",
       "      <td>1</td>\n",
       "      <td>1</td>\n",
       "      <td>0</td>\n",
       "      <td>4</td>\n",
       "      <td>0</td>\n",
       "      <td>0</td>\n",
       "    </tr>\n",
       "    <tr>\n",
       "      <th>1644</th>\n",
       "      <td>51</td>\n",
       "      <td>15.0</td>\n",
       "      <td>12.0</td>\n",
       "      <td>3.0</td>\n",
       "      <td>2</td>\n",
       "      <td>1</td>\n",
       "      <td>0</td>\n",
       "      <td>0</td>\n",
       "      <td>0</td>\n",
       "      <td>1</td>\n",
       "      <td>3</td>\n",
       "      <td>1</td>\n",
       "      <td>1</td>\n",
       "      <td>1</td>\n",
       "      <td>4</td>\n",
       "      <td>0</td>\n",
       "      <td>0</td>\n",
       "    </tr>\n",
       "  </tbody>\n",
       "</table>\n",
       "</div>"
      ],
      "text/plain": [
       "      Age  Tumor_Size  Regional_Node_Examined  Reginol_Node_Positive  Race  \\\n",
       "1964   60        20.0                    14.0                    4.0     2   \n",
       "626    53        18.0                    17.0                    8.0     2   \n",
       "3662   48         7.0                     2.0                    1.0     2   \n",
       "2948   56        42.0                    10.0                    2.0     2   \n",
       "1644   51        15.0                    12.0                    3.0     2   \n",
       "\n",
       "      Marital_Status  T_Stage   N_Stage  6th_Stage  differentiate  Grade  \\\n",
       "1964               1         0        1          2              1      3   \n",
       "626                1         0        1          2              1      3   \n",
       "3662               1         0        0          0              0      2   \n",
       "2948               1         1        0          1              1      3   \n",
       "1644               1         0        0          0              1      3   \n",
       "\n",
       "      A_Stage  Estrogen_Status  Progesterone_Status  Survival_Months  Status  \\\n",
       "1964        1                1                    1                4       0   \n",
       "626         1                1                    1                4       0   \n",
       "3662        1                1                    1                4       0   \n",
       "2948        1                1                    0                4       0   \n",
       "1644        1                1                    1                4       0   \n",
       "\n",
       "      Predicted  \n",
       "1964          0  \n",
       "626           0  \n",
       "3662          0  \n",
       "2948          0  \n",
       "1644          0  "
      ]
     },
     "execution_count": 37,
     "metadata": {},
     "output_type": "execute_result"
    }
   ],
   "source": [
    "train['Predicted']=Model.predict(X_train)\n",
    "train.head()"
   ]
  },
  {
   "cell_type": "markdown",
   "id": "65613ce8",
   "metadata": {},
   "source": [
    "# Step 7 : Model Performance Metrics"
   ]
  },
  {
   "cell_type": "code",
   "execution_count": 38,
   "id": "8d7d4056",
   "metadata": {},
   "outputs": [
    {
     "name": "stdout",
     "output_type": "stream",
     "text": [
      "[[2339   29]\n",
      " [ 256  192]]\n"
     ]
    }
   ],
   "source": [
    "from sklearn.metrics import confusion_matrix\n",
    "confusion_matrix = confusion_matrix(train['Status'], train['Predicted'])\n",
    "print(confusion_matrix)"
   ]
  },
  {
   "cell_type": "code",
   "execution_count": 39,
   "id": "9ae4014f",
   "metadata": {},
   "outputs": [
    {
     "name": "stdout",
     "output_type": "stream",
     "text": [
      "88.1747159090909\n"
     ]
    }
   ],
   "source": [
    "Accuracy_Train=((2348+135)/(2816)*100)\n",
    "print(Accuracy_Train)"
   ]
  },
  {
   "cell_type": "code",
   "execution_count": 40,
   "id": "1c96e676",
   "metadata": {},
   "outputs": [
    {
     "name": "stdout",
     "output_type": "stream",
     "text": [
      "              precision    recall  f1-score   support\n",
      "\n",
      "           0       0.90      0.99      0.94      2368\n",
      "           1       0.87      0.43      0.57       448\n",
      "\n",
      "    accuracy                           0.90      2816\n",
      "   macro avg       0.89      0.71      0.76      2816\n",
      "weighted avg       0.90      0.90      0.88      2816\n",
      "\n"
     ]
    }
   ],
   "source": [
    "from sklearn.metrics import classification_report\n",
    "print(classification_report(train['Status'], train['Predicted']))"
   ]
  },
  {
   "cell_type": "markdown",
   "id": "fc54fd5d",
   "metadata": {},
   "source": [
    "# Step 8 : Predictions on Test Dataset"
   ]
  },
  {
   "cell_type": "code",
   "execution_count": 41,
   "id": "8b30b2bf",
   "metadata": {},
   "outputs": [
    {
     "data": {
      "text/html": [
       "<div>\n",
       "<style scoped>\n",
       "    .dataframe tbody tr th:only-of-type {\n",
       "        vertical-align: middle;\n",
       "    }\n",
       "\n",
       "    .dataframe tbody tr th {\n",
       "        vertical-align: top;\n",
       "    }\n",
       "\n",
       "    .dataframe thead th {\n",
       "        text-align: right;\n",
       "    }\n",
       "</style>\n",
       "<table border=\"1\" class=\"dataframe\">\n",
       "  <thead>\n",
       "    <tr style=\"text-align: right;\">\n",
       "      <th></th>\n",
       "      <th>Age</th>\n",
       "      <th>Tumor_Size</th>\n",
       "      <th>Regional_Node_Examined</th>\n",
       "      <th>Reginol_Node_Positive</th>\n",
       "      <th>Race</th>\n",
       "      <th>Marital_Status</th>\n",
       "      <th>T_Stage</th>\n",
       "      <th>N_Stage</th>\n",
       "      <th>6th_Stage</th>\n",
       "      <th>differentiate</th>\n",
       "      <th>Grade</th>\n",
       "      <th>A_Stage</th>\n",
       "      <th>Estrogen_Status</th>\n",
       "      <th>Progesterone_Status</th>\n",
       "      <th>Survival_Months</th>\n",
       "      <th>Status</th>\n",
       "    </tr>\n",
       "  </thead>\n",
       "  <tbody>\n",
       "    <tr>\n",
       "      <th>786</th>\n",
       "      <td>61</td>\n",
       "      <td>18.0</td>\n",
       "      <td>18.0</td>\n",
       "      <td>11.0</td>\n",
       "      <td>2</td>\n",
       "      <td>1</td>\n",
       "      <td>3</td>\n",
       "      <td>0</td>\n",
       "      <td>3</td>\n",
       "      <td>0</td>\n",
       "      <td>2</td>\n",
       "      <td>0</td>\n",
       "      <td>1</td>\n",
       "      <td>1</td>\n",
       "      <td>4</td>\n",
       "      <td>0</td>\n",
       "    </tr>\n",
       "    <tr>\n",
       "      <th>2876</th>\n",
       "      <td>35</td>\n",
       "      <td>14.0</td>\n",
       "      <td>17.0</td>\n",
       "      <td>3.0</td>\n",
       "      <td>0</td>\n",
       "      <td>1</td>\n",
       "      <td>0</td>\n",
       "      <td>0</td>\n",
       "      <td>0</td>\n",
       "      <td>1</td>\n",
       "      <td>3</td>\n",
       "      <td>1</td>\n",
       "      <td>0</td>\n",
       "      <td>0</td>\n",
       "      <td>4</td>\n",
       "      <td>0</td>\n",
       "    </tr>\n",
       "    <tr>\n",
       "      <th>827</th>\n",
       "      <td>47</td>\n",
       "      <td>23.0</td>\n",
       "      <td>6.0</td>\n",
       "      <td>5.0</td>\n",
       "      <td>2</td>\n",
       "      <td>1</td>\n",
       "      <td>1</td>\n",
       "      <td>0</td>\n",
       "      <td>1</td>\n",
       "      <td>0</td>\n",
       "      <td>2</td>\n",
       "      <td>1</td>\n",
       "      <td>1</td>\n",
       "      <td>1</td>\n",
       "      <td>3</td>\n",
       "      <td>0</td>\n",
       "    </tr>\n",
       "    <tr>\n",
       "      <th>2596</th>\n",
       "      <td>54</td>\n",
       "      <td>35.0</td>\n",
       "      <td>13.0</td>\n",
       "      <td>2.0</td>\n",
       "      <td>2</td>\n",
       "      <td>1</td>\n",
       "      <td>1</td>\n",
       "      <td>0</td>\n",
       "      <td>1</td>\n",
       "      <td>1</td>\n",
       "      <td>3</td>\n",
       "      <td>1</td>\n",
       "      <td>1</td>\n",
       "      <td>1</td>\n",
       "      <td>3</td>\n",
       "      <td>0</td>\n",
       "    </tr>\n",
       "    <tr>\n",
       "      <th>4011</th>\n",
       "      <td>62</td>\n",
       "      <td>25.0</td>\n",
       "      <td>24.0</td>\n",
       "      <td>4.0</td>\n",
       "      <td>2</td>\n",
       "      <td>4</td>\n",
       "      <td>1</td>\n",
       "      <td>1</td>\n",
       "      <td>2</td>\n",
       "      <td>0</td>\n",
       "      <td>2</td>\n",
       "      <td>1</td>\n",
       "      <td>1</td>\n",
       "      <td>1</td>\n",
       "      <td>4</td>\n",
       "      <td>0</td>\n",
       "    </tr>\n",
       "  </tbody>\n",
       "</table>\n",
       "</div>"
      ],
      "text/plain": [
       "      Age  Tumor_Size  Regional_Node_Examined  Reginol_Node_Positive  Race  \\\n",
       "786    61        18.0                    18.0                   11.0     2   \n",
       "2876   35        14.0                    17.0                    3.0     0   \n",
       "827    47        23.0                     6.0                    5.0     2   \n",
       "2596   54        35.0                    13.0                    2.0     2   \n",
       "4011   62        25.0                    24.0                    4.0     2   \n",
       "\n",
       "      Marital_Status  T_Stage   N_Stage  6th_Stage  differentiate  Grade  \\\n",
       "786                1         3        0          3              0      2   \n",
       "2876               1         0        0          0              1      3   \n",
       "827                1         1        0          1              0      2   \n",
       "2596               1         1        0          1              1      3   \n",
       "4011               4         1        1          2              0      2   \n",
       "\n",
       "      A_Stage  Estrogen_Status  Progesterone_Status  Survival_Months  Status  \n",
       "786         0                1                    1                4       0  \n",
       "2876        1                0                    0                4       0  \n",
       "827         1                1                    1                3       0  \n",
       "2596        1                1                    1                3       0  \n",
       "4011        1                1                    1                4       0  "
      ]
     },
     "execution_count": 41,
     "metadata": {},
     "output_type": "execute_result"
    }
   ],
   "source": [
    "test=pd.concat([X_test,y_test],axis=1)\n",
    "test.head()"
   ]
  },
  {
   "cell_type": "code",
   "execution_count": 42,
   "id": "c9db56ac",
   "metadata": {},
   "outputs": [
    {
     "data": {
      "text/html": [
       "<div>\n",
       "<style scoped>\n",
       "    .dataframe tbody tr th:only-of-type {\n",
       "        vertical-align: middle;\n",
       "    }\n",
       "\n",
       "    .dataframe tbody tr th {\n",
       "        vertical-align: top;\n",
       "    }\n",
       "\n",
       "    .dataframe thead th {\n",
       "        text-align: right;\n",
       "    }\n",
       "</style>\n",
       "<table border=\"1\" class=\"dataframe\">\n",
       "  <thead>\n",
       "    <tr style=\"text-align: right;\">\n",
       "      <th></th>\n",
       "      <th>Age</th>\n",
       "      <th>Tumor_Size</th>\n",
       "      <th>Regional_Node_Examined</th>\n",
       "      <th>Reginol_Node_Positive</th>\n",
       "      <th>Race</th>\n",
       "      <th>Marital_Status</th>\n",
       "      <th>T_Stage</th>\n",
       "      <th>N_Stage</th>\n",
       "      <th>6th_Stage</th>\n",
       "      <th>differentiate</th>\n",
       "      <th>Grade</th>\n",
       "      <th>A_Stage</th>\n",
       "      <th>Estrogen_Status</th>\n",
       "      <th>Progesterone_Status</th>\n",
       "      <th>Survival_Months</th>\n",
       "      <th>Status</th>\n",
       "      <th>Predicted</th>\n",
       "    </tr>\n",
       "  </thead>\n",
       "  <tbody>\n",
       "    <tr>\n",
       "      <th>786</th>\n",
       "      <td>61</td>\n",
       "      <td>18.0</td>\n",
       "      <td>18.0</td>\n",
       "      <td>11.0</td>\n",
       "      <td>2</td>\n",
       "      <td>1</td>\n",
       "      <td>3</td>\n",
       "      <td>0</td>\n",
       "      <td>3</td>\n",
       "      <td>0</td>\n",
       "      <td>2</td>\n",
       "      <td>0</td>\n",
       "      <td>1</td>\n",
       "      <td>1</td>\n",
       "      <td>4</td>\n",
       "      <td>0</td>\n",
       "      <td>0</td>\n",
       "    </tr>\n",
       "    <tr>\n",
       "      <th>2876</th>\n",
       "      <td>35</td>\n",
       "      <td>14.0</td>\n",
       "      <td>17.0</td>\n",
       "      <td>3.0</td>\n",
       "      <td>0</td>\n",
       "      <td>1</td>\n",
       "      <td>0</td>\n",
       "      <td>0</td>\n",
       "      <td>0</td>\n",
       "      <td>1</td>\n",
       "      <td>3</td>\n",
       "      <td>1</td>\n",
       "      <td>0</td>\n",
       "      <td>0</td>\n",
       "      <td>4</td>\n",
       "      <td>0</td>\n",
       "      <td>0</td>\n",
       "    </tr>\n",
       "    <tr>\n",
       "      <th>827</th>\n",
       "      <td>47</td>\n",
       "      <td>23.0</td>\n",
       "      <td>6.0</td>\n",
       "      <td>5.0</td>\n",
       "      <td>2</td>\n",
       "      <td>1</td>\n",
       "      <td>1</td>\n",
       "      <td>0</td>\n",
       "      <td>1</td>\n",
       "      <td>0</td>\n",
       "      <td>2</td>\n",
       "      <td>1</td>\n",
       "      <td>1</td>\n",
       "      <td>1</td>\n",
       "      <td>3</td>\n",
       "      <td>0</td>\n",
       "      <td>0</td>\n",
       "    </tr>\n",
       "    <tr>\n",
       "      <th>2596</th>\n",
       "      <td>54</td>\n",
       "      <td>35.0</td>\n",
       "      <td>13.0</td>\n",
       "      <td>2.0</td>\n",
       "      <td>2</td>\n",
       "      <td>1</td>\n",
       "      <td>1</td>\n",
       "      <td>0</td>\n",
       "      <td>1</td>\n",
       "      <td>1</td>\n",
       "      <td>3</td>\n",
       "      <td>1</td>\n",
       "      <td>1</td>\n",
       "      <td>1</td>\n",
       "      <td>3</td>\n",
       "      <td>0</td>\n",
       "      <td>0</td>\n",
       "    </tr>\n",
       "    <tr>\n",
       "      <th>4011</th>\n",
       "      <td>62</td>\n",
       "      <td>25.0</td>\n",
       "      <td>24.0</td>\n",
       "      <td>4.0</td>\n",
       "      <td>2</td>\n",
       "      <td>4</td>\n",
       "      <td>1</td>\n",
       "      <td>1</td>\n",
       "      <td>2</td>\n",
       "      <td>0</td>\n",
       "      <td>2</td>\n",
       "      <td>1</td>\n",
       "      <td>1</td>\n",
       "      <td>1</td>\n",
       "      <td>4</td>\n",
       "      <td>0</td>\n",
       "      <td>0</td>\n",
       "    </tr>\n",
       "  </tbody>\n",
       "</table>\n",
       "</div>"
      ],
      "text/plain": [
       "      Age  Tumor_Size  Regional_Node_Examined  Reginol_Node_Positive  Race  \\\n",
       "786    61        18.0                    18.0                   11.0     2   \n",
       "2876   35        14.0                    17.0                    3.0     0   \n",
       "827    47        23.0                     6.0                    5.0     2   \n",
       "2596   54        35.0                    13.0                    2.0     2   \n",
       "4011   62        25.0                    24.0                    4.0     2   \n",
       "\n",
       "      Marital_Status  T_Stage   N_Stage  6th_Stage  differentiate  Grade  \\\n",
       "786                1         3        0          3              0      2   \n",
       "2876               1         0        0          0              1      3   \n",
       "827                1         1        0          1              0      2   \n",
       "2596               1         1        0          1              1      3   \n",
       "4011               4         1        1          2              0      2   \n",
       "\n",
       "      A_Stage  Estrogen_Status  Progesterone_Status  Survival_Months  Status  \\\n",
       "786         0                1                    1                4       0   \n",
       "2876        1                0                    0                4       0   \n",
       "827         1                1                    1                3       0   \n",
       "2596        1                1                    1                3       0   \n",
       "4011        1                1                    1                4       0   \n",
       "\n",
       "      Predicted  \n",
       "786           0  \n",
       "2876          0  \n",
       "827           0  \n",
       "2596          0  \n",
       "4011          0  "
      ]
     },
     "execution_count": 42,
     "metadata": {},
     "output_type": "execute_result"
    }
   ],
   "source": [
    "test['Predicted']=Model.predict(X_test)\n",
    "test.head()"
   ]
  },
  {
   "cell_type": "markdown",
   "id": "0e6e24f6",
   "metadata": {},
   "source": [
    "# Step 9 : Model Performance Metrics on Test data "
   ]
  },
  {
   "cell_type": "code",
   "execution_count": 43,
   "id": "978896ad",
   "metadata": {},
   "outputs": [
    {
     "name": "stdout",
     "output_type": "stream",
     "text": [
      "[[1022  112]\n",
      " [  18   56]]\n"
     ]
    }
   ],
   "source": [
    "from sklearn.metrics import confusion_matrix\n",
    "confusion_matrix = confusion_matrix(test['Predicted'],test['Status'])\n",
    "print(confusion_matrix)"
   ]
  },
  {
   "cell_type": "code",
   "execution_count": 44,
   "id": "3508191b",
   "metadata": {},
   "outputs": [
    {
     "data": {
      "text/plain": [
       "88.74172185430463"
      ]
     },
     "execution_count": 44,
     "metadata": {},
     "output_type": "execute_result"
    }
   ],
   "source": [
    "Accuracy_test=((1036+36)/(1208)*100)\n",
    "Accuracy_test"
   ]
  },
  {
   "cell_type": "code",
   "execution_count": 45,
   "id": "a66a7598",
   "metadata": {},
   "outputs": [
    {
     "name": "stdout",
     "output_type": "stream",
     "text": [
      "              precision    recall  f1-score   support\n",
      "\n",
      "           0       0.90      0.98      0.94      1040\n",
      "           1       0.76      0.33      0.46       168\n",
      "\n",
      "    accuracy                           0.89      1208\n",
      "   macro avg       0.83      0.66      0.70      1208\n",
      "weighted avg       0.88      0.89      0.87      1208\n",
      "\n"
     ]
    }
   ],
   "source": [
    "from sklearn.metrics import classification_report\n",
    "print(classification_report(test['Status'], test['Predicted']))"
   ]
  },
  {
   "cell_type": "markdown",
   "id": "3dd1256b",
   "metadata": {},
   "source": [
    "# Finish"
   ]
  },
  {
   "cell_type": "markdown",
   "id": "1b668b73",
   "metadata": {},
   "source": [
    "## Business Submission"
   ]
  },
  {
   "cell_type": "markdown",
   "id": "b93cbf22",
   "metadata": {},
   "source": [
    "#### Confusion Matrix on Train"
   ]
  },
  {
   "cell_type": "code",
   "execution_count": 46,
   "id": "59ffdd05",
   "metadata": {},
   "outputs": [
    {
     "name": "stdout",
     "output_type": "stream",
     "text": [
      "              precision    recall  f1-score   support\n",
      "\n",
      "           0       0.90      0.99      0.94      2368\n",
      "           1       0.87      0.43      0.57       448\n",
      "\n",
      "    accuracy                           0.90      2816\n",
      "   macro avg       0.89      0.71      0.76      2816\n",
      "weighted avg       0.90      0.90      0.88      2816\n",
      "\n"
     ]
    }
   ],
   "source": [
    "print(classification_report(train['Status'], train['Predicted']))"
   ]
  },
  {
   "cell_type": "markdown",
   "id": "97eaf7d7",
   "metadata": {},
   "source": [
    "#### Model"
   ]
  },
  {
   "cell_type": "code",
   "execution_count": 47,
   "id": "e7624e41",
   "metadata": {},
   "outputs": [],
   "source": [
    "import pickle\n",
    "\n",
    "pickle.dump(Model, open('RF_Model.pkl','wb'))  # Exporting model from python to laptop"
   ]
  },
  {
   "cell_type": "markdown",
   "id": "b6fb21cb",
   "metadata": {},
   "source": [
    "# Business Use Case -- Live Data"
   ]
  },
  {
   "cell_type": "code",
   "execution_count": 48,
   "id": "1323f078",
   "metadata": {},
   "outputs": [],
   "source": [
    "Finalmodel=pickle.load(open('RF_Model.pkl','rb'))  # import Model from laptop to python "
   ]
  },
  {
   "cell_type": "code",
   "execution_count": 49,
   "id": "60b37538",
   "metadata": {},
   "outputs": [
    {
     "data": {
      "text/html": [
       "<div>\n",
       "<style scoped>\n",
       "    .dataframe tbody tr th:only-of-type {\n",
       "        vertical-align: middle;\n",
       "    }\n",
       "\n",
       "    .dataframe tbody tr th {\n",
       "        vertical-align: top;\n",
       "    }\n",
       "\n",
       "    .dataframe thead th {\n",
       "        text-align: right;\n",
       "    }\n",
       "</style>\n",
       "<table border=\"1\" class=\"dataframe\">\n",
       "  <thead>\n",
       "    <tr style=\"text-align: right;\">\n",
       "      <th></th>\n",
       "      <th>Age</th>\n",
       "      <th>Tumor_Size</th>\n",
       "      <th>Regional_Node_Examined</th>\n",
       "      <th>Reginol_Node_Positive</th>\n",
       "      <th>Race</th>\n",
       "      <th>Marital_Status</th>\n",
       "      <th>T_Stage</th>\n",
       "      <th>N_Stage</th>\n",
       "      <th>6th_Stage</th>\n",
       "      <th>differentiate</th>\n",
       "      <th>Grade</th>\n",
       "      <th>A_Stage</th>\n",
       "      <th>Estrogen_Status</th>\n",
       "      <th>Progesterone_Status</th>\n",
       "      <th>Survival_Months</th>\n",
       "    </tr>\n",
       "  </thead>\n",
       "  <tbody>\n",
       "    <tr>\n",
       "      <th>786</th>\n",
       "      <td>61</td>\n",
       "      <td>18.0</td>\n",
       "      <td>18.0</td>\n",
       "      <td>11.0</td>\n",
       "      <td>2</td>\n",
       "      <td>1</td>\n",
       "      <td>3</td>\n",
       "      <td>0</td>\n",
       "      <td>3</td>\n",
       "      <td>0</td>\n",
       "      <td>2</td>\n",
       "      <td>0</td>\n",
       "      <td>1</td>\n",
       "      <td>1</td>\n",
       "      <td>4</td>\n",
       "    </tr>\n",
       "    <tr>\n",
       "      <th>2876</th>\n",
       "      <td>35</td>\n",
       "      <td>14.0</td>\n",
       "      <td>17.0</td>\n",
       "      <td>3.0</td>\n",
       "      <td>0</td>\n",
       "      <td>1</td>\n",
       "      <td>0</td>\n",
       "      <td>0</td>\n",
       "      <td>0</td>\n",
       "      <td>1</td>\n",
       "      <td>3</td>\n",
       "      <td>1</td>\n",
       "      <td>0</td>\n",
       "      <td>0</td>\n",
       "      <td>4</td>\n",
       "    </tr>\n",
       "    <tr>\n",
       "      <th>827</th>\n",
       "      <td>47</td>\n",
       "      <td>23.0</td>\n",
       "      <td>6.0</td>\n",
       "      <td>5.0</td>\n",
       "      <td>2</td>\n",
       "      <td>1</td>\n",
       "      <td>1</td>\n",
       "      <td>0</td>\n",
       "      <td>1</td>\n",
       "      <td>0</td>\n",
       "      <td>2</td>\n",
       "      <td>1</td>\n",
       "      <td>1</td>\n",
       "      <td>1</td>\n",
       "      <td>3</td>\n",
       "    </tr>\n",
       "    <tr>\n",
       "      <th>2596</th>\n",
       "      <td>54</td>\n",
       "      <td>35.0</td>\n",
       "      <td>13.0</td>\n",
       "      <td>2.0</td>\n",
       "      <td>2</td>\n",
       "      <td>1</td>\n",
       "      <td>1</td>\n",
       "      <td>0</td>\n",
       "      <td>1</td>\n",
       "      <td>1</td>\n",
       "      <td>3</td>\n",
       "      <td>1</td>\n",
       "      <td>1</td>\n",
       "      <td>1</td>\n",
       "      <td>3</td>\n",
       "    </tr>\n",
       "  </tbody>\n",
       "</table>\n",
       "</div>"
      ],
      "text/plain": [
       "      Age  Tumor_Size  Regional_Node_Examined  Reginol_Node_Positive  Race  \\\n",
       "786    61        18.0                    18.0                   11.0     2   \n",
       "2876   35        14.0                    17.0                    3.0     0   \n",
       "827    47        23.0                     6.0                    5.0     2   \n",
       "2596   54        35.0                    13.0                    2.0     2   \n",
       "\n",
       "      Marital_Status  T_Stage   N_Stage  6th_Stage  differentiate  Grade  \\\n",
       "786                1         3        0          3              0      2   \n",
       "2876               1         0        0          0              1      3   \n",
       "827                1         1        0          1              0      2   \n",
       "2596               1         1        0          1              1      3   \n",
       "\n",
       "      A_Stage  Estrogen_Status  Progesterone_Status  Survival_Months  \n",
       "786         0                1                    1                4  \n",
       "2876        1                0                    0                4  \n",
       "827         1                1                    1                3  \n",
       "2596        1                1                    1                3  "
      ]
     },
     "execution_count": 49,
     "metadata": {},
     "output_type": "execute_result"
    }
   ],
   "source": [
    "Live_data=X_test.iloc[0:4,:]\n",
    "Live_data"
   ]
  },
  {
   "cell_type": "code",
   "execution_count": 50,
   "id": "92e5f3b5",
   "metadata": {},
   "outputs": [
    {
     "data": {
      "text/html": [
       "<div>\n",
       "<style scoped>\n",
       "    .dataframe tbody tr th:only-of-type {\n",
       "        vertical-align: middle;\n",
       "    }\n",
       "\n",
       "    .dataframe tbody tr th {\n",
       "        vertical-align: top;\n",
       "    }\n",
       "\n",
       "    .dataframe thead th {\n",
       "        text-align: right;\n",
       "    }\n",
       "</style>\n",
       "<table border=\"1\" class=\"dataframe\">\n",
       "  <thead>\n",
       "    <tr style=\"text-align: right;\">\n",
       "      <th></th>\n",
       "      <th>Age</th>\n",
       "      <th>Tumor_Size</th>\n",
       "      <th>Regional_Node_Examined</th>\n",
       "      <th>Reginol_Node_Positive</th>\n",
       "      <th>Race</th>\n",
       "      <th>Marital_Status</th>\n",
       "      <th>T_Stage</th>\n",
       "      <th>N_Stage</th>\n",
       "      <th>6th_Stage</th>\n",
       "      <th>differentiate</th>\n",
       "      <th>Grade</th>\n",
       "      <th>A_Stage</th>\n",
       "      <th>Estrogen_Status</th>\n",
       "      <th>Progesterone_Status</th>\n",
       "      <th>Survival_Months</th>\n",
       "      <th>Predicted</th>\n",
       "    </tr>\n",
       "  </thead>\n",
       "  <tbody>\n",
       "    <tr>\n",
       "      <th>786</th>\n",
       "      <td>61</td>\n",
       "      <td>18.0</td>\n",
       "      <td>18.0</td>\n",
       "      <td>11.0</td>\n",
       "      <td>2</td>\n",
       "      <td>1</td>\n",
       "      <td>3</td>\n",
       "      <td>0</td>\n",
       "      <td>3</td>\n",
       "      <td>0</td>\n",
       "      <td>2</td>\n",
       "      <td>0</td>\n",
       "      <td>1</td>\n",
       "      <td>1</td>\n",
       "      <td>4</td>\n",
       "      <td>0</td>\n",
       "    </tr>\n",
       "    <tr>\n",
       "      <th>2876</th>\n",
       "      <td>35</td>\n",
       "      <td>14.0</td>\n",
       "      <td>17.0</td>\n",
       "      <td>3.0</td>\n",
       "      <td>0</td>\n",
       "      <td>1</td>\n",
       "      <td>0</td>\n",
       "      <td>0</td>\n",
       "      <td>0</td>\n",
       "      <td>1</td>\n",
       "      <td>3</td>\n",
       "      <td>1</td>\n",
       "      <td>0</td>\n",
       "      <td>0</td>\n",
       "      <td>4</td>\n",
       "      <td>0</td>\n",
       "    </tr>\n",
       "    <tr>\n",
       "      <th>827</th>\n",
       "      <td>47</td>\n",
       "      <td>23.0</td>\n",
       "      <td>6.0</td>\n",
       "      <td>5.0</td>\n",
       "      <td>2</td>\n",
       "      <td>1</td>\n",
       "      <td>1</td>\n",
       "      <td>0</td>\n",
       "      <td>1</td>\n",
       "      <td>0</td>\n",
       "      <td>2</td>\n",
       "      <td>1</td>\n",
       "      <td>1</td>\n",
       "      <td>1</td>\n",
       "      <td>3</td>\n",
       "      <td>0</td>\n",
       "    </tr>\n",
       "    <tr>\n",
       "      <th>2596</th>\n",
       "      <td>54</td>\n",
       "      <td>35.0</td>\n",
       "      <td>13.0</td>\n",
       "      <td>2.0</td>\n",
       "      <td>2</td>\n",
       "      <td>1</td>\n",
       "      <td>1</td>\n",
       "      <td>0</td>\n",
       "      <td>1</td>\n",
       "      <td>1</td>\n",
       "      <td>3</td>\n",
       "      <td>1</td>\n",
       "      <td>1</td>\n",
       "      <td>1</td>\n",
       "      <td>3</td>\n",
       "      <td>0</td>\n",
       "    </tr>\n",
       "  </tbody>\n",
       "</table>\n",
       "</div>"
      ],
      "text/plain": [
       "      Age  Tumor_Size  Regional_Node_Examined  Reginol_Node_Positive  Race  \\\n",
       "786    61        18.0                    18.0                   11.0     2   \n",
       "2876   35        14.0                    17.0                    3.0     0   \n",
       "827    47        23.0                     6.0                    5.0     2   \n",
       "2596   54        35.0                    13.0                    2.0     2   \n",
       "\n",
       "      Marital_Status  T_Stage   N_Stage  6th_Stage  differentiate  Grade  \\\n",
       "786                1         3        0          3              0      2   \n",
       "2876               1         0        0          0              1      3   \n",
       "827                1         1        0          1              0      2   \n",
       "2596               1         1        0          1              1      3   \n",
       "\n",
       "      A_Stage  Estrogen_Status  Progesterone_Status  Survival_Months  \\\n",
       "786         0                1                    1                4   \n",
       "2876        1                0                    0                4   \n",
       "827         1                1                    1                3   \n",
       "2596        1                1                    1                3   \n",
       "\n",
       "      Predicted  \n",
       "786           0  \n",
       "2876          0  \n",
       "827           0  \n",
       "2596          0  "
      ]
     },
     "execution_count": 50,
     "metadata": {},
     "output_type": "execute_result"
    }
   ],
   "source": [
    "Live_data['Predicted']=Finalmodel.predict(Live_data)\n",
    "Live_data"
   ]
  },
  {
   "cell_type": "markdown",
   "id": "bfd7ff53",
   "metadata": {},
   "source": [
    "* 0 = Patients will not have breast cancer \n",
    "* 1 = Patients will have breast cancer ( keep a eye on this )"
   ]
  }
 ],
 "metadata": {
  "kernelspec": {
   "display_name": "Python 3 (ipykernel)",
   "language": "python",
   "name": "python3"
  },
  "language_info": {
   "codemirror_mode": {
    "name": "ipython",
    "version": 3
   },
   "file_extension": ".py",
   "mimetype": "text/x-python",
   "name": "python",
   "nbconvert_exporter": "python",
   "pygments_lexer": "ipython3",
   "version": "3.10.9"
  }
 },
 "nbformat": 4,
 "nbformat_minor": 5
}
